{
 "cells": [
  {
   "cell_type": "markdown",
   "metadata": {},
   "source": [
    "# Setup & Imports"
   ]
  },
  {
   "cell_type": "code",
   "execution_count": 2,
   "metadata": {},
   "outputs": [
    {
     "name": "stdout",
     "output_type": "stream",
     "text": [
      "The autoreload extension is already loaded. To reload it, use:\n",
      "  %reload_ext autoreload\n"
     ]
    }
   ],
   "source": [
    "%load_ext autoreload\n",
    "%autoreload 2\n",
    "\n",
    "import warnings\n",
    "warnings.filterwarnings('ignore')\n",
    "\n",
    "import numpy as np\n",
    "import pandas as pd\n",
    "import pingouin as pg\n",
    "import plotly.express as px\n",
    "from scipy.stats import binom\n",
    "\n",
    "import analysis\n",
    "import utils\n",
    "\n",
    "# Load CICO model\n",
    "cico_model, data_loader = utils.load_cico_model(model_type='1and2shot_isc',model_seed=3)"
   ]
  },
  {
   "cell_type": "markdown",
   "metadata": {},
   "source": [
    "# Study 3: In-Category Similarity"
   ]
  },
  {
   "cell_type": "code",
   "execution_count": 7,
   "metadata": {},
   "outputs": [],
   "source": [
    "# 1) Base human & model data\n",
    "human_data = pd.read_csv('data/similarity_experiments/similarity_in_domain.csv', index_col=0)\n",
    "model_data = (human_data\n",
    "  .groupby(['Premise 1','Conclusion','Domain'])\n",
    "  .mean()\n",
    "  .reset_index()\n",
    ")\n",
    "model_data[['Premise 2','Premise 3']] = np.nan\n",
    "\n",
    "# 2) Run your three strength functions\n",
    "model_data = analysis.calc_argument_strength(model_data, cico_model, data_loader)\n",
    "model_data = analysis.calc_argument_strength_overlap(model_data)\n",
    "model_data = analysis.calc_argument_strength_contrast(model_data)\n",
    "\n",
    "# 3) Load LLM data (if you need it)\n",
    "llm_data = pd.read_csv('data/similarity_experiments/similarity_in_domain_llm.csv', index_col=0)\n",
    "\n",
    "# 4) Make a flipped copy and recompute\n",
    "model_data_flipped = model_data.copy()\n",
    "model_data_flipped['Premise 1'], model_data_flipped['Conclusion'] = (\n",
    "    model_data['Conclusion'],\n",
    "    model_data['Premise 1']\n",
    ")\n",
    "model_data_flipped = analysis.calc_argument_strength(model_data_flipped, cico_model, data_loader)\n",
    "\n",
    "# 5) Average the existing ISC‑CI scores\n",
    "model_data['ISC-CI_bidirectional'] = (\n",
    "    model_data['ISC-CI'] +\n",
    "    model_data_flipped['ISC-CI']\n",
    ") / 2\n"
   ]
  },
  {
   "cell_type": "code",
   "execution_count": 10,
   "metadata": {},
   "outputs": [
    {
     "name": "stdout",
     "output_type": "stream",
     "text": [
      "Model × Domain correlations:\n",
      "Model    Domain  Contrast    ISC-CI   Overlap\n",
      "0         Birds  0.723198  0.600609  0.720334\n",
      "1      Clothing  0.599849  0.265638  0.620582\n",
      "2          Fish  0.598075  0.616449  0.561472\n",
      "3       Insects  0.660184  0.317864  0.597342\n",
      "4       Mammals  0.687843  0.506731  0.697147\n",
      "5      Reptiles  0.755248  0.602044  0.684916\n",
      "6         Tools  0.557312  0.381674  0.468311\n",
      "7      Vehicles  0.590723  0.578338  0.623666\n",
      "8       Weapons  0.729827  0.616292  0.717406\n",
      "\n",
      "Human participant correlations (each vs. group mean):\n",
      "participant_id    Domain         0         1         2         3         4  \\\n",
      "0                  Birds       NaN       NaN       NaN       NaN       NaN   \n",
      "1               Clothing  0.711667  0.121965  0.079386  0.722884  0.394995   \n",
      "2                   Fish       NaN       NaN       NaN       NaN       NaN   \n",
      "3                Insects       NaN       NaN       NaN       NaN       NaN   \n",
      "4                Mammals  0.774886  0.472335  0.180570  0.336802  0.663181   \n",
      "5               Reptiles       NaN       NaN       NaN       NaN       NaN   \n",
      "6                  Tools  0.557313  0.295370  0.495733  0.578309  0.631431   \n",
      "7               Vehicles  0.799894  0.744417  0.672565  0.780639  0.814965   \n",
      "8                Weapons  0.626713  0.385645  0.729555  0.755919  0.753204   \n",
      "\n",
      "participant_id         5         6         7         8  ...       127  \\\n",
      "0                    NaN       NaN       NaN       NaN  ...       NaN   \n",
      "1               0.308216  0.312362  0.690832  0.665856  ...       NaN   \n",
      "2                    NaN       NaN       NaN       NaN  ...  0.643627   \n",
      "3                    NaN       NaN       NaN       NaN  ...       NaN   \n",
      "4               0.601560  0.718723  0.601861  0.635468  ...       NaN   \n",
      "5                    NaN       NaN       NaN       NaN  ...       NaN   \n",
      "6               0.251868  0.473342  0.546362  0.656457  ...       NaN   \n",
      "7               0.766009  0.707866  0.794684  0.860008  ...       NaN   \n",
      "8               0.641711  0.758616  0.430576  0.772516  ...       NaN   \n",
      "\n",
      "participant_id       128       129       130       131       132       133  \\\n",
      "0                    NaN       NaN       NaN       NaN       NaN       NaN   \n",
      "1                    NaN       NaN       NaN       NaN       NaN       NaN   \n",
      "2               0.358714  0.586918  0.617361  0.671722  0.547138  0.546236   \n",
      "3                    NaN       NaN       NaN       NaN       NaN       NaN   \n",
      "4                    NaN       NaN       NaN       NaN       NaN       NaN   \n",
      "5                    NaN       NaN       NaN       NaN       NaN       NaN   \n",
      "6                    NaN       NaN       NaN       NaN       NaN       NaN   \n",
      "7                    NaN       NaN       NaN       NaN       NaN       NaN   \n",
      "8                    NaN       NaN       NaN       NaN       NaN       NaN   \n",
      "\n",
      "participant_id       134       135       136  \n",
      "0                    NaN       NaN       NaN  \n",
      "1                    NaN       NaN       NaN  \n",
      "2               0.159061  0.576042  0.657188  \n",
      "3                    NaN       NaN       NaN  \n",
      "4                    NaN       NaN       NaN  \n",
      "5                    NaN       NaN       NaN  \n",
      "6                    NaN       NaN       NaN  \n",
      "7                    NaN       NaN       NaN  \n",
      "8                    NaN       NaN       NaN  \n",
      "\n",
      "[9 rows x 97 columns]\n"
     ]
    },
    {
     "data": {
      "application/vnd.plotly.v1+json": {
       "config": {
        "plotlyServerURL": "https://plot.ly"
       },
       "data": [
        {
         "alignmentgroup": "True",
         "hovertemplate": "Model=Human<br>Category=%{x}<br>Correlation=%{y}<extra></extra>",
         "legendgroup": "Human",
         "line": {
          "width": 4
         },
         "marker": {
          "color": "#D674BB"
         },
         "name": "Human",
         "notched": false,
         "offsetgroup": "Human",
         "orientation": "v",
         "showlegend": true,
         "type": "box",
         "x": [
          "Birds",
          "Birds",
          "Birds",
          "Birds",
          "Birds",
          "Birds",
          "Birds",
          "Birds",
          "Birds",
          "Birds",
          "Birds",
          "Birds",
          "Birds",
          "Birds",
          "Birds",
          "Birds",
          "Birds",
          "Clothing",
          "Clothing",
          "Clothing",
          "Clothing",
          "Clothing",
          "Clothing",
          "Clothing",
          "Clothing",
          "Clothing",
          "Clothing",
          "Clothing",
          "Clothing",
          "Clothing",
          "Clothing",
          "Clothing",
          "Clothing",
          "Clothing",
          "Clothing",
          "Clothing",
          "Clothing",
          "Clothing",
          "Clothing",
          "Clothing",
          "Clothing",
          "Fish",
          "Fish",
          "Fish",
          "Fish",
          "Fish",
          "Fish",
          "Fish",
          "Fish",
          "Fish",
          "Fish",
          "Fish",
          "Fish",
          "Fish",
          "Fish",
          "Fish",
          "Fish",
          "Fish",
          "Insects",
          "Insects",
          "Insects",
          "Insects",
          "Insects",
          "Insects",
          "Insects",
          "Insects",
          "Insects",
          "Insects",
          "Insects",
          "Insects",
          "Insects",
          "Insects",
          "Insects",
          "Insects",
          "Insects",
          "Mammals",
          "Mammals",
          "Mammals",
          "Mammals",
          "Mammals",
          "Mammals",
          "Mammals",
          "Mammals",
          "Mammals",
          "Mammals",
          "Mammals",
          "Mammals",
          "Mammals",
          "Mammals",
          "Mammals",
          "Mammals",
          "Mammals",
          "Mammals",
          "Mammals",
          "Reptiles",
          "Reptiles",
          "Reptiles",
          "Reptiles",
          "Reptiles",
          "Reptiles",
          "Reptiles",
          "Reptiles",
          "Reptiles",
          "Reptiles",
          "Reptiles",
          "Reptiles",
          "Reptiles",
          "Reptiles",
          "Reptiles",
          "Reptiles",
          "Reptiles",
          "Reptiles",
          "Reptiles",
          "Reptiles",
          "Tools",
          "Tools",
          "Tools",
          "Tools",
          "Tools",
          "Tools",
          "Tools",
          "Tools",
          "Tools",
          "Tools",
          "Tools",
          "Tools",
          "Tools",
          "Tools",
          "Tools",
          "Tools",
          "Tools",
          "Tools",
          "Vehicles",
          "Vehicles",
          "Vehicles",
          "Vehicles",
          "Vehicles",
          "Vehicles",
          "Vehicles",
          "Vehicles",
          "Vehicles",
          "Vehicles",
          "Vehicles",
          "Vehicles",
          "Vehicles",
          "Vehicles",
          "Vehicles",
          "Weapons",
          "Weapons",
          "Weapons",
          "Weapons",
          "Weapons",
          "Weapons",
          "Weapons",
          "Weapons",
          "Weapons",
          "Weapons",
          "Weapons",
          "Weapons",
          "Weapons",
          "Weapons",
          "Weapons",
          "Weapons",
          "Weapons",
          "Weapons",
          "Weapons",
          "Weapons",
          "Weapons",
          "Weapons",
          "Weapons",
          "Weapons",
          "Weapons"
         ],
         "x0": " ",
         "xaxis": "x",
         "y": {
          "bdata": "WmM5dlAy5j9rzBorG9fjP4tK2H5/5eA/asmGe/O54D//gNxzVRXpP25Ml4MtduU/v+W1vMxd5D99xqS5MNvmPxK+310+Mec/PhLS1VbW5j9Cx8A7+HDVP8nGzmi4CeY/jSJ9p4943z8a4562mm/lP9Fg6czpu+Q/gTCVhpHR4j/c3pFI+TnlP9TwUFz6xeY/eTp8khg5vz+Ul2+2olK0PzDw803dIec/cVUGsppH2T+A8NJJzrnTP3a6IYG+/dM/cnDEQksb5j9JNT/8sU7lP0MPAp076M0/mH0VNcoj5T8ttyb91FeVPzxfNlCA8Oc/x2phLDcu4j+fsT/yjbPmP5qm4I8PSeY/1Z41YF263D++4JJcudnkP9D3mreKi+U/420sNagD6D8o/cNoF7DUPxIxWKR56eQ/W1geJ7zQ4j/RqpKO9TfgP0lE1V8vqeU/zuNz7vNd5D+neu1YlzDhP+ewFgldtec/CRHrvXvs4D8ZofOBXLHOP94vvSLjYOQ/G/u5opiY5D/+6IilKfXWP6ZStbgIyOI/w/1+Y2zB4z+k0Yrhvn7lP9TzoU4nguE/xy2lY8R64T9aobMQH1zEPy1MHqvwbuI/egIV1q8H5T8gRWQ0Pf/lPypkPC9UseI/nQ1o7ykq6D/FNnEtCWvhP+PNXiIW89Y/aZ+eVYtA5T/LgEg+yp/lP+DJTW8AoOc/ViFjiGYE5j+U3Onwe1voP9fWplPdWOY/zMgGUwYZ4j/WcAroeCzcP72c0wmO+eU/l146QKUZ5z90puLiIT/kPzmh2scB63y/SY1YVN7L6D9Pdrg5vDreP9phCAbqHMc/IaGkESqO1T++hTNuxzjlP/6qX8v6P+M/11N6V8b/5j8GVfPncULjPxE2/nXAVeQ/xghwlyF/6D8HOYVjzhvnP4lfQqZ6u+Y/ggQD6HD75j+o1BVGLv3gP49TYE4BAOc/AiY2kgTR5z+BJd9pxFDoP5tyBmGe1+Y/+cjFYMfA6D/a4u4rUDbnP1TuGwYriek/9AJbRQ5F4j9981v5o5riP+P8YdylseE/iAE/7FvR5T/97OWH/07dPwq6wX2DD+U/SY+SW0Yn4T/TPuFfdenhP5JsP668S+g/gGibRDQ35T9aRe2Lm/jjP45qfb7hauM/3JloIH5J4j9BrrenSoDlP/0ELt3Vwec/7So/n2lP2j9ojh1Av8ndPyRcTn/9puU/cOZz64HV4T9QQDsaWefSP7rUF6cWut8/DunaVoGB4j/DJQv4rTTkPyYYePCbHtA/c6Ee3ztL3j95Ijquy3vhP1vCIT+yAeU/at9sCKiS5z8T5FQodbPkP5BLUfu2quQ/Gk4BX2TM4j8tcPXx4HjnP93R12RkOOg/Rb+BY63h5D/T0hSzwoXlPzy6tgvqTdQ/MLRMV7yY6T+YftZkRNLnP/rbQW+nheU/86MFqP766D9sUlT1MRTqPzxmxRclg+g/jZVCZtam5j/4ZMdQDW7pP5EDjTIwhes/Y1Hu0zc06j9kEnGePzrpP96WENgIvuc/2FBCIbCA6D8cy2m4obzrP8yCv7w6X+k/oHRC0wgO5D95+XO6Z67YP2OWd5GEWOc/2qDc13ww6D8fFvfWPxroP7wSC2/miOQ/rbiGC5ZG6D8/6cCTkI7bP32g78tzuOg/dpoxgXIR5T9tVC2MTxDmP5ADkFG4z+Y/JM4vvWCd5j9OK4xs89TfP68jUe/tHOc/Vo2TzfcK3T+FQxqA3o/kP7WVWmsvT+Q/y86MBdky4z+3qqxxO4DpPyAClLKngOs/wh04aC1j5T9gIaHpdjLiP06R5pZdROQ/TuvZmA3f5T8=",
          "dtype": "f8"
         },
         "y0": " ",
         "yaxis": "y"
        },
        {
         "alignmentgroup": "True",
         "hovertemplate": "Model=ISC-CI<br>Category=%{x}<br>Correlation=%{y}<extra></extra>",
         "legendgroup": "ISC-CI",
         "line": {
          "width": 4
         },
         "marker": {
          "color": "#6797D5"
         },
         "name": "ISC-CI",
         "notched": false,
         "offsetgroup": "ISC-CI",
         "orientation": "v",
         "showlegend": true,
         "type": "box",
         "x": [
          "Birds",
          "Clothing",
          "Fish",
          "Insects",
          "Mammals",
          "Reptiles",
          "Tools",
          "Vehicles",
          "Weapons"
         ],
         "x0": " ",
         "xaxis": "x",
         "y": {
          "bdata": "RPARyjA44z8gns/nNADRP1dHTNrzueM/2FYgj+NX1D9TTKUsIzfgP9OkBajxQ+M/AyPwdFlt2D9HcUJ9v4HiP7ryj02quOM/",
          "dtype": "f8"
         },
         "y0": " ",
         "yaxis": "y"
        },
        {
         "alignmentgroup": "True",
         "hovertemplate": "Model=Overlap<br>Category=%{x}<br>Correlation=%{y}<extra></extra>",
         "legendgroup": "Overlap",
         "line": {
          "width": 4
         },
         "marker": {
          "color": "#7DA381"
         },
         "name": "Overlap",
         "notched": false,
         "offsetgroup": "Overlap",
         "orientation": "v",
         "showlegend": true,
         "type": "box",
         "x": [
          "Birds",
          "Clothing",
          "Fish",
          "Insects",
          "Mammals",
          "Reptiles",
          "Tools",
          "Vehicles",
          "Weapons"
         ],
         "x0": " ",
         "xaxis": "x",
         "y": {
          "bdata": "huuBgvoM5z/bfKD9ztvjPznsgtaU9+E/49p2Mm0d4z9EZteUBk/mP42F2t3V6uU/Ei69SdD43T8GrFUTE/XjP3Qbsfn99OY/",
          "dtype": "f8"
         },
         "y0": " ",
         "yaxis": "y"
        },
        {
         "alignmentgroup": "True",
         "hovertemplate": "Model=Contrast<br>Category=%{x}<br>Correlation=%{y}<extra></extra>",
         "legendgroup": "Contrast",
         "line": {
          "width": 4
         },
         "marker": {
          "color": "#a1d13a"
         },
         "name": "Contrast",
         "notched": false,
         "offsetgroup": "Contrast",
         "orientation": "v",
         "showlegend": true,
         "type": "box",
         "x": [
          "Birds",
          "Clothing",
          "Fish",
          "Insects",
          "Mammals",
          "Reptiles",
          "Tools",
          "Vehicles",
          "Weapons"
         ],
         "x0": " ",
         "xaxis": "x",
         "y": {
          "bdata": "CaKknnAk5z+wQKtM9zHjPwucRixtI+M/7u9gHTog5T/cPemEzwLmPzmvyXr9Kug/nRXk8IDV4T/38UT9M+fiP7xSwMO+Wuc/",
          "dtype": "f8"
         },
         "y0": " ",
         "yaxis": "y"
        }
       ],
       "layout": {
        "boxgap": 0.3,
        "boxgroupgap": 0.15,
        "boxmode": "group",
        "height": 600,
        "legend": {
         "font": {
          "size": 15
         },
         "orientation": "h",
         "title": {
          "text": ""
         },
         "tracegroupgap": 0,
         "x": 0.99,
         "xanchor": "right",
         "y": 0.99,
         "yanchor": "top"
        },
        "margin": {
         "t": 60
        },
        "plot_bgcolor": "white",
        "shapes": [
         {
          "line": {
           "dash": "dot"
          },
          "type": "line",
          "x0": 0,
          "x1": 1,
          "xref": "x domain",
          "y0": 0,
          "y1": 0,
          "yref": "y"
         }
        ],
        "template": {
         "data": {
          "bar": [
           {
            "error_x": {
             "color": "#2a3f5f"
            },
            "error_y": {
             "color": "#2a3f5f"
            },
            "marker": {
             "line": {
              "color": "#E5ECF6",
              "width": 0.5
             },
             "pattern": {
              "fillmode": "overlay",
              "size": 10,
              "solidity": 0.2
             }
            },
            "type": "bar"
           }
          ],
          "barpolar": [
           {
            "marker": {
             "line": {
              "color": "#E5ECF6",
              "width": 0.5
             },
             "pattern": {
              "fillmode": "overlay",
              "size": 10,
              "solidity": 0.2
             }
            },
            "type": "barpolar"
           }
          ],
          "carpet": [
           {
            "aaxis": {
             "endlinecolor": "#2a3f5f",
             "gridcolor": "white",
             "linecolor": "white",
             "minorgridcolor": "white",
             "startlinecolor": "#2a3f5f"
            },
            "baxis": {
             "endlinecolor": "#2a3f5f",
             "gridcolor": "white",
             "linecolor": "white",
             "minorgridcolor": "white",
             "startlinecolor": "#2a3f5f"
            },
            "type": "carpet"
           }
          ],
          "choropleth": [
           {
            "colorbar": {
             "outlinewidth": 0,
             "ticks": ""
            },
            "type": "choropleth"
           }
          ],
          "contour": [
           {
            "colorbar": {
             "outlinewidth": 0,
             "ticks": ""
            },
            "colorscale": [
             [
              0,
              "#0d0887"
             ],
             [
              0.1111111111111111,
              "#46039f"
             ],
             [
              0.2222222222222222,
              "#7201a8"
             ],
             [
              0.3333333333333333,
              "#9c179e"
             ],
             [
              0.4444444444444444,
              "#bd3786"
             ],
             [
              0.5555555555555556,
              "#d8576b"
             ],
             [
              0.6666666666666666,
              "#ed7953"
             ],
             [
              0.7777777777777778,
              "#fb9f3a"
             ],
             [
              0.8888888888888888,
              "#fdca26"
             ],
             [
              1,
              "#f0f921"
             ]
            ],
            "type": "contour"
           }
          ],
          "contourcarpet": [
           {
            "colorbar": {
             "outlinewidth": 0,
             "ticks": ""
            },
            "type": "contourcarpet"
           }
          ],
          "heatmap": [
           {
            "colorbar": {
             "outlinewidth": 0,
             "ticks": ""
            },
            "colorscale": [
             [
              0,
              "#0d0887"
             ],
             [
              0.1111111111111111,
              "#46039f"
             ],
             [
              0.2222222222222222,
              "#7201a8"
             ],
             [
              0.3333333333333333,
              "#9c179e"
             ],
             [
              0.4444444444444444,
              "#bd3786"
             ],
             [
              0.5555555555555556,
              "#d8576b"
             ],
             [
              0.6666666666666666,
              "#ed7953"
             ],
             [
              0.7777777777777778,
              "#fb9f3a"
             ],
             [
              0.8888888888888888,
              "#fdca26"
             ],
             [
              1,
              "#f0f921"
             ]
            ],
            "type": "heatmap"
           }
          ],
          "histogram": [
           {
            "marker": {
             "pattern": {
              "fillmode": "overlay",
              "size": 10,
              "solidity": 0.2
             }
            },
            "type": "histogram"
           }
          ],
          "histogram2d": [
           {
            "colorbar": {
             "outlinewidth": 0,
             "ticks": ""
            },
            "colorscale": [
             [
              0,
              "#0d0887"
             ],
             [
              0.1111111111111111,
              "#46039f"
             ],
             [
              0.2222222222222222,
              "#7201a8"
             ],
             [
              0.3333333333333333,
              "#9c179e"
             ],
             [
              0.4444444444444444,
              "#bd3786"
             ],
             [
              0.5555555555555556,
              "#d8576b"
             ],
             [
              0.6666666666666666,
              "#ed7953"
             ],
             [
              0.7777777777777778,
              "#fb9f3a"
             ],
             [
              0.8888888888888888,
              "#fdca26"
             ],
             [
              1,
              "#f0f921"
             ]
            ],
            "type": "histogram2d"
           }
          ],
          "histogram2dcontour": [
           {
            "colorbar": {
             "outlinewidth": 0,
             "ticks": ""
            },
            "colorscale": [
             [
              0,
              "#0d0887"
             ],
             [
              0.1111111111111111,
              "#46039f"
             ],
             [
              0.2222222222222222,
              "#7201a8"
             ],
             [
              0.3333333333333333,
              "#9c179e"
             ],
             [
              0.4444444444444444,
              "#bd3786"
             ],
             [
              0.5555555555555556,
              "#d8576b"
             ],
             [
              0.6666666666666666,
              "#ed7953"
             ],
             [
              0.7777777777777778,
              "#fb9f3a"
             ],
             [
              0.8888888888888888,
              "#fdca26"
             ],
             [
              1,
              "#f0f921"
             ]
            ],
            "type": "histogram2dcontour"
           }
          ],
          "mesh3d": [
           {
            "colorbar": {
             "outlinewidth": 0,
             "ticks": ""
            },
            "type": "mesh3d"
           }
          ],
          "parcoords": [
           {
            "line": {
             "colorbar": {
              "outlinewidth": 0,
              "ticks": ""
             }
            },
            "type": "parcoords"
           }
          ],
          "pie": [
           {
            "automargin": true,
            "type": "pie"
           }
          ],
          "scatter": [
           {
            "fillpattern": {
             "fillmode": "overlay",
             "size": 10,
             "solidity": 0.2
            },
            "type": "scatter"
           }
          ],
          "scatter3d": [
           {
            "line": {
             "colorbar": {
              "outlinewidth": 0,
              "ticks": ""
             }
            },
            "marker": {
             "colorbar": {
              "outlinewidth": 0,
              "ticks": ""
             }
            },
            "type": "scatter3d"
           }
          ],
          "scattercarpet": [
           {
            "marker": {
             "colorbar": {
              "outlinewidth": 0,
              "ticks": ""
             }
            },
            "type": "scattercarpet"
           }
          ],
          "scattergeo": [
           {
            "marker": {
             "colorbar": {
              "outlinewidth": 0,
              "ticks": ""
             }
            },
            "type": "scattergeo"
           }
          ],
          "scattergl": [
           {
            "marker": {
             "colorbar": {
              "outlinewidth": 0,
              "ticks": ""
             }
            },
            "type": "scattergl"
           }
          ],
          "scattermap": [
           {
            "marker": {
             "colorbar": {
              "outlinewidth": 0,
              "ticks": ""
             }
            },
            "type": "scattermap"
           }
          ],
          "scattermapbox": [
           {
            "marker": {
             "colorbar": {
              "outlinewidth": 0,
              "ticks": ""
             }
            },
            "type": "scattermapbox"
           }
          ],
          "scatterpolar": [
           {
            "marker": {
             "colorbar": {
              "outlinewidth": 0,
              "ticks": ""
             }
            },
            "type": "scatterpolar"
           }
          ],
          "scatterpolargl": [
           {
            "marker": {
             "colorbar": {
              "outlinewidth": 0,
              "ticks": ""
             }
            },
            "type": "scatterpolargl"
           }
          ],
          "scatterternary": [
           {
            "marker": {
             "colorbar": {
              "outlinewidth": 0,
              "ticks": ""
             }
            },
            "type": "scatterternary"
           }
          ],
          "surface": [
           {
            "colorbar": {
             "outlinewidth": 0,
             "ticks": ""
            },
            "colorscale": [
             [
              0,
              "#0d0887"
             ],
             [
              0.1111111111111111,
              "#46039f"
             ],
             [
              0.2222222222222222,
              "#7201a8"
             ],
             [
              0.3333333333333333,
              "#9c179e"
             ],
             [
              0.4444444444444444,
              "#bd3786"
             ],
             [
              0.5555555555555556,
              "#d8576b"
             ],
             [
              0.6666666666666666,
              "#ed7953"
             ],
             [
              0.7777777777777778,
              "#fb9f3a"
             ],
             [
              0.8888888888888888,
              "#fdca26"
             ],
             [
              1,
              "#f0f921"
             ]
            ],
            "type": "surface"
           }
          ],
          "table": [
           {
            "cells": {
             "fill": {
              "color": "#EBF0F8"
             },
             "line": {
              "color": "white"
             }
            },
            "header": {
             "fill": {
              "color": "#C8D4E3"
             },
             "line": {
              "color": "white"
             }
            },
            "type": "table"
           }
          ]
         },
         "layout": {
          "annotationdefaults": {
           "arrowcolor": "#2a3f5f",
           "arrowhead": 0,
           "arrowwidth": 1
          },
          "autotypenumbers": "strict",
          "coloraxis": {
           "colorbar": {
            "outlinewidth": 0,
            "ticks": ""
           }
          },
          "colorscale": {
           "diverging": [
            [
             0,
             "#8e0152"
            ],
            [
             0.1,
             "#c51b7d"
            ],
            [
             0.2,
             "#de77ae"
            ],
            [
             0.3,
             "#f1b6da"
            ],
            [
             0.4,
             "#fde0ef"
            ],
            [
             0.5,
             "#f7f7f7"
            ],
            [
             0.6,
             "#e6f5d0"
            ],
            [
             0.7,
             "#b8e186"
            ],
            [
             0.8,
             "#7fbc41"
            ],
            [
             0.9,
             "#4d9221"
            ],
            [
             1,
             "#276419"
            ]
           ],
           "sequential": [
            [
             0,
             "#0d0887"
            ],
            [
             0.1111111111111111,
             "#46039f"
            ],
            [
             0.2222222222222222,
             "#7201a8"
            ],
            [
             0.3333333333333333,
             "#9c179e"
            ],
            [
             0.4444444444444444,
             "#bd3786"
            ],
            [
             0.5555555555555556,
             "#d8576b"
            ],
            [
             0.6666666666666666,
             "#ed7953"
            ],
            [
             0.7777777777777778,
             "#fb9f3a"
            ],
            [
             0.8888888888888888,
             "#fdca26"
            ],
            [
             1,
             "#f0f921"
            ]
           ],
           "sequentialminus": [
            [
             0,
             "#0d0887"
            ],
            [
             0.1111111111111111,
             "#46039f"
            ],
            [
             0.2222222222222222,
             "#7201a8"
            ],
            [
             0.3333333333333333,
             "#9c179e"
            ],
            [
             0.4444444444444444,
             "#bd3786"
            ],
            [
             0.5555555555555556,
             "#d8576b"
            ],
            [
             0.6666666666666666,
             "#ed7953"
            ],
            [
             0.7777777777777778,
             "#fb9f3a"
            ],
            [
             0.8888888888888888,
             "#fdca26"
            ],
            [
             1,
             "#f0f921"
            ]
           ]
          },
          "colorway": [
           "#636efa",
           "#EF553B",
           "#00cc96",
           "#ab63fa",
           "#FFA15A",
           "#19d3f3",
           "#FF6692",
           "#B6E880",
           "#FF97FF",
           "#FECB52"
          ],
          "font": {
           "color": "#2a3f5f"
          },
          "geo": {
           "bgcolor": "white",
           "lakecolor": "white",
           "landcolor": "#E5ECF6",
           "showlakes": true,
           "showland": true,
           "subunitcolor": "white"
          },
          "hoverlabel": {
           "align": "left"
          },
          "hovermode": "closest",
          "mapbox": {
           "style": "light"
          },
          "paper_bgcolor": "white",
          "plot_bgcolor": "#E5ECF6",
          "polar": {
           "angularaxis": {
            "gridcolor": "white",
            "linecolor": "white",
            "ticks": ""
           },
           "bgcolor": "#E5ECF6",
           "radialaxis": {
            "gridcolor": "white",
            "linecolor": "white",
            "ticks": ""
           }
          },
          "scene": {
           "xaxis": {
            "backgroundcolor": "#E5ECF6",
            "gridcolor": "white",
            "gridwidth": 2,
            "linecolor": "white",
            "showbackground": true,
            "ticks": "",
            "zerolinecolor": "white"
           },
           "yaxis": {
            "backgroundcolor": "#E5ECF6",
            "gridcolor": "white",
            "gridwidth": 2,
            "linecolor": "white",
            "showbackground": true,
            "ticks": "",
            "zerolinecolor": "white"
           },
           "zaxis": {
            "backgroundcolor": "#E5ECF6",
            "gridcolor": "white",
            "gridwidth": 2,
            "linecolor": "white",
            "showbackground": true,
            "ticks": "",
            "zerolinecolor": "white"
           }
          },
          "shapedefaults": {
           "line": {
            "color": "#2a3f5f"
           }
          },
          "ternary": {
           "aaxis": {
            "gridcolor": "white",
            "linecolor": "white",
            "ticks": ""
           },
           "baxis": {
            "gridcolor": "white",
            "linecolor": "white",
            "ticks": ""
           },
           "bgcolor": "#E5ECF6",
           "caxis": {
            "gridcolor": "white",
            "linecolor": "white",
            "ticks": ""
           }
          },
          "title": {
           "x": 0.05
          },
          "xaxis": {
           "automargin": true,
           "gridcolor": "white",
           "linecolor": "white",
           "ticks": "",
           "title": {
            "standoff": 15
           },
           "zerolinecolor": "white",
           "zerolinewidth": 2
          },
          "yaxis": {
           "automargin": true,
           "gridcolor": "white",
           "linecolor": "white",
           "ticks": "",
           "title": {
            "standoff": 15
           },
           "zerolinecolor": "white",
           "zerolinewidth": 2
          }
         }
        },
        "width": 1400,
        "xaxis": {
         "anchor": "y",
         "domain": [
          0,
          1
         ],
         "linecolor": "black",
         "linewidth": 1.5,
         "mirror": true,
         "showgrid": false,
         "showline": true,
         "tickfont": {
          "size": 20
         },
         "ticks": "outside",
         "title": {
          "font": {
           "size": 24
          },
          "text": "Category"
         }
        },
        "yaxis": {
         "anchor": "x",
         "domain": [
          0,
          1
         ],
         "linecolor": "black",
         "linewidth": 1.5,
         "mirror": true,
         "range": [
          -0.12,
          1
         ],
         "showgrid": false,
         "showline": true,
         "tickfont": {
          "size": 20
         },
         "ticks": "outside",
         "title": {
          "font": {
           "size": 24
          },
          "text": "Correlation"
         }
        }
       }
      }
     },
     "metadata": {},
     "output_type": "display_data"
    }
   ],
   "source": [
    "model_plot_data = (\n",
    "    model_data\n",
    "      .groupby('Domain')\n",
    "      .corr(method='pearson', numeric_only=True)[['Normalized Similarity']]\n",
    "      .reset_index()\n",
    "      .melt(\n",
    "        id_vars=['Domain', 'level_1'],\n",
    "        value_name='Correlation'\n",
    "      )\n",
    "      .rename(columns={'level_1': 'Model'})\n",
    ")\n",
    "# Filter to only the models of interest\n",
    "model_plot_data = model_plot_data[model_plot_data['Model'].isin(models)]\n",
    "\n",
    "# 2. Pivot into a table and print each correlation\n",
    "model_corr_table = (\n",
    "    model_plot_data\n",
    "      .pivot(index='Domain', columns='Model', values='Correlation')\n",
    "      .reset_index()\n",
    ")\n",
    "print(\"Model × Domain correlations:\")\n",
    "print(model_corr_table)\n",
    "\n",
    "\n",
    "# 3. Calculate Pearson correlations for each human participant vs. the group mean\n",
    "human_plot_data = []\n",
    "for domain, group in human_data.groupby('Domain'):\n",
    "    # mean across all participants\n",
    "    mean_sim = group.groupby(['Premise 1','Conclusion'])['Normalized Similarity'].mean()\n",
    "    for pid, sub in group.groupby('participant_id'):\n",
    "        part_sim = sub.groupby(['Premise 1','Conclusion'])['Normalized Similarity'].mean()\n",
    "        corr = utils.nansafe_correlation(part_sim.values, mean_sim.values)[0]\n",
    "        human_plot_data.append({\n",
    "            'Domain':      domain,\n",
    "            'participant_id': pid,\n",
    "            'Correlation': corr\n",
    "        })\n",
    "human_plot_data = pd.DataFrame(human_plot_data)\n",
    "\n",
    "# 4. Pivot and print human correlations\n",
    "human_corr_table = (\n",
    "    human_plot_data\n",
    "      .pivot(index='Domain', columns='participant_id', values='Correlation')\n",
    "      .reset_index()\n",
    ")\n",
    "print(\"\\nHuman participant correlations (each vs. group mean):\")\n",
    "print(human_corr_table)\n",
    "\n",
    "\n",
    "# 5. (Optional) Combine for plotting and display boxplots\n",
    "model_plot_data['participant_id'] = 0\n",
    "human_plot_data['Model'] = 'Human'\n",
    "plot_data = pd.concat([model_plot_data, human_plot_data], ignore_index=True)\n",
    "plot_data = plot_data.rename(columns={'Domain': 'Category'})\n",
    "\n",
    "fig = px.box(\n",
    "    plot_data,\n",
    "    x='Category',\n",
    "    y='Correlation',\n",
    "    color='Model',\n",
    "    category_orders={'Model': ['Human'] + models},\n",
    "    color_discrete_map=utils.model_colors,\n",
    "    range_y=[-0.12, 1]\n",
    ")\n",
    "fig = utils.format_figure(fig, width=1400, height=600)\n",
    "fig.add_hline(y=0, line_dash='dot')\n",
    "fig.update_traces(line=dict(width=4))\n",
    "fig.update_layout(\n",
    "    legend=dict(\n",
    "        title='',\n",
    "        orientation='h',\n",
    "        yanchor='top', y=0.99,\n",
    "        xanchor='right', x=0.99,\n",
    "        font=dict(size=15)\n",
    "    ),\n",
    "    boxgap=0.3,\n",
    "    boxgroupgap=0.15\n",
    ")\n",
    "fig.show()"
   ]
  },
  {
   "cell_type": "markdown",
   "metadata": {},
   "source": [
    "# Study 4: Context Effects in Similarity Judgments"
   ]
  },
  {
   "cell_type": "markdown",
   "metadata": {},
   "source": [
    "## Asymmetry"
   ]
  },
  {
   "cell_type": "code",
   "execution_count": null,
   "metadata": {},
   "outputs": [
    {
     "ename": "KeyError",
     "evalue": "'Premise\\xa01'",
     "output_type": "error",
     "traceback": [
      "\u001b[1;31m---------------------------------------------------------------------------\u001b[0m",
      "\u001b[1;31mKeyError\u001b[0m                                  Traceback (most recent call last)",
      "File \u001b[1;32mc:\\Python310\\lib\\site-packages\\pandas\\core\\indexes\\base.py:3805\u001b[0m, in \u001b[0;36mIndex.get_loc\u001b[1;34m(self, key)\u001b[0m\n\u001b[0;32m   3804\u001b[0m \u001b[38;5;28;01mtry\u001b[39;00m:\n\u001b[1;32m-> 3805\u001b[0m     \u001b[38;5;28;01mreturn\u001b[39;00m \u001b[38;5;28;43mself\u001b[39;49m\u001b[38;5;241;43m.\u001b[39;49m\u001b[43m_engine\u001b[49m\u001b[38;5;241;43m.\u001b[39;49m\u001b[43mget_loc\u001b[49m\u001b[43m(\u001b[49m\u001b[43mcasted_key\u001b[49m\u001b[43m)\u001b[49m\n\u001b[0;32m   3806\u001b[0m \u001b[38;5;28;01mexcept\u001b[39;00m \u001b[38;5;167;01mKeyError\u001b[39;00m \u001b[38;5;28;01mas\u001b[39;00m err:\n",
      "File \u001b[1;32mindex.pyx:167\u001b[0m, in \u001b[0;36mpandas._libs.index.IndexEngine.get_loc\u001b[1;34m()\u001b[0m\n",
      "File \u001b[1;32mindex.pyx:196\u001b[0m, in \u001b[0;36mpandas._libs.index.IndexEngine.get_loc\u001b[1;34m()\u001b[0m\n",
      "File \u001b[1;32mpandas\\\\_libs\\\\hashtable_class_helper.pxi:7081\u001b[0m, in \u001b[0;36mpandas._libs.hashtable.PyObjectHashTable.get_item\u001b[1;34m()\u001b[0m\n",
      "File \u001b[1;32mpandas\\\\_libs\\\\hashtable_class_helper.pxi:7089\u001b[0m, in \u001b[0;36mpandas._libs.hashtable.PyObjectHashTable.get_item\u001b[1;34m()\u001b[0m\n",
      "\u001b[1;31mKeyError\u001b[0m: 'Premise\\xa01'",
      "\nThe above exception was the direct cause of the following exception:\n",
      "\u001b[1;31mKeyError\u001b[0m                                  Traceback (most recent call last)",
      "Cell \u001b[1;32mIn[22], line 70\u001b[0m\n\u001b[0;32m     66\u001b[0m arg1\u001b[38;5;241m.\u001b[39mcolumns \u001b[38;5;241m=\u001b[39m [col\u001b[38;5;241m.\u001b[39mreplace(\u001b[38;5;124m'\u001b[39m\u001b[38;5;130;01m\\xa0\u001b[39;00m\u001b[38;5;124m'\u001b[39m, \u001b[38;5;124m'\u001b[39m\u001b[38;5;124m \u001b[39m\u001b[38;5;124m'\u001b[39m) \u001b[38;5;28;01mfor\u001b[39;00m col \u001b[38;5;129;01min\u001b[39;00m arg1\u001b[38;5;241m.\u001b[39mcolumns]\n\u001b[0;32m     67\u001b[0m arg2\u001b[38;5;241m.\u001b[39mcolumns \u001b[38;5;241m=\u001b[39m [col\u001b[38;5;241m.\u001b[39mreplace(\u001b[38;5;124m'\u001b[39m\u001b[38;5;130;01m\\xa0\u001b[39;00m\u001b[38;5;124m'\u001b[39m, \u001b[38;5;124m'\u001b[39m\u001b[38;5;124m \u001b[39m\u001b[38;5;124m'\u001b[39m) \u001b[38;5;28;01mfor\u001b[39;00m col \u001b[38;5;129;01min\u001b[39;00m arg2\u001b[38;5;241m.\u001b[39mcolumns]\n\u001b[0;32m     69\u001b[0m arg1 \u001b[38;5;241m=\u001b[39m arg1\u001b[38;5;241m.\u001b[39mloc[\n\u001b[1;32m---> 70\u001b[0m     \u001b[43marg1\u001b[49m\u001b[43m[\u001b[49m\u001b[38;5;124;43m'\u001b[39;49m\u001b[38;5;124;43mPremise 1\u001b[39;49m\u001b[38;5;124;43m'\u001b[39;49m\u001b[43m]\u001b[49m\u001b[38;5;241m.\u001b[39mastype(\u001b[38;5;28mbool\u001b[39m) \u001b[38;5;241m&\u001b[39m  \u001b[38;5;66;03m# filters out '' and NaN\u001b[39;00m\n\u001b[0;32m     71\u001b[0m     arg1[\u001b[38;5;124m'\u001b[39m\u001b[38;5;124mConclusion\u001b[39m\u001b[38;5;124m'\u001b[39m]\u001b[38;5;241m.\u001b[39mastype(\u001b[38;5;28mbool\u001b[39m)\n\u001b[0;32m     72\u001b[0m ]\u001b[38;5;241m.\u001b[39mcopy()\n\u001b[0;32m     74\u001b[0m arg2 \u001b[38;5;241m=\u001b[39m arg2\u001b[38;5;241m.\u001b[39mloc[\n\u001b[0;32m     75\u001b[0m     arg2[\u001b[38;5;124m'\u001b[39m\u001b[38;5;124mPremise 1\u001b[39m\u001b[38;5;124m'\u001b[39m]\u001b[38;5;241m.\u001b[39mastype(\u001b[38;5;28mbool\u001b[39m) \u001b[38;5;241m&\u001b[39m\n\u001b[0;32m     76\u001b[0m     arg2[\u001b[38;5;124m'\u001b[39m\u001b[38;5;124mPremise 2\u001b[39m\u001b[38;5;124m'\u001b[39m]\u001b[38;5;241m.\u001b[39mastype(\u001b[38;5;28mbool\u001b[39m) \u001b[38;5;241m&\u001b[39m\n\u001b[0;32m     77\u001b[0m     arg2[\u001b[38;5;124m'\u001b[39m\u001b[38;5;124mConclusion\u001b[39m\u001b[38;5;124m'\u001b[39m]\u001b[38;5;241m.\u001b[39mastype(\u001b[38;5;28mbool\u001b[39m)\n\u001b[0;32m     78\u001b[0m ]\u001b[38;5;241m.\u001b[39mcopy()\n\u001b[0;32m     80\u001b[0m \u001b[38;5;66;03m# 8) Run CICO + contrast models\u001b[39;00m\n",
      "File \u001b[1;32mc:\\Python310\\lib\\site-packages\\pandas\\core\\frame.py:4102\u001b[0m, in \u001b[0;36mDataFrame.__getitem__\u001b[1;34m(self, key)\u001b[0m\n\u001b[0;32m   4100\u001b[0m \u001b[38;5;28;01mif\u001b[39;00m \u001b[38;5;28mself\u001b[39m\u001b[38;5;241m.\u001b[39mcolumns\u001b[38;5;241m.\u001b[39mnlevels \u001b[38;5;241m>\u001b[39m \u001b[38;5;241m1\u001b[39m:\n\u001b[0;32m   4101\u001b[0m     \u001b[38;5;28;01mreturn\u001b[39;00m \u001b[38;5;28mself\u001b[39m\u001b[38;5;241m.\u001b[39m_getitem_multilevel(key)\n\u001b[1;32m-> 4102\u001b[0m indexer \u001b[38;5;241m=\u001b[39m \u001b[38;5;28;43mself\u001b[39;49m\u001b[38;5;241;43m.\u001b[39;49m\u001b[43mcolumns\u001b[49m\u001b[38;5;241;43m.\u001b[39;49m\u001b[43mget_loc\u001b[49m\u001b[43m(\u001b[49m\u001b[43mkey\u001b[49m\u001b[43m)\u001b[49m\n\u001b[0;32m   4103\u001b[0m \u001b[38;5;28;01mif\u001b[39;00m is_integer(indexer):\n\u001b[0;32m   4104\u001b[0m     indexer \u001b[38;5;241m=\u001b[39m [indexer]\n",
      "File \u001b[1;32mc:\\Python310\\lib\\site-packages\\pandas\\core\\indexes\\base.py:3812\u001b[0m, in \u001b[0;36mIndex.get_loc\u001b[1;34m(self, key)\u001b[0m\n\u001b[0;32m   3807\u001b[0m     \u001b[38;5;28;01mif\u001b[39;00m \u001b[38;5;28misinstance\u001b[39m(casted_key, \u001b[38;5;28mslice\u001b[39m) \u001b[38;5;129;01mor\u001b[39;00m (\n\u001b[0;32m   3808\u001b[0m         \u001b[38;5;28misinstance\u001b[39m(casted_key, abc\u001b[38;5;241m.\u001b[39mIterable)\n\u001b[0;32m   3809\u001b[0m         \u001b[38;5;129;01mand\u001b[39;00m \u001b[38;5;28many\u001b[39m(\u001b[38;5;28misinstance\u001b[39m(x, \u001b[38;5;28mslice\u001b[39m) \u001b[38;5;28;01mfor\u001b[39;00m x \u001b[38;5;129;01min\u001b[39;00m casted_key)\n\u001b[0;32m   3810\u001b[0m     ):\n\u001b[0;32m   3811\u001b[0m         \u001b[38;5;28;01mraise\u001b[39;00m InvalidIndexError(key)\n\u001b[1;32m-> 3812\u001b[0m     \u001b[38;5;28;01mraise\u001b[39;00m \u001b[38;5;167;01mKeyError\u001b[39;00m(key) \u001b[38;5;28;01mfrom\u001b[39;00m \u001b[38;5;21;01merr\u001b[39;00m\n\u001b[0;32m   3813\u001b[0m \u001b[38;5;28;01mexcept\u001b[39;00m \u001b[38;5;167;01mTypeError\u001b[39;00m:\n\u001b[0;32m   3814\u001b[0m     \u001b[38;5;66;03m# If we have a listlike key, _check_indexing_error will raise\u001b[39;00m\n\u001b[0;32m   3815\u001b[0m     \u001b[38;5;66;03m#  InvalidIndexError. Otherwise we fall through and re-raise\u001b[39;00m\n\u001b[0;32m   3816\u001b[0m     \u001b[38;5;66;03m#  the TypeError.\u001b[39;00m\n\u001b[0;32m   3817\u001b[0m     \u001b[38;5;28mself\u001b[39m\u001b[38;5;241m.\u001b[39m_check_indexing_error(key)\n",
      "\u001b[1;31mKeyError\u001b[0m: 'Premise\\xa01'"
     ]
    }
   ],
   "source": [
    "# 1) Setup\n",
    "models = ['ISC-CI', 'Contrast', 'GPT-3.5', 'GPT-4']\n",
    "argument_columns = [\n",
    "    'Argument 1-Premise 2',\n",
    "    'Argument 1-Conclusion',\n",
    "    'Argument 2-Premise 1',\n",
    "    'Argument 2-Premise 2',\n",
    "    'Argument 2-Conclusion'\n",
    "]\n",
    "\n",
    "# 2) Load & clean human data\n",
    "human_data = (\n",
    "    pd.read_csv('data/similarity_experiments/similarity_asymmetry.csv', index_col=0)\n",
    "      .fillna('')\n",
    ")\n",
    "human_data['Argument 2 Chosen'] = pd.to_numeric(human_data['Argument 2 Chosen'], errors='coerce')\n",
    "\n",
    "# 3) Compute per-pair means & counts on a shared MultiIndex\n",
    "grouped = human_data.groupby(argument_columns).mean(numeric_only=True)\n",
    "counts = human_data.groupby(argument_columns)['participant_id'] \\\n",
    "                   .count() \\\n",
    "                   .rename('Participant Count')\n",
    "grouped_data = grouped.join(counts).reset_index()\n",
    "\n",
    "# 4) Effect sizes & binomial p-values\n",
    "grouped_data['Effect Size'] = grouped_data['Argument 2 Chosen'].apply(lambda p: max(p, 1-p))\n",
    "grouped_data['pval'] = grouped_data.apply(\n",
    "    lambda r: binom.sf(r['Effect Size'] * r['Participant Count'] - 1,\n",
    "                      r['Participant Count'], 0.5),\n",
    "    axis=1\n",
    ")\n",
    "\n",
    "# 5) Keep only significant pairs\n",
    "sig = grouped_data[grouped_data['pval'] <= 0.05][argument_columns].copy()\n",
    "sig['pair'] = sig['Argument 1-Premise 2'] + '-' + sig['Argument 1-Conclusion']\n",
    "\n",
    "# 6) Filter raw human data to those pairs & compute majority\n",
    "human_data['Argument 2 Chosen Majority'] = (\n",
    "    human_data.groupby(argument_columns)['Argument 2 Chosen']\n",
    "              .transform('mean') > 0.5\n",
    ")\n",
    "human_data['pair'] = human_data['Argument 1-Premise 2'] + '-' + human_data['Argument 1-Conclusion']\n",
    "human_data = human_data[human_data['pair'].isin(sig['pair'])].copy()\n",
    "\n",
    "# 7) Build model‐input tables\n",
    "model_data = human_data.groupby(argument_columns, as_index=False)[\n",
    "    'Argument 2 Chosen Majority'\n",
    "].mean()\n",
    "\n",
    "# Argument 1\n",
    "arg1 = model_data[[\n",
    "    'Argument 1-Premise 2','Argument 1-Conclusion','Argument 2 Chosen Majority'\n",
    "]].copy()\n",
    "arg1.columns = ['Premise 1','Conclusion','Argument 2 Chosen Majority']\n",
    "arg1['Premise 2'] = np.nan\n",
    "arg1['Premise 3'] = np.nan\n",
    "\n",
    "# Argument 2\n",
    "arg2 = model_data[[\n",
    "    'Argument 2-Premise 1','Argument 2-Premise 2','Argument 2-Conclusion'\n",
    "]].copy()\n",
    "arg2.columns = ['Premise 1','Premise 2','Conclusion']\n",
    "arg2['Premise 3'] = np.nan\n",
    "\n",
    "# Normalize any non‑breaking spaces in column names to plain spaces\n",
    "arg1.columns = [col.replace('\\xa0', ' ') for col in arg1.columns]\n",
    "arg2.columns = [col.replace('\\xa0', ' ') for col in arg2.columns]\n",
    "\n",
    "arg1 = arg1.loc[\n",
    "    arg1['Premise 1'].astype(bool) &  # filters out '' and NaN\n",
    "    arg1['Conclusion'].astype(bool)\n",
    "].copy()\n",
    "\n",
    "arg2 = arg2.loc[\n",
    "    arg2['Premise 1'].astype(bool) &\n",
    "    arg2['Premise 2'].astype(bool) &\n",
    "    arg2['Conclusion'].astype(bool)\n",
    "].copy()\n",
    "\n",
    "# 8) Run CICO + contrast models\n",
    "arg1 = analysis.calc_argument_strength(arg1, cico_model, data_loader)\n",
    "arg2 = analysis.calc_argument_strength(arg2, cico_model, data_loader)\n",
    "arg1 = analysis.calc_argument_strength_contrast(arg1, alpha=1, beta=0)\n",
    "arg2 = analysis.calc_argument_strength_contrast(arg2, alpha=1, beta=0)\n",
    "\n",
    "# 9) Prefix & combine\n",
    "arg1 = arg1.add_prefix('Argument 1-')\n",
    "arg2 = arg2.add_prefix('Argument 2-')\n",
    "model_data = pd.concat([arg1, arg2], axis=1) \\\n",
    "               .rename(columns={'Argument 1-Argument 2 Chosen Majority': 'Argument 2 Chosen Majority'})\n",
    "\n",
    "# 10) Merge in LLM judgments\n",
    "llm = pd.read_csv('data/similarity_experiments/similarity_asymmetry_llm.csv', index_col=0)\n",
    "for m in ['GPT-3.5','GPT-4']:\n",
    "    llm[f'Argument 1-{m}'] = (llm[m] == 1).astype(float)\n",
    "    llm[f'Argument 2-{m}'] = (llm[m] == 2).astype(float)\n",
    "model_data = model_data.merge(\n",
    "    llm,\n",
    "    on=[\n",
    "        'Argument 1-Premise 2','Argument 1-Conclusion',\n",
    "        'Argument 2-Premise 1','Argument 2-Premise 2','Argument 2-Conclusion'\n",
    "    ]\n",
    ")\n",
    "\n",
    "# 11) Compute agreement with human majority\n",
    "for m in models:\n",
    "    model_data[m] = (\n",
    "        (model_data[f'Argument 2-{m}'] > model_data[f'Argument 1-{m}'])\n",
    "        == model_data['Argument 2 Chosen Majority']\n",
    "    ).astype(float)\n",
    "\n",
    "# 12) Melt & plot\n",
    "melted = model_data.melt(\n",
    "    id_vars=argument_columns,\n",
    "    value_vars=models,\n",
    "    var_name='Model',\n",
    "    value_name='Agreement with Humans (%)'\n",
    ")\n",
    "plot_df = melted.groupby('Model', as_index=False)['Agreement with Humans (%)'].mean()\n",
    "\n",
    "fig = px.bar(\n",
    "    plot_df,\n",
    "    x='Model', y='Agreement with Humans (%)',\n",
    "    color='Model',\n",
    "    category_orders={'Model': models},\n",
    "    color_discrete_map=utils.model_colors,\n",
    "    range_y=[0,1]\n",
    ")\n",
    "fig.add_hline(y=0.56, line_dash='dot', line_color='black')\n",
    "fig = utils.format_figure(fig, height=600, width=800, showlegend=False)\n",
    "\n",
    "# 13) Annotate significance\n",
    "sums = melted.groupby('Model')['Agreement with Humans (%)'].sum()\n",
    "cnts = melted.groupby('Model')['Agreement with Humans (%)'].count()\n",
    "effects = pd.DataFrame({'True Count': sums, 'Total Count': cnts})\n",
    "effects['p_stars'] = effects.apply(\n",
    "    lambda r: utils.p_to_stars(binom.sf(r['True Count']-1, r['Total Count'], 0.5)),\n",
    "    axis=1\n",
    ")\n",
    "effects['Bar Height'] = effects['True Count'] / effects['Total Count']\n",
    "\n",
    "for model, row in effects.iterrows():\n",
    "    fig.add_annotation(\n",
    "        x=model,\n",
    "        y=row['Bar Height'] + 0.05,\n",
    "        text=row['p_stars'],\n",
    "        showarrow=False,\n",
    "        font=dict(size=16)\n",
    "    )\n",
    "\n",
    "fig.show()"
   ]
  },
  {
   "cell_type": "code",
   "execution_count": 18,
   "metadata": {},
   "outputs": [
    {
     "data": {
      "application/vnd.plotly.v1+json": {
       "config": {
        "plotlyServerURL": "https://plot.ly"
       },
       "data": [
        {
         "alignmentgroup": "True",
         "hovertemplate": "Model=%{x}<br>Agreement with Humans (R<sup>2</sup>)=%{y}<extra></extra>",
         "legendgroup": "ISC-CI",
         "marker": {
          "color": "#6797D5",
          "pattern": {
           "shape": ""
          }
         },
         "name": "ISC-CI",
         "offsetgroup": "ISC-CI",
         "orientation": "v",
         "showlegend": true,
         "textposition": "auto",
         "type": "bar",
         "x": [
          "ISC-CI"
         ],
         "xaxis": "x",
         "y": [
          0.3098074027627513
         ],
         "yaxis": "y"
        },
        {
         "alignmentgroup": "True",
         "hovertemplate": "Model=%{x}<br>Agreement with Humans (R<sup>2</sup>)=%{y}<extra></extra>",
         "legendgroup": "Contrast",
         "marker": {
          "color": "#a1d13a",
          "pattern": {
           "shape": ""
          }
         },
         "name": "Contrast",
         "offsetgroup": "Contrast",
         "orientation": "v",
         "showlegend": true,
         "textposition": "auto",
         "type": "bar",
         "x": [
          "Contrast"
         ],
         "xaxis": "x",
         "y": [
          0.5992998547110854
         ],
         "yaxis": "y"
        }
       ],
       "layout": {
        "annotations": [
         {
          "font": {
           "size": 16
          },
          "showarrow": false,
          "text": "***",
          "x": "ISC-CI",
          "y": 0.3598074027627513
         },
         {
          "font": {
           "size": 16
          },
          "showarrow": false,
          "text": "***",
          "x": "Contrast",
          "y": 0.6492998547110854
         }
        ],
        "barmode": "relative",
        "height": 600,
        "legend": {
         "title": {
          "text": "Model"
         },
         "tracegroupgap": 0
        },
        "margin": {
         "t": 60
        },
        "plot_bgcolor": "white",
        "showlegend": false,
        "template": {
         "data": {
          "bar": [
           {
            "error_x": {
             "color": "#2a3f5f"
            },
            "error_y": {
             "color": "#2a3f5f"
            },
            "marker": {
             "line": {
              "color": "#E5ECF6",
              "width": 0.5
             },
             "pattern": {
              "fillmode": "overlay",
              "size": 10,
              "solidity": 0.2
             }
            },
            "type": "bar"
           }
          ],
          "barpolar": [
           {
            "marker": {
             "line": {
              "color": "#E5ECF6",
              "width": 0.5
             },
             "pattern": {
              "fillmode": "overlay",
              "size": 10,
              "solidity": 0.2
             }
            },
            "type": "barpolar"
           }
          ],
          "carpet": [
           {
            "aaxis": {
             "endlinecolor": "#2a3f5f",
             "gridcolor": "white",
             "linecolor": "white",
             "minorgridcolor": "white",
             "startlinecolor": "#2a3f5f"
            },
            "baxis": {
             "endlinecolor": "#2a3f5f",
             "gridcolor": "white",
             "linecolor": "white",
             "minorgridcolor": "white",
             "startlinecolor": "#2a3f5f"
            },
            "type": "carpet"
           }
          ],
          "choropleth": [
           {
            "colorbar": {
             "outlinewidth": 0,
             "ticks": ""
            },
            "type": "choropleth"
           }
          ],
          "contour": [
           {
            "colorbar": {
             "outlinewidth": 0,
             "ticks": ""
            },
            "colorscale": [
             [
              0,
              "#0d0887"
             ],
             [
              0.1111111111111111,
              "#46039f"
             ],
             [
              0.2222222222222222,
              "#7201a8"
             ],
             [
              0.3333333333333333,
              "#9c179e"
             ],
             [
              0.4444444444444444,
              "#bd3786"
             ],
             [
              0.5555555555555556,
              "#d8576b"
             ],
             [
              0.6666666666666666,
              "#ed7953"
             ],
             [
              0.7777777777777778,
              "#fb9f3a"
             ],
             [
              0.8888888888888888,
              "#fdca26"
             ],
             [
              1,
              "#f0f921"
             ]
            ],
            "type": "contour"
           }
          ],
          "contourcarpet": [
           {
            "colorbar": {
             "outlinewidth": 0,
             "ticks": ""
            },
            "type": "contourcarpet"
           }
          ],
          "heatmap": [
           {
            "colorbar": {
             "outlinewidth": 0,
             "ticks": ""
            },
            "colorscale": [
             [
              0,
              "#0d0887"
             ],
             [
              0.1111111111111111,
              "#46039f"
             ],
             [
              0.2222222222222222,
              "#7201a8"
             ],
             [
              0.3333333333333333,
              "#9c179e"
             ],
             [
              0.4444444444444444,
              "#bd3786"
             ],
             [
              0.5555555555555556,
              "#d8576b"
             ],
             [
              0.6666666666666666,
              "#ed7953"
             ],
             [
              0.7777777777777778,
              "#fb9f3a"
             ],
             [
              0.8888888888888888,
              "#fdca26"
             ],
             [
              1,
              "#f0f921"
             ]
            ],
            "type": "heatmap"
           }
          ],
          "heatmapgl": [
           {
            "colorbar": {
             "outlinewidth": 0,
             "ticks": ""
            },
            "colorscale": [
             [
              0,
              "#0d0887"
             ],
             [
              0.1111111111111111,
              "#46039f"
             ],
             [
              0.2222222222222222,
              "#7201a8"
             ],
             [
              0.3333333333333333,
              "#9c179e"
             ],
             [
              0.4444444444444444,
              "#bd3786"
             ],
             [
              0.5555555555555556,
              "#d8576b"
             ],
             [
              0.6666666666666666,
              "#ed7953"
             ],
             [
              0.7777777777777778,
              "#fb9f3a"
             ],
             [
              0.8888888888888888,
              "#fdca26"
             ],
             [
              1,
              "#f0f921"
             ]
            ],
            "type": "heatmapgl"
           }
          ],
          "histogram": [
           {
            "marker": {
             "pattern": {
              "fillmode": "overlay",
              "size": 10,
              "solidity": 0.2
             }
            },
            "type": "histogram"
           }
          ],
          "histogram2d": [
           {
            "colorbar": {
             "outlinewidth": 0,
             "ticks": ""
            },
            "colorscale": [
             [
              0,
              "#0d0887"
             ],
             [
              0.1111111111111111,
              "#46039f"
             ],
             [
              0.2222222222222222,
              "#7201a8"
             ],
             [
              0.3333333333333333,
              "#9c179e"
             ],
             [
              0.4444444444444444,
              "#bd3786"
             ],
             [
              0.5555555555555556,
              "#d8576b"
             ],
             [
              0.6666666666666666,
              "#ed7953"
             ],
             [
              0.7777777777777778,
              "#fb9f3a"
             ],
             [
              0.8888888888888888,
              "#fdca26"
             ],
             [
              1,
              "#f0f921"
             ]
            ],
            "type": "histogram2d"
           }
          ],
          "histogram2dcontour": [
           {
            "colorbar": {
             "outlinewidth": 0,
             "ticks": ""
            },
            "colorscale": [
             [
              0,
              "#0d0887"
             ],
             [
              0.1111111111111111,
              "#46039f"
             ],
             [
              0.2222222222222222,
              "#7201a8"
             ],
             [
              0.3333333333333333,
              "#9c179e"
             ],
             [
              0.4444444444444444,
              "#bd3786"
             ],
             [
              0.5555555555555556,
              "#d8576b"
             ],
             [
              0.6666666666666666,
              "#ed7953"
             ],
             [
              0.7777777777777778,
              "#fb9f3a"
             ],
             [
              0.8888888888888888,
              "#fdca26"
             ],
             [
              1,
              "#f0f921"
             ]
            ],
            "type": "histogram2dcontour"
           }
          ],
          "mesh3d": [
           {
            "colorbar": {
             "outlinewidth": 0,
             "ticks": ""
            },
            "type": "mesh3d"
           }
          ],
          "parcoords": [
           {
            "line": {
             "colorbar": {
              "outlinewidth": 0,
              "ticks": ""
             }
            },
            "type": "parcoords"
           }
          ],
          "pie": [
           {
            "automargin": true,
            "type": "pie"
           }
          ],
          "scatter": [
           {
            "fillpattern": {
             "fillmode": "overlay",
             "size": 10,
             "solidity": 0.2
            },
            "type": "scatter"
           }
          ],
          "scatter3d": [
           {
            "line": {
             "colorbar": {
              "outlinewidth": 0,
              "ticks": ""
             }
            },
            "marker": {
             "colorbar": {
              "outlinewidth": 0,
              "ticks": ""
             }
            },
            "type": "scatter3d"
           }
          ],
          "scattercarpet": [
           {
            "marker": {
             "colorbar": {
              "outlinewidth": 0,
              "ticks": ""
             }
            },
            "type": "scattercarpet"
           }
          ],
          "scattergeo": [
           {
            "marker": {
             "colorbar": {
              "outlinewidth": 0,
              "ticks": ""
             }
            },
            "type": "scattergeo"
           }
          ],
          "scattergl": [
           {
            "marker": {
             "colorbar": {
              "outlinewidth": 0,
              "ticks": ""
             }
            },
            "type": "scattergl"
           }
          ],
          "scattermapbox": [
           {
            "marker": {
             "colorbar": {
              "outlinewidth": 0,
              "ticks": ""
             }
            },
            "type": "scattermapbox"
           }
          ],
          "scatterpolar": [
           {
            "marker": {
             "colorbar": {
              "outlinewidth": 0,
              "ticks": ""
             }
            },
            "type": "scatterpolar"
           }
          ],
          "scatterpolargl": [
           {
            "marker": {
             "colorbar": {
              "outlinewidth": 0,
              "ticks": ""
             }
            },
            "type": "scatterpolargl"
           }
          ],
          "scatterternary": [
           {
            "marker": {
             "colorbar": {
              "outlinewidth": 0,
              "ticks": ""
             }
            },
            "type": "scatterternary"
           }
          ],
          "surface": [
           {
            "colorbar": {
             "outlinewidth": 0,
             "ticks": ""
            },
            "colorscale": [
             [
              0,
              "#0d0887"
             ],
             [
              0.1111111111111111,
              "#46039f"
             ],
             [
              0.2222222222222222,
              "#7201a8"
             ],
             [
              0.3333333333333333,
              "#9c179e"
             ],
             [
              0.4444444444444444,
              "#bd3786"
             ],
             [
              0.5555555555555556,
              "#d8576b"
             ],
             [
              0.6666666666666666,
              "#ed7953"
             ],
             [
              0.7777777777777778,
              "#fb9f3a"
             ],
             [
              0.8888888888888888,
              "#fdca26"
             ],
             [
              1,
              "#f0f921"
             ]
            ],
            "type": "surface"
           }
          ],
          "table": [
           {
            "cells": {
             "fill": {
              "color": "#EBF0F8"
             },
             "line": {
              "color": "white"
             }
            },
            "header": {
             "fill": {
              "color": "#C8D4E3"
             },
             "line": {
              "color": "white"
             }
            },
            "type": "table"
           }
          ]
         },
         "layout": {
          "annotationdefaults": {
           "arrowcolor": "#2a3f5f",
           "arrowhead": 0,
           "arrowwidth": 1
          },
          "autotypenumbers": "strict",
          "coloraxis": {
           "colorbar": {
            "outlinewidth": 0,
            "ticks": ""
           }
          },
          "colorscale": {
           "diverging": [
            [
             0,
             "#8e0152"
            ],
            [
             0.1,
             "#c51b7d"
            ],
            [
             0.2,
             "#de77ae"
            ],
            [
             0.3,
             "#f1b6da"
            ],
            [
             0.4,
             "#fde0ef"
            ],
            [
             0.5,
             "#f7f7f7"
            ],
            [
             0.6,
             "#e6f5d0"
            ],
            [
             0.7,
             "#b8e186"
            ],
            [
             0.8,
             "#7fbc41"
            ],
            [
             0.9,
             "#4d9221"
            ],
            [
             1,
             "#276419"
            ]
           ],
           "sequential": [
            [
             0,
             "#0d0887"
            ],
            [
             0.1111111111111111,
             "#46039f"
            ],
            [
             0.2222222222222222,
             "#7201a8"
            ],
            [
             0.3333333333333333,
             "#9c179e"
            ],
            [
             0.4444444444444444,
             "#bd3786"
            ],
            [
             0.5555555555555556,
             "#d8576b"
            ],
            [
             0.6666666666666666,
             "#ed7953"
            ],
            [
             0.7777777777777778,
             "#fb9f3a"
            ],
            [
             0.8888888888888888,
             "#fdca26"
            ],
            [
             1,
             "#f0f921"
            ]
           ],
           "sequentialminus": [
            [
             0,
             "#0d0887"
            ],
            [
             0.1111111111111111,
             "#46039f"
            ],
            [
             0.2222222222222222,
             "#7201a8"
            ],
            [
             0.3333333333333333,
             "#9c179e"
            ],
            [
             0.4444444444444444,
             "#bd3786"
            ],
            [
             0.5555555555555556,
             "#d8576b"
            ],
            [
             0.6666666666666666,
             "#ed7953"
            ],
            [
             0.7777777777777778,
             "#fb9f3a"
            ],
            [
             0.8888888888888888,
             "#fdca26"
            ],
            [
             1,
             "#f0f921"
            ]
           ]
          },
          "colorway": [
           "#636efa",
           "#EF553B",
           "#00cc96",
           "#ab63fa",
           "#FFA15A",
           "#19d3f3",
           "#FF6692",
           "#B6E880",
           "#FF97FF",
           "#FECB52"
          ],
          "font": {
           "color": "#2a3f5f"
          },
          "geo": {
           "bgcolor": "white",
           "lakecolor": "white",
           "landcolor": "#E5ECF6",
           "showlakes": true,
           "showland": true,
           "subunitcolor": "white"
          },
          "hoverlabel": {
           "align": "left"
          },
          "hovermode": "closest",
          "mapbox": {
           "style": "light"
          },
          "paper_bgcolor": "white",
          "plot_bgcolor": "#E5ECF6",
          "polar": {
           "angularaxis": {
            "gridcolor": "white",
            "linecolor": "white",
            "ticks": ""
           },
           "bgcolor": "#E5ECF6",
           "radialaxis": {
            "gridcolor": "white",
            "linecolor": "white",
            "ticks": ""
           }
          },
          "scene": {
           "xaxis": {
            "backgroundcolor": "#E5ECF6",
            "gridcolor": "white",
            "gridwidth": 2,
            "linecolor": "white",
            "showbackground": true,
            "ticks": "",
            "zerolinecolor": "white"
           },
           "yaxis": {
            "backgroundcolor": "#E5ECF6",
            "gridcolor": "white",
            "gridwidth": 2,
            "linecolor": "white",
            "showbackground": true,
            "ticks": "",
            "zerolinecolor": "white"
           },
           "zaxis": {
            "backgroundcolor": "#E5ECF6",
            "gridcolor": "white",
            "gridwidth": 2,
            "linecolor": "white",
            "showbackground": true,
            "ticks": "",
            "zerolinecolor": "white"
           }
          },
          "shapedefaults": {
           "line": {
            "color": "#2a3f5f"
           }
          },
          "ternary": {
           "aaxis": {
            "gridcolor": "white",
            "linecolor": "white",
            "ticks": ""
           },
           "baxis": {
            "gridcolor": "white",
            "linecolor": "white",
            "ticks": ""
           },
           "bgcolor": "#E5ECF6",
           "caxis": {
            "gridcolor": "white",
            "linecolor": "white",
            "ticks": ""
           }
          },
          "title": {
           "x": 0.05
          },
          "xaxis": {
           "automargin": true,
           "gridcolor": "white",
           "linecolor": "white",
           "ticks": "",
           "title": {
            "standoff": 15
           },
           "zerolinecolor": "white",
           "zerolinewidth": 2
          },
          "yaxis": {
           "automargin": true,
           "gridcolor": "white",
           "linecolor": "white",
           "ticks": "",
           "title": {
            "standoff": 15
           },
           "zerolinecolor": "white",
           "zerolinewidth": 2
          }
         }
        },
        "width": 400,
        "xaxis": {
         "anchor": "y",
         "categoryarray": [
          "Human",
          "ISC-CI",
          "Contrast"
         ],
         "categoryorder": "array",
         "domain": [
          0,
          1
         ],
         "linecolor": "black",
         "linewidth": 1.5,
         "mirror": true,
         "showgrid": false,
         "showline": true,
         "tickfont": {
          "size": 20
         },
         "ticks": "outside",
         "title": {
          "font": {
           "size": 24
          },
          "text": "Model"
         }
        },
        "yaxis": {
         "anchor": "x",
         "domain": [
          0,
          1
         ],
         "linecolor": "black",
         "linewidth": 1.5,
         "mirror": true,
         "range": [
          0,
          1
         ],
         "showgrid": false,
         "showline": true,
         "tickfont": {
          "size": 20
         },
         "ticks": "outside",
         "title": {
          "font": {
           "size": 24
          },
          "text": "Agreement with Humans (R<sup>2</sup>)"
         }
        }
       }
      }
     },
     "metadata": {},
     "output_type": "display_data"
    }
   ],
   "source": [
    "models = ['ISC-CI','Contrast']\n",
    "# Generate numerical asymmetry scores for model and humans\n",
    "model_data = pd.concat([model_argument1,model_argument2],axis=1).rename(columns={'Argument 1-Argument 2 Chosen Majority':'Argument 2 Chosen Majority'})\n",
    "model_data = model_data.merge(llm_data,on=['Argument 1-Premise 1','Argument 1-Conclusion','Argument 2-Premise 1','Argument 2-Conclusion'])\n",
    "for model in models:\n",
    "    model_data[model] = model_data[f'Argument 2-{model}']-model_data[f'Argument 1-{model}']\n",
    "model_data = model_data.fillna('').melt(id_vars=argument_columns,value_vars=models,var_name='Model',value_name='Model Asymmetry Score')\n",
    "human_data_averaged = human_data.groupby(argument_columns).mean()['Argument 2 Chosen'].reset_index().rename(columns={'Argument 2 Chosen':'Human Asymmetry Score'})\n",
    "argument_data = model_data.merge(human_data_averaged,on=argument_columns)\n",
    "\n",
    "# Run regression for each model's predictions\n",
    "regression_data = []\n",
    "for model in models:\n",
    "    model_arg_data = argument_data[argument_data['Model']==model]\n",
    "    lr = pg.linear_regression(X=model_arg_data['Human Asymmetry Score'],y=model_arg_data['Model Asymmetry Score'])\n",
    "    lr = lr[lr.names=='Human Asymmetry Score']\n",
    "    lr['Model'] = model\n",
    "    lr['p_stars'] = lr['pval'].apply(utils.p_to_stars)\n",
    "    regression_data.append(lr)\n",
    "regression_data = pd.concat(regression_data,ignore_index=True)\n",
    "regression_data = regression_data.rename(columns={'r2':'Agreement with Humans (R<sup>2</sup>)'})\n",
    "\n",
    "# Generate bar plot\n",
    "plot_data = model_data.groupby(['Model']).mean().reset_index()\n",
    "fig = px.bar(regression_data,x='Model',color='Model',y='Agreement with Humans (R<sup>2</sup>)',\n",
    "             category_orders={'Model':['Human']+models},\n",
    "             color_discrete_map=utils.model_colors,range_y=[0,1])\n",
    "fig = utils.format_figure(fig,height=600,width=400,showlegend=False)\n",
    "for model in models:\n",
    "    p_stars = regression_data[regression_data['Model']==model]['p_stars'].values[0]\n",
    "    bar_height = regression_data[regression_data['Model']==model]['Agreement with Humans (R<sup>2</sup>)'].values[0]\n",
    "    fig.add_annotation(x=model,y=bar_height+0.05,text=p_stars,\n",
    "                       showarrow=False,font=dict(size=16))\n",
    "fig.show()"
   ]
  },
  {
   "cell_type": "markdown",
   "metadata": {},
   "source": [
    "## Multi-Alternative Context Effects"
   ]
  },
  {
   "cell_type": "code",
   "execution_count": 19,
   "metadata": {},
   "outputs": [],
   "source": [
    "models = ['ISC-CI','GPT-3.5','GPT-4']\n",
    "argument_columns = ['Premise 1','Conclusion 1','Conclusion 2','Distractor 1','Distractor 2']\n",
    "human_data = pd.read_csv('data/similarity_experiments/similarity_in_context.csv', index_col=0)\n",
    "\n",
    "human_context_effects = analysis.calc_similarity_context_effect_human(human_data)\n",
    "significant_sets = human_context_effects[human_context_effects['Context Effect']>0]\n",
    "\n",
    "# Calculate CICO predictions\n",
    "model_data = analysis.calc_similarity_context_effect(significant_sets, cico_model, data_loader)\n",
    "\n",
    "# Add LLM predictions\n",
    "llm_data = pd.read_csv('data/similarity_experiments/similarity_in_context_llm.csv', index_col=0)\n",
    "gpt_35_data = llm_data.drop(columns=['GPT-4']).rename(columns={'GPT-3.5':'Choice'})\n",
    "gpt_4_data = llm_data.drop(columns=['GPT-3.5']).rename(columns={'GPT-4':'Choice'})\n",
    "gpt_35_data['Conclusion 1 Chosen'] = gpt_35_data.Choice==1\n",
    "gpt_35_data['Conclusion 2 Chosen'] = gpt_35_data.Choice==3\n",
    "gpt_4_data['Conclusion 1 Chosen'] = gpt_4_data.Choice==1\n",
    "gpt_4_data['Conclusion 2 Chosen'] = gpt_4_data.Choice==3\n",
    "gpt_35_data = analysis.calc_similarity_context_effect_human(gpt_35_data).rename(columns={'Context Effect':'GPT-3.5'})\n",
    "gpt_4_data = analysis.calc_similarity_context_effect_human(gpt_4_data).rename(columns={'Context Effect':'GPT-4'})\n",
    "\n",
    "model_data = model_data.merge(gpt_35_data,on=argument_columns)\n",
    "model_data = model_data.merge(gpt_4_data,on=argument_columns)\n",
    "model_data = model_data[models].melt(var_name='Model',value_name='Agreement with Humans (%)')"
   ]
  },
  {
   "cell_type": "code",
   "execution_count": 12,
   "metadata": {},
   "outputs": [
    {
     "ename": "KeyError",
     "evalue": "'Agreement with Humans (%)'",
     "output_type": "error",
     "traceback": [
      "\u001b[1;31m---------------------------------------------------------------------------\u001b[0m",
      "\u001b[1;31mKeyError\u001b[0m                                  Traceback (most recent call last)",
      "File \u001b[1;32mc:\\Python310\\lib\\site-packages\\pandas\\core\\indexes\\base.py:3805\u001b[0m, in \u001b[0;36mIndex.get_loc\u001b[1;34m(self, key)\u001b[0m\n\u001b[0;32m   3804\u001b[0m \u001b[38;5;28;01mtry\u001b[39;00m:\n\u001b[1;32m-> 3805\u001b[0m     \u001b[38;5;28;01mreturn\u001b[39;00m \u001b[38;5;28;43mself\u001b[39;49m\u001b[38;5;241;43m.\u001b[39;49m\u001b[43m_engine\u001b[49m\u001b[38;5;241;43m.\u001b[39;49m\u001b[43mget_loc\u001b[49m\u001b[43m(\u001b[49m\u001b[43mcasted_key\u001b[49m\u001b[43m)\u001b[49m\n\u001b[0;32m   3806\u001b[0m \u001b[38;5;28;01mexcept\u001b[39;00m \u001b[38;5;167;01mKeyError\u001b[39;00m \u001b[38;5;28;01mas\u001b[39;00m err:\n",
      "File \u001b[1;32mindex.pyx:167\u001b[0m, in \u001b[0;36mpandas._libs.index.IndexEngine.get_loc\u001b[1;34m()\u001b[0m\n",
      "File \u001b[1;32mindex.pyx:196\u001b[0m, in \u001b[0;36mpandas._libs.index.IndexEngine.get_loc\u001b[1;34m()\u001b[0m\n",
      "File \u001b[1;32mpandas\\\\_libs\\\\hashtable_class_helper.pxi:7081\u001b[0m, in \u001b[0;36mpandas._libs.hashtable.PyObjectHashTable.get_item\u001b[1;34m()\u001b[0m\n",
      "File \u001b[1;32mpandas\\\\_libs\\\\hashtable_class_helper.pxi:7089\u001b[0m, in \u001b[0;36mpandas._libs.hashtable.PyObjectHashTable.get_item\u001b[1;34m()\u001b[0m\n",
      "\u001b[1;31mKeyError\u001b[0m: 'Agreement with Humans (%)'",
      "\nThe above exception was the direct cause of the following exception:\n",
      "\u001b[1;31mKeyError\u001b[0m                                  Traceback (most recent call last)",
      "Cell \u001b[1;32mIn[12], line 3\u001b[0m\n\u001b[0;32m      1\u001b[0m \u001b[38;5;66;03m# Generate bar plot\u001b[39;00m\n\u001b[0;32m      2\u001b[0m model_direction_data \u001b[38;5;241m=\u001b[39m model_data\u001b[38;5;241m.\u001b[39mcopy()\n\u001b[1;32m----> 3\u001b[0m model_direction_data[\u001b[38;5;124m'\u001b[39m\u001b[38;5;124mAgreement with Humans (\u001b[39m\u001b[38;5;124m%\u001b[39m\u001b[38;5;124m)\u001b[39m\u001b[38;5;124m'\u001b[39m] \u001b[38;5;241m=\u001b[39m (\u001b[43mmodel_direction_data\u001b[49m\u001b[43m[\u001b[49m\u001b[38;5;124;43m'\u001b[39;49m\u001b[38;5;124;43mAgreement with Humans (\u001b[39;49m\u001b[38;5;124;43m%\u001b[39;49m\u001b[38;5;124;43m)\u001b[39;49m\u001b[38;5;124;43m'\u001b[39;49m\u001b[43m]\u001b[49m\u001b[38;5;241m>\u001b[39m\u001b[38;5;241m0\u001b[39m)\u001b[38;5;241m.\u001b[39mastype(\u001b[38;5;28mfloat\u001b[39m)\n\u001b[0;32m      4\u001b[0m plot_data \u001b[38;5;241m=\u001b[39m model_direction_data\u001b[38;5;241m.\u001b[39mgroupby([\u001b[38;5;124m'\u001b[39m\u001b[38;5;124mModel\u001b[39m\u001b[38;5;124m'\u001b[39m])\u001b[38;5;241m.\u001b[39mmean()\u001b[38;5;241m.\u001b[39mreset_index()\n\u001b[0;32m      5\u001b[0m fig \u001b[38;5;241m=\u001b[39m px\u001b[38;5;241m.\u001b[39mbar(plot_data,x\u001b[38;5;241m=\u001b[39m\u001b[38;5;124m'\u001b[39m\u001b[38;5;124mModel\u001b[39m\u001b[38;5;124m'\u001b[39m,color\u001b[38;5;241m=\u001b[39m\u001b[38;5;124m'\u001b[39m\u001b[38;5;124mModel\u001b[39m\u001b[38;5;124m'\u001b[39m,y\u001b[38;5;241m=\u001b[39m\u001b[38;5;124m'\u001b[39m\u001b[38;5;124mAgreement with Humans (\u001b[39m\u001b[38;5;124m%\u001b[39m\u001b[38;5;124m)\u001b[39m\u001b[38;5;124m'\u001b[39m,\n\u001b[0;32m      6\u001b[0m              category_orders\u001b[38;5;241m=\u001b[39m{\u001b[38;5;124m'\u001b[39m\u001b[38;5;124mModel\u001b[39m\u001b[38;5;124m'\u001b[39m:[\u001b[38;5;124m'\u001b[39m\u001b[38;5;124mHuman\u001b[39m\u001b[38;5;124m'\u001b[39m]\u001b[38;5;241m+\u001b[39mmodels},\n\u001b[0;32m      7\u001b[0m              color_discrete_map\u001b[38;5;241m=\u001b[39mutils\u001b[38;5;241m.\u001b[39mmodel_colors,range_y\u001b[38;5;241m=\u001b[39m[\u001b[38;5;241m0\u001b[39m,\u001b[38;5;241m1\u001b[39m])\n",
      "File \u001b[1;32mc:\\Python310\\lib\\site-packages\\pandas\\core\\frame.py:4102\u001b[0m, in \u001b[0;36mDataFrame.__getitem__\u001b[1;34m(self, key)\u001b[0m\n\u001b[0;32m   4100\u001b[0m \u001b[38;5;28;01mif\u001b[39;00m \u001b[38;5;28mself\u001b[39m\u001b[38;5;241m.\u001b[39mcolumns\u001b[38;5;241m.\u001b[39mnlevels \u001b[38;5;241m>\u001b[39m \u001b[38;5;241m1\u001b[39m:\n\u001b[0;32m   4101\u001b[0m     \u001b[38;5;28;01mreturn\u001b[39;00m \u001b[38;5;28mself\u001b[39m\u001b[38;5;241m.\u001b[39m_getitem_multilevel(key)\n\u001b[1;32m-> 4102\u001b[0m indexer \u001b[38;5;241m=\u001b[39m \u001b[38;5;28;43mself\u001b[39;49m\u001b[38;5;241;43m.\u001b[39;49m\u001b[43mcolumns\u001b[49m\u001b[38;5;241;43m.\u001b[39;49m\u001b[43mget_loc\u001b[49m\u001b[43m(\u001b[49m\u001b[43mkey\u001b[49m\u001b[43m)\u001b[49m\n\u001b[0;32m   4103\u001b[0m \u001b[38;5;28;01mif\u001b[39;00m is_integer(indexer):\n\u001b[0;32m   4104\u001b[0m     indexer \u001b[38;5;241m=\u001b[39m [indexer]\n",
      "File \u001b[1;32mc:\\Python310\\lib\\site-packages\\pandas\\core\\indexes\\base.py:3812\u001b[0m, in \u001b[0;36mIndex.get_loc\u001b[1;34m(self, key)\u001b[0m\n\u001b[0;32m   3807\u001b[0m     \u001b[38;5;28;01mif\u001b[39;00m \u001b[38;5;28misinstance\u001b[39m(casted_key, \u001b[38;5;28mslice\u001b[39m) \u001b[38;5;129;01mor\u001b[39;00m (\n\u001b[0;32m   3808\u001b[0m         \u001b[38;5;28misinstance\u001b[39m(casted_key, abc\u001b[38;5;241m.\u001b[39mIterable)\n\u001b[0;32m   3809\u001b[0m         \u001b[38;5;129;01mand\u001b[39;00m \u001b[38;5;28many\u001b[39m(\u001b[38;5;28misinstance\u001b[39m(x, \u001b[38;5;28mslice\u001b[39m) \u001b[38;5;28;01mfor\u001b[39;00m x \u001b[38;5;129;01min\u001b[39;00m casted_key)\n\u001b[0;32m   3810\u001b[0m     ):\n\u001b[0;32m   3811\u001b[0m         \u001b[38;5;28;01mraise\u001b[39;00m InvalidIndexError(key)\n\u001b[1;32m-> 3812\u001b[0m     \u001b[38;5;28;01mraise\u001b[39;00m \u001b[38;5;167;01mKeyError\u001b[39;00m(key) \u001b[38;5;28;01mfrom\u001b[39;00m \u001b[38;5;21;01merr\u001b[39;00m\n\u001b[0;32m   3813\u001b[0m \u001b[38;5;28;01mexcept\u001b[39;00m \u001b[38;5;167;01mTypeError\u001b[39;00m:\n\u001b[0;32m   3814\u001b[0m     \u001b[38;5;66;03m# If we have a listlike key, _check_indexing_error will raise\u001b[39;00m\n\u001b[0;32m   3815\u001b[0m     \u001b[38;5;66;03m#  InvalidIndexError. Otherwise we fall through and re-raise\u001b[39;00m\n\u001b[0;32m   3816\u001b[0m     \u001b[38;5;66;03m#  the TypeError.\u001b[39;00m\n\u001b[0;32m   3817\u001b[0m     \u001b[38;5;28mself\u001b[39m\u001b[38;5;241m.\u001b[39m_check_indexing_error(key)\n",
      "\u001b[1;31mKeyError\u001b[0m: 'Agreement with Humans (%)'"
     ]
    }
   ],
   "source": [
    "# Generate bar plot\n",
    "model_direction_data = model_data.copy()\n",
    "model_direction_data['Agreement with Humans (%)'] = (model_direction_data['Agreement with Humans (%)']>0).astype(float)\n",
    "plot_data = model_direction_data.groupby(['Model']).mean().reset_index()\n",
    "fig = px.bar(plot_data,x='Model',color='Model',y='Agreement with Humans (%)',\n",
    "             category_orders={'Model':['Human']+models},\n",
    "             color_discrete_map=utils.model_colors,range_y=[0,1])\n",
    "fig.add_hline(y=0.5, line_dash='dot', line_color=\"black\")\n",
    "fig = utils.format_figure(fig,height=600,width=800,showlegend=False)\n",
    "\n",
    "# Calculate significance & add to plot\n",
    "model_effect_sizes = model_direction_data.groupby(['Model']).sum().reset_index()\n",
    "model_effect_sizes['Count'] = model_direction_data.groupby(['Model']).count().reset_index()['Agreement with Humans (%)']\n",
    "model_effect_sizes['pval'] = binom.sf(model_effect_sizes['Agreement with Humans (%)']-1,model_effect_sizes['Count'],0.5)\n",
    "model_effect_sizes['p_stars'] = model_effect_sizes['pval'].apply(utils.p_to_stars)\n",
    "model_effect_sizes['Bar Height'] = model_effect_sizes['Agreement with Humans (%)']/model_effect_sizes['Count']\n",
    "for model in models:\n",
    "    p_stars = model_effect_sizes[model_effect_sizes['Model']==model]['p_stars'].values[0]\n",
    "    bar_height = model_effect_sizes[model_effect_sizes['Model']==model]['Bar Height'].values[0]\n",
    "    fig.add_annotation(x=model,y=bar_height+0.05,text=p_stars,\n",
    "                       showarrow=False,font=dict(size=16))\n",
    "\n",
    "fig.show()"
   ]
  },
  {
   "cell_type": "code",
   "execution_count": null,
   "metadata": {},
   "outputs": [],
   "source": []
  }
 ],
 "metadata": {
  "kernelspec": {
   "display_name": "Python 3",
   "language": "python",
   "name": "python3"
  },
  "language_info": {
   "codemirror_mode": {
    "name": "ipython",
    "version": 3
   },
   "file_extension": ".py",
   "mimetype": "text/x-python",
   "name": "python",
   "nbconvert_exporter": "python",
   "pygments_lexer": "ipython3",
   "version": "3.10.6"
  }
 },
 "nbformat": 4,
 "nbformat_minor": 2
}
