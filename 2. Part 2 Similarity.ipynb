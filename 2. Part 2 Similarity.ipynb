{
 "cells": [
  {
   "cell_type": "markdown",
   "metadata": {},
   "source": [
    "# Setup & Imports"
   ]
  },
  {
   "cell_type": "code",
   "execution_count": 1,
   "metadata": {},
   "outputs": [],
   "source": [
    "%load_ext autoreload\n",
    "%autoreload 2\n",
    "\n",
    "import warnings\n",
    "warnings.filterwarnings('ignore')\n",
    "\n",
    "import numpy as np\n",
    "import pandas as pd\n",
    "import pingouin as pg\n",
    "import plotly.express as px\n",
    "from scipy.stats import binom\n",
    "\n",
    "import analysis\n",
    "import utils\n",
    "\n",
    "# Load CICO model\n",
    "cico_model, data_loader = utils.load_cico_model(model_type='1and2shot_isc',model_seed=3)"
   ]
  },
  {
   "cell_type": "markdown",
   "metadata": {},
   "source": [
    "# Study 3: In-Category Similarity"
   ]
  },
  {
   "cell_type": "code",
   "execution_count": 4,
   "metadata": {},
   "outputs": [],
   "source": [
    "models = ['ISC-CI','Overlap','Contrast','GPT-3.5','GPT-4']\n",
    "\n",
    "# Load arguments & run models to generate similarity predictions\n",
    "human_data = pd.read_csv('data/similarity_experiments/similarity_in_domain.csv', index_col=0)\n",
    "model_data = human_data.groupby(['Premise 1','Conclusion','Domain']).mean().reset_index()\n",
    "model_data['Premise 2'] = np.nan\n",
    "model_data['Premise 3'] = np.nan\n",
    "model_data = analysis.calc_argument_strength(model_data, cico_model, data_loader)\n",
    "model_data = analysis.calc_argument_strength_overlap(model_data)\n",
    "model_data = analysis.calc_argument_strength_contrast(model_data)\n",
    "# Add LLM predictions\n",
    "llm_data = pd.read_csv('data/similarity_experiments/similarity_in_domain_llm.csv', index_col=0)\n",
    "model_data = model_data.merge(llm_data,left_on=['Premise 1','Conclusion'],right_on=['Premise 1','Conclusion'],how='left')\n",
    "\n",
    "# Run CICO model in reverse direction & take average to get bidirectional similarity score\n",
    "model_data_flipped = model_data.copy(deep=True)\n",
    "model_data_flipped['Premise 1'] = model_data['Conclusion']\n",
    "model_data_flipped['Conclusion'] = model_data['Premise 1']\n",
    "model_data_flipped = analysis.calc_argument_strength(model_data_flipped, cico_model, data_loader)\n",
    "\n",
    "model_data['ISC-CI'] = (1/(1+np.exp(-model_data['CICO'])) + 1/(1+np.exp(-model_data_flipped['CICO'])))/2"
   ]
  },
  {
   "cell_type": "code",
   "execution_count": 8,
   "metadata": {},
   "outputs": [
    {
     "data": {
      "application/vnd.plotly.v1+json": {
       "config": {
        "plotlyServerURL": "https://plot.ly"
       },
       "data": [
        {
         "alignmentgroup": "True",
         "hovertemplate": "Model=Human<br>Category=%{x}<br>Correlation=%{y}<extra></extra>",
         "legendgroup": "Human",
         "line": {
          "width": 4
         },
         "marker": {
          "color": "#D674BB"
         },
         "name": "Human",
         "notched": false,
         "offsetgroup": "Human",
         "orientation": "v",
         "showlegend": true,
         "type": "box",
         "x": [
          "Birds",
          "Birds",
          "Birds",
          "Birds",
          "Birds",
          "Birds",
          "Birds",
          "Birds",
          "Birds",
          "Birds",
          "Birds",
          "Birds",
          "Birds",
          "Birds",
          "Birds",
          "Birds",
          "Birds",
          "Clothing",
          "Clothing",
          "Clothing",
          "Clothing",
          "Clothing",
          "Clothing",
          "Clothing",
          "Clothing",
          "Clothing",
          "Clothing",
          "Clothing",
          "Clothing",
          "Clothing",
          "Clothing",
          "Clothing",
          "Clothing",
          "Clothing",
          "Clothing",
          "Clothing",
          "Clothing",
          "Clothing",
          "Clothing",
          "Clothing",
          "Clothing",
          "Fish",
          "Fish",
          "Fish",
          "Fish",
          "Fish",
          "Fish",
          "Fish",
          "Fish",
          "Fish",
          "Fish",
          "Fish",
          "Fish",
          "Fish",
          "Fish",
          "Fish",
          "Fish",
          "Fish",
          "Insects",
          "Insects",
          "Insects",
          "Insects",
          "Insects",
          "Insects",
          "Insects",
          "Insects",
          "Insects",
          "Insects",
          "Insects",
          "Insects",
          "Insects",
          "Insects",
          "Insects",
          "Insects",
          "Insects",
          "Mammals",
          "Mammals",
          "Mammals",
          "Mammals",
          "Mammals",
          "Mammals",
          "Mammals",
          "Mammals",
          "Mammals",
          "Mammals",
          "Mammals",
          "Mammals",
          "Mammals",
          "Mammals",
          "Mammals",
          "Mammals",
          "Mammals",
          "Mammals",
          "Mammals",
          "Reptiles",
          "Reptiles",
          "Reptiles",
          "Reptiles",
          "Reptiles",
          "Reptiles",
          "Reptiles",
          "Reptiles",
          "Reptiles",
          "Reptiles",
          "Reptiles",
          "Reptiles",
          "Reptiles",
          "Reptiles",
          "Reptiles",
          "Reptiles",
          "Reptiles",
          "Reptiles",
          "Reptiles",
          "Reptiles",
          "Tools",
          "Tools",
          "Tools",
          "Tools",
          "Tools",
          "Tools",
          "Tools",
          "Tools",
          "Tools",
          "Tools",
          "Tools",
          "Tools",
          "Tools",
          "Tools",
          "Tools",
          "Tools",
          "Tools",
          "Tools",
          "Vehicles",
          "Vehicles",
          "Vehicles",
          "Vehicles",
          "Vehicles",
          "Vehicles",
          "Vehicles",
          "Vehicles",
          "Vehicles",
          "Vehicles",
          "Vehicles",
          "Vehicles",
          "Vehicles",
          "Vehicles",
          "Vehicles",
          "Weapons",
          "Weapons",
          "Weapons",
          "Weapons",
          "Weapons",
          "Weapons",
          "Weapons",
          "Weapons",
          "Weapons",
          "Weapons",
          "Weapons",
          "Weapons",
          "Weapons",
          "Weapons",
          "Weapons",
          "Weapons",
          "Weapons",
          "Weapons",
          "Weapons",
          "Weapons",
          "Weapons",
          "Weapons",
          "Weapons",
          "Weapons",
          "Weapons"
         ],
         "x0": " ",
         "xaxis": "x",
         "y": [
          0.6400920774449999,
          0.5572054214226787,
          0.4554763536336538,
          0.4496582573785102,
          0.7434838211314356,
          0.6140978177100586,
          0.5755991220976456,
          0.6635368495491689,
          0.6755244719094234,
          0.6628618909349668,
          0.2482843896147003,
          0.6344722837788193,
          0.41589487048038914,
          0.6131919390338734,
          0.5884900128362103,
          0.5216748673417702,
          0.6058070752159158,
          0.6676229577632368,
          0.04054254696002485,
          -0.002313356650292174,
          0.6802102467370984,
          0.3227809682463468,
          0.23163966548895257,
          0.23596354086785462,
          0.6443118776854712,
          0.6164886887809974,
          0.15440918859215685,
          0.6106704759321143,
          -0.060749925788093406,
          0.7086146384842238,
          0.5088628519314689,
          0.6651023757971425,
          0.6505534994511617,
          0.38007006251464376,
          0.600640081485322,
          0.6247495889107308,
          0.7112547019233684,
          0.24732903978019188,
          0.6027717677972725,
          0.5305574867358221,
          0.4423097790820974,
          0.6123160703674839,
          0.5660725955115619,
          0.4544824546867471,
          0.6864789526471908,
          0.44526155951884383,
          0.13568967437776472,
          0.5664801978889774,
          0.5742254422774508,
          0.2605267465703354,
          0.5100389661935818,
          0.5443828610226582,
          0.6063645848812846,
          0.46554956658428587,
          0.46454620365056126,
          0.05283405116802434,
          0.4978324453402733,
          0.5897101306761152,
          0.6300945066111077,
          0.5137755368919891,
          0.7079182876063989,
          0.4696284356954352,
          0.2687913973342292,
          0.6036323914471778,
          0.6168315967226095,
          0.6884267761604327,
          0.6308127202774078,
          0.7148950214513086,
          0.6425807772731355,
          0.4931200255217362,
          0.35606430656676463,
          0.6293036656712602,
          0.6695459908529288,
          0.5681356692583538,
          -0.10457032113327931,
          0.7385979662756328,
          0.40461261885741046,
          0.09936357036579939,
          0.2608789959208785,
          0.6130804329194341,
          0.5449650961361621,
          0.6751555828902968,
          0.5452958522154071,
          0.5823493306092732,
          0.7279690426403082,
          0.6790013584172732,
          0.665796237838083,
          0.6745612398910998,
          0.467816378407662,
          0.6751871728018232,
          0.7039234416843739,
          0.7215564316964498,
          0.6696507288331733,
          0.7370607441804404,
          0.6832901895336192,
          0.7654087295721353,
          0.5122823223360542,
          0.5236973232064434,
          0.4926721995758425,
          0.6345495434152963,
          0.3901969856903567,
          0.6082459949375912,
          0.47432193989252297,
          0.5000893429375467,
          0.7214475365472487,
          0.6136223491023052,
          0.5706015650872521,
          0.5515626702669222,
          0.5128735734644166,
          0.6235351763407386,
          0.7024498604918451,
          0.3402880235145762,
          0.3982165491130798,
          0.6287905019528996,
          0.4839041799583885,
          0.20202101617192356,
          0.4165299818629794,
          0.5053899775829872,
          0.5703638785516548,
          0.15537227652770094,
          0.39316924422767613,
          0.471470267071155,
          0.5921986095548557,
          0.6868972185749106,
          0.5819554065506938,
          0.5905483879566706,
          0.5159327302746555,
          0.6827576090442778,
          0.711178234093042,
          0.5888380826259975,
          0.6141242282348481,
          0.22363224363192108,
          0.7647391147521867,
          0.7022205916444832,
          0.6202586948131765,
          0.7442825715862706,
          0.7835074602309167,
          0.7266979021544415,
          0.6630871545957533,
          0.7589068605174204,
          0.8344125662537415,
          0.7873835625051638,
          0.7539688160226118,
          0.6995622765992557,
          0.7279175423149385,
          0.8427753487317843,
          0.7576379147241434,
          0.5877816779252836,
          0.33249080458497965,
          0.6991064943373174,
          0.7272690283488538,
          0.7251011942609578,
          0.6034190680909047,
          0.7310283589058073,
          0.3800980545375741,
          0.7460480313467536,
          0.6213554399814809,
          0.6546232843551303,
          0.6808243964202436,
          0.6739430962709877,
          0.4475642306880914,
          0.6913405278348043,
          0.4021607671499328,
          0.604966691715917,
          0.5964340636320902,
          0.5591431258469488,
          0.7741014547619305,
          0.8419360434438056,
          0.6324327324089003,
          0.5256545407001071,
          0.5941087927828177,
          0.6480148083334167
         ],
         "y0": " ",
         "yaxis": "y"
        },
        {
         "alignmentgroup": "True",
         "hovertemplate": "Model=ISC-CI<br>Category=%{x}<br>Correlation=%{y}<extra></extra>",
         "legendgroup": "ISC-CI",
         "line": {
          "width": 4
         },
         "marker": {
          "color": "#6797D5"
         },
         "name": "ISC-CI",
         "notched": false,
         "offsetgroup": "ISC-CI",
         "orientation": "v",
         "showlegend": true,
         "type": "box",
         "x": [
          "Birds",
          "Clothing",
          "Fish",
          "Insects",
          "Mammals",
          "Reptiles",
          "Tools",
          "Vehicles",
          "Weapons"
         ],
         "x0": " ",
         "xaxis": "x",
         "y": [
          0.6287445213646902,
          0.38444801671446915,
          0.6234832939700525,
          0.36999223050968166,
          0.5735815788544981,
          0.6653972079194387,
          0.43788591987250797,
          0.7368284606389681,
          0.6475648162928654
         ],
         "y0": " ",
         "yaxis": "y"
        },
        {
         "alignmentgroup": "True",
         "hovertemplate": "Model=Overlap<br>Category=%{x}<br>Correlation=%{y}<extra></extra>",
         "legendgroup": "Overlap",
         "line": {
          "width": 4
         },
         "marker": {
          "color": "#7DA381"
         },
         "name": "Overlap",
         "notched": false,
         "offsetgroup": "Overlap",
         "orientation": "v",
         "showlegend": true,
         "type": "box",
         "x": [
          "Birds",
          "Clothing",
          "Fish",
          "Insects",
          "Mammals",
          "Reptiles",
          "Tools",
          "Vehicles",
          "Weapons"
         ],
         "x0": " ",
         "xaxis": "x",
         "y": [
          0.7203342961287127,
          0.6205820993090144,
          0.5614723386455643,
          0.5973421083097857,
          0.6971466929491688,
          0.6849164326742297,
          0.46831137848923376,
          0.6236663224821093,
          0.7174062611382923
         ],
         "y0": " ",
         "yaxis": "y"
        },
        {
         "alignmentgroup": "True",
         "hovertemplate": "Model=Contrast<br>Category=%{x}<br>Correlation=%{y}<extra></extra>",
         "legendgroup": "Contrast",
         "line": {
          "width": 4
         },
         "marker": {
          "color": "#a1d13a"
         },
         "name": "Contrast",
         "notched": false,
         "offsetgroup": "Contrast",
         "orientation": "v",
         "showlegend": true,
         "type": "box",
         "x": [
          "Birds",
          "Clothing",
          "Fish",
          "Insects",
          "Mammals",
          "Reptiles",
          "Tools",
          "Vehicles",
          "Weapons"
         ],
         "x0": " ",
         "xaxis": "x",
         "y": [
          0.7231982325075147,
          0.5998493668976348,
          0.5980745186578827,
          0.6601839612771963,
          0.687843093482964,
          0.7552478216361812,
          0.5573124604131184,
          0.5907230326334333,
          0.729827291800198
         ],
         "y0": " ",
         "yaxis": "y"
        },
        {
         "alignmentgroup": "True",
         "hovertemplate": "Model=GPT-3.5<br>Category=%{x}<br>Correlation=%{y}<extra></extra>",
         "legendgroup": "GPT-3.5",
         "line": {
          "width": 4
         },
         "marker": {
          "color": "#F4A24C"
         },
         "name": "GPT-3.5",
         "notched": false,
         "offsetgroup": "GPT-3.5",
         "orientation": "v",
         "showlegend": true,
         "type": "box",
         "x": [
          "Birds",
          "Clothing",
          "Fish",
          "Insects",
          "Mammals",
          "Reptiles",
          "Tools",
          "Vehicles",
          "Weapons"
         ],
         "x0": " ",
         "xaxis": "x",
         "y": [
          0.6424832900171794,
          0.6267128921581661,
          0.6481553216916965,
          0.6008009545593405,
          0.768716687489343,
          0.6357880544468825,
          0.5718156697120332,
          0.7962733157265115,
          0.7210199121947122
         ],
         "y0": " ",
         "yaxis": "y"
        },
        {
         "alignmentgroup": "True",
         "hovertemplate": "Model=GPT-4<br>Category=%{x}<br>Correlation=%{y}<extra></extra>",
         "legendgroup": "GPT-4",
         "line": {
          "width": 4
         },
         "marker": {
          "color": "#F48777"
         },
         "name": "GPT-4",
         "notched": false,
         "offsetgroup": "GPT-4",
         "orientation": "v",
         "showlegend": true,
         "type": "box",
         "x": [
          "Birds",
          "Clothing",
          "Fish",
          "Insects",
          "Mammals",
          "Reptiles",
          "Tools",
          "Vehicles",
          "Weapons"
         ],
         "x0": " ",
         "xaxis": "x",
         "y": [
          0.6914601182924355,
          0.7403385477842592,
          0.6989005330559778,
          0.6674821051787981,
          0.811978284115208,
          0.7363259168758362,
          0.6827518689812234,
          0.8634408013224993,
          0.8751112846444898
         ],
         "y0": " ",
         "yaxis": "y"
        }
       ],
       "layout": {
        "boxgap": 0.3,
        "boxgroupgap": 0.15,
        "boxmode": "group",
        "height": 600,
        "legend": {
         "font": {
          "size": 15
         },
         "orientation": "h",
         "title": {
          "text": ""
         },
         "tracegroupgap": 0,
         "x": 0.99,
         "xanchor": "right",
         "y": 0.99,
         "yanchor": "top"
        },
        "margin": {
         "t": 60
        },
        "plot_bgcolor": "white",
        "shapes": [
         {
          "line": {
           "color": "black",
           "dash": "dot"
          },
          "type": "line",
          "x0": 0,
          "x1": 1,
          "xref": "x domain",
          "y0": 0,
          "y1": 0,
          "yref": "y"
         }
        ],
        "template": {
         "data": {
          "bar": [
           {
            "error_x": {
             "color": "#2a3f5f"
            },
            "error_y": {
             "color": "#2a3f5f"
            },
            "marker": {
             "line": {
              "color": "#E5ECF6",
              "width": 0.5
             },
             "pattern": {
              "fillmode": "overlay",
              "size": 10,
              "solidity": 0.2
             }
            },
            "type": "bar"
           }
          ],
          "barpolar": [
           {
            "marker": {
             "line": {
              "color": "#E5ECF6",
              "width": 0.5
             },
             "pattern": {
              "fillmode": "overlay",
              "size": 10,
              "solidity": 0.2
             }
            },
            "type": "barpolar"
           }
          ],
          "carpet": [
           {
            "aaxis": {
             "endlinecolor": "#2a3f5f",
             "gridcolor": "white",
             "linecolor": "white",
             "minorgridcolor": "white",
             "startlinecolor": "#2a3f5f"
            },
            "baxis": {
             "endlinecolor": "#2a3f5f",
             "gridcolor": "white",
             "linecolor": "white",
             "minorgridcolor": "white",
             "startlinecolor": "#2a3f5f"
            },
            "type": "carpet"
           }
          ],
          "choropleth": [
           {
            "colorbar": {
             "outlinewidth": 0,
             "ticks": ""
            },
            "type": "choropleth"
           }
          ],
          "contour": [
           {
            "colorbar": {
             "outlinewidth": 0,
             "ticks": ""
            },
            "colorscale": [
             [
              0,
              "#0d0887"
             ],
             [
              0.1111111111111111,
              "#46039f"
             ],
             [
              0.2222222222222222,
              "#7201a8"
             ],
             [
              0.3333333333333333,
              "#9c179e"
             ],
             [
              0.4444444444444444,
              "#bd3786"
             ],
             [
              0.5555555555555556,
              "#d8576b"
             ],
             [
              0.6666666666666666,
              "#ed7953"
             ],
             [
              0.7777777777777778,
              "#fb9f3a"
             ],
             [
              0.8888888888888888,
              "#fdca26"
             ],
             [
              1,
              "#f0f921"
             ]
            ],
            "type": "contour"
           }
          ],
          "contourcarpet": [
           {
            "colorbar": {
             "outlinewidth": 0,
             "ticks": ""
            },
            "type": "contourcarpet"
           }
          ],
          "heatmap": [
           {
            "colorbar": {
             "outlinewidth": 0,
             "ticks": ""
            },
            "colorscale": [
             [
              0,
              "#0d0887"
             ],
             [
              0.1111111111111111,
              "#46039f"
             ],
             [
              0.2222222222222222,
              "#7201a8"
             ],
             [
              0.3333333333333333,
              "#9c179e"
             ],
             [
              0.4444444444444444,
              "#bd3786"
             ],
             [
              0.5555555555555556,
              "#d8576b"
             ],
             [
              0.6666666666666666,
              "#ed7953"
             ],
             [
              0.7777777777777778,
              "#fb9f3a"
             ],
             [
              0.8888888888888888,
              "#fdca26"
             ],
             [
              1,
              "#f0f921"
             ]
            ],
            "type": "heatmap"
           }
          ],
          "heatmapgl": [
           {
            "colorbar": {
             "outlinewidth": 0,
             "ticks": ""
            },
            "colorscale": [
             [
              0,
              "#0d0887"
             ],
             [
              0.1111111111111111,
              "#46039f"
             ],
             [
              0.2222222222222222,
              "#7201a8"
             ],
             [
              0.3333333333333333,
              "#9c179e"
             ],
             [
              0.4444444444444444,
              "#bd3786"
             ],
             [
              0.5555555555555556,
              "#d8576b"
             ],
             [
              0.6666666666666666,
              "#ed7953"
             ],
             [
              0.7777777777777778,
              "#fb9f3a"
             ],
             [
              0.8888888888888888,
              "#fdca26"
             ],
             [
              1,
              "#f0f921"
             ]
            ],
            "type": "heatmapgl"
           }
          ],
          "histogram": [
           {
            "marker": {
             "pattern": {
              "fillmode": "overlay",
              "size": 10,
              "solidity": 0.2
             }
            },
            "type": "histogram"
           }
          ],
          "histogram2d": [
           {
            "colorbar": {
             "outlinewidth": 0,
             "ticks": ""
            },
            "colorscale": [
             [
              0,
              "#0d0887"
             ],
             [
              0.1111111111111111,
              "#46039f"
             ],
             [
              0.2222222222222222,
              "#7201a8"
             ],
             [
              0.3333333333333333,
              "#9c179e"
             ],
             [
              0.4444444444444444,
              "#bd3786"
             ],
             [
              0.5555555555555556,
              "#d8576b"
             ],
             [
              0.6666666666666666,
              "#ed7953"
             ],
             [
              0.7777777777777778,
              "#fb9f3a"
             ],
             [
              0.8888888888888888,
              "#fdca26"
             ],
             [
              1,
              "#f0f921"
             ]
            ],
            "type": "histogram2d"
           }
          ],
          "histogram2dcontour": [
           {
            "colorbar": {
             "outlinewidth": 0,
             "ticks": ""
            },
            "colorscale": [
             [
              0,
              "#0d0887"
             ],
             [
              0.1111111111111111,
              "#46039f"
             ],
             [
              0.2222222222222222,
              "#7201a8"
             ],
             [
              0.3333333333333333,
              "#9c179e"
             ],
             [
              0.4444444444444444,
              "#bd3786"
             ],
             [
              0.5555555555555556,
              "#d8576b"
             ],
             [
              0.6666666666666666,
              "#ed7953"
             ],
             [
              0.7777777777777778,
              "#fb9f3a"
             ],
             [
              0.8888888888888888,
              "#fdca26"
             ],
             [
              1,
              "#f0f921"
             ]
            ],
            "type": "histogram2dcontour"
           }
          ],
          "mesh3d": [
           {
            "colorbar": {
             "outlinewidth": 0,
             "ticks": ""
            },
            "type": "mesh3d"
           }
          ],
          "parcoords": [
           {
            "line": {
             "colorbar": {
              "outlinewidth": 0,
              "ticks": ""
             }
            },
            "type": "parcoords"
           }
          ],
          "pie": [
           {
            "automargin": true,
            "type": "pie"
           }
          ],
          "scatter": [
           {
            "fillpattern": {
             "fillmode": "overlay",
             "size": 10,
             "solidity": 0.2
            },
            "type": "scatter"
           }
          ],
          "scatter3d": [
           {
            "line": {
             "colorbar": {
              "outlinewidth": 0,
              "ticks": ""
             }
            },
            "marker": {
             "colorbar": {
              "outlinewidth": 0,
              "ticks": ""
             }
            },
            "type": "scatter3d"
           }
          ],
          "scattercarpet": [
           {
            "marker": {
             "colorbar": {
              "outlinewidth": 0,
              "ticks": ""
             }
            },
            "type": "scattercarpet"
           }
          ],
          "scattergeo": [
           {
            "marker": {
             "colorbar": {
              "outlinewidth": 0,
              "ticks": ""
             }
            },
            "type": "scattergeo"
           }
          ],
          "scattergl": [
           {
            "marker": {
             "colorbar": {
              "outlinewidth": 0,
              "ticks": ""
             }
            },
            "type": "scattergl"
           }
          ],
          "scattermapbox": [
           {
            "marker": {
             "colorbar": {
              "outlinewidth": 0,
              "ticks": ""
             }
            },
            "type": "scattermapbox"
           }
          ],
          "scatterpolar": [
           {
            "marker": {
             "colorbar": {
              "outlinewidth": 0,
              "ticks": ""
             }
            },
            "type": "scatterpolar"
           }
          ],
          "scatterpolargl": [
           {
            "marker": {
             "colorbar": {
              "outlinewidth": 0,
              "ticks": ""
             }
            },
            "type": "scatterpolargl"
           }
          ],
          "scatterternary": [
           {
            "marker": {
             "colorbar": {
              "outlinewidth": 0,
              "ticks": ""
             }
            },
            "type": "scatterternary"
           }
          ],
          "surface": [
           {
            "colorbar": {
             "outlinewidth": 0,
             "ticks": ""
            },
            "colorscale": [
             [
              0,
              "#0d0887"
             ],
             [
              0.1111111111111111,
              "#46039f"
             ],
             [
              0.2222222222222222,
              "#7201a8"
             ],
             [
              0.3333333333333333,
              "#9c179e"
             ],
             [
              0.4444444444444444,
              "#bd3786"
             ],
             [
              0.5555555555555556,
              "#d8576b"
             ],
             [
              0.6666666666666666,
              "#ed7953"
             ],
             [
              0.7777777777777778,
              "#fb9f3a"
             ],
             [
              0.8888888888888888,
              "#fdca26"
             ],
             [
              1,
              "#f0f921"
             ]
            ],
            "type": "surface"
           }
          ],
          "table": [
           {
            "cells": {
             "fill": {
              "color": "#EBF0F8"
             },
             "line": {
              "color": "white"
             }
            },
            "header": {
             "fill": {
              "color": "#C8D4E3"
             },
             "line": {
              "color": "white"
             }
            },
            "type": "table"
           }
          ]
         },
         "layout": {
          "annotationdefaults": {
           "arrowcolor": "#2a3f5f",
           "arrowhead": 0,
           "arrowwidth": 1
          },
          "autotypenumbers": "strict",
          "coloraxis": {
           "colorbar": {
            "outlinewidth": 0,
            "ticks": ""
           }
          },
          "colorscale": {
           "diverging": [
            [
             0,
             "#8e0152"
            ],
            [
             0.1,
             "#c51b7d"
            ],
            [
             0.2,
             "#de77ae"
            ],
            [
             0.3,
             "#f1b6da"
            ],
            [
             0.4,
             "#fde0ef"
            ],
            [
             0.5,
             "#f7f7f7"
            ],
            [
             0.6,
             "#e6f5d0"
            ],
            [
             0.7,
             "#b8e186"
            ],
            [
             0.8,
             "#7fbc41"
            ],
            [
             0.9,
             "#4d9221"
            ],
            [
             1,
             "#276419"
            ]
           ],
           "sequential": [
            [
             0,
             "#0d0887"
            ],
            [
             0.1111111111111111,
             "#46039f"
            ],
            [
             0.2222222222222222,
             "#7201a8"
            ],
            [
             0.3333333333333333,
             "#9c179e"
            ],
            [
             0.4444444444444444,
             "#bd3786"
            ],
            [
             0.5555555555555556,
             "#d8576b"
            ],
            [
             0.6666666666666666,
             "#ed7953"
            ],
            [
             0.7777777777777778,
             "#fb9f3a"
            ],
            [
             0.8888888888888888,
             "#fdca26"
            ],
            [
             1,
             "#f0f921"
            ]
           ],
           "sequentialminus": [
            [
             0,
             "#0d0887"
            ],
            [
             0.1111111111111111,
             "#46039f"
            ],
            [
             0.2222222222222222,
             "#7201a8"
            ],
            [
             0.3333333333333333,
             "#9c179e"
            ],
            [
             0.4444444444444444,
             "#bd3786"
            ],
            [
             0.5555555555555556,
             "#d8576b"
            ],
            [
             0.6666666666666666,
             "#ed7953"
            ],
            [
             0.7777777777777778,
             "#fb9f3a"
            ],
            [
             0.8888888888888888,
             "#fdca26"
            ],
            [
             1,
             "#f0f921"
            ]
           ]
          },
          "colorway": [
           "#636efa",
           "#EF553B",
           "#00cc96",
           "#ab63fa",
           "#FFA15A",
           "#19d3f3",
           "#FF6692",
           "#B6E880",
           "#FF97FF",
           "#FECB52"
          ],
          "font": {
           "color": "#2a3f5f"
          },
          "geo": {
           "bgcolor": "white",
           "lakecolor": "white",
           "landcolor": "#E5ECF6",
           "showlakes": true,
           "showland": true,
           "subunitcolor": "white"
          },
          "hoverlabel": {
           "align": "left"
          },
          "hovermode": "closest",
          "mapbox": {
           "style": "light"
          },
          "paper_bgcolor": "white",
          "plot_bgcolor": "#E5ECF6",
          "polar": {
           "angularaxis": {
            "gridcolor": "white",
            "linecolor": "white",
            "ticks": ""
           },
           "bgcolor": "#E5ECF6",
           "radialaxis": {
            "gridcolor": "white",
            "linecolor": "white",
            "ticks": ""
           }
          },
          "scene": {
           "xaxis": {
            "backgroundcolor": "#E5ECF6",
            "gridcolor": "white",
            "gridwidth": 2,
            "linecolor": "white",
            "showbackground": true,
            "ticks": "",
            "zerolinecolor": "white"
           },
           "yaxis": {
            "backgroundcolor": "#E5ECF6",
            "gridcolor": "white",
            "gridwidth": 2,
            "linecolor": "white",
            "showbackground": true,
            "ticks": "",
            "zerolinecolor": "white"
           },
           "zaxis": {
            "backgroundcolor": "#E5ECF6",
            "gridcolor": "white",
            "gridwidth": 2,
            "linecolor": "white",
            "showbackground": true,
            "ticks": "",
            "zerolinecolor": "white"
           }
          },
          "shapedefaults": {
           "line": {
            "color": "#2a3f5f"
           }
          },
          "ternary": {
           "aaxis": {
            "gridcolor": "white",
            "linecolor": "white",
            "ticks": ""
           },
           "baxis": {
            "gridcolor": "white",
            "linecolor": "white",
            "ticks": ""
           },
           "bgcolor": "#E5ECF6",
           "caxis": {
            "gridcolor": "white",
            "linecolor": "white",
            "ticks": ""
           }
          },
          "title": {
           "x": 0.05
          },
          "xaxis": {
           "automargin": true,
           "gridcolor": "white",
           "linecolor": "white",
           "ticks": "",
           "title": {
            "standoff": 15
           },
           "zerolinecolor": "white",
           "zerolinewidth": 2
          },
          "yaxis": {
           "automargin": true,
           "gridcolor": "white",
           "linecolor": "white",
           "ticks": "",
           "title": {
            "standoff": 15
           },
           "zerolinecolor": "white",
           "zerolinewidth": 2
          }
         }
        },
        "width": 1400,
        "xaxis": {
         "anchor": "y",
         "domain": [
          0,
          1
         ],
         "linecolor": "black",
         "linewidth": 1.5,
         "mirror": true,
         "showgrid": false,
         "showline": true,
         "tickfont": {
          "size": 20
         },
         "ticks": "outside",
         "title": {
          "font": {
           "size": 24
          },
          "text": "Category"
         }
        },
        "yaxis": {
         "anchor": "x",
         "domain": [
          0,
          1
         ],
         "linecolor": "black",
         "linewidth": 1.5,
         "mirror": true,
         "range": [
          -0.12,
          1
         ],
         "showgrid": false,
         "showline": true,
         "tickfont": {
          "size": 20
         },
         "ticks": "outside",
         "title": {
          "font": {
           "size": 24
          },
          "text": "Correlation"
         }
        }
       }
      }
     },
     "metadata": {},
     "output_type": "display_data"
    }
   ],
   "source": [
    "# Calculate pearson correlation between model & human similarity ratings within each dataset\n",
    "model_plot_data = model_data.groupby(['Domain']).corr('pearson')[['Normalized Similarity']].reset_index().melt(id_vars=['Domain','level_1']).rename(columns={'level_1':'Model','value':'Correlation'})\n",
    "model_plot_data = model_plot_data[model_plot_data['Model'].isin(models)]\n",
    "# Calculate pearson correlations between each individual human and the mean human within each dataset\n",
    "human_plot_data = []\n",
    "for group_name, group in human_data.groupby(['Domain']):\n",
    "    mean_similarity = group.groupby(['Premise 1','Conclusion']).sum()['Normalized Similarity'].values\n",
    "    for participant_number in group['participant_id'].unique():\n",
    "        participant_similarity = group[group['participant_id']==participant_number].groupby(['Premise 1','Conclusion']).mean()['Normalized Similarity'].values\n",
    "        corr = utils.nansafe_correlation(participant_similarity,mean_similarity-participant_similarity)[0]\n",
    "        human_plot_data.append({'Correlation':corr,'participant_id':participant_number,'Domain':group_name})\n",
    "human_plot_data = pd.DataFrame(human_plot_data)\n",
    "# Merge model & human data\n",
    "model_plot_data['participant_id'] = 0\n",
    "human_plot_data['Model'] = 'Human'\n",
    "plot_data = pd.concat([model_plot_data,human_plot_data],ignore_index=True)\n",
    "\n",
    "# Plot correlations\n",
    "plot_data = plot_data.rename(columns={'Domain':'Category'})\n",
    "fig = px.box(plot_data,x='Category',color='Model',y='Correlation',\n",
    "             category_orders={'Model':['Human']+models},\n",
    "             color_discrete_map=utils.model_colors,range_y=[-.12,1])\n",
    "fig = utils.format_figure(fig,height=600,width=600)\n",
    "fig.add_hline(y=0, line_dash='dot', line_color=\"black\")\n",
    "fig.update_traces(line=dict(width=4))\n",
    "fig = utils.format_figure(fig,width=1400,height=600)\n",
    "fig.update_layout(legend=dict(title='',orientation='h',yanchor='top',y=0.99,xanchor='right',x=0.99,\n",
    "                              font=dict(size=15)))\n",
    "fig.update_layout(boxgap=0.3,boxgroupgap=0.15)\n",
    "fig.show()"
   ]
  },
  {
   "cell_type": "markdown",
   "metadata": {},
   "source": [
    "# Study 4: Context Effects in Similarity Judgments"
   ]
  },
  {
   "cell_type": "markdown",
   "metadata": {},
   "source": [
    "## Asymmetry"
   ]
  },
  {
   "cell_type": "code",
   "execution_count": 17,
   "metadata": {},
   "outputs": [
    {
     "data": {
      "application/vnd.plotly.v1+json": {
       "config": {
        "plotlyServerURL": "https://plot.ly"
       },
       "data": [
        {
         "alignmentgroup": "True",
         "hovertemplate": "Model=%{x}<br>Agreement with Humans (%)=%{y}<extra></extra>",
         "legendgroup": "ISC-CI",
         "marker": {
          "color": "#6797D5",
          "pattern": {
           "shape": ""
          }
         },
         "name": "ISC-CI",
         "offsetgroup": "ISC-CI",
         "orientation": "v",
         "showlegend": true,
         "textposition": "auto",
         "type": "bar",
         "x": [
          "ISC-CI"
         ],
         "xaxis": "x",
         "y": [
          0.7647058823529411
         ],
         "yaxis": "y"
        },
        {
         "alignmentgroup": "True",
         "hovertemplate": "Model=%{x}<br>Agreement with Humans (%)=%{y}<extra></extra>",
         "legendgroup": "Contrast",
         "marker": {
          "color": "#a1d13a",
          "pattern": {
           "shape": ""
          }
         },
         "name": "Contrast",
         "offsetgroup": "Contrast",
         "orientation": "v",
         "showlegend": true,
         "textposition": "auto",
         "type": "bar",
         "x": [
          "Contrast"
         ],
         "xaxis": "x",
         "y": [
          0.8823529411764706
         ],
         "yaxis": "y"
        },
        {
         "alignmentgroup": "True",
         "hovertemplate": "Model=%{x}<br>Agreement with Humans (%)=%{y}<extra></extra>",
         "legendgroup": "GPT-3.5",
         "marker": {
          "color": "#F4A24C",
          "pattern": {
           "shape": ""
          }
         },
         "name": "GPT-3.5",
         "offsetgroup": "GPT-3.5",
         "orientation": "v",
         "showlegend": true,
         "textposition": "auto",
         "type": "bar",
         "x": [
          "GPT-3.5"
         ],
         "xaxis": "x",
         "y": [
          0.5588235294117647
         ],
         "yaxis": "y"
        },
        {
         "alignmentgroup": "True",
         "hovertemplate": "Model=%{x}<br>Agreement with Humans (%)=%{y}<extra></extra>",
         "legendgroup": "GPT-4",
         "marker": {
          "color": "#F48777",
          "pattern": {
           "shape": ""
          }
         },
         "name": "GPT-4",
         "offsetgroup": "GPT-4",
         "orientation": "v",
         "showlegend": true,
         "textposition": "auto",
         "type": "bar",
         "x": [
          "GPT-4"
         ],
         "xaxis": "x",
         "y": [
          0.8529411764705882
         ],
         "yaxis": "y"
        }
       ],
       "layout": {
        "annotations": [
         {
          "font": {
           "size": 16
          },
          "showarrow": false,
          "text": "**",
          "x": "ISC-CI",
          "y": 0.8147058823529412
         },
         {
          "font": {
           "size": 16
          },
          "showarrow": false,
          "text": "***",
          "x": "Contrast",
          "y": 0.9323529411764706
         },
         {
          "font": {
           "size": 16
          },
          "showarrow": false,
          "text": "n.s.",
          "x": "GPT-3.5",
          "y": 0.6088235294117648
         },
         {
          "font": {
           "size": 16
          },
          "showarrow": false,
          "text": "***",
          "x": "GPT-4",
          "y": 0.9029411764705882
         }
        ],
        "barmode": "relative",
        "height": 600,
        "legend": {
         "title": {
          "text": "Model"
         },
         "tracegroupgap": 0
        },
        "margin": {
         "t": 60
        },
        "plot_bgcolor": "white",
        "shapes": [
         {
          "line": {
           "color": "black",
           "dash": "dot"
          },
          "type": "line",
          "x0": 0,
          "x1": 1,
          "xref": "x domain",
          "y0": 0.56,
          "y1": 0.56,
          "yref": "y"
         }
        ],
        "showlegend": false,
        "template": {
         "data": {
          "bar": [
           {
            "error_x": {
             "color": "#2a3f5f"
            },
            "error_y": {
             "color": "#2a3f5f"
            },
            "marker": {
             "line": {
              "color": "#E5ECF6",
              "width": 0.5
             },
             "pattern": {
              "fillmode": "overlay",
              "size": 10,
              "solidity": 0.2
             }
            },
            "type": "bar"
           }
          ],
          "barpolar": [
           {
            "marker": {
             "line": {
              "color": "#E5ECF6",
              "width": 0.5
             },
             "pattern": {
              "fillmode": "overlay",
              "size": 10,
              "solidity": 0.2
             }
            },
            "type": "barpolar"
           }
          ],
          "carpet": [
           {
            "aaxis": {
             "endlinecolor": "#2a3f5f",
             "gridcolor": "white",
             "linecolor": "white",
             "minorgridcolor": "white",
             "startlinecolor": "#2a3f5f"
            },
            "baxis": {
             "endlinecolor": "#2a3f5f",
             "gridcolor": "white",
             "linecolor": "white",
             "minorgridcolor": "white",
             "startlinecolor": "#2a3f5f"
            },
            "type": "carpet"
           }
          ],
          "choropleth": [
           {
            "colorbar": {
             "outlinewidth": 0,
             "ticks": ""
            },
            "type": "choropleth"
           }
          ],
          "contour": [
           {
            "colorbar": {
             "outlinewidth": 0,
             "ticks": ""
            },
            "colorscale": [
             [
              0,
              "#0d0887"
             ],
             [
              0.1111111111111111,
              "#46039f"
             ],
             [
              0.2222222222222222,
              "#7201a8"
             ],
             [
              0.3333333333333333,
              "#9c179e"
             ],
             [
              0.4444444444444444,
              "#bd3786"
             ],
             [
              0.5555555555555556,
              "#d8576b"
             ],
             [
              0.6666666666666666,
              "#ed7953"
             ],
             [
              0.7777777777777778,
              "#fb9f3a"
             ],
             [
              0.8888888888888888,
              "#fdca26"
             ],
             [
              1,
              "#f0f921"
             ]
            ],
            "type": "contour"
           }
          ],
          "contourcarpet": [
           {
            "colorbar": {
             "outlinewidth": 0,
             "ticks": ""
            },
            "type": "contourcarpet"
           }
          ],
          "heatmap": [
           {
            "colorbar": {
             "outlinewidth": 0,
             "ticks": ""
            },
            "colorscale": [
             [
              0,
              "#0d0887"
             ],
             [
              0.1111111111111111,
              "#46039f"
             ],
             [
              0.2222222222222222,
              "#7201a8"
             ],
             [
              0.3333333333333333,
              "#9c179e"
             ],
             [
              0.4444444444444444,
              "#bd3786"
             ],
             [
              0.5555555555555556,
              "#d8576b"
             ],
             [
              0.6666666666666666,
              "#ed7953"
             ],
             [
              0.7777777777777778,
              "#fb9f3a"
             ],
             [
              0.8888888888888888,
              "#fdca26"
             ],
             [
              1,
              "#f0f921"
             ]
            ],
            "type": "heatmap"
           }
          ],
          "heatmapgl": [
           {
            "colorbar": {
             "outlinewidth": 0,
             "ticks": ""
            },
            "colorscale": [
             [
              0,
              "#0d0887"
             ],
             [
              0.1111111111111111,
              "#46039f"
             ],
             [
              0.2222222222222222,
              "#7201a8"
             ],
             [
              0.3333333333333333,
              "#9c179e"
             ],
             [
              0.4444444444444444,
              "#bd3786"
             ],
             [
              0.5555555555555556,
              "#d8576b"
             ],
             [
              0.6666666666666666,
              "#ed7953"
             ],
             [
              0.7777777777777778,
              "#fb9f3a"
             ],
             [
              0.8888888888888888,
              "#fdca26"
             ],
             [
              1,
              "#f0f921"
             ]
            ],
            "type": "heatmapgl"
           }
          ],
          "histogram": [
           {
            "marker": {
             "pattern": {
              "fillmode": "overlay",
              "size": 10,
              "solidity": 0.2
             }
            },
            "type": "histogram"
           }
          ],
          "histogram2d": [
           {
            "colorbar": {
             "outlinewidth": 0,
             "ticks": ""
            },
            "colorscale": [
             [
              0,
              "#0d0887"
             ],
             [
              0.1111111111111111,
              "#46039f"
             ],
             [
              0.2222222222222222,
              "#7201a8"
             ],
             [
              0.3333333333333333,
              "#9c179e"
             ],
             [
              0.4444444444444444,
              "#bd3786"
             ],
             [
              0.5555555555555556,
              "#d8576b"
             ],
             [
              0.6666666666666666,
              "#ed7953"
             ],
             [
              0.7777777777777778,
              "#fb9f3a"
             ],
             [
              0.8888888888888888,
              "#fdca26"
             ],
             [
              1,
              "#f0f921"
             ]
            ],
            "type": "histogram2d"
           }
          ],
          "histogram2dcontour": [
           {
            "colorbar": {
             "outlinewidth": 0,
             "ticks": ""
            },
            "colorscale": [
             [
              0,
              "#0d0887"
             ],
             [
              0.1111111111111111,
              "#46039f"
             ],
             [
              0.2222222222222222,
              "#7201a8"
             ],
             [
              0.3333333333333333,
              "#9c179e"
             ],
             [
              0.4444444444444444,
              "#bd3786"
             ],
             [
              0.5555555555555556,
              "#d8576b"
             ],
             [
              0.6666666666666666,
              "#ed7953"
             ],
             [
              0.7777777777777778,
              "#fb9f3a"
             ],
             [
              0.8888888888888888,
              "#fdca26"
             ],
             [
              1,
              "#f0f921"
             ]
            ],
            "type": "histogram2dcontour"
           }
          ],
          "mesh3d": [
           {
            "colorbar": {
             "outlinewidth": 0,
             "ticks": ""
            },
            "type": "mesh3d"
           }
          ],
          "parcoords": [
           {
            "line": {
             "colorbar": {
              "outlinewidth": 0,
              "ticks": ""
             }
            },
            "type": "parcoords"
           }
          ],
          "pie": [
           {
            "automargin": true,
            "type": "pie"
           }
          ],
          "scatter": [
           {
            "fillpattern": {
             "fillmode": "overlay",
             "size": 10,
             "solidity": 0.2
            },
            "type": "scatter"
           }
          ],
          "scatter3d": [
           {
            "line": {
             "colorbar": {
              "outlinewidth": 0,
              "ticks": ""
             }
            },
            "marker": {
             "colorbar": {
              "outlinewidth": 0,
              "ticks": ""
             }
            },
            "type": "scatter3d"
           }
          ],
          "scattercarpet": [
           {
            "marker": {
             "colorbar": {
              "outlinewidth": 0,
              "ticks": ""
             }
            },
            "type": "scattercarpet"
           }
          ],
          "scattergeo": [
           {
            "marker": {
             "colorbar": {
              "outlinewidth": 0,
              "ticks": ""
             }
            },
            "type": "scattergeo"
           }
          ],
          "scattergl": [
           {
            "marker": {
             "colorbar": {
              "outlinewidth": 0,
              "ticks": ""
             }
            },
            "type": "scattergl"
           }
          ],
          "scattermapbox": [
           {
            "marker": {
             "colorbar": {
              "outlinewidth": 0,
              "ticks": ""
             }
            },
            "type": "scattermapbox"
           }
          ],
          "scatterpolar": [
           {
            "marker": {
             "colorbar": {
              "outlinewidth": 0,
              "ticks": ""
             }
            },
            "type": "scatterpolar"
           }
          ],
          "scatterpolargl": [
           {
            "marker": {
             "colorbar": {
              "outlinewidth": 0,
              "ticks": ""
             }
            },
            "type": "scatterpolargl"
           }
          ],
          "scatterternary": [
           {
            "marker": {
             "colorbar": {
              "outlinewidth": 0,
              "ticks": ""
             }
            },
            "type": "scatterternary"
           }
          ],
          "surface": [
           {
            "colorbar": {
             "outlinewidth": 0,
             "ticks": ""
            },
            "colorscale": [
             [
              0,
              "#0d0887"
             ],
             [
              0.1111111111111111,
              "#46039f"
             ],
             [
              0.2222222222222222,
              "#7201a8"
             ],
             [
              0.3333333333333333,
              "#9c179e"
             ],
             [
              0.4444444444444444,
              "#bd3786"
             ],
             [
              0.5555555555555556,
              "#d8576b"
             ],
             [
              0.6666666666666666,
              "#ed7953"
             ],
             [
              0.7777777777777778,
              "#fb9f3a"
             ],
             [
              0.8888888888888888,
              "#fdca26"
             ],
             [
              1,
              "#f0f921"
             ]
            ],
            "type": "surface"
           }
          ],
          "table": [
           {
            "cells": {
             "fill": {
              "color": "#EBF0F8"
             },
             "line": {
              "color": "white"
             }
            },
            "header": {
             "fill": {
              "color": "#C8D4E3"
             },
             "line": {
              "color": "white"
             }
            },
            "type": "table"
           }
          ]
         },
         "layout": {
          "annotationdefaults": {
           "arrowcolor": "#2a3f5f",
           "arrowhead": 0,
           "arrowwidth": 1
          },
          "autotypenumbers": "strict",
          "coloraxis": {
           "colorbar": {
            "outlinewidth": 0,
            "ticks": ""
           }
          },
          "colorscale": {
           "diverging": [
            [
             0,
             "#8e0152"
            ],
            [
             0.1,
             "#c51b7d"
            ],
            [
             0.2,
             "#de77ae"
            ],
            [
             0.3,
             "#f1b6da"
            ],
            [
             0.4,
             "#fde0ef"
            ],
            [
             0.5,
             "#f7f7f7"
            ],
            [
             0.6,
             "#e6f5d0"
            ],
            [
             0.7,
             "#b8e186"
            ],
            [
             0.8,
             "#7fbc41"
            ],
            [
             0.9,
             "#4d9221"
            ],
            [
             1,
             "#276419"
            ]
           ],
           "sequential": [
            [
             0,
             "#0d0887"
            ],
            [
             0.1111111111111111,
             "#46039f"
            ],
            [
             0.2222222222222222,
             "#7201a8"
            ],
            [
             0.3333333333333333,
             "#9c179e"
            ],
            [
             0.4444444444444444,
             "#bd3786"
            ],
            [
             0.5555555555555556,
             "#d8576b"
            ],
            [
             0.6666666666666666,
             "#ed7953"
            ],
            [
             0.7777777777777778,
             "#fb9f3a"
            ],
            [
             0.8888888888888888,
             "#fdca26"
            ],
            [
             1,
             "#f0f921"
            ]
           ],
           "sequentialminus": [
            [
             0,
             "#0d0887"
            ],
            [
             0.1111111111111111,
             "#46039f"
            ],
            [
             0.2222222222222222,
             "#7201a8"
            ],
            [
             0.3333333333333333,
             "#9c179e"
            ],
            [
             0.4444444444444444,
             "#bd3786"
            ],
            [
             0.5555555555555556,
             "#d8576b"
            ],
            [
             0.6666666666666666,
             "#ed7953"
            ],
            [
             0.7777777777777778,
             "#fb9f3a"
            ],
            [
             0.8888888888888888,
             "#fdca26"
            ],
            [
             1,
             "#f0f921"
            ]
           ]
          },
          "colorway": [
           "#636efa",
           "#EF553B",
           "#00cc96",
           "#ab63fa",
           "#FFA15A",
           "#19d3f3",
           "#FF6692",
           "#B6E880",
           "#FF97FF",
           "#FECB52"
          ],
          "font": {
           "color": "#2a3f5f"
          },
          "geo": {
           "bgcolor": "white",
           "lakecolor": "white",
           "landcolor": "#E5ECF6",
           "showlakes": true,
           "showland": true,
           "subunitcolor": "white"
          },
          "hoverlabel": {
           "align": "left"
          },
          "hovermode": "closest",
          "mapbox": {
           "style": "light"
          },
          "paper_bgcolor": "white",
          "plot_bgcolor": "#E5ECF6",
          "polar": {
           "angularaxis": {
            "gridcolor": "white",
            "linecolor": "white",
            "ticks": ""
           },
           "bgcolor": "#E5ECF6",
           "radialaxis": {
            "gridcolor": "white",
            "linecolor": "white",
            "ticks": ""
           }
          },
          "scene": {
           "xaxis": {
            "backgroundcolor": "#E5ECF6",
            "gridcolor": "white",
            "gridwidth": 2,
            "linecolor": "white",
            "showbackground": true,
            "ticks": "",
            "zerolinecolor": "white"
           },
           "yaxis": {
            "backgroundcolor": "#E5ECF6",
            "gridcolor": "white",
            "gridwidth": 2,
            "linecolor": "white",
            "showbackground": true,
            "ticks": "",
            "zerolinecolor": "white"
           },
           "zaxis": {
            "backgroundcolor": "#E5ECF6",
            "gridcolor": "white",
            "gridwidth": 2,
            "linecolor": "white",
            "showbackground": true,
            "ticks": "",
            "zerolinecolor": "white"
           }
          },
          "shapedefaults": {
           "line": {
            "color": "#2a3f5f"
           }
          },
          "ternary": {
           "aaxis": {
            "gridcolor": "white",
            "linecolor": "white",
            "ticks": ""
           },
           "baxis": {
            "gridcolor": "white",
            "linecolor": "white",
            "ticks": ""
           },
           "bgcolor": "#E5ECF6",
           "caxis": {
            "gridcolor": "white",
            "linecolor": "white",
            "ticks": ""
           }
          },
          "title": {
           "x": 0.05
          },
          "xaxis": {
           "automargin": true,
           "gridcolor": "white",
           "linecolor": "white",
           "ticks": "",
           "title": {
            "standoff": 15
           },
           "zerolinecolor": "white",
           "zerolinewidth": 2
          },
          "yaxis": {
           "automargin": true,
           "gridcolor": "white",
           "linecolor": "white",
           "ticks": "",
           "title": {
            "standoff": 15
           },
           "zerolinecolor": "white",
           "zerolinewidth": 2
          }
         }
        },
        "width": 800,
        "xaxis": {
         "anchor": "y",
         "categoryarray": [
          "Human",
          "ISC-CI",
          "Contrast",
          "GPT-3.5",
          "GPT-4"
         ],
         "categoryorder": "array",
         "domain": [
          0,
          1
         ],
         "linecolor": "black",
         "linewidth": 1.5,
         "mirror": true,
         "showgrid": false,
         "showline": true,
         "tickfont": {
          "size": 20
         },
         "ticks": "outside",
         "title": {
          "font": {
           "size": 24
          },
          "text": "Model"
         }
        },
        "yaxis": {
         "anchor": "x",
         "domain": [
          0,
          1
         ],
         "linecolor": "black",
         "linewidth": 1.5,
         "mirror": true,
         "range": [
          0,
          1
         ],
         "showgrid": false,
         "showline": true,
         "tickfont": {
          "size": 20
         },
         "ticks": "outside",
         "title": {
          "font": {
           "size": 24
          },
          "text": "Agreement with Humans (%)"
         }
        }
       }
      }
     },
     "metadata": {},
     "output_type": "display_data"
    }
   ],
   "source": [
    "models = ['ISC-CI','Contrast','GPT-3.5','GPT-4']\n",
    "argument_columns = ['Argument 1-Premise 1','Argument 1-Premise 2','Argument 1-Conclusion',\n",
    "                    'Argument 2-Premise 1','Argument 2-Premise 2','Argument 2-Conclusion']\n",
    "\n",
    "# Load human data\n",
    "human_data = pd.read_csv('data/similarity_experiments/similarity_asymmetry.csv', index_col=0).fillna('')\n",
    "\n",
    "# Find object pairs that have significant asymmetry scores\n",
    "grouped_data = human_data.groupby(argument_columns).mean()\n",
    "counts = human_data.groupby(argument_columns).count()[['participant_id']]\n",
    "counts.columns = ['Participant Count']\n",
    "grouped_data = grouped_data.merge(counts,left_index=True,right_index=True).reset_index()\n",
    "grouped_data['Effect Size'] = np.max((grouped_data['Argument 2 Chosen'],1-grouped_data['Argument 2 Chosen']),axis=0)\n",
    "grouped_data['pval'] = binom.sf(grouped_data['Effect Size']*grouped_data['Participant Count']-1,grouped_data['Participant Count'],0.5)\n",
    "significant_data = grouped_data[grouped_data.pval<=0.05][argument_columns]\n",
    "significant_data['pair'] = significant_data['Argument 1-Premise 1']+'-'+significant_data['Argument 1-Conclusion']\n",
    "\n",
    "# Select significant pairs\n",
    "human_data['Argument 2 Chosen Majority'] = human_data.groupby(argument_columns).transform('mean')['Argument 2 Chosen']>.5\n",
    "human_data['pair'] = human_data['Argument 1-Premise 1']+'-'+human_data['Argument 1-Conclusion']\n",
    "human_data = human_data[human_data.pair.isin(significant_data.pair)]\n",
    "\n",
    "# Split into two arguments to calculate model scores\n",
    "model_data = human_data.groupby(argument_columns).mean().reset_index()\n",
    "model_argument1 = model_data[['Argument 1-Premise 1','Argument 1-Premise 2','Argument 1-Conclusion','Argument 2 Chosen Majority']]\n",
    "model_argument2 = model_data[['Argument 2-Premise 1','Argument 2-Premise 2','Argument 2-Conclusion']]\n",
    "model_argument1.columns = ['Premise 1','Premise 2','Conclusion','Argument 2 Chosen Majority']\n",
    "model_argument2.columns = ['Premise 1','Premise 2','Conclusion']\n",
    "model_argument1['Premise 2'] = np.nan\n",
    "model_argument1['Premise 3'] = np.nan\n",
    "model_argument2['Premise 2'] = np.nan\n",
    "model_argument2['Premise 3'] = np.nan\n",
    "\n",
    "# Run models to generate strength predictions\n",
    "model_argument1 = analysis.calc_argument_strength(model_argument1, cico_model, data_loader)\n",
    "model_argument2 = analysis.calc_argument_strength(model_argument2, cico_model, data_loader)\n",
    "model_argument1 = analysis.calc_argument_strength_contrast(model_argument1,alpha=1,beta=0)\n",
    "model_argument2 = analysis.calc_argument_strength_contrast(model_argument2,alpha=1,beta=0)\n",
    "\n",
    "# Generate paired model predictions for which argument is stronger\n",
    "model_argument1 = model_argument1.add_prefix('Argument 1-')\n",
    "model_argument2 = model_argument2.add_prefix('Argument 2-')\n",
    "model_data = pd.concat([model_argument1,model_argument2],axis=1).rename(columns={'Argument 1-Argument 2 Chosen Majority':'Argument 2 Chosen Majority'})\n",
    "# Add LLM predictions\n",
    "llm_data = pd.read_csv('data/similarity_experiments/similarity_asymmetry_llm.csv', index_col=0)\n",
    "llm_data[['Argument 1-GPT-3.5','Argument 1-GPT-4']] = (llm_data[['GPT-3.5','GPT-4']]==1).astype(float)\n",
    "llm_data[['Argument 2-GPT-3.5','Argument 2-GPT-4']] = (llm_data[['GPT-3.5','GPT-4']]==2).astype(float)\n",
    "model_data = model_data.merge(llm_data,on=['Argument 1-Premise 1','Argument 1-Conclusion','Argument 2-Premise 1','Argument 2-Conclusion'])\n",
    "for model in models:\n",
    "    model_data[model] = (model_data[f'Argument 2-{model}']>model_data[f'Argument 1-{model}'])==model_data['Argument 2 Chosen Majority']\n",
    "model_data = model_data.melt(id_vars=argument_columns,\n",
    "                             value_vars=models,var_name='Model',value_name='Agreement with Humans (%)')\n",
    "\n",
    "# Generate bar plot\n",
    "plot_data = model_data.groupby(['Model']).mean().reset_index()\n",
    "fig = px.bar(plot_data,x='Model',color='Model',y='Agreement with Humans (%)',\n",
    "             category_orders={'Model':['Human']+models},\n",
    "             color_discrete_map=utils.model_colors,range_y=[0,1])\n",
    "fig.add_hline(y=0.56, line_dash='dot', line_color=\"black\")\n",
    "fig = utils.format_figure(fig,height=600,width=800,showlegend=False)\n",
    "\n",
    "# Calculate significance & add to plot\n",
    "model_effect_sizes = model_data.groupby(['Model']).sum().reset_index()\n",
    "model_effect_sizes['Count'] = model_data.groupby(['Model']).count().reset_index()['Agreement with Humans (%)']\n",
    "model_effect_sizes['pval'] = binom.sf(model_effect_sizes['Agreement with Humans (%)']-1,model_effect_sizes['Count'],0.5)\n",
    "model_effect_sizes['p_stars'] = model_effect_sizes['pval'].apply(utils.p_to_stars)\n",
    "model_effect_sizes['Bar Height'] = model_effect_sizes['Agreement with Humans (%)']/model_effect_sizes['Count']\n",
    "for model in models:\n",
    "    p_stars = model_effect_sizes[model_effect_sizes['Model']==model]['p_stars'].values[0]\n",
    "    bar_height = model_effect_sizes[model_effect_sizes['Model']==model]['Bar Height'].values[0]\n",
    "    fig.add_annotation(x=model,y=bar_height+0.05,text=p_stars,\n",
    "                       showarrow=False,font=dict(size=16))\n",
    "\n",
    "fig.show()"
   ]
  },
  {
   "cell_type": "code",
   "execution_count": 18,
   "metadata": {},
   "outputs": [
    {
     "data": {
      "application/vnd.plotly.v1+json": {
       "config": {
        "plotlyServerURL": "https://plot.ly"
       },
       "data": [
        {
         "alignmentgroup": "True",
         "hovertemplate": "Model=%{x}<br>Agreement with Humans (R<sup>2</sup>)=%{y}<extra></extra>",
         "legendgroup": "ISC-CI",
         "marker": {
          "color": "#6797D5",
          "pattern": {
           "shape": ""
          }
         },
         "name": "ISC-CI",
         "offsetgroup": "ISC-CI",
         "orientation": "v",
         "showlegend": true,
         "textposition": "auto",
         "type": "bar",
         "x": [
          "ISC-CI"
         ],
         "xaxis": "x",
         "y": [
          0.3098074027627513
         ],
         "yaxis": "y"
        },
        {
         "alignmentgroup": "True",
         "hovertemplate": "Model=%{x}<br>Agreement with Humans (R<sup>2</sup>)=%{y}<extra></extra>",
         "legendgroup": "Contrast",
         "marker": {
          "color": "#a1d13a",
          "pattern": {
           "shape": ""
          }
         },
         "name": "Contrast",
         "offsetgroup": "Contrast",
         "orientation": "v",
         "showlegend": true,
         "textposition": "auto",
         "type": "bar",
         "x": [
          "Contrast"
         ],
         "xaxis": "x",
         "y": [
          0.5992998547110854
         ],
         "yaxis": "y"
        }
       ],
       "layout": {
        "annotations": [
         {
          "font": {
           "size": 16
          },
          "showarrow": false,
          "text": "***",
          "x": "ISC-CI",
          "y": 0.3598074027627513
         },
         {
          "font": {
           "size": 16
          },
          "showarrow": false,
          "text": "***",
          "x": "Contrast",
          "y": 0.6492998547110854
         }
        ],
        "barmode": "relative",
        "height": 600,
        "legend": {
         "title": {
          "text": "Model"
         },
         "tracegroupgap": 0
        },
        "margin": {
         "t": 60
        },
        "plot_bgcolor": "white",
        "showlegend": false,
        "template": {
         "data": {
          "bar": [
           {
            "error_x": {
             "color": "#2a3f5f"
            },
            "error_y": {
             "color": "#2a3f5f"
            },
            "marker": {
             "line": {
              "color": "#E5ECF6",
              "width": 0.5
             },
             "pattern": {
              "fillmode": "overlay",
              "size": 10,
              "solidity": 0.2
             }
            },
            "type": "bar"
           }
          ],
          "barpolar": [
           {
            "marker": {
             "line": {
              "color": "#E5ECF6",
              "width": 0.5
             },
             "pattern": {
              "fillmode": "overlay",
              "size": 10,
              "solidity": 0.2
             }
            },
            "type": "barpolar"
           }
          ],
          "carpet": [
           {
            "aaxis": {
             "endlinecolor": "#2a3f5f",
             "gridcolor": "white",
             "linecolor": "white",
             "minorgridcolor": "white",
             "startlinecolor": "#2a3f5f"
            },
            "baxis": {
             "endlinecolor": "#2a3f5f",
             "gridcolor": "white",
             "linecolor": "white",
             "minorgridcolor": "white",
             "startlinecolor": "#2a3f5f"
            },
            "type": "carpet"
           }
          ],
          "choropleth": [
           {
            "colorbar": {
             "outlinewidth": 0,
             "ticks": ""
            },
            "type": "choropleth"
           }
          ],
          "contour": [
           {
            "colorbar": {
             "outlinewidth": 0,
             "ticks": ""
            },
            "colorscale": [
             [
              0,
              "#0d0887"
             ],
             [
              0.1111111111111111,
              "#46039f"
             ],
             [
              0.2222222222222222,
              "#7201a8"
             ],
             [
              0.3333333333333333,
              "#9c179e"
             ],
             [
              0.4444444444444444,
              "#bd3786"
             ],
             [
              0.5555555555555556,
              "#d8576b"
             ],
             [
              0.6666666666666666,
              "#ed7953"
             ],
             [
              0.7777777777777778,
              "#fb9f3a"
             ],
             [
              0.8888888888888888,
              "#fdca26"
             ],
             [
              1,
              "#f0f921"
             ]
            ],
            "type": "contour"
           }
          ],
          "contourcarpet": [
           {
            "colorbar": {
             "outlinewidth": 0,
             "ticks": ""
            },
            "type": "contourcarpet"
           }
          ],
          "heatmap": [
           {
            "colorbar": {
             "outlinewidth": 0,
             "ticks": ""
            },
            "colorscale": [
             [
              0,
              "#0d0887"
             ],
             [
              0.1111111111111111,
              "#46039f"
             ],
             [
              0.2222222222222222,
              "#7201a8"
             ],
             [
              0.3333333333333333,
              "#9c179e"
             ],
             [
              0.4444444444444444,
              "#bd3786"
             ],
             [
              0.5555555555555556,
              "#d8576b"
             ],
             [
              0.6666666666666666,
              "#ed7953"
             ],
             [
              0.7777777777777778,
              "#fb9f3a"
             ],
             [
              0.8888888888888888,
              "#fdca26"
             ],
             [
              1,
              "#f0f921"
             ]
            ],
            "type": "heatmap"
           }
          ],
          "heatmapgl": [
           {
            "colorbar": {
             "outlinewidth": 0,
             "ticks": ""
            },
            "colorscale": [
             [
              0,
              "#0d0887"
             ],
             [
              0.1111111111111111,
              "#46039f"
             ],
             [
              0.2222222222222222,
              "#7201a8"
             ],
             [
              0.3333333333333333,
              "#9c179e"
             ],
             [
              0.4444444444444444,
              "#bd3786"
             ],
             [
              0.5555555555555556,
              "#d8576b"
             ],
             [
              0.6666666666666666,
              "#ed7953"
             ],
             [
              0.7777777777777778,
              "#fb9f3a"
             ],
             [
              0.8888888888888888,
              "#fdca26"
             ],
             [
              1,
              "#f0f921"
             ]
            ],
            "type": "heatmapgl"
           }
          ],
          "histogram": [
           {
            "marker": {
             "pattern": {
              "fillmode": "overlay",
              "size": 10,
              "solidity": 0.2
             }
            },
            "type": "histogram"
           }
          ],
          "histogram2d": [
           {
            "colorbar": {
             "outlinewidth": 0,
             "ticks": ""
            },
            "colorscale": [
             [
              0,
              "#0d0887"
             ],
             [
              0.1111111111111111,
              "#46039f"
             ],
             [
              0.2222222222222222,
              "#7201a8"
             ],
             [
              0.3333333333333333,
              "#9c179e"
             ],
             [
              0.4444444444444444,
              "#bd3786"
             ],
             [
              0.5555555555555556,
              "#d8576b"
             ],
             [
              0.6666666666666666,
              "#ed7953"
             ],
             [
              0.7777777777777778,
              "#fb9f3a"
             ],
             [
              0.8888888888888888,
              "#fdca26"
             ],
             [
              1,
              "#f0f921"
             ]
            ],
            "type": "histogram2d"
           }
          ],
          "histogram2dcontour": [
           {
            "colorbar": {
             "outlinewidth": 0,
             "ticks": ""
            },
            "colorscale": [
             [
              0,
              "#0d0887"
             ],
             [
              0.1111111111111111,
              "#46039f"
             ],
             [
              0.2222222222222222,
              "#7201a8"
             ],
             [
              0.3333333333333333,
              "#9c179e"
             ],
             [
              0.4444444444444444,
              "#bd3786"
             ],
             [
              0.5555555555555556,
              "#d8576b"
             ],
             [
              0.6666666666666666,
              "#ed7953"
             ],
             [
              0.7777777777777778,
              "#fb9f3a"
             ],
             [
              0.8888888888888888,
              "#fdca26"
             ],
             [
              1,
              "#f0f921"
             ]
            ],
            "type": "histogram2dcontour"
           }
          ],
          "mesh3d": [
           {
            "colorbar": {
             "outlinewidth": 0,
             "ticks": ""
            },
            "type": "mesh3d"
           }
          ],
          "parcoords": [
           {
            "line": {
             "colorbar": {
              "outlinewidth": 0,
              "ticks": ""
             }
            },
            "type": "parcoords"
           }
          ],
          "pie": [
           {
            "automargin": true,
            "type": "pie"
           }
          ],
          "scatter": [
           {
            "fillpattern": {
             "fillmode": "overlay",
             "size": 10,
             "solidity": 0.2
            },
            "type": "scatter"
           }
          ],
          "scatter3d": [
           {
            "line": {
             "colorbar": {
              "outlinewidth": 0,
              "ticks": ""
             }
            },
            "marker": {
             "colorbar": {
              "outlinewidth": 0,
              "ticks": ""
             }
            },
            "type": "scatter3d"
           }
          ],
          "scattercarpet": [
           {
            "marker": {
             "colorbar": {
              "outlinewidth": 0,
              "ticks": ""
             }
            },
            "type": "scattercarpet"
           }
          ],
          "scattergeo": [
           {
            "marker": {
             "colorbar": {
              "outlinewidth": 0,
              "ticks": ""
             }
            },
            "type": "scattergeo"
           }
          ],
          "scattergl": [
           {
            "marker": {
             "colorbar": {
              "outlinewidth": 0,
              "ticks": ""
             }
            },
            "type": "scattergl"
           }
          ],
          "scattermapbox": [
           {
            "marker": {
             "colorbar": {
              "outlinewidth": 0,
              "ticks": ""
             }
            },
            "type": "scattermapbox"
           }
          ],
          "scatterpolar": [
           {
            "marker": {
             "colorbar": {
              "outlinewidth": 0,
              "ticks": ""
             }
            },
            "type": "scatterpolar"
           }
          ],
          "scatterpolargl": [
           {
            "marker": {
             "colorbar": {
              "outlinewidth": 0,
              "ticks": ""
             }
            },
            "type": "scatterpolargl"
           }
          ],
          "scatterternary": [
           {
            "marker": {
             "colorbar": {
              "outlinewidth": 0,
              "ticks": ""
             }
            },
            "type": "scatterternary"
           }
          ],
          "surface": [
           {
            "colorbar": {
             "outlinewidth": 0,
             "ticks": ""
            },
            "colorscale": [
             [
              0,
              "#0d0887"
             ],
             [
              0.1111111111111111,
              "#46039f"
             ],
             [
              0.2222222222222222,
              "#7201a8"
             ],
             [
              0.3333333333333333,
              "#9c179e"
             ],
             [
              0.4444444444444444,
              "#bd3786"
             ],
             [
              0.5555555555555556,
              "#d8576b"
             ],
             [
              0.6666666666666666,
              "#ed7953"
             ],
             [
              0.7777777777777778,
              "#fb9f3a"
             ],
             [
              0.8888888888888888,
              "#fdca26"
             ],
             [
              1,
              "#f0f921"
             ]
            ],
            "type": "surface"
           }
          ],
          "table": [
           {
            "cells": {
             "fill": {
              "color": "#EBF0F8"
             },
             "line": {
              "color": "white"
             }
            },
            "header": {
             "fill": {
              "color": "#C8D4E3"
             },
             "line": {
              "color": "white"
             }
            },
            "type": "table"
           }
          ]
         },
         "layout": {
          "annotationdefaults": {
           "arrowcolor": "#2a3f5f",
           "arrowhead": 0,
           "arrowwidth": 1
          },
          "autotypenumbers": "strict",
          "coloraxis": {
           "colorbar": {
            "outlinewidth": 0,
            "ticks": ""
           }
          },
          "colorscale": {
           "diverging": [
            [
             0,
             "#8e0152"
            ],
            [
             0.1,
             "#c51b7d"
            ],
            [
             0.2,
             "#de77ae"
            ],
            [
             0.3,
             "#f1b6da"
            ],
            [
             0.4,
             "#fde0ef"
            ],
            [
             0.5,
             "#f7f7f7"
            ],
            [
             0.6,
             "#e6f5d0"
            ],
            [
             0.7,
             "#b8e186"
            ],
            [
             0.8,
             "#7fbc41"
            ],
            [
             0.9,
             "#4d9221"
            ],
            [
             1,
             "#276419"
            ]
           ],
           "sequential": [
            [
             0,
             "#0d0887"
            ],
            [
             0.1111111111111111,
             "#46039f"
            ],
            [
             0.2222222222222222,
             "#7201a8"
            ],
            [
             0.3333333333333333,
             "#9c179e"
            ],
            [
             0.4444444444444444,
             "#bd3786"
            ],
            [
             0.5555555555555556,
             "#d8576b"
            ],
            [
             0.6666666666666666,
             "#ed7953"
            ],
            [
             0.7777777777777778,
             "#fb9f3a"
            ],
            [
             0.8888888888888888,
             "#fdca26"
            ],
            [
             1,
             "#f0f921"
            ]
           ],
           "sequentialminus": [
            [
             0,
             "#0d0887"
            ],
            [
             0.1111111111111111,
             "#46039f"
            ],
            [
             0.2222222222222222,
             "#7201a8"
            ],
            [
             0.3333333333333333,
             "#9c179e"
            ],
            [
             0.4444444444444444,
             "#bd3786"
            ],
            [
             0.5555555555555556,
             "#d8576b"
            ],
            [
             0.6666666666666666,
             "#ed7953"
            ],
            [
             0.7777777777777778,
             "#fb9f3a"
            ],
            [
             0.8888888888888888,
             "#fdca26"
            ],
            [
             1,
             "#f0f921"
            ]
           ]
          },
          "colorway": [
           "#636efa",
           "#EF553B",
           "#00cc96",
           "#ab63fa",
           "#FFA15A",
           "#19d3f3",
           "#FF6692",
           "#B6E880",
           "#FF97FF",
           "#FECB52"
          ],
          "font": {
           "color": "#2a3f5f"
          },
          "geo": {
           "bgcolor": "white",
           "lakecolor": "white",
           "landcolor": "#E5ECF6",
           "showlakes": true,
           "showland": true,
           "subunitcolor": "white"
          },
          "hoverlabel": {
           "align": "left"
          },
          "hovermode": "closest",
          "mapbox": {
           "style": "light"
          },
          "paper_bgcolor": "white",
          "plot_bgcolor": "#E5ECF6",
          "polar": {
           "angularaxis": {
            "gridcolor": "white",
            "linecolor": "white",
            "ticks": ""
           },
           "bgcolor": "#E5ECF6",
           "radialaxis": {
            "gridcolor": "white",
            "linecolor": "white",
            "ticks": ""
           }
          },
          "scene": {
           "xaxis": {
            "backgroundcolor": "#E5ECF6",
            "gridcolor": "white",
            "gridwidth": 2,
            "linecolor": "white",
            "showbackground": true,
            "ticks": "",
            "zerolinecolor": "white"
           },
           "yaxis": {
            "backgroundcolor": "#E5ECF6",
            "gridcolor": "white",
            "gridwidth": 2,
            "linecolor": "white",
            "showbackground": true,
            "ticks": "",
            "zerolinecolor": "white"
           },
           "zaxis": {
            "backgroundcolor": "#E5ECF6",
            "gridcolor": "white",
            "gridwidth": 2,
            "linecolor": "white",
            "showbackground": true,
            "ticks": "",
            "zerolinecolor": "white"
           }
          },
          "shapedefaults": {
           "line": {
            "color": "#2a3f5f"
           }
          },
          "ternary": {
           "aaxis": {
            "gridcolor": "white",
            "linecolor": "white",
            "ticks": ""
           },
           "baxis": {
            "gridcolor": "white",
            "linecolor": "white",
            "ticks": ""
           },
           "bgcolor": "#E5ECF6",
           "caxis": {
            "gridcolor": "white",
            "linecolor": "white",
            "ticks": ""
           }
          },
          "title": {
           "x": 0.05
          },
          "xaxis": {
           "automargin": true,
           "gridcolor": "white",
           "linecolor": "white",
           "ticks": "",
           "title": {
            "standoff": 15
           },
           "zerolinecolor": "white",
           "zerolinewidth": 2
          },
          "yaxis": {
           "automargin": true,
           "gridcolor": "white",
           "linecolor": "white",
           "ticks": "",
           "title": {
            "standoff": 15
           },
           "zerolinecolor": "white",
           "zerolinewidth": 2
          }
         }
        },
        "width": 400,
        "xaxis": {
         "anchor": "y",
         "categoryarray": [
          "Human",
          "ISC-CI",
          "Contrast"
         ],
         "categoryorder": "array",
         "domain": [
          0,
          1
         ],
         "linecolor": "black",
         "linewidth": 1.5,
         "mirror": true,
         "showgrid": false,
         "showline": true,
         "tickfont": {
          "size": 20
         },
         "ticks": "outside",
         "title": {
          "font": {
           "size": 24
          },
          "text": "Model"
         }
        },
        "yaxis": {
         "anchor": "x",
         "domain": [
          0,
          1
         ],
         "linecolor": "black",
         "linewidth": 1.5,
         "mirror": true,
         "range": [
          0,
          1
         ],
         "showgrid": false,
         "showline": true,
         "tickfont": {
          "size": 20
         },
         "ticks": "outside",
         "title": {
          "font": {
           "size": 24
          },
          "text": "Agreement with Humans (R<sup>2</sup>)"
         }
        }
       }
      }
     },
     "metadata": {},
     "output_type": "display_data"
    }
   ],
   "source": [
    "models = ['ISC-CI','Contrast']\n",
    "# Generate numerical asymmetry scores for model and humans\n",
    "model_data = pd.concat([model_argument1,model_argument2],axis=1).rename(columns={'Argument 1-Argument 2 Chosen Majority':'Argument 2 Chosen Majority'})\n",
    "model_data = model_data.merge(llm_data,on=['Argument 1-Premise 1','Argument 1-Conclusion','Argument 2-Premise 1','Argument 2-Conclusion'])\n",
    "for model in models:\n",
    "    model_data[model] = model_data[f'Argument 2-{model}']-model_data[f'Argument 1-{model}']\n",
    "model_data = model_data.fillna('').melt(id_vars=argument_columns,value_vars=models,var_name='Model',value_name='Model Asymmetry Score')\n",
    "human_data_averaged = human_data.groupby(argument_columns).mean()['Argument 2 Chosen'].reset_index().rename(columns={'Argument 2 Chosen':'Human Asymmetry Score'})\n",
    "argument_data = model_data.merge(human_data_averaged,on=argument_columns)\n",
    "\n",
    "# Run regression for each model's predictions\n",
    "regression_data = []\n",
    "for model in models:\n",
    "    model_arg_data = argument_data[argument_data['Model']==model]\n",
    "    lr = pg.linear_regression(X=model_arg_data['Human Asymmetry Score'],y=model_arg_data['Model Asymmetry Score'])\n",
    "    lr = lr[lr.names=='Human Asymmetry Score']\n",
    "    lr['Model'] = model\n",
    "    lr['p_stars'] = lr['pval'].apply(utils.p_to_stars)\n",
    "    regression_data.append(lr)\n",
    "regression_data = pd.concat(regression_data,ignore_index=True)\n",
    "regression_data = regression_data.rename(columns={'r2':'Agreement with Humans (R<sup>2</sup>)'})\n",
    "\n",
    "# Generate bar plot\n",
    "plot_data = model_data.groupby(['Model']).mean().reset_index()\n",
    "fig = px.bar(regression_data,x='Model',color='Model',y='Agreement with Humans (R<sup>2</sup>)',\n",
    "             category_orders={'Model':['Human']+models},\n",
    "             color_discrete_map=utils.model_colors,range_y=[0,1])\n",
    "fig = utils.format_figure(fig,height=600,width=400,showlegend=False)\n",
    "for model in models:\n",
    "    p_stars = regression_data[regression_data['Model']==model]['p_stars'].values[0]\n",
    "    bar_height = regression_data[regression_data['Model']==model]['Agreement with Humans (R<sup>2</sup>)'].values[0]\n",
    "    fig.add_annotation(x=model,y=bar_height+0.05,text=p_stars,\n",
    "                       showarrow=False,font=dict(size=16))\n",
    "fig.show()"
   ]
  },
  {
   "cell_type": "markdown",
   "metadata": {},
   "source": [
    "## Multi-Alternative Context Effects"
   ]
  },
  {
   "cell_type": "code",
   "execution_count": 19,
   "metadata": {},
   "outputs": [],
   "source": [
    "models = ['ISC-CI','GPT-3.5','GPT-4']\n",
    "argument_columns = ['Premise 1','Conclusion 1','Conclusion 2','Distractor 1','Distractor 2']\n",
    "human_data = pd.read_csv('data/similarity_experiments/similarity_in_context.csv', index_col=0)\n",
    "\n",
    "human_context_effects = analysis.calc_similarity_context_effect_human(human_data)\n",
    "significant_sets = human_context_effects[human_context_effects['Context Effect']>0]\n",
    "\n",
    "# Calculate CICO predictions\n",
    "model_data = analysis.calc_similarity_context_effect(significant_sets, cico_model, data_loader)\n",
    "\n",
    "# Add LLM predictions\n",
    "llm_data = pd.read_csv('data/similarity_experiments/similarity_in_context_llm.csv', index_col=0)\n",
    "gpt_35_data = llm_data.drop(columns=['GPT-4']).rename(columns={'GPT-3.5':'Choice'})\n",
    "gpt_4_data = llm_data.drop(columns=['GPT-3.5']).rename(columns={'GPT-4':'Choice'})\n",
    "gpt_35_data['Conclusion 1 Chosen'] = gpt_35_data.Choice==1\n",
    "gpt_35_data['Conclusion 2 Chosen'] = gpt_35_data.Choice==3\n",
    "gpt_4_data['Conclusion 1 Chosen'] = gpt_4_data.Choice==1\n",
    "gpt_4_data['Conclusion 2 Chosen'] = gpt_4_data.Choice==3\n",
    "gpt_35_data = analysis.calc_similarity_context_effect_human(gpt_35_data).rename(columns={'Context Effect':'GPT-3.5'})\n",
    "gpt_4_data = analysis.calc_similarity_context_effect_human(gpt_4_data).rename(columns={'Context Effect':'GPT-4'})\n",
    "\n",
    "model_data = model_data.merge(gpt_35_data,on=argument_columns)\n",
    "model_data = model_data.merge(gpt_4_data,on=argument_columns)\n",
    "model_data = model_data[models].melt(var_name='Model',value_name='Agreement with Humans (%)')"
   ]
  },
  {
   "cell_type": "code",
   "execution_count": 20,
   "metadata": {},
   "outputs": [
    {
     "data": {
      "application/vnd.plotly.v1+json": {
       "config": {
        "plotlyServerURL": "https://plot.ly"
       },
       "data": [
        {
         "alignmentgroup": "True",
         "hovertemplate": "Model=%{x}<br>Agreement with Humans (%)=%{y}<extra></extra>",
         "legendgroup": "ISC-CI",
         "marker": {
          "color": "#6797D5",
          "pattern": {
           "shape": ""
          }
         },
         "name": "ISC-CI",
         "offsetgroup": "ISC-CI",
         "orientation": "v",
         "showlegend": true,
         "textposition": "auto",
         "type": "bar",
         "x": [
          "ISC-CI"
         ],
         "xaxis": "x",
         "y": [
          0.9736842105263158
         ],
         "yaxis": "y"
        },
        {
         "alignmentgroup": "True",
         "hovertemplate": "Model=%{x}<br>Agreement with Humans (%)=%{y}<extra></extra>",
         "legendgroup": "GPT-3.5",
         "marker": {
          "color": "#F4A24C",
          "pattern": {
           "shape": ""
          }
         },
         "name": "GPT-3.5",
         "offsetgroup": "GPT-3.5",
         "orientation": "v",
         "showlegend": true,
         "textposition": "auto",
         "type": "bar",
         "x": [
          "GPT-3.5"
         ],
         "xaxis": "x",
         "y": [
          0.5263157894736842
         ],
         "yaxis": "y"
        },
        {
         "alignmentgroup": "True",
         "hovertemplate": "Model=%{x}<br>Agreement with Humans (%)=%{y}<extra></extra>",
         "legendgroup": "GPT-4",
         "marker": {
          "color": "#F48777",
          "pattern": {
           "shape": ""
          }
         },
         "name": "GPT-4",
         "offsetgroup": "GPT-4",
         "orientation": "v",
         "showlegend": true,
         "textposition": "auto",
         "type": "bar",
         "x": [
          "GPT-4"
         ],
         "xaxis": "x",
         "y": [
          0.15789473684210525
         ],
         "yaxis": "y"
        }
       ],
       "layout": {
        "annotations": [
         {
          "font": {
           "size": 16
          },
          "showarrow": false,
          "text": "***",
          "x": "ISC-CI",
          "y": 1.0236842105263158
         },
         {
          "font": {
           "size": 16
          },
          "showarrow": false,
          "text": "n.s.",
          "x": "GPT-3.5",
          "y": 0.5763157894736842
         },
         {
          "font": {
           "size": 16
          },
          "showarrow": false,
          "text": "n.s.",
          "x": "GPT-4",
          "y": 0.20789473684210524
         }
        ],
        "barmode": "relative",
        "height": 600,
        "legend": {
         "title": {
          "text": "Model"
         },
         "tracegroupgap": 0
        },
        "margin": {
         "t": 60
        },
        "plot_bgcolor": "white",
        "shapes": [
         {
          "line": {
           "color": "black",
           "dash": "dot"
          },
          "type": "line",
          "x0": 0,
          "x1": 1,
          "xref": "x domain",
          "y0": 0.5,
          "y1": 0.5,
          "yref": "y"
         }
        ],
        "showlegend": false,
        "template": {
         "data": {
          "bar": [
           {
            "error_x": {
             "color": "#2a3f5f"
            },
            "error_y": {
             "color": "#2a3f5f"
            },
            "marker": {
             "line": {
              "color": "#E5ECF6",
              "width": 0.5
             },
             "pattern": {
              "fillmode": "overlay",
              "size": 10,
              "solidity": 0.2
             }
            },
            "type": "bar"
           }
          ],
          "barpolar": [
           {
            "marker": {
             "line": {
              "color": "#E5ECF6",
              "width": 0.5
             },
             "pattern": {
              "fillmode": "overlay",
              "size": 10,
              "solidity": 0.2
             }
            },
            "type": "barpolar"
           }
          ],
          "carpet": [
           {
            "aaxis": {
             "endlinecolor": "#2a3f5f",
             "gridcolor": "white",
             "linecolor": "white",
             "minorgridcolor": "white",
             "startlinecolor": "#2a3f5f"
            },
            "baxis": {
             "endlinecolor": "#2a3f5f",
             "gridcolor": "white",
             "linecolor": "white",
             "minorgridcolor": "white",
             "startlinecolor": "#2a3f5f"
            },
            "type": "carpet"
           }
          ],
          "choropleth": [
           {
            "colorbar": {
             "outlinewidth": 0,
             "ticks": ""
            },
            "type": "choropleth"
           }
          ],
          "contour": [
           {
            "colorbar": {
             "outlinewidth": 0,
             "ticks": ""
            },
            "colorscale": [
             [
              0,
              "#0d0887"
             ],
             [
              0.1111111111111111,
              "#46039f"
             ],
             [
              0.2222222222222222,
              "#7201a8"
             ],
             [
              0.3333333333333333,
              "#9c179e"
             ],
             [
              0.4444444444444444,
              "#bd3786"
             ],
             [
              0.5555555555555556,
              "#d8576b"
             ],
             [
              0.6666666666666666,
              "#ed7953"
             ],
             [
              0.7777777777777778,
              "#fb9f3a"
             ],
             [
              0.8888888888888888,
              "#fdca26"
             ],
             [
              1,
              "#f0f921"
             ]
            ],
            "type": "contour"
           }
          ],
          "contourcarpet": [
           {
            "colorbar": {
             "outlinewidth": 0,
             "ticks": ""
            },
            "type": "contourcarpet"
           }
          ],
          "heatmap": [
           {
            "colorbar": {
             "outlinewidth": 0,
             "ticks": ""
            },
            "colorscale": [
             [
              0,
              "#0d0887"
             ],
             [
              0.1111111111111111,
              "#46039f"
             ],
             [
              0.2222222222222222,
              "#7201a8"
             ],
             [
              0.3333333333333333,
              "#9c179e"
             ],
             [
              0.4444444444444444,
              "#bd3786"
             ],
             [
              0.5555555555555556,
              "#d8576b"
             ],
             [
              0.6666666666666666,
              "#ed7953"
             ],
             [
              0.7777777777777778,
              "#fb9f3a"
             ],
             [
              0.8888888888888888,
              "#fdca26"
             ],
             [
              1,
              "#f0f921"
             ]
            ],
            "type": "heatmap"
           }
          ],
          "heatmapgl": [
           {
            "colorbar": {
             "outlinewidth": 0,
             "ticks": ""
            },
            "colorscale": [
             [
              0,
              "#0d0887"
             ],
             [
              0.1111111111111111,
              "#46039f"
             ],
             [
              0.2222222222222222,
              "#7201a8"
             ],
             [
              0.3333333333333333,
              "#9c179e"
             ],
             [
              0.4444444444444444,
              "#bd3786"
             ],
             [
              0.5555555555555556,
              "#d8576b"
             ],
             [
              0.6666666666666666,
              "#ed7953"
             ],
             [
              0.7777777777777778,
              "#fb9f3a"
             ],
             [
              0.8888888888888888,
              "#fdca26"
             ],
             [
              1,
              "#f0f921"
             ]
            ],
            "type": "heatmapgl"
           }
          ],
          "histogram": [
           {
            "marker": {
             "pattern": {
              "fillmode": "overlay",
              "size": 10,
              "solidity": 0.2
             }
            },
            "type": "histogram"
           }
          ],
          "histogram2d": [
           {
            "colorbar": {
             "outlinewidth": 0,
             "ticks": ""
            },
            "colorscale": [
             [
              0,
              "#0d0887"
             ],
             [
              0.1111111111111111,
              "#46039f"
             ],
             [
              0.2222222222222222,
              "#7201a8"
             ],
             [
              0.3333333333333333,
              "#9c179e"
             ],
             [
              0.4444444444444444,
              "#bd3786"
             ],
             [
              0.5555555555555556,
              "#d8576b"
             ],
             [
              0.6666666666666666,
              "#ed7953"
             ],
             [
              0.7777777777777778,
              "#fb9f3a"
             ],
             [
              0.8888888888888888,
              "#fdca26"
             ],
             [
              1,
              "#f0f921"
             ]
            ],
            "type": "histogram2d"
           }
          ],
          "histogram2dcontour": [
           {
            "colorbar": {
             "outlinewidth": 0,
             "ticks": ""
            },
            "colorscale": [
             [
              0,
              "#0d0887"
             ],
             [
              0.1111111111111111,
              "#46039f"
             ],
             [
              0.2222222222222222,
              "#7201a8"
             ],
             [
              0.3333333333333333,
              "#9c179e"
             ],
             [
              0.4444444444444444,
              "#bd3786"
             ],
             [
              0.5555555555555556,
              "#d8576b"
             ],
             [
              0.6666666666666666,
              "#ed7953"
             ],
             [
              0.7777777777777778,
              "#fb9f3a"
             ],
             [
              0.8888888888888888,
              "#fdca26"
             ],
             [
              1,
              "#f0f921"
             ]
            ],
            "type": "histogram2dcontour"
           }
          ],
          "mesh3d": [
           {
            "colorbar": {
             "outlinewidth": 0,
             "ticks": ""
            },
            "type": "mesh3d"
           }
          ],
          "parcoords": [
           {
            "line": {
             "colorbar": {
              "outlinewidth": 0,
              "ticks": ""
             }
            },
            "type": "parcoords"
           }
          ],
          "pie": [
           {
            "automargin": true,
            "type": "pie"
           }
          ],
          "scatter": [
           {
            "fillpattern": {
             "fillmode": "overlay",
             "size": 10,
             "solidity": 0.2
            },
            "type": "scatter"
           }
          ],
          "scatter3d": [
           {
            "line": {
             "colorbar": {
              "outlinewidth": 0,
              "ticks": ""
             }
            },
            "marker": {
             "colorbar": {
              "outlinewidth": 0,
              "ticks": ""
             }
            },
            "type": "scatter3d"
           }
          ],
          "scattercarpet": [
           {
            "marker": {
             "colorbar": {
              "outlinewidth": 0,
              "ticks": ""
             }
            },
            "type": "scattercarpet"
           }
          ],
          "scattergeo": [
           {
            "marker": {
             "colorbar": {
              "outlinewidth": 0,
              "ticks": ""
             }
            },
            "type": "scattergeo"
           }
          ],
          "scattergl": [
           {
            "marker": {
             "colorbar": {
              "outlinewidth": 0,
              "ticks": ""
             }
            },
            "type": "scattergl"
           }
          ],
          "scattermapbox": [
           {
            "marker": {
             "colorbar": {
              "outlinewidth": 0,
              "ticks": ""
             }
            },
            "type": "scattermapbox"
           }
          ],
          "scatterpolar": [
           {
            "marker": {
             "colorbar": {
              "outlinewidth": 0,
              "ticks": ""
             }
            },
            "type": "scatterpolar"
           }
          ],
          "scatterpolargl": [
           {
            "marker": {
             "colorbar": {
              "outlinewidth": 0,
              "ticks": ""
             }
            },
            "type": "scatterpolargl"
           }
          ],
          "scatterternary": [
           {
            "marker": {
             "colorbar": {
              "outlinewidth": 0,
              "ticks": ""
             }
            },
            "type": "scatterternary"
           }
          ],
          "surface": [
           {
            "colorbar": {
             "outlinewidth": 0,
             "ticks": ""
            },
            "colorscale": [
             [
              0,
              "#0d0887"
             ],
             [
              0.1111111111111111,
              "#46039f"
             ],
             [
              0.2222222222222222,
              "#7201a8"
             ],
             [
              0.3333333333333333,
              "#9c179e"
             ],
             [
              0.4444444444444444,
              "#bd3786"
             ],
             [
              0.5555555555555556,
              "#d8576b"
             ],
             [
              0.6666666666666666,
              "#ed7953"
             ],
             [
              0.7777777777777778,
              "#fb9f3a"
             ],
             [
              0.8888888888888888,
              "#fdca26"
             ],
             [
              1,
              "#f0f921"
             ]
            ],
            "type": "surface"
           }
          ],
          "table": [
           {
            "cells": {
             "fill": {
              "color": "#EBF0F8"
             },
             "line": {
              "color": "white"
             }
            },
            "header": {
             "fill": {
              "color": "#C8D4E3"
             },
             "line": {
              "color": "white"
             }
            },
            "type": "table"
           }
          ]
         },
         "layout": {
          "annotationdefaults": {
           "arrowcolor": "#2a3f5f",
           "arrowhead": 0,
           "arrowwidth": 1
          },
          "autotypenumbers": "strict",
          "coloraxis": {
           "colorbar": {
            "outlinewidth": 0,
            "ticks": ""
           }
          },
          "colorscale": {
           "diverging": [
            [
             0,
             "#8e0152"
            ],
            [
             0.1,
             "#c51b7d"
            ],
            [
             0.2,
             "#de77ae"
            ],
            [
             0.3,
             "#f1b6da"
            ],
            [
             0.4,
             "#fde0ef"
            ],
            [
             0.5,
             "#f7f7f7"
            ],
            [
             0.6,
             "#e6f5d0"
            ],
            [
             0.7,
             "#b8e186"
            ],
            [
             0.8,
             "#7fbc41"
            ],
            [
             0.9,
             "#4d9221"
            ],
            [
             1,
             "#276419"
            ]
           ],
           "sequential": [
            [
             0,
             "#0d0887"
            ],
            [
             0.1111111111111111,
             "#46039f"
            ],
            [
             0.2222222222222222,
             "#7201a8"
            ],
            [
             0.3333333333333333,
             "#9c179e"
            ],
            [
             0.4444444444444444,
             "#bd3786"
            ],
            [
             0.5555555555555556,
             "#d8576b"
            ],
            [
             0.6666666666666666,
             "#ed7953"
            ],
            [
             0.7777777777777778,
             "#fb9f3a"
            ],
            [
             0.8888888888888888,
             "#fdca26"
            ],
            [
             1,
             "#f0f921"
            ]
           ],
           "sequentialminus": [
            [
             0,
             "#0d0887"
            ],
            [
             0.1111111111111111,
             "#46039f"
            ],
            [
             0.2222222222222222,
             "#7201a8"
            ],
            [
             0.3333333333333333,
             "#9c179e"
            ],
            [
             0.4444444444444444,
             "#bd3786"
            ],
            [
             0.5555555555555556,
             "#d8576b"
            ],
            [
             0.6666666666666666,
             "#ed7953"
            ],
            [
             0.7777777777777778,
             "#fb9f3a"
            ],
            [
             0.8888888888888888,
             "#fdca26"
            ],
            [
             1,
             "#f0f921"
            ]
           ]
          },
          "colorway": [
           "#636efa",
           "#EF553B",
           "#00cc96",
           "#ab63fa",
           "#FFA15A",
           "#19d3f3",
           "#FF6692",
           "#B6E880",
           "#FF97FF",
           "#FECB52"
          ],
          "font": {
           "color": "#2a3f5f"
          },
          "geo": {
           "bgcolor": "white",
           "lakecolor": "white",
           "landcolor": "#E5ECF6",
           "showlakes": true,
           "showland": true,
           "subunitcolor": "white"
          },
          "hoverlabel": {
           "align": "left"
          },
          "hovermode": "closest",
          "mapbox": {
           "style": "light"
          },
          "paper_bgcolor": "white",
          "plot_bgcolor": "#E5ECF6",
          "polar": {
           "angularaxis": {
            "gridcolor": "white",
            "linecolor": "white",
            "ticks": ""
           },
           "bgcolor": "#E5ECF6",
           "radialaxis": {
            "gridcolor": "white",
            "linecolor": "white",
            "ticks": ""
           }
          },
          "scene": {
           "xaxis": {
            "backgroundcolor": "#E5ECF6",
            "gridcolor": "white",
            "gridwidth": 2,
            "linecolor": "white",
            "showbackground": true,
            "ticks": "",
            "zerolinecolor": "white"
           },
           "yaxis": {
            "backgroundcolor": "#E5ECF6",
            "gridcolor": "white",
            "gridwidth": 2,
            "linecolor": "white",
            "showbackground": true,
            "ticks": "",
            "zerolinecolor": "white"
           },
           "zaxis": {
            "backgroundcolor": "#E5ECF6",
            "gridcolor": "white",
            "gridwidth": 2,
            "linecolor": "white",
            "showbackground": true,
            "ticks": "",
            "zerolinecolor": "white"
           }
          },
          "shapedefaults": {
           "line": {
            "color": "#2a3f5f"
           }
          },
          "ternary": {
           "aaxis": {
            "gridcolor": "white",
            "linecolor": "white",
            "ticks": ""
           },
           "baxis": {
            "gridcolor": "white",
            "linecolor": "white",
            "ticks": ""
           },
           "bgcolor": "#E5ECF6",
           "caxis": {
            "gridcolor": "white",
            "linecolor": "white",
            "ticks": ""
           }
          },
          "title": {
           "x": 0.05
          },
          "xaxis": {
           "automargin": true,
           "gridcolor": "white",
           "linecolor": "white",
           "ticks": "",
           "title": {
            "standoff": 15
           },
           "zerolinecolor": "white",
           "zerolinewidth": 2
          },
          "yaxis": {
           "automargin": true,
           "gridcolor": "white",
           "linecolor": "white",
           "ticks": "",
           "title": {
            "standoff": 15
           },
           "zerolinecolor": "white",
           "zerolinewidth": 2
          }
         }
        },
        "width": 800,
        "xaxis": {
         "anchor": "y",
         "categoryarray": [
          "Human",
          "ISC-CI",
          "GPT-3.5",
          "GPT-4"
         ],
         "categoryorder": "array",
         "domain": [
          0,
          1
         ],
         "linecolor": "black",
         "linewidth": 1.5,
         "mirror": true,
         "showgrid": false,
         "showline": true,
         "tickfont": {
          "size": 20
         },
         "ticks": "outside",
         "title": {
          "font": {
           "size": 24
          },
          "text": "Model"
         }
        },
        "yaxis": {
         "anchor": "x",
         "domain": [
          0,
          1
         ],
         "linecolor": "black",
         "linewidth": 1.5,
         "mirror": true,
         "range": [
          0,
          1
         ],
         "showgrid": false,
         "showline": true,
         "tickfont": {
          "size": 20
         },
         "ticks": "outside",
         "title": {
          "font": {
           "size": 24
          },
          "text": "Agreement with Humans (%)"
         }
        }
       }
      }
     },
     "metadata": {},
     "output_type": "display_data"
    }
   ],
   "source": [
    "# Generate bar plot\n",
    "model_direction_data = model_data.copy()\n",
    "model_direction_data['Agreement with Humans (%)'] = (model_direction_data['Agreement with Humans (%)']>0).astype(float)\n",
    "plot_data = model_direction_data.groupby(['Model']).mean().reset_index()\n",
    "fig = px.bar(plot_data,x='Model',color='Model',y='Agreement with Humans (%)',\n",
    "             category_orders={'Model':['Human']+models},\n",
    "             color_discrete_map=utils.model_colors,range_y=[0,1])\n",
    "fig.add_hline(y=0.5, line_dash='dot', line_color=\"black\")\n",
    "fig = utils.format_figure(fig,height=600,width=800,showlegend=False)\n",
    "\n",
    "# Calculate significance & add to plot\n",
    "model_effect_sizes = model_direction_data.groupby(['Model']).sum().reset_index()\n",
    "model_effect_sizes['Count'] = model_direction_data.groupby(['Model']).count().reset_index()['Agreement with Humans (%)']\n",
    "model_effect_sizes['pval'] = binom.sf(model_effect_sizes['Agreement with Humans (%)']-1,model_effect_sizes['Count'],0.5)\n",
    "model_effect_sizes['p_stars'] = model_effect_sizes['pval'].apply(utils.p_to_stars)\n",
    "model_effect_sizes['Bar Height'] = model_effect_sizes['Agreement with Humans (%)']/model_effect_sizes['Count']\n",
    "for model in models:\n",
    "    p_stars = model_effect_sizes[model_effect_sizes['Model']==model]['p_stars'].values[0]\n",
    "    bar_height = model_effect_sizes[model_effect_sizes['Model']==model]['Bar Height'].values[0]\n",
    "    fig.add_annotation(x=model,y=bar_height+0.05,text=p_stars,\n",
    "                       showarrow=False,font=dict(size=16))\n",
    "\n",
    "fig.show()"
   ]
  }
 ],
 "metadata": {
  "kernelspec": {
   "display_name": "calypso2",
   "language": "python",
   "name": "python3"
  },
  "language_info": {
   "codemirror_mode": {
    "name": "ipython",
    "version": 3
   },
   "file_extension": ".py",
   "mimetype": "text/x-python",
   "name": "python",
   "nbconvert_exporter": "python",
   "pygments_lexer": "ipython3",
   "version": "3.10.2"
  }
 },
 "nbformat": 4,
 "nbformat_minor": 2
}
