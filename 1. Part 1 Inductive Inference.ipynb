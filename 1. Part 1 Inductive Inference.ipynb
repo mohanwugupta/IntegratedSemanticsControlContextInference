{
 "cells": [
  {
   "cell_type": "markdown",
   "metadata": {},
   "source": [
    "# Setup & Imports\n",
    "\n",
    "Note that the ISC-CI model was renamed from the \"CICO model\" and some references in the code remain outdated."
   ]
  },
  {
   "cell_type": "code",
   "execution_count": 32,
   "metadata": {},
   "outputs": [
    {
     "name": "stdout",
     "output_type": "stream",
     "text": [
      "The autoreload extension is already loaded. To reload it, use:\n",
      "  %reload_ext autoreload\n"
     ]
    }
   ],
   "source": [
    "%load_ext autoreload\n",
    "%autoreload 2\n",
    "\n",
    "import warnings\n",
    "warnings.filterwarnings('ignore')\n",
    "\n",
    "import numpy as np\n",
    "import pandas as pd\n",
    "import plotly.express as px\n",
    "from scipy.stats import ttest_ind, ttest_rel\n",
    "\n",
    "import analysis\n",
    "import utils\n",
    "\n",
    "# Parameters for analysis\n",
    "models = ['ISC-CI','Overlap','SCM','GPT-3.5','GPT-4']\n",
    "\n",
    "# Load isc-ci model\n",
    "cico_model, data_loader = utils.load_cico_model(model_type='1and2shot_isc',model_seed=3)"
   ]
  },
  {
   "cell_type": "markdown",
   "metadata": {},
   "source": [
    "# Study 1"
   ]
  },
  {
   "cell_type": "markdown",
   "metadata": {},
   "source": [
    "## Argument Strength Ratings"
   ]
  },
  {
   "cell_type": "code",
   "execution_count": 33,
   "metadata": {},
   "outputs": [
    {
     "data": {
      "application/vnd.plotly.v1+json": {
       "config": {
        "plotlyServerURL": "https://plot.ly"
       },
       "data": [
        {
         "alignmentgroup": "True",
         "error_y": {
          "array": [
           0.1317835539421443,
           0.14769803816122296,
           0.04327936194948212,
           0.18263394764426488,
           0.18421573163671434
          ],
          "arrayminus": [
           0.1520012401859469,
           0.1662864578892647,
           0.047171750487110975,
           0.5146098895312154,
           0.25691577838819507
          ]
         },
         "hovertemplate": "Model=ISC-CI<br>Dataset=%{x}<br>Correlation=%{y}<extra></extra>",
         "legendgroup": "ISC-CI",
         "marker": {
          "color": "#6797D5",
          "pattern": {
           "shape": ""
          }
         },
         "name": "ISC-CI",
         "offsetgroup": "ISC-CI",
         "orientation": "v",
         "showlegend": true,
         "textposition": "auto",
         "type": "bar",
         "x": [
          "Bhatia - Exp 1",
          "Bhatia - Exp 3",
          "Han - Exp 2",
          "Osherson - Exp 4",
          "Rips"
         ],
         "xaxis": "x",
         "y": [
          0.41692936254130547,
          0.3357633094364513,
          0.6047026163708715,
          0.7561943001239633,
          0.5422300916749468
         ],
         "yaxis": "y"
        },
        {
         "alignmentgroup": "True",
         "error_y": {
          "array": [
           0.10086482659315499,
           0.1231290780671282,
           0.032207605371127435,
           0.03293104470679942,
           0.226821491237934
          ],
          "arrayminus": [
           0.12355285242515557,
           0.1464753230467709,
           0.035706473464570454,
           0.13282992295967655,
           0.29012576052110817
          ]
         },
         "hovertemplate": "Model=Overlap<br>Dataset=%{x}<br>Correlation=%{y}<extra></extra>",
         "legendgroup": "Overlap",
         "marker": {
          "color": "#7DA381",
          "pattern": {
           "shape": ""
          }
         },
         "name": "Overlap",
         "offsetgroup": "Overlap",
         "orientation": "v",
         "showlegend": true,
         "textposition": "auto",
         "type": "bar",
         "x": [
          "Bhatia - Exp 1",
          "Bhatia - Exp 3",
          "Han - Exp 2",
          "Osherson - Exp 4",
          "Rips"
         ],
         "xaxis": "x",
         "y": [
          0.591643083598825,
          0.4911215956517247,
          0.723947930167883,
          0.9571716132821261,
          0.40290603747937176
         ],
         "yaxis": "y"
        },
        {
         "alignmentgroup": "True",
         "error_y": {
          "array": [
           0.11306473277210971,
           0.12499488807855652,
           0.0376474364123095,
           0.10763725920466305,
           0.22609190351403136
          ],
          "arrayminus": [
           0.1354834623987698,
           0.14814213779873603,
           0.04140371302536994,
           0.3607681243982304,
           0.2896577980484007
          ]
         },
         "hovertemplate": "Model=SCM<br>Dataset=%{x}<br>Correlation=%{y}<extra></extra>",
         "legendgroup": "SCM",
         "marker": {
          "color": "#7BD47E",
          "pattern": {
           "shape": ""
          }
         },
         "name": "SCM",
         "offsetgroup": "SCM",
         "orientation": "v",
         "showlegend": true,
         "textposition": "auto",
         "type": "bar",
         "x": [
          "Bhatia - Exp 1",
          "Bhatia - Exp 3",
          "Han - Exp 2",
          "Osherson - Exp 4",
          "Rips"
         ],
         "xaxis": "x",
         "y": [
          0.527862166493101,
          0.48063765411096526,
          0.6677116479605556,
          0.8582912747924393,
          0.40551057435587573
         ],
         "yaxis": "y"
        },
        {
         "alignmentgroup": "True",
         "error_y": {
          "array": [
           0.17024144662394305,
           0.174934314356179,
           0.027875191171489067,
           0.24242171256481104,
           0.30906129843306773
          ],
          "arrayminus": [
           0.17138276875145553,
           0.1772358291372307,
           0.03108998527505602,
           0.598310864297128,
           0.2960486830677324
          ]
         },
         "hovertemplate": "Model=GPT-3.5<br>Dataset=%{x}<br>Correlation=%{y}<extra></extra>",
         "legendgroup": "GPT-3.5",
         "marker": {
          "color": "#F4A24C",
          "pattern": {
           "shape": ""
          }
         },
         "name": "GPT-3.5",
         "offsetgroup": "GPT-3.5",
         "orientation": "v",
         "showlegend": true,
         "textposition": "auto",
         "type": "bar",
         "x": [
          "Bhatia - Exp 1",
          "Bhatia - Exp 3",
          "Han - Exp 2",
          "Osherson - Exp 4",
          "Rips"
         ],
         "xaxis": "x",
         "y": [
          0.01955148461122782,
          0.037064675701674966,
          0.766120592483394,
          0.6723081038143135,
          -0.07075339472220647
         ],
         "yaxis": "y"
        },
        {
         "alignmentgroup": "True",
         "error_y": {
          "array": [
           0.06659367881156009,
           0.11970339018768739,
           0.02658598985689431,
           0.16404848205919864,
           0.2560669118053837
          ],
          "arrayminus": [
           0.08613014226248905,
           0.14335659772475934,
           0.029703623131545398,
           0.4821228801906831,
           0.30537769986492447
          ]
         },
         "hovertemplate": "Model=GPT-4<br>Dataset=%{x}<br>Correlation=%{y}<extra></extra>",
         "legendgroup": "GPT-4",
         "marker": {
          "color": "#F48777",
          "pattern": {
           "shape": ""
          }
         },
         "name": "GPT-4",
         "offsetgroup": "GPT-4",
         "orientation": "v",
         "showlegend": true,
         "textposition": "auto",
         "type": "bar",
         "x": [
          "Bhatia - Exp 1",
          "Bhatia - Exp 3",
          "Han - Exp 2",
          "Osherson - Exp 4",
          "Rips"
         ],
         "xaxis": "x",
         "y": [
          0.7486163676945244,
          0.5099577743617817,
          0.7782808428219772,
          0.7817942637344654,
          0.28896951636240736
         ],
         "yaxis": "y"
        }
       ],
       "layout": {
        "barmode": "group",
        "legend": {
         "font": {
          "size": 15
         },
         "orientation": "h",
         "title": {
          "text": ""
         },
         "tracegroupgap": 0,
         "x": 0.99,
         "xanchor": "right",
         "y": 0.99,
         "yanchor": "top"
        },
        "margin": {
         "t": 60
        },
        "plot_bgcolor": "white",
        "shapes": [
         {
          "type": "line",
          "x0": 0,
          "x1": 1,
          "xref": "x domain",
          "y0": 0,
          "y1": 0,
          "yref": "y"
         }
        ],
        "template": {
         "data": {
          "bar": [
           {
            "error_x": {
             "color": "#2a3f5f"
            },
            "error_y": {
             "color": "#2a3f5f"
            },
            "marker": {
             "line": {
              "color": "#E5ECF6",
              "width": 0.5
             },
             "pattern": {
              "fillmode": "overlay",
              "size": 10,
              "solidity": 0.2
             }
            },
            "type": "bar"
           }
          ],
          "barpolar": [
           {
            "marker": {
             "line": {
              "color": "#E5ECF6",
              "width": 0.5
             },
             "pattern": {
              "fillmode": "overlay",
              "size": 10,
              "solidity": 0.2
             }
            },
            "type": "barpolar"
           }
          ],
          "carpet": [
           {
            "aaxis": {
             "endlinecolor": "#2a3f5f",
             "gridcolor": "white",
             "linecolor": "white",
             "minorgridcolor": "white",
             "startlinecolor": "#2a3f5f"
            },
            "baxis": {
             "endlinecolor": "#2a3f5f",
             "gridcolor": "white",
             "linecolor": "white",
             "minorgridcolor": "white",
             "startlinecolor": "#2a3f5f"
            },
            "type": "carpet"
           }
          ],
          "choropleth": [
           {
            "colorbar": {
             "outlinewidth": 0,
             "ticks": ""
            },
            "type": "choropleth"
           }
          ],
          "contour": [
           {
            "colorbar": {
             "outlinewidth": 0,
             "ticks": ""
            },
            "colorscale": [
             [
              0,
              "#0d0887"
             ],
             [
              0.1111111111111111,
              "#46039f"
             ],
             [
              0.2222222222222222,
              "#7201a8"
             ],
             [
              0.3333333333333333,
              "#9c179e"
             ],
             [
              0.4444444444444444,
              "#bd3786"
             ],
             [
              0.5555555555555556,
              "#d8576b"
             ],
             [
              0.6666666666666666,
              "#ed7953"
             ],
             [
              0.7777777777777778,
              "#fb9f3a"
             ],
             [
              0.8888888888888888,
              "#fdca26"
             ],
             [
              1,
              "#f0f921"
             ]
            ],
            "type": "contour"
           }
          ],
          "contourcarpet": [
           {
            "colorbar": {
             "outlinewidth": 0,
             "ticks": ""
            },
            "type": "contourcarpet"
           }
          ],
          "heatmap": [
           {
            "colorbar": {
             "outlinewidth": 0,
             "ticks": ""
            },
            "colorscale": [
             [
              0,
              "#0d0887"
             ],
             [
              0.1111111111111111,
              "#46039f"
             ],
             [
              0.2222222222222222,
              "#7201a8"
             ],
             [
              0.3333333333333333,
              "#9c179e"
             ],
             [
              0.4444444444444444,
              "#bd3786"
             ],
             [
              0.5555555555555556,
              "#d8576b"
             ],
             [
              0.6666666666666666,
              "#ed7953"
             ],
             [
              0.7777777777777778,
              "#fb9f3a"
             ],
             [
              0.8888888888888888,
              "#fdca26"
             ],
             [
              1,
              "#f0f921"
             ]
            ],
            "type": "heatmap"
           }
          ],
          "heatmapgl": [
           {
            "colorbar": {
             "outlinewidth": 0,
             "ticks": ""
            },
            "colorscale": [
             [
              0,
              "#0d0887"
             ],
             [
              0.1111111111111111,
              "#46039f"
             ],
             [
              0.2222222222222222,
              "#7201a8"
             ],
             [
              0.3333333333333333,
              "#9c179e"
             ],
             [
              0.4444444444444444,
              "#bd3786"
             ],
             [
              0.5555555555555556,
              "#d8576b"
             ],
             [
              0.6666666666666666,
              "#ed7953"
             ],
             [
              0.7777777777777778,
              "#fb9f3a"
             ],
             [
              0.8888888888888888,
              "#fdca26"
             ],
             [
              1,
              "#f0f921"
             ]
            ],
            "type": "heatmapgl"
           }
          ],
          "histogram": [
           {
            "marker": {
             "pattern": {
              "fillmode": "overlay",
              "size": 10,
              "solidity": 0.2
             }
            },
            "type": "histogram"
           }
          ],
          "histogram2d": [
           {
            "colorbar": {
             "outlinewidth": 0,
             "ticks": ""
            },
            "colorscale": [
             [
              0,
              "#0d0887"
             ],
             [
              0.1111111111111111,
              "#46039f"
             ],
             [
              0.2222222222222222,
              "#7201a8"
             ],
             [
              0.3333333333333333,
              "#9c179e"
             ],
             [
              0.4444444444444444,
              "#bd3786"
             ],
             [
              0.5555555555555556,
              "#d8576b"
             ],
             [
              0.6666666666666666,
              "#ed7953"
             ],
             [
              0.7777777777777778,
              "#fb9f3a"
             ],
             [
              0.8888888888888888,
              "#fdca26"
             ],
             [
              1,
              "#f0f921"
             ]
            ],
            "type": "histogram2d"
           }
          ],
          "histogram2dcontour": [
           {
            "colorbar": {
             "outlinewidth": 0,
             "ticks": ""
            },
            "colorscale": [
             [
              0,
              "#0d0887"
             ],
             [
              0.1111111111111111,
              "#46039f"
             ],
             [
              0.2222222222222222,
              "#7201a8"
             ],
             [
              0.3333333333333333,
              "#9c179e"
             ],
             [
              0.4444444444444444,
              "#bd3786"
             ],
             [
              0.5555555555555556,
              "#d8576b"
             ],
             [
              0.6666666666666666,
              "#ed7953"
             ],
             [
              0.7777777777777778,
              "#fb9f3a"
             ],
             [
              0.8888888888888888,
              "#fdca26"
             ],
             [
              1,
              "#f0f921"
             ]
            ],
            "type": "histogram2dcontour"
           }
          ],
          "mesh3d": [
           {
            "colorbar": {
             "outlinewidth": 0,
             "ticks": ""
            },
            "type": "mesh3d"
           }
          ],
          "parcoords": [
           {
            "line": {
             "colorbar": {
              "outlinewidth": 0,
              "ticks": ""
             }
            },
            "type": "parcoords"
           }
          ],
          "pie": [
           {
            "automargin": true,
            "type": "pie"
           }
          ],
          "scatter": [
           {
            "fillpattern": {
             "fillmode": "overlay",
             "size": 10,
             "solidity": 0.2
            },
            "type": "scatter"
           }
          ],
          "scatter3d": [
           {
            "line": {
             "colorbar": {
              "outlinewidth": 0,
              "ticks": ""
             }
            },
            "marker": {
             "colorbar": {
              "outlinewidth": 0,
              "ticks": ""
             }
            },
            "type": "scatter3d"
           }
          ],
          "scattercarpet": [
           {
            "marker": {
             "colorbar": {
              "outlinewidth": 0,
              "ticks": ""
             }
            },
            "type": "scattercarpet"
           }
          ],
          "scattergeo": [
           {
            "marker": {
             "colorbar": {
              "outlinewidth": 0,
              "ticks": ""
             }
            },
            "type": "scattergeo"
           }
          ],
          "scattergl": [
           {
            "marker": {
             "colorbar": {
              "outlinewidth": 0,
              "ticks": ""
             }
            },
            "type": "scattergl"
           }
          ],
          "scattermapbox": [
           {
            "marker": {
             "colorbar": {
              "outlinewidth": 0,
              "ticks": ""
             }
            },
            "type": "scattermapbox"
           }
          ],
          "scatterpolar": [
           {
            "marker": {
             "colorbar": {
              "outlinewidth": 0,
              "ticks": ""
             }
            },
            "type": "scatterpolar"
           }
          ],
          "scatterpolargl": [
           {
            "marker": {
             "colorbar": {
              "outlinewidth": 0,
              "ticks": ""
             }
            },
            "type": "scatterpolargl"
           }
          ],
          "scatterternary": [
           {
            "marker": {
             "colorbar": {
              "outlinewidth": 0,
              "ticks": ""
             }
            },
            "type": "scatterternary"
           }
          ],
          "surface": [
           {
            "colorbar": {
             "outlinewidth": 0,
             "ticks": ""
            },
            "colorscale": [
             [
              0,
              "#0d0887"
             ],
             [
              0.1111111111111111,
              "#46039f"
             ],
             [
              0.2222222222222222,
              "#7201a8"
             ],
             [
              0.3333333333333333,
              "#9c179e"
             ],
             [
              0.4444444444444444,
              "#bd3786"
             ],
             [
              0.5555555555555556,
              "#d8576b"
             ],
             [
              0.6666666666666666,
              "#ed7953"
             ],
             [
              0.7777777777777778,
              "#fb9f3a"
             ],
             [
              0.8888888888888888,
              "#fdca26"
             ],
             [
              1,
              "#f0f921"
             ]
            ],
            "type": "surface"
           }
          ],
          "table": [
           {
            "cells": {
             "fill": {
              "color": "#EBF0F8"
             },
             "line": {
              "color": "white"
             }
            },
            "header": {
             "fill": {
              "color": "#C8D4E3"
             },
             "line": {
              "color": "white"
             }
            },
            "type": "table"
           }
          ]
         },
         "layout": {
          "annotationdefaults": {
           "arrowcolor": "#2a3f5f",
           "arrowhead": 0,
           "arrowwidth": 1
          },
          "autotypenumbers": "strict",
          "coloraxis": {
           "colorbar": {
            "outlinewidth": 0,
            "ticks": ""
           }
          },
          "colorscale": {
           "diverging": [
            [
             0,
             "#8e0152"
            ],
            [
             0.1,
             "#c51b7d"
            ],
            [
             0.2,
             "#de77ae"
            ],
            [
             0.3,
             "#f1b6da"
            ],
            [
             0.4,
             "#fde0ef"
            ],
            [
             0.5,
             "#f7f7f7"
            ],
            [
             0.6,
             "#e6f5d0"
            ],
            [
             0.7,
             "#b8e186"
            ],
            [
             0.8,
             "#7fbc41"
            ],
            [
             0.9,
             "#4d9221"
            ],
            [
             1,
             "#276419"
            ]
           ],
           "sequential": [
            [
             0,
             "#0d0887"
            ],
            [
             0.1111111111111111,
             "#46039f"
            ],
            [
             0.2222222222222222,
             "#7201a8"
            ],
            [
             0.3333333333333333,
             "#9c179e"
            ],
            [
             0.4444444444444444,
             "#bd3786"
            ],
            [
             0.5555555555555556,
             "#d8576b"
            ],
            [
             0.6666666666666666,
             "#ed7953"
            ],
            [
             0.7777777777777778,
             "#fb9f3a"
            ],
            [
             0.8888888888888888,
             "#fdca26"
            ],
            [
             1,
             "#f0f921"
            ]
           ],
           "sequentialminus": [
            [
             0,
             "#0d0887"
            ],
            [
             0.1111111111111111,
             "#46039f"
            ],
            [
             0.2222222222222222,
             "#7201a8"
            ],
            [
             0.3333333333333333,
             "#9c179e"
            ],
            [
             0.4444444444444444,
             "#bd3786"
            ],
            [
             0.5555555555555556,
             "#d8576b"
            ],
            [
             0.6666666666666666,
             "#ed7953"
            ],
            [
             0.7777777777777778,
             "#fb9f3a"
            ],
            [
             0.8888888888888888,
             "#fdca26"
            ],
            [
             1,
             "#f0f921"
            ]
           ]
          },
          "colorway": [
           "#636efa",
           "#EF553B",
           "#00cc96",
           "#ab63fa",
           "#FFA15A",
           "#19d3f3",
           "#FF6692",
           "#B6E880",
           "#FF97FF",
           "#FECB52"
          ],
          "font": {
           "color": "#2a3f5f"
          },
          "geo": {
           "bgcolor": "white",
           "lakecolor": "white",
           "landcolor": "#E5ECF6",
           "showlakes": true,
           "showland": true,
           "subunitcolor": "white"
          },
          "hoverlabel": {
           "align": "left"
          },
          "hovermode": "closest",
          "mapbox": {
           "style": "light"
          },
          "paper_bgcolor": "white",
          "plot_bgcolor": "#E5ECF6",
          "polar": {
           "angularaxis": {
            "gridcolor": "white",
            "linecolor": "white",
            "ticks": ""
           },
           "bgcolor": "#E5ECF6",
           "radialaxis": {
            "gridcolor": "white",
            "linecolor": "white",
            "ticks": ""
           }
          },
          "scene": {
           "xaxis": {
            "backgroundcolor": "#E5ECF6",
            "gridcolor": "white",
            "gridwidth": 2,
            "linecolor": "white",
            "showbackground": true,
            "ticks": "",
            "zerolinecolor": "white"
           },
           "yaxis": {
            "backgroundcolor": "#E5ECF6",
            "gridcolor": "white",
            "gridwidth": 2,
            "linecolor": "white",
            "showbackground": true,
            "ticks": "",
            "zerolinecolor": "white"
           },
           "zaxis": {
            "backgroundcolor": "#E5ECF6",
            "gridcolor": "white",
            "gridwidth": 2,
            "linecolor": "white",
            "showbackground": true,
            "ticks": "",
            "zerolinecolor": "white"
           }
          },
          "shapedefaults": {
           "line": {
            "color": "#2a3f5f"
           }
          },
          "ternary": {
           "aaxis": {
            "gridcolor": "white",
            "linecolor": "white",
            "ticks": ""
           },
           "baxis": {
            "gridcolor": "white",
            "linecolor": "white",
            "ticks": ""
           },
           "bgcolor": "#E5ECF6",
           "caxis": {
            "gridcolor": "white",
            "linecolor": "white",
            "ticks": ""
           }
          },
          "title": {
           "x": 0.05
          },
          "xaxis": {
           "automargin": true,
           "gridcolor": "white",
           "linecolor": "white",
           "ticks": "",
           "title": {
            "standoff": 15
           },
           "zerolinecolor": "white",
           "zerolinewidth": 2
          },
          "yaxis": {
           "automargin": true,
           "gridcolor": "white",
           "linecolor": "white",
           "ticks": "",
           "title": {
            "standoff": 15
           },
           "zerolinecolor": "white",
           "zerolinewidth": 2
          }
         }
        },
        "xaxis": {
         "anchor": "y",
         "categoryarray": [
          "Osherson - Exp 4",
          "Rips",
          "Bhatia - Exp 1",
          "Bhatia - Exp 3",
          "Han - Exp 2"
         ],
         "categoryorder": "array",
         "domain": [
          0,
          1
         ],
         "linecolor": "black",
         "linewidth": 1.5,
         "mirror": true,
         "showgrid": false,
         "showline": true,
         "tickfont": {
          "size": 20
         },
         "ticks": "outside",
         "title": {
          "font": {
           "size": 24
          },
          "text": "Dataset"
         }
        },
        "yaxis": {
         "anchor": "x",
         "domain": [
          0,
          1
         ],
         "linecolor": "black",
         "linewidth": 1.5,
         "mirror": true,
         "showgrid": false,
         "showline": true,
         "tickfont": {
          "size": 20
         },
         "ticks": "outside",
         "title": {
          "font": {
           "size": 24
          },
          "text": "Correlation"
         }
        }
       }
      }
     },
     "metadata": {},
     "output_type": "display_data"
    }
   ],
   "source": [
    "# Load arguments & run models to generate strength predictions\n",
    "argument_data = pd.read_csv('data/generalization_experiments/induction_arguments.csv', index_col=0)\n",
    "argument_data = analysis.calc_argument_strength(argument_data, cico_model, data_loader)\n",
    "argument_data = analysis.calc_argument_strength_overlap(argument_data)\n",
    "argument_data = analysis.calc_argument_strength_scm(argument_data)\n",
    "\n",
    "# Calculate pearson correlation between model & human strength ratings within each dataset\n",
    "plot_data = argument_data.groupby(['Dataset']).corr('pearson')[['Human']].reset_index().melt(id_vars=['Dataset','level_1']).rename(columns={'level_1':'Model','value':'Correlation'})\n",
    "plot_data = plot_data[plot_data['Model'].isin(models)]\n",
    "# Calculate 95% CI for the correlations\n",
    "dataset_n = argument_data.groupby(['Dataset']).count()[['Conclusion']].rename(columns={'Conclusion':'n'})\n",
    "plot_data = plot_data.join(dataset_n,on='Dataset')\n",
    "plot_data = utils.calc_pearson_ci(plot_data)\n",
    "\n",
    "# Plot correlations\n",
    "fig = px.bar(plot_data, x='Dataset', y='Correlation', color='Model', barmode='group',\n",
    "             error_y_minus = plot_data['Correlation']-plot_data['95ci lower'], error_y = plot_data['95ci upper']-plot_data['Correlation'],\n",
    "             category_orders={'Model':models,\n",
    "                              'Dataset':['Osherson - Exp 4','Rips','Bhatia - Exp 1','Bhatia - Exp 3','Han - Exp 2']},\n",
    "             color_discrete_map=utils.model_colors)\n",
    "fig = utils.format_figure(fig)\n",
    "fig.update_layout(legend=dict(title='',orientation='h',yanchor='top',y=0.99,xanchor='right',x=0.99,\n",
    "                              font=dict(size=15)))\n",
    "fig.add_hline(y=0)\n",
    "fig.show()"
   ]
  },
  {
   "cell_type": "markdown",
   "metadata": {},
   "source": [
    "## Argument Strength Factors"
   ]
  },
  {
   "cell_type": "code",
   "execution_count": 34,
   "metadata": {},
   "outputs": [],
   "source": [
    "argument_data = pd.read_csv('data/generalization_experiments/inductive_phenomena.csv', index_col=0)\n",
    "argument_data = analysis.calc_argument_strength(argument_data, cico_model, data_loader)\n",
    "argument_data = analysis.calc_argument_strength_overlap(argument_data)\n",
    "argument_data = analysis.calc_argument_strength_scm(argument_data)\n",
    "\n",
    "argument_data['ISC-CI'] = 1/(1+np.exp(-argument_data['ISC-CI'])) # Sigmoid model ratings to maintain scale vs other models\n",
    "argument_data['GPT-3.5'] /= 100 # Scale GPT-3.5 ratings to maintain scale vs other models\n",
    "argument_data['GPT-4'] /= 100 # Scale GPT-4 ratings to maintain scale vs other models\n",
    "\n",
    "argument_data['Phenomenon'] = argument_data.Phenomenon.replace({'Monotonicity':'In-Category Monotonicity',\n",
    "                                                        'Non-Monotonicity (In-Category)': 'In-Category Non-Monotonicity',\n",
    "                                                        'Non-Monotonicity (Cross-Category)': 'Cross-Category Non-Monotonicity'})"
   ]
  },
  {
   "cell_type": "code",
   "execution_count": 35,
   "metadata": {},
   "outputs": [
    {
     "data": {
      "application/vnd.plotly.v1+json": {
       "config": {
        "plotlyServerURL": "https://plot.ly"
       },
       "data": [
        {
         "alignmentgroup": "True",
         "error_y": {
          "array": [
           0.031006825386567797,
           0.01455871427188888,
           0.02120709068558321,
           0.005005757899852474,
           0.004079935005278935
          ]
         },
         "hovertemplate": "Argument Group=High<br>Phenomenon=Premise-Conclusion Similarity<br>Model=%{x}<br>Rating=%{y}<extra></extra>",
         "legendgroup": "High",
         "marker": {
          "color": [
           "#F4A24C",
           "#F48777",
           "#6797D5",
           "#7DA381",
           "#7BD47E"
          ],
          "pattern": {
           "shape": ""
          }
         },
         "name": "High",
         "offsetgroup": "High",
         "orientation": "v",
         "showlegend": true,
         "textposition": "auto",
         "type": "bar",
         "x": [
          "GPT-3.5",
          "GPT-4",
          "ISC-CI",
          "Overlap",
          "SCM"
         ],
         "xaxis": "x4",
         "y": [
          0.5047,
          0.6139,
          0.5286827177405358,
          0.823837554892598,
          0.7999094697015056
         ],
         "yaxis": "y4"
        },
        {
         "alignmentgroup": "True",
         "error_y": {
          "array": [
           0.033259965820583666,
           0.01446864919850163,
           0.02525534808492989,
           0.006892568854621158,
           0.00589877654723069
          ]
         },
         "hovertemplate": "Argument Group=High<br>Phenomenon=Conclusion Typicality<br>Model=%{x}<br>Rating=%{y}<extra></extra>",
         "legendgroup": "High",
         "marker": {
          "color": [
           "#F4A24C",
           "#F48777",
           "#6797D5",
           "#7DA381",
           "#7BD47E"
          ],
          "pattern": {
           "shape": ""
          }
         },
         "name": "High",
         "offsetgroup": "High",
         "orientation": "v",
         "showlegend": false,
         "textposition": "auto",
         "type": "bar",
         "x": [
          "GPT-3.5",
          "GPT-4",
          "ISC-CI",
          "Overlap",
          "SCM"
         ],
         "xaxis": "x5",
         "y": [
          0.7761363636363636,
          0.7035123966942148,
          0.6326332704225662,
          0.8066340071278529,
          0.797065239053092
         ],
         "yaxis": "y5"
        },
        {
         "alignmentgroup": "True",
         "error_y": {
          "array": [
           0.036171429083904666,
           0.014405981963916563,
           0.025939974260146766,
           0.005879764424890989,
           0.004831153235187852
          ]
         },
         "hovertemplate": "Argument Group=High<br>Phenomenon=Premise Diversity<br>Model=%{x}<br>Rating=%{y}<extra></extra>",
         "legendgroup": "High",
         "marker": {
          "color": [
           "#F4A24C",
           "#F48777",
           "#6797D5",
           "#7DA381",
           "#7BD47E"
          ],
          "pattern": {
           "shape": ""
          }
         },
         "name": "High",
         "offsetgroup": "High",
         "orientation": "v",
         "showlegend": false,
         "textposition": "auto",
         "type": "bar",
         "x": [
          "GPT-3.5",
          "GPT-4",
          "ISC-CI",
          "Overlap",
          "SCM"
         ],
         "xaxis": "x6",
         "y": [
          0.6416000000000001,
          0.6222000000000001,
          0.598632332406938,
          0.7709490408587273,
          0.7651020847620909
         ],
         "yaxis": "y6"
        },
        {
         "alignmentgroup": "True",
         "error_y": {
          "array": [
           0.03594309582329723,
           0.01527379268938257,
           0.026913983416268692,
           0.0071501916272417735,
           0.005673692534192284
          ]
         },
         "hovertemplate": "Argument Group=High<br>Phenomenon=In-Category Monotonicity<br>Model=%{x}<br>Rating=%{y}<extra></extra>",
         "legendgroup": "High",
         "marker": {
          "color": [
           "#F4A24C",
           "#F48777",
           "#6797D5",
           "#7DA381",
           "#7BD47E"
          ],
          "pattern": {
           "shape": ""
          }
         },
         "name": "High",
         "offsetgroup": "High",
         "orientation": "v",
         "showlegend": false,
         "textposition": "auto",
         "type": "bar",
         "x": [
          "GPT-3.5",
          "GPT-4",
          "ISC-CI",
          "Overlap",
          "SCM"
         ],
         "xaxis": "x",
         "y": [
          0.6979,
          0.6581999999999999,
          0.5437138210735284,
          0.7901187082415964,
          0.7878809492583773
         ],
         "yaxis": "y"
        },
        {
         "alignmentgroup": "True",
         "error_y": {
          "array": [
           0.028514638148935515,
           0.01712931537724825,
           0.022593085923796736,
           0.008827628511476285,
           0.0064737829200821615
          ]
         },
         "hovertemplate": "Argument Group=High<br>Phenomenon=In-Category Non-Monotonicity<br>Model=%{x}<br>Rating=%{y}<extra></extra>",
         "legendgroup": "High",
         "marker": {
          "color": [
           "#F4A24C",
           "#F48777",
           "#6797D5",
           "#7DA381",
           "#7BD47E"
          ],
          "pattern": {
           "shape": ""
          }
         },
         "name": "High",
         "offsetgroup": "High",
         "orientation": "v",
         "showlegend": false,
         "textposition": "auto",
         "type": "bar",
         "x": [
          "GPT-3.5",
          "GPT-4",
          "ISC-CI",
          "Overlap",
          "SCM"
         ],
         "xaxis": "x2",
         "y": [
          0.32914230019493174,
          0.5142300194931774,
          0.39068592251342,
          0.7344420469902628,
          0.7397770453498053
         ],
         "yaxis": "y2"
        },
        {
         "alignmentgroup": "True",
         "error_y": {
          "array": [
           0.03027167172804338,
           0.018722522143098067,
           0.022995356852050786,
           0.009270196480279547,
           0.006419513666108318
          ]
         },
         "hovertemplate": "Argument Group=High<br>Phenomenon=Cross-Category Non-Monotonicity<br>Model=%{x}<br>Rating=%{y}<extra></extra>",
         "legendgroup": "High",
         "marker": {
          "color": [
           "#F4A24C",
           "#F48777",
           "#6797D5",
           "#7DA381",
           "#7BD47E"
          ],
          "pattern": {
           "shape": ""
          }
         },
         "name": "High",
         "offsetgroup": "High",
         "orientation": "v",
         "showlegend": false,
         "textposition": "auto",
         "type": "bar",
         "x": [
          "GPT-3.5",
          "GPT-4",
          "ISC-CI",
          "Overlap",
          "SCM"
         ],
         "xaxis": "x3",
         "y": [
          0.3787,
          0.5214,
          0.40072222831845283,
          0.7411855513199016,
          0.7425365280670067
         ],
         "yaxis": "y3"
        },
        {
         "alignmentgroup": "True",
         "error_y": {
          "array": [
           0.025246528197358946,
           0.015723969613071178,
           0.017075528938745185,
           0.005619895505186934,
           0.004616043967961254
          ]
         },
         "hovertemplate": "Argument Group=Low<br>Phenomenon=Premise-Conclusion Similarity<br>Model=%{x}<br>Rating=%{y}<extra></extra>",
         "legendgroup": "Low",
         "marker": {
          "color": [
           "#F4A24C",
           "#F48777",
           "#6797D5",
           "#7DA381",
           "#7BD47E"
          ],
          "pattern": {
           "shape": "/"
          }
         },
         "name": "Low",
         "offsetgroup": "Low",
         "orientation": "v",
         "showlegend": true,
         "textposition": "auto",
         "type": "bar",
         "x": [
          "GPT-3.5",
          "GPT-4",
          "ISC-CI",
          "Overlap",
          "SCM"
         ],
         "xaxis": "x4",
         "y": [
          0.26439999999999997,
          0.4408,
          0.2759027780788019,
          0.663923212149108,
          0.6895316643216028
         ],
         "yaxis": "y4"
        },
        {
         "alignmentgroup": "True",
         "error_y": {
          "array": [
           0.03641669211653909,
           0.016020280204727597,
           0.025799259013840357,
           0.00713288182165287,
           0.005487871005222933
          ]
         },
         "hovertemplate": "Argument Group=Low<br>Phenomenon=Conclusion Typicality<br>Model=%{x}<br>Rating=%{y}<extra></extra>",
         "legendgroup": "Low",
         "marker": {
          "color": [
           "#F4A24C",
           "#F48777",
           "#6797D5",
           "#7DA381",
           "#7BD47E"
          ],
          "pattern": {
           "shape": "/"
          }
         },
         "name": "Low",
         "offsetgroup": "Low",
         "orientation": "v",
         "showlegend": false,
         "textposition": "auto",
         "type": "bar",
         "x": [
          "GPT-3.5",
          "GPT-4",
          "ISC-CI",
          "Overlap",
          "SCM"
         ],
         "xaxis": "x5",
         "y": [
          0.6826550387596899,
          0.6208333333333332,
          0.4674669561527269,
          0.7739873426143545,
          0.7771466175534076
         ],
         "yaxis": "y5"
        },
        {
         "alignmentgroup": "True",
         "error_y": {
          "array": [
           0.03747430989459517,
           0.01725327278668322,
           0.027579802868308204,
           0.007801899639228191,
           0.00585373168164898
          ]
         },
         "hovertemplate": "Argument Group=Low<br>Phenomenon=Premise Diversity<br>Model=%{x}<br>Rating=%{y}<extra></extra>",
         "legendgroup": "Low",
         "marker": {
          "color": [
           "#F4A24C",
           "#F48777",
           "#6797D5",
           "#7DA381",
           "#7BD47E"
          ],
          "pattern": {
           "shape": "/"
          }
         },
         "name": "Low",
         "offsetgroup": "Low",
         "orientation": "v",
         "showlegend": false,
         "textposition": "auto",
         "type": "bar",
         "x": [
          "GPT-3.5",
          "GPT-4",
          "ISC-CI",
          "Overlap",
          "SCM"
         ],
         "xaxis": "x6",
         "y": [
          0.6948,
          0.5859,
          0.5681234540166333,
          0.7781632159206904,
          0.7759508869197426
         ],
         "yaxis": "y6"
        },
        {
         "alignmentgroup": "True",
         "error_y": {
          "array": [
           0.02994720470312818,
           0.01741063869821436,
           0.021248142197265615,
           0.008673874873166485,
           0.00635475785507703
          ]
         },
         "hovertemplate": "Argument Group=Low<br>Phenomenon=In-Category Monotonicity<br>Model=%{x}<br>Rating=%{y}<extra></extra>",
         "legendgroup": "Low",
         "marker": {
          "color": [
           "#F4A24C",
           "#F48777",
           "#6797D5",
           "#7DA381",
           "#7BD47E"
          ],
          "pattern": {
           "shape": "/"
          }
         },
         "name": "Low",
         "offsetgroup": "Low",
         "orientation": "v",
         "showlegend": false,
         "textposition": "auto",
         "type": "bar",
         "x": [
          "GPT-3.5",
          "GPT-4",
          "ISC-CI",
          "Overlap",
          "SCM"
         ],
         "xaxis": "x",
         "y": [
          0.3513,
          0.5105,
          0.38494122568704187,
          0.7358459068655084,
          0.7410553336020654
         ],
         "yaxis": "y"
        },
        {
         "alignmentgroup": "True",
         "error_y": {
          "array": [
           0.041000359750926973,
           0.017502312673308533,
           0.027198108316755336,
           0.00815483426123545,
           0.006451162752544716
          ]
         },
         "hovertemplate": "Argument Group=Low<br>Phenomenon=In-Category Non-Monotonicity<br>Model=%{x}<br>Rating=%{y}<extra></extra>",
         "legendgroup": "Low",
         "marker": {
          "color": [
           "#F4A24C",
           "#F48777",
           "#6797D5",
           "#7DA381",
           "#7BD47E"
          ],
          "pattern": {
           "shape": "/"
          }
         },
         "name": "Low",
         "offsetgroup": "Low",
         "orientation": "v",
         "showlegend": false,
         "textposition": "auto",
         "type": "bar",
         "x": [
          "GPT-3.5",
          "GPT-4",
          "ISC-CI",
          "Overlap",
          "SCM"
         ],
         "xaxis": "x2",
         "y": [
          0.6315195071868583,
          0.5323408624229979,
          0.3669810745230679,
          0.7407469795436336,
          0.7551024905365419
         ],
         "yaxis": "y2"
        },
        {
         "alignmentgroup": "True",
         "error_y": {
          "array": [
           0.030587593788782657,
           0.015412916667275683,
           0.027740279580752838,
           0.009669925462965199,
           0.005215205095689849
          ]
         },
         "hovertemplate": "Argument Group=Low<br>Phenomenon=Cross-Category Non-Monotonicity<br>Model=%{x}<br>Rating=%{y}<extra></extra>",
         "legendgroup": "Low",
         "marker": {
          "color": [
           "#F4A24C",
           "#F48777",
           "#6797D5",
           "#7DA381",
           "#7BD47E"
          ],
          "pattern": {
           "shape": "/"
          }
         },
         "name": "Low",
         "offsetgroup": "Low",
         "orientation": "v",
         "showlegend": false,
         "textposition": "auto",
         "type": "bar",
         "x": [
          "GPT-3.5",
          "GPT-4",
          "ISC-CI",
          "Overlap",
          "SCM"
         ],
         "xaxis": "x3",
         "y": [
          0.4425,
          0.4863,
          0.40975520726281683,
          0.6180058061044055,
          0.6454911259584813
         ],
         "yaxis": "y3"
        }
       ],
       "layout": {
        "annotations": [
         {
          "font": {
           "size": 16
          },
          "showarrow": false,
          "text": "In-Category Monotonicity",
          "x": 0.15999999999999998,
          "xanchor": "center",
          "xref": "paper",
          "y": 0.425,
          "yanchor": "bottom",
          "yref": "paper"
         },
         {
          "font": {
           "size": 16
          },
          "showarrow": false,
          "text": "In-Category Non-Monotonicity",
          "x": 0.49999999999999994,
          "xanchor": "center",
          "xref": "paper",
          "y": 0.425,
          "yanchor": "bottom",
          "yref": "paper"
         },
         {
          "font": {
           "size": 16
          },
          "showarrow": false,
          "text": "Cross-Category Non-Monotonicity",
          "x": 0.8399999999999999,
          "xanchor": "center",
          "xref": "paper",
          "y": 0.425,
          "yanchor": "bottom",
          "yref": "paper"
         },
         {
          "font": {
           "size": 16
          },
          "showarrow": false,
          "text": "Premise-Conclusion Similarity",
          "x": 0.15999999999999998,
          "xanchor": "center",
          "xref": "paper",
          "y": 1,
          "yanchor": "bottom",
          "yref": "paper"
         },
         {
          "font": {
           "size": 16
          },
          "showarrow": false,
          "text": "Conclusion Typicality",
          "x": 0.49999999999999994,
          "xanchor": "center",
          "xref": "paper",
          "y": 1,
          "yanchor": "bottom",
          "yref": "paper"
         },
         {
          "font": {
           "size": 16
          },
          "showarrow": false,
          "text": "Premise Diversity",
          "x": 0.8399999999999999,
          "xanchor": "center",
          "xref": "paper",
          "y": 1,
          "yanchor": "bottom",
          "yref": "paper"
         },
         {
          "font": {
           "color": "black",
           "size": 16
          },
          "showarrow": false,
          "text": "***",
          "x": "GPT-3.5",
          "xref": "x5",
          "y": 0.8593963294569473,
          "yref": "y5"
         },
         {
          "font": {
           "color": "black",
           "size": 16
          },
          "showarrow": false,
          "text": "***",
          "x": "GPT-4",
          "xref": "x5",
          "y": 0.7679810458927165,
          "yref": "y5"
         },
         {
          "font": {
           "color": "black",
           "size": 16
          },
          "showarrow": false,
          "text": "***",
          "x": "ISC-CI",
          "xref": "x5",
          "y": 0.7078886185074962,
          "yref": "y5"
         },
         {
          "font": {
           "color": "black",
           "size": 16
          },
          "showarrow": false,
          "text": "***",
          "x": "Overlap",
          "xref": "x5",
          "y": 0.8635265759824742,
          "yref": "y5"
         },
         {
          "font": {
           "color": "black",
           "size": 16
          },
          "showarrow": false,
          "text": "***",
          "x": "SCM",
          "xref": "x5",
          "y": 0.8529640156003228,
          "yref": "y5"
         },
         {
          "font": {
           "color": "red",
           "size": 16
          },
          "showarrow": false,
          "text": "***",
          "x": "GPT-3.5",
          "xref": "x3",
          "y": 0.5230875937887827,
          "yref": "y3"
         },
         {
          "font": {
           "color": "black",
           "size": 16
          },
          "showarrow": false,
          "text": "***",
          "x": "GPT-4",
          "xref": "x3",
          "y": 0.5901225221430981,
          "yref": "y3"
         },
         {
          "font": {
           "color": "black",
           "size": 16
          },
          "showarrow": false,
          "text": "n.s.",
          "x": "ISC-CI",
          "xref": "x3",
          "y": 0.48749548684356964,
          "yref": "y3"
         },
         {
          "font": {
           "color": "black",
           "size": 16
          },
          "showarrow": false,
          "text": "***",
          "x": "Overlap",
          "xref": "x3",
          "y": 0.8004557478001812,
          "yref": "y3"
         },
         {
          "font": {
           "color": "black",
           "size": 16
          },
          "showarrow": false,
          "text": "***",
          "x": "SCM",
          "xref": "x3",
          "y": 0.798956041733115,
          "yref": "y3"
         },
         {
          "font": {
           "color": "black",
           "size": 16
          },
          "showarrow": false,
          "text": "***",
          "x": "GPT-3.5",
          "xref": "x",
          "y": 0.7838430958232973,
          "yref": "y"
         },
         {
          "font": {
           "color": "black",
           "size": 16
          },
          "showarrow": false,
          "text": "***",
          "x": "GPT-4",
          "xref": "x",
          "y": 0.7234737926893825,
          "yref": "y"
         },
         {
          "font": {
           "color": "black",
           "size": 16
          },
          "showarrow": false,
          "text": "***",
          "x": "ISC-CI",
          "xref": "x",
          "y": 0.6206278044897972,
          "yref": "y"
         },
         {
          "font": {
           "color": "black",
           "size": 16
          },
          "showarrow": false,
          "text": "***",
          "x": "Overlap",
          "xref": "x",
          "y": 0.8472688998688381,
          "yref": "y"
         },
         {
          "font": {
           "color": "black",
           "size": 16
          },
          "showarrow": false,
          "text": "***",
          "x": "SCM",
          "xref": "x",
          "y": 0.8435546417925696,
          "yref": "y"
         },
         {
          "font": {
           "color": "red",
           "size": 16
          },
          "showarrow": false,
          "text": "***",
          "x": "GPT-3.5",
          "xref": "x2",
          "y": 0.7225198669377854,
          "yref": "y2"
         },
         {
          "font": {
           "color": "red",
           "size": 16
          },
          "showarrow": false,
          "text": "***",
          "x": "GPT-4",
          "xref": "x2",
          "y": 0.5998431750963065,
          "yref": "y2"
         },
         {
          "font": {
           "color": "black",
           "size": 16
          },
          "showarrow": false,
          "text": "**",
          "x": "ISC-CI",
          "xref": "x2",
          "y": 0.4632790084372167,
          "yref": "y2"
         },
         {
          "font": {
           "color": "red",
           "size": 16
          },
          "showarrow": false,
          "text": "***",
          "x": "Overlap",
          "xref": "x2",
          "y": 0.798901813804869,
          "yref": "y2"
         },
         {
          "font": {
           "color": "red",
           "size": 16
          },
          "showarrow": false,
          "text": "***",
          "x": "SCM",
          "xref": "x2",
          "y": 0.8115536532890867,
          "yref": "y2"
         },
         {
          "font": {
           "color": "red",
           "size": 16
          },
          "showarrow": false,
          "text": "*",
          "x": "GPT-3.5",
          "xref": "x6",
          "y": 0.7822743098945952,
          "yref": "y6"
         },
         {
          "font": {
           "color": "black",
           "size": 16
          },
          "showarrow": false,
          "text": "**",
          "x": "GPT-4",
          "xref": "x6",
          "y": 0.6866059819639166,
          "yref": "y6"
         },
         {
          "font": {
           "color": "black",
           "size": 16
          },
          "showarrow": false,
          "text": "n.s.",
          "x": "ISC-CI",
          "xref": "x6",
          "y": 0.6745723066670848,
          "yref": "y6"
         },
         {
          "font": {
           "color": "black",
           "size": 16
          },
          "showarrow": false,
          "text": "n.s.",
          "x": "Overlap",
          "xref": "x6",
          "y": 0.8359651155599186,
          "yref": "y6"
         },
         {
          "font": {
           "color": "red",
           "size": 16
          },
          "showarrow": false,
          "text": "**",
          "x": "SCM",
          "xref": "x6",
          "y": 0.8318046186013915,
          "yref": "y6"
         },
         {
          "font": {
           "color": "black",
           "size": 16
          },
          "showarrow": false,
          "text": "***",
          "x": "GPT-3.5",
          "xref": "x4",
          "y": 0.5857068253865679,
          "yref": "y4"
         },
         {
          "font": {
           "color": "black",
           "size": 16
          },
          "showarrow": false,
          "text": "***",
          "x": "GPT-4",
          "xref": "x4",
          "y": 0.678458714271889,
          "yref": "y4"
         },
         {
          "font": {
           "color": "black",
           "size": 16
          },
          "showarrow": false,
          "text": "***",
          "x": "ISC-CI",
          "xref": "x4",
          "y": 0.599889808426119,
          "yref": "y4"
         },
         {
          "font": {
           "color": "black",
           "size": 16
          },
          "showarrow": false,
          "text": "***",
          "x": "Overlap",
          "xref": "x4",
          "y": 0.8788433127924505,
          "yref": "y4"
         },
         {
          "font": {
           "color": "black",
           "size": 16
          },
          "showarrow": false,
          "text": "***",
          "x": "SCM",
          "xref": "x4",
          "y": 0.8539894047067845,
          "yref": "y4"
         }
        ],
        "barmode": "group",
        "height": 800,
        "legend": {
         "title": {
          "text": "Argument Group"
         },
         "tracegroupgap": 0
        },
        "margin": {
         "t": 60
        },
        "plot_bgcolor": "white",
        "showlegend": false,
        "template": {
         "data": {
          "bar": [
           {
            "error_x": {
             "color": "#2a3f5f"
            },
            "error_y": {
             "color": "#2a3f5f"
            },
            "marker": {
             "line": {
              "color": "#E5ECF6",
              "width": 0.5
             },
             "pattern": {
              "fillmode": "overlay",
              "size": 10,
              "solidity": 0.2
             }
            },
            "type": "bar"
           }
          ],
          "barpolar": [
           {
            "marker": {
             "line": {
              "color": "#E5ECF6",
              "width": 0.5
             },
             "pattern": {
              "fillmode": "overlay",
              "size": 10,
              "solidity": 0.2
             }
            },
            "type": "barpolar"
           }
          ],
          "carpet": [
           {
            "aaxis": {
             "endlinecolor": "#2a3f5f",
             "gridcolor": "white",
             "linecolor": "white",
             "minorgridcolor": "white",
             "startlinecolor": "#2a3f5f"
            },
            "baxis": {
             "endlinecolor": "#2a3f5f",
             "gridcolor": "white",
             "linecolor": "white",
             "minorgridcolor": "white",
             "startlinecolor": "#2a3f5f"
            },
            "type": "carpet"
           }
          ],
          "choropleth": [
           {
            "colorbar": {
             "outlinewidth": 0,
             "ticks": ""
            },
            "type": "choropleth"
           }
          ],
          "contour": [
           {
            "colorbar": {
             "outlinewidth": 0,
             "ticks": ""
            },
            "colorscale": [
             [
              0,
              "#0d0887"
             ],
             [
              0.1111111111111111,
              "#46039f"
             ],
             [
              0.2222222222222222,
              "#7201a8"
             ],
             [
              0.3333333333333333,
              "#9c179e"
             ],
             [
              0.4444444444444444,
              "#bd3786"
             ],
             [
              0.5555555555555556,
              "#d8576b"
             ],
             [
              0.6666666666666666,
              "#ed7953"
             ],
             [
              0.7777777777777778,
              "#fb9f3a"
             ],
             [
              0.8888888888888888,
              "#fdca26"
             ],
             [
              1,
              "#f0f921"
             ]
            ],
            "type": "contour"
           }
          ],
          "contourcarpet": [
           {
            "colorbar": {
             "outlinewidth": 0,
             "ticks": ""
            },
            "type": "contourcarpet"
           }
          ],
          "heatmap": [
           {
            "colorbar": {
             "outlinewidth": 0,
             "ticks": ""
            },
            "colorscale": [
             [
              0,
              "#0d0887"
             ],
             [
              0.1111111111111111,
              "#46039f"
             ],
             [
              0.2222222222222222,
              "#7201a8"
             ],
             [
              0.3333333333333333,
              "#9c179e"
             ],
             [
              0.4444444444444444,
              "#bd3786"
             ],
             [
              0.5555555555555556,
              "#d8576b"
             ],
             [
              0.6666666666666666,
              "#ed7953"
             ],
             [
              0.7777777777777778,
              "#fb9f3a"
             ],
             [
              0.8888888888888888,
              "#fdca26"
             ],
             [
              1,
              "#f0f921"
             ]
            ],
            "type": "heatmap"
           }
          ],
          "heatmapgl": [
           {
            "colorbar": {
             "outlinewidth": 0,
             "ticks": ""
            },
            "colorscale": [
             [
              0,
              "#0d0887"
             ],
             [
              0.1111111111111111,
              "#46039f"
             ],
             [
              0.2222222222222222,
              "#7201a8"
             ],
             [
              0.3333333333333333,
              "#9c179e"
             ],
             [
              0.4444444444444444,
              "#bd3786"
             ],
             [
              0.5555555555555556,
              "#d8576b"
             ],
             [
              0.6666666666666666,
              "#ed7953"
             ],
             [
              0.7777777777777778,
              "#fb9f3a"
             ],
             [
              0.8888888888888888,
              "#fdca26"
             ],
             [
              1,
              "#f0f921"
             ]
            ],
            "type": "heatmapgl"
           }
          ],
          "histogram": [
           {
            "marker": {
             "pattern": {
              "fillmode": "overlay",
              "size": 10,
              "solidity": 0.2
             }
            },
            "type": "histogram"
           }
          ],
          "histogram2d": [
           {
            "colorbar": {
             "outlinewidth": 0,
             "ticks": ""
            },
            "colorscale": [
             [
              0,
              "#0d0887"
             ],
             [
              0.1111111111111111,
              "#46039f"
             ],
             [
              0.2222222222222222,
              "#7201a8"
             ],
             [
              0.3333333333333333,
              "#9c179e"
             ],
             [
              0.4444444444444444,
              "#bd3786"
             ],
             [
              0.5555555555555556,
              "#d8576b"
             ],
             [
              0.6666666666666666,
              "#ed7953"
             ],
             [
              0.7777777777777778,
              "#fb9f3a"
             ],
             [
              0.8888888888888888,
              "#fdca26"
             ],
             [
              1,
              "#f0f921"
             ]
            ],
            "type": "histogram2d"
           }
          ],
          "histogram2dcontour": [
           {
            "colorbar": {
             "outlinewidth": 0,
             "ticks": ""
            },
            "colorscale": [
             [
              0,
              "#0d0887"
             ],
             [
              0.1111111111111111,
              "#46039f"
             ],
             [
              0.2222222222222222,
              "#7201a8"
             ],
             [
              0.3333333333333333,
              "#9c179e"
             ],
             [
              0.4444444444444444,
              "#bd3786"
             ],
             [
              0.5555555555555556,
              "#d8576b"
             ],
             [
              0.6666666666666666,
              "#ed7953"
             ],
             [
              0.7777777777777778,
              "#fb9f3a"
             ],
             [
              0.8888888888888888,
              "#fdca26"
             ],
             [
              1,
              "#f0f921"
             ]
            ],
            "type": "histogram2dcontour"
           }
          ],
          "mesh3d": [
           {
            "colorbar": {
             "outlinewidth": 0,
             "ticks": ""
            },
            "type": "mesh3d"
           }
          ],
          "parcoords": [
           {
            "line": {
             "colorbar": {
              "outlinewidth": 0,
              "ticks": ""
             }
            },
            "type": "parcoords"
           }
          ],
          "pie": [
           {
            "automargin": true,
            "type": "pie"
           }
          ],
          "scatter": [
           {
            "fillpattern": {
             "fillmode": "overlay",
             "size": 10,
             "solidity": 0.2
            },
            "type": "scatter"
           }
          ],
          "scatter3d": [
           {
            "line": {
             "colorbar": {
              "outlinewidth": 0,
              "ticks": ""
             }
            },
            "marker": {
             "colorbar": {
              "outlinewidth": 0,
              "ticks": ""
             }
            },
            "type": "scatter3d"
           }
          ],
          "scattercarpet": [
           {
            "marker": {
             "colorbar": {
              "outlinewidth": 0,
              "ticks": ""
             }
            },
            "type": "scattercarpet"
           }
          ],
          "scattergeo": [
           {
            "marker": {
             "colorbar": {
              "outlinewidth": 0,
              "ticks": ""
             }
            },
            "type": "scattergeo"
           }
          ],
          "scattergl": [
           {
            "marker": {
             "colorbar": {
              "outlinewidth": 0,
              "ticks": ""
             }
            },
            "type": "scattergl"
           }
          ],
          "scattermapbox": [
           {
            "marker": {
             "colorbar": {
              "outlinewidth": 0,
              "ticks": ""
             }
            },
            "type": "scattermapbox"
           }
          ],
          "scatterpolar": [
           {
            "marker": {
             "colorbar": {
              "outlinewidth": 0,
              "ticks": ""
             }
            },
            "type": "scatterpolar"
           }
          ],
          "scatterpolargl": [
           {
            "marker": {
             "colorbar": {
              "outlinewidth": 0,
              "ticks": ""
             }
            },
            "type": "scatterpolargl"
           }
          ],
          "scatterternary": [
           {
            "marker": {
             "colorbar": {
              "outlinewidth": 0,
              "ticks": ""
             }
            },
            "type": "scatterternary"
           }
          ],
          "surface": [
           {
            "colorbar": {
             "outlinewidth": 0,
             "ticks": ""
            },
            "colorscale": [
             [
              0,
              "#0d0887"
             ],
             [
              0.1111111111111111,
              "#46039f"
             ],
             [
              0.2222222222222222,
              "#7201a8"
             ],
             [
              0.3333333333333333,
              "#9c179e"
             ],
             [
              0.4444444444444444,
              "#bd3786"
             ],
             [
              0.5555555555555556,
              "#d8576b"
             ],
             [
              0.6666666666666666,
              "#ed7953"
             ],
             [
              0.7777777777777778,
              "#fb9f3a"
             ],
             [
              0.8888888888888888,
              "#fdca26"
             ],
             [
              1,
              "#f0f921"
             ]
            ],
            "type": "surface"
           }
          ],
          "table": [
           {
            "cells": {
             "fill": {
              "color": "#EBF0F8"
             },
             "line": {
              "color": "white"
             }
            },
            "header": {
             "fill": {
              "color": "#C8D4E3"
             },
             "line": {
              "color": "white"
             }
            },
            "type": "table"
           }
          ]
         },
         "layout": {
          "annotationdefaults": {
           "arrowcolor": "#2a3f5f",
           "arrowhead": 0,
           "arrowwidth": 1
          },
          "autotypenumbers": "strict",
          "coloraxis": {
           "colorbar": {
            "outlinewidth": 0,
            "ticks": ""
           }
          },
          "colorscale": {
           "diverging": [
            [
             0,
             "#8e0152"
            ],
            [
             0.1,
             "#c51b7d"
            ],
            [
             0.2,
             "#de77ae"
            ],
            [
             0.3,
             "#f1b6da"
            ],
            [
             0.4,
             "#fde0ef"
            ],
            [
             0.5,
             "#f7f7f7"
            ],
            [
             0.6,
             "#e6f5d0"
            ],
            [
             0.7,
             "#b8e186"
            ],
            [
             0.8,
             "#7fbc41"
            ],
            [
             0.9,
             "#4d9221"
            ],
            [
             1,
             "#276419"
            ]
           ],
           "sequential": [
            [
             0,
             "#0d0887"
            ],
            [
             0.1111111111111111,
             "#46039f"
            ],
            [
             0.2222222222222222,
             "#7201a8"
            ],
            [
             0.3333333333333333,
             "#9c179e"
            ],
            [
             0.4444444444444444,
             "#bd3786"
            ],
            [
             0.5555555555555556,
             "#d8576b"
            ],
            [
             0.6666666666666666,
             "#ed7953"
            ],
            [
             0.7777777777777778,
             "#fb9f3a"
            ],
            [
             0.8888888888888888,
             "#fdca26"
            ],
            [
             1,
             "#f0f921"
            ]
           ],
           "sequentialminus": [
            [
             0,
             "#0d0887"
            ],
            [
             0.1111111111111111,
             "#46039f"
            ],
            [
             0.2222222222222222,
             "#7201a8"
            ],
            [
             0.3333333333333333,
             "#9c179e"
            ],
            [
             0.4444444444444444,
             "#bd3786"
            ],
            [
             0.5555555555555556,
             "#d8576b"
            ],
            [
             0.6666666666666666,
             "#ed7953"
            ],
            [
             0.7777777777777778,
             "#fb9f3a"
            ],
            [
             0.8888888888888888,
             "#fdca26"
            ],
            [
             1,
             "#f0f921"
            ]
           ]
          },
          "colorway": [
           "#636efa",
           "#EF553B",
           "#00cc96",
           "#ab63fa",
           "#FFA15A",
           "#19d3f3",
           "#FF6692",
           "#B6E880",
           "#FF97FF",
           "#FECB52"
          ],
          "font": {
           "color": "#2a3f5f"
          },
          "geo": {
           "bgcolor": "white",
           "lakecolor": "white",
           "landcolor": "#E5ECF6",
           "showlakes": true,
           "showland": true,
           "subunitcolor": "white"
          },
          "hoverlabel": {
           "align": "left"
          },
          "hovermode": "closest",
          "mapbox": {
           "style": "light"
          },
          "paper_bgcolor": "white",
          "plot_bgcolor": "#E5ECF6",
          "polar": {
           "angularaxis": {
            "gridcolor": "white",
            "linecolor": "white",
            "ticks": ""
           },
           "bgcolor": "#E5ECF6",
           "radialaxis": {
            "gridcolor": "white",
            "linecolor": "white",
            "ticks": ""
           }
          },
          "scene": {
           "xaxis": {
            "backgroundcolor": "#E5ECF6",
            "gridcolor": "white",
            "gridwidth": 2,
            "linecolor": "white",
            "showbackground": true,
            "ticks": "",
            "zerolinecolor": "white"
           },
           "yaxis": {
            "backgroundcolor": "#E5ECF6",
            "gridcolor": "white",
            "gridwidth": 2,
            "linecolor": "white",
            "showbackground": true,
            "ticks": "",
            "zerolinecolor": "white"
           },
           "zaxis": {
            "backgroundcolor": "#E5ECF6",
            "gridcolor": "white",
            "gridwidth": 2,
            "linecolor": "white",
            "showbackground": true,
            "ticks": "",
            "zerolinecolor": "white"
           }
          },
          "shapedefaults": {
           "line": {
            "color": "#2a3f5f"
           }
          },
          "ternary": {
           "aaxis": {
            "gridcolor": "white",
            "linecolor": "white",
            "ticks": ""
           },
           "baxis": {
            "gridcolor": "white",
            "linecolor": "white",
            "ticks": ""
           },
           "bgcolor": "#E5ECF6",
           "caxis": {
            "gridcolor": "white",
            "linecolor": "white",
            "ticks": ""
           }
          },
          "title": {
           "x": 0.05
          },
          "xaxis": {
           "automargin": true,
           "gridcolor": "white",
           "linecolor": "white",
           "ticks": "",
           "title": {
            "standoff": 15
           },
           "zerolinecolor": "white",
           "zerolinewidth": 2
          },
          "yaxis": {
           "automargin": true,
           "gridcolor": "white",
           "linecolor": "white",
           "ticks": "",
           "title": {
            "standoff": 15
           },
           "zerolinecolor": "white",
           "zerolinewidth": 2
          }
         }
        },
        "xaxis": {
         "anchor": "y",
         "categoryarray": [
          "ISC-CI",
          "Overlap",
          "SCM"
         ],
         "categoryorder": "array",
         "domain": [
          0,
          0.31999999999999995
         ],
         "linecolor": "black",
         "linewidth": 1.5,
         "mirror": true,
         "showgrid": false,
         "showline": true,
         "showticklabels": true,
         "tickfont": {
          "size": 16
         },
         "ticks": "outside",
         "title": {
          "font": {
           "size": 24
          },
          "text": "Model"
         }
        },
        "xaxis2": {
         "anchor": "y2",
         "categoryarray": [
          "ISC-CI",
          "Overlap",
          "SCM"
         ],
         "categoryorder": "array",
         "domain": [
          0.33999999999999997,
          0.6599999999999999
         ],
         "linecolor": "black",
         "linewidth": 1.5,
         "matches": "x",
         "mirror": true,
         "showgrid": false,
         "showline": true,
         "showticklabels": true,
         "tickfont": {
          "size": 16
         },
         "ticks": "outside",
         "title": {
          "font": {
           "size": 24
          },
          "text": "Model"
         }
        },
        "xaxis3": {
         "anchor": "y3",
         "categoryarray": [
          "ISC-CI",
          "Overlap",
          "SCM"
         ],
         "categoryorder": "array",
         "domain": [
          0.6799999999999999,
          0.9999999999999999
         ],
         "linecolor": "black",
         "linewidth": 1.5,
         "matches": "x",
         "mirror": true,
         "showgrid": false,
         "showline": true,
         "showticklabels": true,
         "tickfont": {
          "size": 16
         },
         "ticks": "outside",
         "title": {
          "font": {
           "size": 24
          },
          "text": "Model"
         }
        },
        "xaxis4": {
         "anchor": "y4",
         "domain": [
          0,
          0.31999999999999995
         ],
         "linecolor": "black",
         "linewidth": 1.5,
         "matches": "x",
         "mirror": true,
         "showgrid": false,
         "showline": true,
         "showticklabels": true,
         "tickfont": {
          "size": 16
         },
         "ticks": "outside",
         "title": {
          "font": {
           "size": 24
          }
         }
        },
        "xaxis5": {
         "anchor": "y5",
         "domain": [
          0.33999999999999997,
          0.6599999999999999
         ],
         "linecolor": "black",
         "linewidth": 1.5,
         "matches": "x",
         "mirror": true,
         "showgrid": false,
         "showline": true,
         "showticklabels": true,
         "tickfont": {
          "size": 16
         },
         "ticks": "outside",
         "title": {
          "font": {
           "size": 24
          }
         }
        },
        "xaxis6": {
         "anchor": "y6",
         "domain": [
          0.6799999999999999,
          0.9999999999999999
         ],
         "linecolor": "black",
         "linewidth": 1.5,
         "matches": "x",
         "mirror": true,
         "showgrid": false,
         "showline": true,
         "showticklabels": true,
         "tickfont": {
          "size": 16
         },
         "ticks": "outside",
         "title": {
          "font": {
           "size": 24
          }
         }
        },
        "yaxis": {
         "anchor": "x",
         "domain": [
          0,
          0.425
         ],
         "linecolor": "black",
         "linewidth": 1.5,
         "mirror": true,
         "range": [
          0,
          1
         ],
         "showgrid": false,
         "showline": true,
         "tickfont": {
          "size": 16
         },
         "ticks": "outside",
         "title": {
          "font": {
           "size": 20
          },
          "text": "Rating"
         }
        },
        "yaxis2": {
         "anchor": "x2",
         "domain": [
          0,
          0.425
         ],
         "linecolor": "black",
         "linewidth": 1.5,
         "matches": "y",
         "mirror": true,
         "showgrid": false,
         "showline": true,
         "showticklabels": false,
         "tickfont": {
          "size": 16
         },
         "ticks": "outside",
         "title": {
          "font": {
           "size": 20
          }
         }
        },
        "yaxis3": {
         "anchor": "x3",
         "domain": [
          0,
          0.425
         ],
         "linecolor": "black",
         "linewidth": 1.5,
         "matches": "y",
         "mirror": true,
         "showgrid": false,
         "showline": true,
         "showticklabels": false,
         "tickfont": {
          "size": 16
         },
         "ticks": "outside",
         "title": {
          "font": {
           "size": 20
          }
         }
        },
        "yaxis4": {
         "anchor": "x4",
         "domain": [
          0.575,
          1
         ],
         "linecolor": "black",
         "linewidth": 1.5,
         "matches": "y",
         "mirror": true,
         "range": [
          0,
          1
         ],
         "showgrid": false,
         "showline": true,
         "tickfont": {
          "size": 16
         },
         "ticks": "outside",
         "title": {
          "font": {
           "size": 20
          },
          "text": "Rating"
         }
        },
        "yaxis5": {
         "anchor": "x5",
         "domain": [
          0.575,
          1
         ],
         "linecolor": "black",
         "linewidth": 1.5,
         "matches": "y",
         "mirror": true,
         "showgrid": false,
         "showline": true,
         "showticklabels": false,
         "tickfont": {
          "size": 16
         },
         "ticks": "outside",
         "title": {
          "font": {
           "size": 20
          }
         }
        },
        "yaxis6": {
         "anchor": "x6",
         "domain": [
          0.575,
          1
         ],
         "linecolor": "black",
         "linewidth": 1.5,
         "matches": "y",
         "mirror": true,
         "showgrid": false,
         "showline": true,
         "showticklabels": false,
         "tickfont": {
          "size": 16
         },
         "ticks": "outside",
         "title": {
          "font": {
           "size": 20
          }
         }
        }
       }
      }
     },
     "metadata": {},
     "output_type": "display_data"
    }
   ],
   "source": [
    "# Calculate average ratings for each model by argument group for unpaired comparison\n",
    "plot_data = argument_data[['Phenomenon','Argument Group']+models].melt(id_vars=['Phenomenon','Argument Group']).rename(columns={'variable':'Model','value':'Rating'})\n",
    "plot_data = plot_data.groupby(['Phenomenon','Argument Group','Model']).agg(['mean','sem'])['Rating'].reset_index().rename(columns={'mean':'Rating'})\n",
    "plot_data['95ci'] = plot_data['sem']*1.96\n",
    "fig = px.bar(plot_data[plot_data.Phenomenon!='Thematic Match'],x='Model',y='Rating',error_y='95ci',color='Argument Group',barmode='group',\n",
    "             category_orders={'Model':['ISC-CI','Overlap','SCM'],\n",
    "                              'Phenomenon':['Premise-Conclusion Similarity','Conclusion Typicality','Premise Diversity','In-Category Monotonicity','In-Category Non-Monotonicity','Cross-Category Non-Monotonicity']},\n",
    "             facet_col='Phenomenon', facet_col_wrap=3, facet_row_spacing=0.15, pattern_shape='Argument Group',range_y=[0,1])\n",
    "\n",
    "# Format figure style & coloring\n",
    "fig = utils.format_figure(fig,height=800)\n",
    "fig.for_each_annotation(lambda a: a.update(text=a.text.split('=')[1]))\n",
    "fig.update_annotations(font_size=16)\n",
    "fig.update_xaxes(showticklabels=True,tickfont=dict(size=16))\n",
    "fig.update_yaxes(titlefont=dict(size=20),tickfont=dict(size=16))\n",
    "colors = [utils.model_colors[x] for x in sorted(models)]\n",
    "for i in range(len(fig.data)):\n",
    "    fig.data[i].marker.color = colors\n",
    "\n",
    "# Set up statistical significance\n",
    "plot_data['Bar Height'] = plot_data['Rating']+plot_data['95ci']\n",
    "regression_columns = ['coef','se','T','pval','CI[2.5%]','CI[97.5%]']\n",
    "significance_data = plot_data.groupby(['Phenomenon','Model']).max().reset_index()[['Phenomenon','Model','Bar Height']]\n",
    "regression_data = []\n",
    "\n",
    "# Run paired and unpaired t-tests\n",
    "ttest_data = []\n",
    "for phenomenon in significance_data.Phenomenon.unique():\n",
    "    phenomenon_data = argument_data[(argument_data.Phenomenon==phenomenon)]\n",
    "    high_data = phenomenon_data[phenomenon_data['Argument Group']=='High']\n",
    "    low_data = phenomenon_data[phenomenon_data['Argument Group']=='Low']\n",
    "    combined_data = high_data.merge(low_data,on=['Premise 1','Conclusion'],suffixes=('_high','_low'))\n",
    "    for model in models:\n",
    "        # First handle paired comparisons\n",
    "        statistic, p = 0, 0\n",
    "        if 'Monotonicity' in phenomenon:\n",
    "            statistic, p = ttest_rel(combined_data[f'{model}_high'],combined_data[f'{model}_low'])\n",
    "        else:\n",
    "            statistic, p = ttest_ind(high_data[model],low_data[model])\n",
    "        direction = 'correct' if high_data[model].mean()>low_data[model].mean() else 'opposite'\n",
    "        if p>=.05:\n",
    "            direction = 'n.s.'\n",
    "        ttest_data.append({'Model':model,'Phenomenon':phenomenon,'statistic':statistic,'p':p,'p_stars':utils.p_to_stars(p),'direction':direction})\n",
    "\n",
    "# Add significance to bar plot\n",
    "significance_data = significance_data.merge(pd.DataFrame(ttest_data),on=['Phenomenon','Model'])\n",
    "\n",
    "phenomenon_to_axis_label = {'Conclusion Typicality':'5','Premise Diversity':'6','Cross-Category Non-Monotonicity':'3',\n",
    "                            'In-Category Non-Monotonicity':'2','Premise-Conclusion Similarity':'4','In-Category Monotonicity':''}\n",
    "for phenomenon in plot_data.Phenomenon.unique():\n",
    "    if phenomenon=='Thematic Match':\n",
    "        continue\n",
    "    for model in plot_data.Model.unique():\n",
    "        sig_data = significance_data.query(f'Model==\"{model}\"&Phenomenon==\"{phenomenon}\"')\n",
    "        bar_height = sig_data['Bar Height'].values[0]\n",
    "        p_stars = sig_data['p_stars'].values[0]\n",
    "        color = 'red' if sig_data['direction'].values[0]=='opposite' else 'black'\n",
    "        axis_label = phenomenon_to_axis_label[phenomenon]\n",
    "        fig.add_annotation(x=model,xref='x'+axis_label,yref='y'+axis_label,y=bar_height+0.05,text=p_stars,\n",
    "                           showarrow=False,font=dict(size=16,color=color))\n",
    "fig.update_layout(showlegend=False)\n",
    "fig.show()"
   ]
  },
  {
   "cell_type": "code",
   "execution_count": 37,
   "metadata": {},
   "outputs": [
    {
     "data": {
      "application/vnd.plotly.v1+json": {
       "config": {
        "plotlyServerURL": "https://plot.ly"
       },
       "data": [
        {
         "alignmentgroup": "True",
         "error_y": {
          "array": [
           0.04560275688418137,
           0.025951843937551632,
           0.023414813453521678,
           0.011716734598813703,
           0.007858833817470741
          ]
         },
         "hovertemplate": "Argument Group=High<br>Similarity Group=High<br>Model=%{x}<br>Rating=%{y}<extra></extra>",
         "legendgroup": "High",
         "marker": {
          "color": [
           "#F4A24C",
           "#F48777",
           "#6797D5",
           "#7DA381",
           "#7BD47E"
          ],
          "pattern": {
           "shape": ""
          }
         },
         "name": "High",
         "offsetgroup": "High",
         "orientation": "v",
         "showlegend": true,
         "textposition": "auto",
         "type": "bar",
         "x": [
          "GPT-3.5",
          "GPT-4",
          "ISC-CI",
          "Overlap",
          "SCM"
         ],
         "xaxis": "x",
         "y": [
          0.4806,
          0.6098,
          0.6160693868398667,
          0.7956462911055213,
          0.7774192921110578
         ],
         "yaxis": "y"
        },
        {
         "alignmentgroup": "True",
         "error_y": {
          "array": [
           0.03567697339442271,
           0.02214318951206145,
           0.011840636098284646,
           0.010753411098733802,
           0.008115681220135895
          ]
         },
         "hovertemplate": "Argument Group=High<br>Similarity Group=Low<br>Model=%{x}<br>Rating=%{y}<extra></extra>",
         "legendgroup": "High",
         "marker": {
          "color": [
           "#F4A24C",
           "#F48777",
           "#6797D5",
           "#7DA381",
           "#7BD47E"
          ],
          "pattern": {
           "shape": ""
          }
         },
         "name": "High",
         "offsetgroup": "High",
         "orientation": "v",
         "showlegend": false,
         "textposition": "auto",
         "type": "bar",
         "x": [
          "GPT-3.5",
          "GPT-4",
          "ISC-CI",
          "Overlap",
          "SCM"
         ],
         "xaxis": "x2",
         "y": [
          0.2768,
          0.433,
          0.18537506979703902,
          0.6867248115342818,
          0.7076537640229555
         ],
         "yaxis": "y2"
        },
        {
         "alignmentgroup": "True",
         "error_y": {
          "array": [
           0.04427191227641338,
           0.023120260634152994,
           0.038606462216015505,
           0.01317392909553291,
           0.006642189870916132
          ]
         },
         "hovertemplate": "Argument Group=Low<br>Similarity Group=High<br>Model=%{x}<br>Rating=%{y}<extra></extra>",
         "legendgroup": "Low",
         "marker": {
          "color": [
           "#F4A24C",
           "#F48777",
           "#6797D5",
           "#7DA381",
           "#7BD47E"
          ],
          "pattern": {
           "shape": "/"
          }
         },
         "name": "Low",
         "offsetgroup": "Low",
         "orientation": "v",
         "showlegend": true,
         "textposition": "auto",
         "type": "bar",
         "x": [
          "GPT-3.5",
          "GPT-4",
          "ISC-CI",
          "Overlap",
          "SCM"
         ],
         "xaxis": "x",
         "y": [
          0.5147999999999999,
          0.5337999999999999,
          0.5561619546115398,
          0.650014392252266,
          0.6733741255316197
         ],
         "yaxis": "y"
        },
        {
         "alignmentgroup": "True",
         "error_y": {
          "array": [
           0.04035618650592751,
           0.0186540689377879,
           0.030535442240816977,
           0.013023623054414585,
           0.006395599990899284
          ]
         },
         "hovertemplate": "Argument Group=Low<br>Similarity Group=Low<br>Model=%{x}<br>Rating=%{y}<extra></extra>",
         "legendgroup": "Low",
         "marker": {
          "color": [
           "#F4A24C",
           "#F48777",
           "#6797D5",
           "#7DA381",
           "#7BD47E"
          ],
          "pattern": {
           "shape": "/"
          }
         },
         "name": "Low",
         "offsetgroup": "Low",
         "orientation": "v",
         "showlegend": false,
         "textposition": "auto",
         "type": "bar",
         "x": [
          "GPT-3.5",
          "GPT-4",
          "ISC-CI",
          "Overlap",
          "SCM"
         ],
         "xaxis": "x2",
         "y": [
          0.3702,
          0.4388,
          0.26334845991409384,
          0.5859972199565449,
          0.6176081263853429
         ],
         "yaxis": "y2"
        }
       ],
       "layout": {
        "annotations": [
         {
          "font": {
           "size": 16
          },
          "showarrow": false,
          "text": "High Similarity",
          "x": 0.245,
          "xanchor": "center",
          "xref": "paper",
          "y": 1,
          "yanchor": "bottom",
          "yref": "paper"
         },
         {
          "font": {
           "size": 16
          },
          "showarrow": false,
          "text": "Low Similarity",
          "x": 0.755,
          "xanchor": "center",
          "xref": "paper",
          "y": 1,
          "yanchor": "bottom",
          "yref": "paper"
         },
         {
          "font": {
           "color": "black",
           "size": 16
          },
          "showarrow": false,
          "text": "n.s.",
          "x": "GPT-3.5",
          "xref": "x",
          "y": 0.6090719122764133,
          "yref": "y"
         },
         {
          "font": {
           "color": "black",
           "size": 16
          },
          "showarrow": false,
          "text": "***",
          "x": "GPT-4",
          "xref": "x",
          "y": 0.6857518439375517,
          "yref": "y"
         },
         {
          "font": {
           "color": "black",
           "size": 16
          },
          "showarrow": false,
          "text": "**",
          "x": "ISC-CI",
          "xref": "x",
          "y": 0.6894842002933884,
          "yref": "y"
         },
         {
          "font": {
           "color": "black",
           "size": 16
          },
          "showarrow": false,
          "text": "***",
          "x": "Overlap",
          "xref": "x",
          "y": 0.8573630257043351,
          "yref": "y"
         },
         {
          "font": {
           "color": "black",
           "size": 16
          },
          "showarrow": false,
          "text": "***",
          "x": "SCM",
          "xref": "x",
          "y": 0.8352781259285286,
          "yref": "y"
         },
         {
          "font": {
           "color": "red",
           "size": 16
          },
          "showarrow": false,
          "text": "***",
          "x": "GPT-3.5",
          "xref": "x2",
          "y": 0.4605561865059275,
          "yref": "y2"
         },
         {
          "font": {
           "color": "black",
           "size": 16
          },
          "showarrow": false,
          "text": "n.s.",
          "x": "GPT-4",
          "xref": "x2",
          "y": 0.507454068937788,
          "yref": "y2"
         },
         {
          "font": {
           "color": "red",
           "size": 16
          },
          "showarrow": false,
          "text": "***",
          "x": "ISC-CI",
          "xref": "x2",
          "y": 0.3438839021549108,
          "yref": "y2"
         },
         {
          "font": {
           "color": "black",
           "size": 16
          },
          "showarrow": false,
          "text": "***",
          "x": "Overlap",
          "xref": "x2",
          "y": 0.7474782226330157,
          "yref": "y2"
         },
         {
          "font": {
           "color": "black",
           "size": 16
          },
          "showarrow": false,
          "text": "***",
          "x": "SCM",
          "xref": "x2",
          "y": 0.7657694452430914,
          "yref": "y2"
         }
        ],
        "barmode": "group",
        "height": 400,
        "legend": {
         "title": {
          "text": "Argument Group"
         },
         "tracegroupgap": 0
        },
        "margin": {
         "t": 60
        },
        "plot_bgcolor": "white",
        "showlegend": false,
        "template": {
         "data": {
          "bar": [
           {
            "error_x": {
             "color": "#2a3f5f"
            },
            "error_y": {
             "color": "#2a3f5f"
            },
            "marker": {
             "line": {
              "color": "#E5ECF6",
              "width": 0.5
             },
             "pattern": {
              "fillmode": "overlay",
              "size": 10,
              "solidity": 0.2
             }
            },
            "type": "bar"
           }
          ],
          "barpolar": [
           {
            "marker": {
             "line": {
              "color": "#E5ECF6",
              "width": 0.5
             },
             "pattern": {
              "fillmode": "overlay",
              "size": 10,
              "solidity": 0.2
             }
            },
            "type": "barpolar"
           }
          ],
          "carpet": [
           {
            "aaxis": {
             "endlinecolor": "#2a3f5f",
             "gridcolor": "white",
             "linecolor": "white",
             "minorgridcolor": "white",
             "startlinecolor": "#2a3f5f"
            },
            "baxis": {
             "endlinecolor": "#2a3f5f",
             "gridcolor": "white",
             "linecolor": "white",
             "minorgridcolor": "white",
             "startlinecolor": "#2a3f5f"
            },
            "type": "carpet"
           }
          ],
          "choropleth": [
           {
            "colorbar": {
             "outlinewidth": 0,
             "ticks": ""
            },
            "type": "choropleth"
           }
          ],
          "contour": [
           {
            "colorbar": {
             "outlinewidth": 0,
             "ticks": ""
            },
            "colorscale": [
             [
              0,
              "#0d0887"
             ],
             [
              0.1111111111111111,
              "#46039f"
             ],
             [
              0.2222222222222222,
              "#7201a8"
             ],
             [
              0.3333333333333333,
              "#9c179e"
             ],
             [
              0.4444444444444444,
              "#bd3786"
             ],
             [
              0.5555555555555556,
              "#d8576b"
             ],
             [
              0.6666666666666666,
              "#ed7953"
             ],
             [
              0.7777777777777778,
              "#fb9f3a"
             ],
             [
              0.8888888888888888,
              "#fdca26"
             ],
             [
              1,
              "#f0f921"
             ]
            ],
            "type": "contour"
           }
          ],
          "contourcarpet": [
           {
            "colorbar": {
             "outlinewidth": 0,
             "ticks": ""
            },
            "type": "contourcarpet"
           }
          ],
          "heatmap": [
           {
            "colorbar": {
             "outlinewidth": 0,
             "ticks": ""
            },
            "colorscale": [
             [
              0,
              "#0d0887"
             ],
             [
              0.1111111111111111,
              "#46039f"
             ],
             [
              0.2222222222222222,
              "#7201a8"
             ],
             [
              0.3333333333333333,
              "#9c179e"
             ],
             [
              0.4444444444444444,
              "#bd3786"
             ],
             [
              0.5555555555555556,
              "#d8576b"
             ],
             [
              0.6666666666666666,
              "#ed7953"
             ],
             [
              0.7777777777777778,
              "#fb9f3a"
             ],
             [
              0.8888888888888888,
              "#fdca26"
             ],
             [
              1,
              "#f0f921"
             ]
            ],
            "type": "heatmap"
           }
          ],
          "heatmapgl": [
           {
            "colorbar": {
             "outlinewidth": 0,
             "ticks": ""
            },
            "colorscale": [
             [
              0,
              "#0d0887"
             ],
             [
              0.1111111111111111,
              "#46039f"
             ],
             [
              0.2222222222222222,
              "#7201a8"
             ],
             [
              0.3333333333333333,
              "#9c179e"
             ],
             [
              0.4444444444444444,
              "#bd3786"
             ],
             [
              0.5555555555555556,
              "#d8576b"
             ],
             [
              0.6666666666666666,
              "#ed7953"
             ],
             [
              0.7777777777777778,
              "#fb9f3a"
             ],
             [
              0.8888888888888888,
              "#fdca26"
             ],
             [
              1,
              "#f0f921"
             ]
            ],
            "type": "heatmapgl"
           }
          ],
          "histogram": [
           {
            "marker": {
             "pattern": {
              "fillmode": "overlay",
              "size": 10,
              "solidity": 0.2
             }
            },
            "type": "histogram"
           }
          ],
          "histogram2d": [
           {
            "colorbar": {
             "outlinewidth": 0,
             "ticks": ""
            },
            "colorscale": [
             [
              0,
              "#0d0887"
             ],
             [
              0.1111111111111111,
              "#46039f"
             ],
             [
              0.2222222222222222,
              "#7201a8"
             ],
             [
              0.3333333333333333,
              "#9c179e"
             ],
             [
              0.4444444444444444,
              "#bd3786"
             ],
             [
              0.5555555555555556,
              "#d8576b"
             ],
             [
              0.6666666666666666,
              "#ed7953"
             ],
             [
              0.7777777777777778,
              "#fb9f3a"
             ],
             [
              0.8888888888888888,
              "#fdca26"
             ],
             [
              1,
              "#f0f921"
             ]
            ],
            "type": "histogram2d"
           }
          ],
          "histogram2dcontour": [
           {
            "colorbar": {
             "outlinewidth": 0,
             "ticks": ""
            },
            "colorscale": [
             [
              0,
              "#0d0887"
             ],
             [
              0.1111111111111111,
              "#46039f"
             ],
             [
              0.2222222222222222,
              "#7201a8"
             ],
             [
              0.3333333333333333,
              "#9c179e"
             ],
             [
              0.4444444444444444,
              "#bd3786"
             ],
             [
              0.5555555555555556,
              "#d8576b"
             ],
             [
              0.6666666666666666,
              "#ed7953"
             ],
             [
              0.7777777777777778,
              "#fb9f3a"
             ],
             [
              0.8888888888888888,
              "#fdca26"
             ],
             [
              1,
              "#f0f921"
             ]
            ],
            "type": "histogram2dcontour"
           }
          ],
          "mesh3d": [
           {
            "colorbar": {
             "outlinewidth": 0,
             "ticks": ""
            },
            "type": "mesh3d"
           }
          ],
          "parcoords": [
           {
            "line": {
             "colorbar": {
              "outlinewidth": 0,
              "ticks": ""
             }
            },
            "type": "parcoords"
           }
          ],
          "pie": [
           {
            "automargin": true,
            "type": "pie"
           }
          ],
          "scatter": [
           {
            "fillpattern": {
             "fillmode": "overlay",
             "size": 10,
             "solidity": 0.2
            },
            "type": "scatter"
           }
          ],
          "scatter3d": [
           {
            "line": {
             "colorbar": {
              "outlinewidth": 0,
              "ticks": ""
             }
            },
            "marker": {
             "colorbar": {
              "outlinewidth": 0,
              "ticks": ""
             }
            },
            "type": "scatter3d"
           }
          ],
          "scattercarpet": [
           {
            "marker": {
             "colorbar": {
              "outlinewidth": 0,
              "ticks": ""
             }
            },
            "type": "scattercarpet"
           }
          ],
          "scattergeo": [
           {
            "marker": {
             "colorbar": {
              "outlinewidth": 0,
              "ticks": ""
             }
            },
            "type": "scattergeo"
           }
          ],
          "scattergl": [
           {
            "marker": {
             "colorbar": {
              "outlinewidth": 0,
              "ticks": ""
             }
            },
            "type": "scattergl"
           }
          ],
          "scattermapbox": [
           {
            "marker": {
             "colorbar": {
              "outlinewidth": 0,
              "ticks": ""
             }
            },
            "type": "scattermapbox"
           }
          ],
          "scatterpolar": [
           {
            "marker": {
             "colorbar": {
              "outlinewidth": 0,
              "ticks": ""
             }
            },
            "type": "scatterpolar"
           }
          ],
          "scatterpolargl": [
           {
            "marker": {
             "colorbar": {
              "outlinewidth": 0,
              "ticks": ""
             }
            },
            "type": "scatterpolargl"
           }
          ],
          "scatterternary": [
           {
            "marker": {
             "colorbar": {
              "outlinewidth": 0,
              "ticks": ""
             }
            },
            "type": "scatterternary"
           }
          ],
          "surface": [
           {
            "colorbar": {
             "outlinewidth": 0,
             "ticks": ""
            },
            "colorscale": [
             [
              0,
              "#0d0887"
             ],
             [
              0.1111111111111111,
              "#46039f"
             ],
             [
              0.2222222222222222,
              "#7201a8"
             ],
             [
              0.3333333333333333,
              "#9c179e"
             ],
             [
              0.4444444444444444,
              "#bd3786"
             ],
             [
              0.5555555555555556,
              "#d8576b"
             ],
             [
              0.6666666666666666,
              "#ed7953"
             ],
             [
              0.7777777777777778,
              "#fb9f3a"
             ],
             [
              0.8888888888888888,
              "#fdca26"
             ],
             [
              1,
              "#f0f921"
             ]
            ],
            "type": "surface"
           }
          ],
          "table": [
           {
            "cells": {
             "fill": {
              "color": "#EBF0F8"
             },
             "line": {
              "color": "white"
             }
            },
            "header": {
             "fill": {
              "color": "#C8D4E3"
             },
             "line": {
              "color": "white"
             }
            },
            "type": "table"
           }
          ]
         },
         "layout": {
          "annotationdefaults": {
           "arrowcolor": "#2a3f5f",
           "arrowhead": 0,
           "arrowwidth": 1
          },
          "autotypenumbers": "strict",
          "coloraxis": {
           "colorbar": {
            "outlinewidth": 0,
            "ticks": ""
           }
          },
          "colorscale": {
           "diverging": [
            [
             0,
             "#8e0152"
            ],
            [
             0.1,
             "#c51b7d"
            ],
            [
             0.2,
             "#de77ae"
            ],
            [
             0.3,
             "#f1b6da"
            ],
            [
             0.4,
             "#fde0ef"
            ],
            [
             0.5,
             "#f7f7f7"
            ],
            [
             0.6,
             "#e6f5d0"
            ],
            [
             0.7,
             "#b8e186"
            ],
            [
             0.8,
             "#7fbc41"
            ],
            [
             0.9,
             "#4d9221"
            ],
            [
             1,
             "#276419"
            ]
           ],
           "sequential": [
            [
             0,
             "#0d0887"
            ],
            [
             0.1111111111111111,
             "#46039f"
            ],
            [
             0.2222222222222222,
             "#7201a8"
            ],
            [
             0.3333333333333333,
             "#9c179e"
            ],
            [
             0.4444444444444444,
             "#bd3786"
            ],
            [
             0.5555555555555556,
             "#d8576b"
            ],
            [
             0.6666666666666666,
             "#ed7953"
            ],
            [
             0.7777777777777778,
             "#fb9f3a"
            ],
            [
             0.8888888888888888,
             "#fdca26"
            ],
            [
             1,
             "#f0f921"
            ]
           ],
           "sequentialminus": [
            [
             0,
             "#0d0887"
            ],
            [
             0.1111111111111111,
             "#46039f"
            ],
            [
             0.2222222222222222,
             "#7201a8"
            ],
            [
             0.3333333333333333,
             "#9c179e"
            ],
            [
             0.4444444444444444,
             "#bd3786"
            ],
            [
             0.5555555555555556,
             "#d8576b"
            ],
            [
             0.6666666666666666,
             "#ed7953"
            ],
            [
             0.7777777777777778,
             "#fb9f3a"
            ],
            [
             0.8888888888888888,
             "#fdca26"
            ],
            [
             1,
             "#f0f921"
            ]
           ]
          },
          "colorway": [
           "#636efa",
           "#EF553B",
           "#00cc96",
           "#ab63fa",
           "#FFA15A",
           "#19d3f3",
           "#FF6692",
           "#B6E880",
           "#FF97FF",
           "#FECB52"
          ],
          "font": {
           "color": "#2a3f5f"
          },
          "geo": {
           "bgcolor": "white",
           "lakecolor": "white",
           "landcolor": "#E5ECF6",
           "showlakes": true,
           "showland": true,
           "subunitcolor": "white"
          },
          "hoverlabel": {
           "align": "left"
          },
          "hovermode": "closest",
          "mapbox": {
           "style": "light"
          },
          "paper_bgcolor": "white",
          "plot_bgcolor": "#E5ECF6",
          "polar": {
           "angularaxis": {
            "gridcolor": "white",
            "linecolor": "white",
            "ticks": ""
           },
           "bgcolor": "#E5ECF6",
           "radialaxis": {
            "gridcolor": "white",
            "linecolor": "white",
            "ticks": ""
           }
          },
          "scene": {
           "xaxis": {
            "backgroundcolor": "#E5ECF6",
            "gridcolor": "white",
            "gridwidth": 2,
            "linecolor": "white",
            "showbackground": true,
            "ticks": "",
            "zerolinecolor": "white"
           },
           "yaxis": {
            "backgroundcolor": "#E5ECF6",
            "gridcolor": "white",
            "gridwidth": 2,
            "linecolor": "white",
            "showbackground": true,
            "ticks": "",
            "zerolinecolor": "white"
           },
           "zaxis": {
            "backgroundcolor": "#E5ECF6",
            "gridcolor": "white",
            "gridwidth": 2,
            "linecolor": "white",
            "showbackground": true,
            "ticks": "",
            "zerolinecolor": "white"
           }
          },
          "shapedefaults": {
           "line": {
            "color": "#2a3f5f"
           }
          },
          "ternary": {
           "aaxis": {
            "gridcolor": "white",
            "linecolor": "white",
            "ticks": ""
           },
           "baxis": {
            "gridcolor": "white",
            "linecolor": "white",
            "ticks": ""
           },
           "bgcolor": "#E5ECF6",
           "caxis": {
            "gridcolor": "white",
            "linecolor": "white",
            "ticks": ""
           }
          },
          "title": {
           "x": 0.05
          },
          "xaxis": {
           "automargin": true,
           "gridcolor": "white",
           "linecolor": "white",
           "ticks": "",
           "title": {
            "standoff": 15
           },
           "zerolinecolor": "white",
           "zerolinewidth": 2
          },
          "yaxis": {
           "automargin": true,
           "gridcolor": "white",
           "linecolor": "white",
           "ticks": "",
           "title": {
            "standoff": 15
           },
           "zerolinecolor": "white",
           "zerolinewidth": 2
          }
         }
        },
        "width": 1000,
        "xaxis": {
         "anchor": "y",
         "categoryarray": [
          "ISC-CI",
          "Overlap",
          "SCM"
         ],
         "categoryorder": "array",
         "domain": [
          0,
          0.49
         ],
         "linecolor": "black",
         "linewidth": 1.5,
         "mirror": true,
         "showgrid": false,
         "showline": true,
         "showticklabels": true,
         "tickfont": {
          "size": 16
         },
         "ticks": "outside",
         "title": {
          "font": {
           "size": 24
          },
          "text": "Model"
         }
        },
        "xaxis2": {
         "anchor": "y2",
         "categoryarray": [
          "ISC-CI",
          "Overlap",
          "SCM"
         ],
         "categoryorder": "array",
         "domain": [
          0.51,
          1
         ],
         "linecolor": "black",
         "linewidth": 1.5,
         "matches": "x",
         "mirror": true,
         "showgrid": false,
         "showline": true,
         "showticklabels": true,
         "tickfont": {
          "size": 16
         },
         "ticks": "outside",
         "title": {
          "font": {
           "size": 24
          },
          "text": "Model"
         }
        },
        "yaxis": {
         "anchor": "x",
         "domain": [
          0,
          1
         ],
         "linecolor": "black",
         "linewidth": 1.5,
         "mirror": true,
         "range": [
          0,
          1
         ],
         "showgrid": false,
         "showline": true,
         "tickfont": {
          "size": 16
         },
         "ticks": "outside",
         "title": {
          "font": {
           "size": 20
          },
          "text": "Rating"
         }
        },
        "yaxis2": {
         "anchor": "x2",
         "domain": [
          0,
          1
         ],
         "linecolor": "black",
         "linewidth": 1.5,
         "matches": "y",
         "mirror": true,
         "showgrid": false,
         "showline": true,
         "showticklabels": false,
         "tickfont": {
          "size": 16
         },
         "ticks": "outside",
         "title": {
          "font": {
           "size": 20
          }
         }
        }
       }
      }
     },
     "metadata": {},
     "output_type": "display_data"
    }
   ],
   "source": [
    "# Select cross-category non-monotonicity data for detailed analysis\n",
    "non_monotonicity_data = argument_data[argument_data.Phenomenon=='Cross-Category Non-Monotonicity'].reset_index(drop=True)\n",
    "\n",
    "# Get indices of arguments with high similarity as rated by ISC-CI model (in the high argument group)\n",
    "similarities = non_monotonicity_data.loc[non_monotonicity_data['Argument Group']=='High','ISC-CI']\n",
    "high_sim_idxs = non_monotonicity_data[non_monotonicity_data['Argument Group']=='High'][similarities>=similarities.median()].index\n",
    "\n",
    "# Augment indices to include arguments in the weak group\n",
    "high_sim_idxs = np.concatenate([high_sim_idxs,high_sim_idxs+1])\n",
    "\n",
    "# Add similarity group to data\n",
    "non_monotonicity_data['Similarity Group'] = 'Low'\n",
    "non_monotonicity_data.loc[high_sim_idxs,'Similarity Group'] = 'High'\n",
    "\n",
    "# Calculate average ratings for each model by argument group for unpaired comparison\n",
    "plot_data = non_monotonicity_data[['Similarity Group','Argument Group']+models].melt(id_vars=['Similarity Group','Argument Group']).rename(columns={'variable':'Model','value':'Rating'})\n",
    "plot_data = plot_data.groupby(['Similarity Group','Argument Group','Model']).agg(['mean','sem'])['Rating'].reset_index().rename(columns={'mean':'Rating'})\n",
    "plot_data['95ci'] = plot_data['sem']*1.96\n",
    "fig = px.bar(plot_data,x='Model',y='Rating',error_y='95ci',color='Argument Group',barmode='group',\n",
    "             category_orders={'Model':['ISC-CI','Overlap','SCM'],\n",
    "                              'Similarity Group':['High','Low']},\n",
    "             facet_col='Similarity Group', facet_col_wrap=3, facet_row_spacing=0.15, pattern_shape='Argument Group',range_y=[0,1])\n",
    "\n",
    "# Format figure style & coloring\n",
    "fig = utils.format_figure(fig,width=1000,height=400)\n",
    "fig.for_each_annotation(lambda a: a.update(text=a.text.split('=')[1]+' Similarity'))\n",
    "fig.update_annotations(font_size=16)\n",
    "fig.update_xaxes(showticklabels=True,tickfont=dict(size=16))\n",
    "fig.update_yaxes(titlefont=dict(size=20),tickfont=dict(size=16))\n",
    "colors = [utils.model_colors[x] for x in sorted(models)]\n",
    "for i in range(len(fig.data)):\n",
    "    fig.data[i].marker.color = colors\n",
    "\n",
    "# Set up statistical significance\n",
    "plot_data['Bar Height'] = plot_data['Rating']+plot_data['95ci']\n",
    "regression_columns = ['coef','se','T','pval','CI[2.5%]','CI[97.5%]']\n",
    "significance_data = plot_data.groupby(['Similarity Group','Model']).max().reset_index()[['Similarity Group','Model','Bar Height']]\n",
    "regression_data = []\n",
    "\n",
    "# Run paired t-tests\n",
    "ttest_data = []\n",
    "for group in significance_data['Similarity Group'].unique():\n",
    "    phenomenon_data = non_monotonicity_data[(non_monotonicity_data['Similarity Group']==group)]\n",
    "    high_data = phenomenon_data[phenomenon_data['Argument Group']=='High']\n",
    "    low_data = phenomenon_data[phenomenon_data['Argument Group']=='Low']\n",
    "    combined_data = high_data.merge(low_data,on=['Premise 1','Conclusion'],suffixes=('_high','_low'))\n",
    "    for model in models:\n",
    "        statistic, p = ttest_rel(combined_data[f'{model}_high'],combined_data[f'{model}_low'])\n",
    "        direction = 'correct' if high_data[model].mean()>low_data[model].mean() or p>=.05 else 'opposite'\n",
    "        ttest_data.append({'Model':model,'Similarity Group':group,'statistic':statistic,'p':p,'p_stars':utils.p_to_stars(p),'direction':direction})\n",
    "\n",
    "# Add significance to bar plot\n",
    "significance_data = significance_data.merge(pd.DataFrame(ttest_data),on=['Similarity Group','Model'])\n",
    "\n",
    "phenomenon_to_axis_label = {'Low':'2','High':''}\n",
    "for group in significance_data['Similarity Group'].unique():\n",
    "    for model in plot_data.Model.unique():\n",
    "        sig_data = significance_data[(significance_data.Model==model)&(significance_data['Similarity Group']==group)]\n",
    "        bar_height = sig_data['Bar Height'].values[0]\n",
    "        p_stars = sig_data['p_stars'].values[0]\n",
    "        color = 'red' if sig_data['direction'].values[0]=='opposite' else 'black'\n",
    "        axis_label = phenomenon_to_axis_label[group]\n",
    "        fig.add_annotation(x=model,xref='x'+axis_label,yref='y'+axis_label,y=bar_height+0.05,text=p_stars,\n",
    "                           showarrow=False,font=dict(size=16,color=color))\n",
    "fig.update_layout(showlegend=False)\n",
    "fig.show()"
   ]
  },
  {
   "cell_type": "code",
   "execution_count": 11,
   "metadata": {},
   "outputs": [
    {
     "data": {
      "application/vnd.plotly.v1+json": {
       "config": {
        "plotlyServerURL": "https://plot.ly"
       },
       "data": [
        {
         "alignmentgroup": "True",
         "error_y": {
          "array": [
           0.034550342988530866,
           0.04553170375196213,
           0.02856786286654475,
           0.013933299316174694,
           0.009701015236378972
          ]
         },
         "hovertemplate": "Argument Group=High<br>Similarity Group=Match<br>Model=%{x}<br>Rating=%{y}<extra></extra>",
         "legendgroup": "High",
         "marker": {
          "color": [
           "#6797D5",
           "#F4A24C",
           "#F48777",
           "#7DA381",
           "#7BD47E"
          ],
          "pattern": {
           "shape": ""
          }
         },
         "name": "High",
         "offsetgroup": "High",
         "orientation": "v",
         "showlegend": true,
         "textposition": "auto",
         "type": "bar",
         "x": [
          "CICO",
          "GPT-3.5",
          "GPT-4",
          "Overlap",
          "SCM"
         ],
         "xaxis": "x",
         "y": [
          0.38829909053455164,
          0.3596774193548387,
          0.5158986175115208,
          0.7451538357538423,
          0.7445457240770668
         ],
         "yaxis": "y"
        },
        {
         "alignmentgroup": "True",
         "error_y": {
          "array": [
           0.030809235282203074,
           0.04050441731496635,
           0.024819237049496876,
           0.012423937296338205,
           0.008572583765380969
          ]
         },
         "hovertemplate": "Argument Group=High<br>Similarity Group=Mismatch<br>Model=%{x}<br>Rating=%{y}<extra></extra>",
         "legendgroup": "High",
         "marker": {
          "color": [
           "#6797D5",
           "#F4A24C",
           "#F48777",
           "#7DA381",
           "#7BD47E"
          ],
          "pattern": {
           "shape": ""
          }
         },
         "name": "High",
         "offsetgroup": "High",
         "orientation": "v",
         "showlegend": false,
         "textposition": "auto",
         "type": "bar",
         "x": [
          "CICO",
          "GPT-3.5",
          "GPT-4",
          "Overlap",
          "SCM"
         ],
         "xaxis": "x2",
         "y": [
          0.4102480972198895,
          0.3932862190812721,
          0.5256183745583038,
          0.7381427325136644,
          0.7409959078048759
         ],
         "yaxis": "y2"
        },
        {
         "alignmentgroup": "True",
         "error_y": {
          "array": [
           0.0410590232436553,
           0.05288531218990169,
           0.022776871409370122,
           0.009096623102209727,
           0.0073880399561648625
          ]
         },
         "hovertemplate": "Argument Group=Low<br>Similarity Group=Match<br>Model=%{x}<br>Rating=%{y}<extra></extra>",
         "legendgroup": "Low",
         "marker": {
          "color": [
           "#6797D5",
           "#F4A24C",
           "#F48777",
           "#7DA381",
           "#7BD47E"
          ],
          "pattern": {
           "shape": "/"
          }
         },
         "name": "Low",
         "offsetgroup": "Low",
         "orientation": "v",
         "showlegend": true,
         "textposition": "auto",
         "type": "bar",
         "x": [
          "CICO",
          "GPT-3.5",
          "GPT-4",
          "Overlap",
          "SCM"
         ],
         "xaxis": "x",
         "y": [
          0.4779587251805885,
          0.4534562211981567,
          0.526958525345622,
          0.7119349547592002,
          0.669900187779132
         ],
         "yaxis": "y"
        },
        {
         "alignmentgroup": "True",
         "error_y": {
          "array": [
           0.036466407275026515,
           0.03577878609806174,
           0.02018615452887537,
           0.008995010950494207,
           0.006478998383471987
          ]
         },
         "hovertemplate": "Argument Group=Low<br>Similarity Group=Mismatch<br>Model=%{x}<br>Rating=%{y}<extra></extra>",
         "legendgroup": "Low",
         "marker": {
          "color": [
           "#6797D5",
           "#F4A24C",
           "#F48777",
           "#7DA381",
           "#7BD47E"
          ],
          "pattern": {
           "shape": "/"
          }
         },
         "name": "Low",
         "offsetgroup": "Low",
         "orientation": "v",
         "showlegend": false,
         "textposition": "auto",
         "type": "bar",
         "x": [
          "CICO",
          "GPT-3.5",
          "GPT-4",
          "Overlap",
          "SCM"
         ],
         "xaxis": "x2",
         "y": [
          0.35745781013152195,
          0.4340989399293286,
          0.45512367491166084,
          0.5459823952984322,
          0.6267746368592546
         ],
         "yaxis": "y2"
        }
       ],
       "layout": {
        "annotations": [
         {
          "font": {
           "size": 16
          },
          "showarrow": false,
          "text": "Category Match",
          "x": 0.245,
          "xanchor": "center",
          "xref": "paper",
          "y": 1,
          "yanchor": "bottom",
          "yref": "paper"
         },
         {
          "font": {
           "size": 16
          },
          "showarrow": false,
          "text": "Category Mismatch",
          "x": 0.755,
          "xanchor": "center",
          "xref": "paper",
          "y": 1,
          "yanchor": "bottom",
          "yref": "paper"
         },
         {
          "font": {
           "color": "red",
           "size": 16
          },
          "showarrow": false,
          "text": "***",
          "x": "CICO",
          "xref": "x",
          "y": 0.5690177484242439,
          "yref": "y"
         },
         {
          "font": {
           "color": "red",
           "size": 16
          },
          "showarrow": false,
          "text": "***",
          "x": "GPT-3.5",
          "xref": "x",
          "y": 0.5563415333880585,
          "yref": "y"
         },
         {
          "font": {
           "color": "black",
           "size": 16
          },
          "showarrow": false,
          "text": "n.s.",
          "x": "GPT-4",
          "xref": "x",
          "y": 0.5997353967549922,
          "yref": "y"
         },
         {
          "font": {
           "color": "black",
           "size": 16
          },
          "showarrow": false,
          "text": "***",
          "x": "Overlap",
          "xref": "x",
          "y": 0.8090871350700171,
          "yref": "y"
         },
         {
          "font": {
           "color": "black",
           "size": 16
          },
          "showarrow": false,
          "text": "***",
          "x": "SCM",
          "xref": "x",
          "y": 0.8042467393134458,
          "yref": "y"
         },
         {
          "font": {
           "color": "black",
           "size": 16
          },
          "showarrow": false,
          "text": "**",
          "x": "CICO",
          "xref": "x2",
          "y": 0.49105733250209255,
          "yref": "y2"
         },
         {
          "font": {
           "color": "red",
           "size": 16
          },
          "showarrow": false,
          "text": "*",
          "x": "GPT-3.5",
          "xref": "x2",
          "y": 0.5198777260273904,
          "yref": "y2"
         },
         {
          "font": {
           "color": "black",
           "size": 16
          },
          "showarrow": false,
          "text": "***",
          "x": "GPT-4",
          "xref": "x2",
          "y": 0.6004376116078007,
          "yref": "y2"
         },
         {
          "font": {
           "color": "black",
           "size": 16
          },
          "showarrow": false,
          "text": "***",
          "x": "Overlap",
          "xref": "x2",
          "y": 0.8005666698100026,
          "yref": "y2"
         },
         {
          "font": {
           "color": "black",
           "size": 16
          },
          "showarrow": false,
          "text": "***",
          "x": "SCM",
          "xref": "x2",
          "y": 0.7995684915702569,
          "yref": "y2"
         }
        ],
        "barmode": "group",
        "height": 400,
        "legend": {
         "title": {
          "text": "Argument Group"
         },
         "tracegroupgap": 0
        },
        "margin": {
         "t": 60
        },
        "plot_bgcolor": "white",
        "showlegend": false,
        "template": {
         "data": {
          "bar": [
           {
            "error_x": {
             "color": "#2a3f5f"
            },
            "error_y": {
             "color": "#2a3f5f"
            },
            "marker": {
             "line": {
              "color": "#E5ECF6",
              "width": 0.5
             },
             "pattern": {
              "fillmode": "overlay",
              "size": 10,
              "solidity": 0.2
             }
            },
            "type": "bar"
           }
          ],
          "barpolar": [
           {
            "marker": {
             "line": {
              "color": "#E5ECF6",
              "width": 0.5
             },
             "pattern": {
              "fillmode": "overlay",
              "size": 10,
              "solidity": 0.2
             }
            },
            "type": "barpolar"
           }
          ],
          "carpet": [
           {
            "aaxis": {
             "endlinecolor": "#2a3f5f",
             "gridcolor": "white",
             "linecolor": "white",
             "minorgridcolor": "white",
             "startlinecolor": "#2a3f5f"
            },
            "baxis": {
             "endlinecolor": "#2a3f5f",
             "gridcolor": "white",
             "linecolor": "white",
             "minorgridcolor": "white",
             "startlinecolor": "#2a3f5f"
            },
            "type": "carpet"
           }
          ],
          "choropleth": [
           {
            "colorbar": {
             "outlinewidth": 0,
             "ticks": ""
            },
            "type": "choropleth"
           }
          ],
          "contour": [
           {
            "colorbar": {
             "outlinewidth": 0,
             "ticks": ""
            },
            "colorscale": [
             [
              0,
              "#0d0887"
             ],
             [
              0.1111111111111111,
              "#46039f"
             ],
             [
              0.2222222222222222,
              "#7201a8"
             ],
             [
              0.3333333333333333,
              "#9c179e"
             ],
             [
              0.4444444444444444,
              "#bd3786"
             ],
             [
              0.5555555555555556,
              "#d8576b"
             ],
             [
              0.6666666666666666,
              "#ed7953"
             ],
             [
              0.7777777777777778,
              "#fb9f3a"
             ],
             [
              0.8888888888888888,
              "#fdca26"
             ],
             [
              1,
              "#f0f921"
             ]
            ],
            "type": "contour"
           }
          ],
          "contourcarpet": [
           {
            "colorbar": {
             "outlinewidth": 0,
             "ticks": ""
            },
            "type": "contourcarpet"
           }
          ],
          "heatmap": [
           {
            "colorbar": {
             "outlinewidth": 0,
             "ticks": ""
            },
            "colorscale": [
             [
              0,
              "#0d0887"
             ],
             [
              0.1111111111111111,
              "#46039f"
             ],
             [
              0.2222222222222222,
              "#7201a8"
             ],
             [
              0.3333333333333333,
              "#9c179e"
             ],
             [
              0.4444444444444444,
              "#bd3786"
             ],
             [
              0.5555555555555556,
              "#d8576b"
             ],
             [
              0.6666666666666666,
              "#ed7953"
             ],
             [
              0.7777777777777778,
              "#fb9f3a"
             ],
             [
              0.8888888888888888,
              "#fdca26"
             ],
             [
              1,
              "#f0f921"
             ]
            ],
            "type": "heatmap"
           }
          ],
          "heatmapgl": [
           {
            "colorbar": {
             "outlinewidth": 0,
             "ticks": ""
            },
            "colorscale": [
             [
              0,
              "#0d0887"
             ],
             [
              0.1111111111111111,
              "#46039f"
             ],
             [
              0.2222222222222222,
              "#7201a8"
             ],
             [
              0.3333333333333333,
              "#9c179e"
             ],
             [
              0.4444444444444444,
              "#bd3786"
             ],
             [
              0.5555555555555556,
              "#d8576b"
             ],
             [
              0.6666666666666666,
              "#ed7953"
             ],
             [
              0.7777777777777778,
              "#fb9f3a"
             ],
             [
              0.8888888888888888,
              "#fdca26"
             ],
             [
              1,
              "#f0f921"
             ]
            ],
            "type": "heatmapgl"
           }
          ],
          "histogram": [
           {
            "marker": {
             "pattern": {
              "fillmode": "overlay",
              "size": 10,
              "solidity": 0.2
             }
            },
            "type": "histogram"
           }
          ],
          "histogram2d": [
           {
            "colorbar": {
             "outlinewidth": 0,
             "ticks": ""
            },
            "colorscale": [
             [
              0,
              "#0d0887"
             ],
             [
              0.1111111111111111,
              "#46039f"
             ],
             [
              0.2222222222222222,
              "#7201a8"
             ],
             [
              0.3333333333333333,
              "#9c179e"
             ],
             [
              0.4444444444444444,
              "#bd3786"
             ],
             [
              0.5555555555555556,
              "#d8576b"
             ],
             [
              0.6666666666666666,
              "#ed7953"
             ],
             [
              0.7777777777777778,
              "#fb9f3a"
             ],
             [
              0.8888888888888888,
              "#fdca26"
             ],
             [
              1,
              "#f0f921"
             ]
            ],
            "type": "histogram2d"
           }
          ],
          "histogram2dcontour": [
           {
            "colorbar": {
             "outlinewidth": 0,
             "ticks": ""
            },
            "colorscale": [
             [
              0,
              "#0d0887"
             ],
             [
              0.1111111111111111,
              "#46039f"
             ],
             [
              0.2222222222222222,
              "#7201a8"
             ],
             [
              0.3333333333333333,
              "#9c179e"
             ],
             [
              0.4444444444444444,
              "#bd3786"
             ],
             [
              0.5555555555555556,
              "#d8576b"
             ],
             [
              0.6666666666666666,
              "#ed7953"
             ],
             [
              0.7777777777777778,
              "#fb9f3a"
             ],
             [
              0.8888888888888888,
              "#fdca26"
             ],
             [
              1,
              "#f0f921"
             ]
            ],
            "type": "histogram2dcontour"
           }
          ],
          "mesh3d": [
           {
            "colorbar": {
             "outlinewidth": 0,
             "ticks": ""
            },
            "type": "mesh3d"
           }
          ],
          "parcoords": [
           {
            "line": {
             "colorbar": {
              "outlinewidth": 0,
              "ticks": ""
             }
            },
            "type": "parcoords"
           }
          ],
          "pie": [
           {
            "automargin": true,
            "type": "pie"
           }
          ],
          "scatter": [
           {
            "fillpattern": {
             "fillmode": "overlay",
             "size": 10,
             "solidity": 0.2
            },
            "type": "scatter"
           }
          ],
          "scatter3d": [
           {
            "line": {
             "colorbar": {
              "outlinewidth": 0,
              "ticks": ""
             }
            },
            "marker": {
             "colorbar": {
              "outlinewidth": 0,
              "ticks": ""
             }
            },
            "type": "scatter3d"
           }
          ],
          "scattercarpet": [
           {
            "marker": {
             "colorbar": {
              "outlinewidth": 0,
              "ticks": ""
             }
            },
            "type": "scattercarpet"
           }
          ],
          "scattergeo": [
           {
            "marker": {
             "colorbar": {
              "outlinewidth": 0,
              "ticks": ""
             }
            },
            "type": "scattergeo"
           }
          ],
          "scattergl": [
           {
            "marker": {
             "colorbar": {
              "outlinewidth": 0,
              "ticks": ""
             }
            },
            "type": "scattergl"
           }
          ],
          "scattermapbox": [
           {
            "marker": {
             "colorbar": {
              "outlinewidth": 0,
              "ticks": ""
             }
            },
            "type": "scattermapbox"
           }
          ],
          "scatterpolar": [
           {
            "marker": {
             "colorbar": {
              "outlinewidth": 0,
              "ticks": ""
             }
            },
            "type": "scatterpolar"
           }
          ],
          "scatterpolargl": [
           {
            "marker": {
             "colorbar": {
              "outlinewidth": 0,
              "ticks": ""
             }
            },
            "type": "scatterpolargl"
           }
          ],
          "scatterternary": [
           {
            "marker": {
             "colorbar": {
              "outlinewidth": 0,
              "ticks": ""
             }
            },
            "type": "scatterternary"
           }
          ],
          "surface": [
           {
            "colorbar": {
             "outlinewidth": 0,
             "ticks": ""
            },
            "colorscale": [
             [
              0,
              "#0d0887"
             ],
             [
              0.1111111111111111,
              "#46039f"
             ],
             [
              0.2222222222222222,
              "#7201a8"
             ],
             [
              0.3333333333333333,
              "#9c179e"
             ],
             [
              0.4444444444444444,
              "#bd3786"
             ],
             [
              0.5555555555555556,
              "#d8576b"
             ],
             [
              0.6666666666666666,
              "#ed7953"
             ],
             [
              0.7777777777777778,
              "#fb9f3a"
             ],
             [
              0.8888888888888888,
              "#fdca26"
             ],
             [
              1,
              "#f0f921"
             ]
            ],
            "type": "surface"
           }
          ],
          "table": [
           {
            "cells": {
             "fill": {
              "color": "#EBF0F8"
             },
             "line": {
              "color": "white"
             }
            },
            "header": {
             "fill": {
              "color": "#C8D4E3"
             },
             "line": {
              "color": "white"
             }
            },
            "type": "table"
           }
          ]
         },
         "layout": {
          "annotationdefaults": {
           "arrowcolor": "#2a3f5f",
           "arrowhead": 0,
           "arrowwidth": 1
          },
          "autotypenumbers": "strict",
          "coloraxis": {
           "colorbar": {
            "outlinewidth": 0,
            "ticks": ""
           }
          },
          "colorscale": {
           "diverging": [
            [
             0,
             "#8e0152"
            ],
            [
             0.1,
             "#c51b7d"
            ],
            [
             0.2,
             "#de77ae"
            ],
            [
             0.3,
             "#f1b6da"
            ],
            [
             0.4,
             "#fde0ef"
            ],
            [
             0.5,
             "#f7f7f7"
            ],
            [
             0.6,
             "#e6f5d0"
            ],
            [
             0.7,
             "#b8e186"
            ],
            [
             0.8,
             "#7fbc41"
            ],
            [
             0.9,
             "#4d9221"
            ],
            [
             1,
             "#276419"
            ]
           ],
           "sequential": [
            [
             0,
             "#0d0887"
            ],
            [
             0.1111111111111111,
             "#46039f"
            ],
            [
             0.2222222222222222,
             "#7201a8"
            ],
            [
             0.3333333333333333,
             "#9c179e"
            ],
            [
             0.4444444444444444,
             "#bd3786"
            ],
            [
             0.5555555555555556,
             "#d8576b"
            ],
            [
             0.6666666666666666,
             "#ed7953"
            ],
            [
             0.7777777777777778,
             "#fb9f3a"
            ],
            [
             0.8888888888888888,
             "#fdca26"
            ],
            [
             1,
             "#f0f921"
            ]
           ],
           "sequentialminus": [
            [
             0,
             "#0d0887"
            ],
            [
             0.1111111111111111,
             "#46039f"
            ],
            [
             0.2222222222222222,
             "#7201a8"
            ],
            [
             0.3333333333333333,
             "#9c179e"
            ],
            [
             0.4444444444444444,
             "#bd3786"
            ],
            [
             0.5555555555555556,
             "#d8576b"
            ],
            [
             0.6666666666666666,
             "#ed7953"
            ],
            [
             0.7777777777777778,
             "#fb9f3a"
            ],
            [
             0.8888888888888888,
             "#fdca26"
            ],
            [
             1,
             "#f0f921"
            ]
           ]
          },
          "colorway": [
           "#636efa",
           "#EF553B",
           "#00cc96",
           "#ab63fa",
           "#FFA15A",
           "#19d3f3",
           "#FF6692",
           "#B6E880",
           "#FF97FF",
           "#FECB52"
          ],
          "font": {
           "color": "#2a3f5f"
          },
          "geo": {
           "bgcolor": "white",
           "lakecolor": "white",
           "landcolor": "#E5ECF6",
           "showlakes": true,
           "showland": true,
           "subunitcolor": "white"
          },
          "hoverlabel": {
           "align": "left"
          },
          "hovermode": "closest",
          "mapbox": {
           "style": "light"
          },
          "paper_bgcolor": "white",
          "plot_bgcolor": "#E5ECF6",
          "polar": {
           "angularaxis": {
            "gridcolor": "white",
            "linecolor": "white",
            "ticks": ""
           },
           "bgcolor": "#E5ECF6",
           "radialaxis": {
            "gridcolor": "white",
            "linecolor": "white",
            "ticks": ""
           }
          },
          "scene": {
           "xaxis": {
            "backgroundcolor": "#E5ECF6",
            "gridcolor": "white",
            "gridwidth": 2,
            "linecolor": "white",
            "showbackground": true,
            "ticks": "",
            "zerolinecolor": "white"
           },
           "yaxis": {
            "backgroundcolor": "#E5ECF6",
            "gridcolor": "white",
            "gridwidth": 2,
            "linecolor": "white",
            "showbackground": true,
            "ticks": "",
            "zerolinecolor": "white"
           },
           "zaxis": {
            "backgroundcolor": "#E5ECF6",
            "gridcolor": "white",
            "gridwidth": 2,
            "linecolor": "white",
            "showbackground": true,
            "ticks": "",
            "zerolinecolor": "white"
           }
          },
          "shapedefaults": {
           "line": {
            "color": "#2a3f5f"
           }
          },
          "ternary": {
           "aaxis": {
            "gridcolor": "white",
            "linecolor": "white",
            "ticks": ""
           },
           "baxis": {
            "gridcolor": "white",
            "linecolor": "white",
            "ticks": ""
           },
           "bgcolor": "#E5ECF6",
           "caxis": {
            "gridcolor": "white",
            "linecolor": "white",
            "ticks": ""
           }
          },
          "title": {
           "x": 0.05
          },
          "xaxis": {
           "automargin": true,
           "gridcolor": "white",
           "linecolor": "white",
           "ticks": "",
           "title": {
            "standoff": 15
           },
           "zerolinecolor": "white",
           "zerolinewidth": 2
          },
          "yaxis": {
           "automargin": true,
           "gridcolor": "white",
           "linecolor": "white",
           "ticks": "",
           "title": {
            "standoff": 15
           },
           "zerolinecolor": "white",
           "zerolinewidth": 2
          }
         }
        },
        "width": 1000,
        "xaxis": {
         "anchor": "y",
         "categoryarray": [
          "CICO",
          "Overlap",
          "SCM"
         ],
         "categoryorder": "array",
         "domain": [
          0,
          0.49
         ],
         "linecolor": "black",
         "linewidth": 1.5,
         "mirror": true,
         "showgrid": false,
         "showline": true,
         "showticklabels": true,
         "tickfont": {
          "size": 16
         },
         "ticks": "outside",
         "title": {
          "font": {
           "size": 24
          },
          "text": "Model"
         }
        },
        "xaxis2": {
         "anchor": "y2",
         "categoryarray": [
          "CICO",
          "Overlap",
          "SCM"
         ],
         "categoryorder": "array",
         "domain": [
          0.51,
          1
         ],
         "linecolor": "black",
         "linewidth": 1.5,
         "matches": "x",
         "mirror": true,
         "showgrid": false,
         "showline": true,
         "showticklabels": true,
         "tickfont": {
          "size": 16
         },
         "ticks": "outside",
         "title": {
          "font": {
           "size": 24
          },
          "text": "Model"
         }
        },
        "yaxis": {
         "anchor": "x",
         "domain": [
          0,
          1
         ],
         "linecolor": "black",
         "linewidth": 1.5,
         "mirror": true,
         "range": [
          0,
          1
         ],
         "showgrid": false,
         "showline": true,
         "tickfont": {
          "size": 16
         },
         "ticks": "outside",
         "title": {
          "font": {
           "size": 20
          },
          "text": "Rating"
         }
        },
        "yaxis2": {
         "anchor": "x2",
         "domain": [
          0,
          1
         ],
         "linecolor": "black",
         "linewidth": 1.5,
         "matches": "y",
         "mirror": true,
         "showgrid": false,
         "showline": true,
         "showticklabels": false,
         "tickfont": {
          "size": 16
         },
         "ticks": "outside",
         "title": {
          "font": {
           "size": 20
          }
         }
        }
       }
      }
     },
     "metadata": {},
     "output_type": "display_data"
    }
   ],
   "source": [
    "# Select cross-category non-monotonicity data for detailed analysis\n",
    "non_monotonicity_data = argument_data[argument_data.Phenomenon=='Non-Monotonicity (Cross-Category)'].reset_index(drop=True)\n",
    "non_monotonicity_data['Premise 2 Name'] = non_monotonicity_data['Premise 2']\n",
    "high_arg_idxs = non_monotonicity_data[non_monotonicity_data['Argument Group']=='High'].index\n",
    "non_monotonicity_data.loc[high_arg_idxs,'Premise 2 Name'] = non_monotonicity_data[non_monotonicity_data['Argument Group']=='Low']['Premise 2'].values\n",
    "\n",
    "# Add living vs non-living labels to data\n",
    "category_df = pd.read_csv('data/leuven_dataset/leuven_categories.csv')[['Name','Category 2']]\n",
    "category_df = category_df.append({'Name':'','Category 2':''},ignore_index=True)\n",
    "non_monotonicity_data = non_monotonicity_data.replace({np.nan:''}).merge(category_df,left_on='Premise 1',right_on='Name').rename(columns={'Category 2':'Premise 1 Category'}).drop(columns='Name')\n",
    "non_monotonicity_data = non_monotonicity_data.merge(category_df,left_on='Premise 2 Name',right_on='Name').rename(columns={'Category 2':'Premise 2 Category'}).drop(columns='Name')\n",
    "non_monotonicity_data['Similarity Group'] = non_monotonicity_data['Premise 1 Category']==non_monotonicity_data['Premise 2 Category']\n",
    "non_monotonicity_data['Similarity Group'] = non_monotonicity_data['Similarity Group'].replace({True:'Match',False:'Mismatch'})\n",
    "\n",
    "# Calculate average ratings for each model by argument group for unpaired comparison\n",
    "plot_data = non_monotonicity_data[['Similarity Group','Argument Group']+models].melt(id_vars=['Similarity Group','Argument Group']).rename(columns={'variable':'Model','value':'Rating'})\n",
    "plot_data = plot_data.groupby(['Similarity Group','Argument Group','Model']).agg(['mean','sem'])['Rating'].reset_index().rename(columns={'mean':'Rating'})\n",
    "plot_data['95ci'] = plot_data['sem']*1.96\n",
    "fig = px.bar(plot_data,x='Model',y='Rating',error_y='95ci',color='Argument Group',barmode='group',\n",
    "             category_orders={'Model':['CICO','Overlap','SCM'],\n",
    "                              'Similarity Group':['Match','Mismatch']},\n",
    "             facet_col='Similarity Group', facet_col_wrap=3, facet_row_spacing=0.15, pattern_shape='Argument Group',range_y=[0,1])\n",
    "\n",
    "# Format figure style & coloring\n",
    "fig = utils.format_figure(fig,width=1000,height=400)\n",
    "fig.for_each_annotation(lambda a: a.update(text='Category '+a.text.split('=')[1]))\n",
    "fig.update_annotations(font_size=16)\n",
    "fig.update_xaxes(showticklabels=True,tickfont=dict(size=16))\n",
    "fig.update_yaxes(titlefont=dict(size=20),tickfont=dict(size=16))\n",
    "colors = [utils.model_colors[x] for x in sorted(models)]\n",
    "for i in range(len(fig.data)):\n",
    "    fig.data[i].marker.color = colors\n",
    "\n",
    "# Set up statistical significance\n",
    "plot_data['Bar Height'] = plot_data['Rating']+plot_data['95ci']\n",
    "regression_columns = ['coef','se','T','pval','CI[2.5%]','CI[97.5%]']\n",
    "significance_data = plot_data.groupby(['Similarity Group','Model']).max().reset_index()[['Similarity Group','Model','Bar Height']]\n",
    "regression_data = []\n",
    "\n",
    "# Run paired t-tests\n",
    "ttest_data = []\n",
    "for group in significance_data['Similarity Group'].unique():\n",
    "    phenomenon_data = non_monotonicity_data[(non_monotonicity_data['Similarity Group']==group)]\n",
    "    high_data = phenomenon_data[phenomenon_data['Argument Group']=='High']\n",
    "    low_data = phenomenon_data[phenomenon_data['Argument Group']=='Low']\n",
    "    combined_data = high_data.merge(low_data,on=['Premise 1','Conclusion'],suffixes=('_high','_low'))\n",
    "    for model in models:\n",
    "        statistic, p = ttest_rel(combined_data[f'{model}_high'],combined_data[f'{model}_low'])\n",
    "        direction = 'correct' if high_data[model].mean()>low_data[model].mean() or p>=.05 else 'opposite'\n",
    "        ttest_data.append({'Model':model,'Similarity Group':group,'statistic':statistic,'p':p,'p_stars':utils.p_to_stars(p),'direction':direction})\n",
    "\n",
    "# Add significance to bar plot\n",
    "significance_data = significance_data.merge(pd.DataFrame(ttest_data),on=['Similarity Group','Model'])\n",
    "\n",
    "phenomenon_to_axis_label = {'Mismatch':'2','Match':''}\n",
    "for group in significance_data['Similarity Group'].unique():\n",
    "    for model in plot_data.Model.unique():\n",
    "        sig_data = significance_data[(significance_data.Model==model)&(significance_data['Similarity Group']==group)]\n",
    "        bar_height = sig_data['Bar Height'].values[0]\n",
    "        p_stars = sig_data['p_stars'].values[0]\n",
    "        color = 'red' if sig_data['direction'].values[0]=='opposite' else 'black'\n",
    "        axis_label = phenomenon_to_axis_label[group]\n",
    "        fig.add_annotation(x=model,xref='x'+axis_label,yref='y'+axis_label,y=bar_height+0.05,text=p_stars,\n",
    "                           showarrow=False,font=dict(size=16,color=color))\n",
    "fig.update_layout(showlegend=False)\n",
    "fig.show()"
   ]
  },
  {
   "cell_type": "markdown",
   "metadata": {},
   "source": [
    "# Study 2: Context Effects in Inductive Reasoning"
   ]
  },
  {
   "cell_type": "markdown",
   "metadata": {},
   "source": [
    "## Context-Dependent Non-Monotonicity"
   ]
  },
  {
   "cell_type": "code",
   "execution_count": 33,
   "metadata": {},
   "outputs": [
    {
     "data": {
      "application/vnd.plotly.v1+json": {
       "config": {
        "plotlyServerURL": "https://plot.ly"
       },
       "data": [
        {
         "alignmentgroup": "True",
         "hovertemplate": "Model=%{y}<br>Agreement with ISC-CI (% of Arguments)=%{x}<extra></extra>",
         "legendgroup": "Human",
         "line": {
          "width": 4
         },
         "marker": {
          "color": "#D674BB"
         },
         "name": "Human",
         "notched": false,
         "offsetgroup": "Human",
         "orientation": "h",
         "showlegend": true,
         "type": "box",
         "x": [
          0.90625,
          0.8235294117647058,
          0.45454545454545453,
          0.9705882352941176,
          0.6,
          0.8484848484848485,
          0.9090909090909091,
          0.45714285714285713,
          0.030303030303030304,
          0.78125,
          1,
          0.8529411764705882,
          0.35294117647058826,
          0.9714285714285714,
          0.48484848484848486,
          0.9393939393939394,
          0.5454545454545454,
          0.9142857142857143,
          0.20588235294117646,
          0.9117647058823529,
          0.8823529411764706,
          0.6764705882352942,
          0.8857142857142857,
          0.06060606060606061,
          0.9705882352941176,
          0.9705882352941176,
          0.8484848484848485,
          0.8529411764705882,
          0.029411764705882353
         ],
         "x0": " ",
         "xaxis": "x",
         "y": [
          "Human",
          "Human",
          "Human",
          "Human",
          "Human",
          "Human",
          "Human",
          "Human",
          "Human",
          "Human",
          "Human",
          "Human",
          "Human",
          "Human",
          "Human",
          "Human",
          "Human",
          "Human",
          "Human",
          "Human",
          "Human",
          "Human",
          "Human",
          "Human",
          "Human",
          "Human",
          "Human",
          "Human",
          "Human"
         ],
         "y0": " ",
         "yaxis": "y"
        },
        {
         "alignmentgroup": "True",
         "hovertemplate": "Model=%{y}<br>Agreement with ISC-CI (% of Arguments)=%{x}<extra></extra>",
         "legendgroup": "GPT-3.5",
         "line": {
          "width": 4
         },
         "marker": {
          "color": "#F4A24C"
         },
         "name": "GPT-3.5",
         "notched": false,
         "offsetgroup": "GPT-3.5",
         "orientation": "h",
         "showlegend": true,
         "type": "box",
         "x": [
          0.0375
         ],
         "x0": " ",
         "xaxis": "x",
         "y": [
          "GPT-3.5"
         ],
         "y0": " ",
         "yaxis": "y"
        },
        {
         "alignmentgroup": "True",
         "hovertemplate": "Model=%{y}<br>Agreement with ISC-CI (% of Arguments)=%{x}<extra></extra>",
         "legendgroup": "GPT-4",
         "line": {
          "width": 4
         },
         "marker": {
          "color": "#F48777"
         },
         "name": "GPT-4",
         "notched": false,
         "offsetgroup": "GPT-4",
         "orientation": "h",
         "showlegend": true,
         "type": "box",
         "x": [
          0.0125
         ],
         "x0": " ",
         "xaxis": "x",
         "y": [
          "GPT-4"
         ],
         "y0": " ",
         "yaxis": "y"
        }
       ],
       "layout": {
        "boxgap": 0.1,
        "boxgroupgap": 0.01,
        "boxmode": "overlay",
        "height": 400,
        "legend": {
         "title": {
          "text": "Model"
         },
         "tracegroupgap": 0
        },
        "margin": {
         "t": 60
        },
        "plot_bgcolor": "white",
        "shapes": [
         {
          "line": {
           "color": "black",
           "dash": "dot"
          },
          "type": "line",
          "x0": 0.5,
          "x1": 0.5,
          "xref": "x",
          "y0": 0,
          "y1": 1,
          "yref": "y domain"
         }
        ],
        "showlegend": false,
        "template": {
         "data": {
          "bar": [
           {
            "error_x": {
             "color": "#2a3f5f"
            },
            "error_y": {
             "color": "#2a3f5f"
            },
            "marker": {
             "line": {
              "color": "#E5ECF6",
              "width": 0.5
             },
             "pattern": {
              "fillmode": "overlay",
              "size": 10,
              "solidity": 0.2
             }
            },
            "type": "bar"
           }
          ],
          "barpolar": [
           {
            "marker": {
             "line": {
              "color": "#E5ECF6",
              "width": 0.5
             },
             "pattern": {
              "fillmode": "overlay",
              "size": 10,
              "solidity": 0.2
             }
            },
            "type": "barpolar"
           }
          ],
          "carpet": [
           {
            "aaxis": {
             "endlinecolor": "#2a3f5f",
             "gridcolor": "white",
             "linecolor": "white",
             "minorgridcolor": "white",
             "startlinecolor": "#2a3f5f"
            },
            "baxis": {
             "endlinecolor": "#2a3f5f",
             "gridcolor": "white",
             "linecolor": "white",
             "minorgridcolor": "white",
             "startlinecolor": "#2a3f5f"
            },
            "type": "carpet"
           }
          ],
          "choropleth": [
           {
            "colorbar": {
             "outlinewidth": 0,
             "ticks": ""
            },
            "type": "choropleth"
           }
          ],
          "contour": [
           {
            "colorbar": {
             "outlinewidth": 0,
             "ticks": ""
            },
            "colorscale": [
             [
              0,
              "#0d0887"
             ],
             [
              0.1111111111111111,
              "#46039f"
             ],
             [
              0.2222222222222222,
              "#7201a8"
             ],
             [
              0.3333333333333333,
              "#9c179e"
             ],
             [
              0.4444444444444444,
              "#bd3786"
             ],
             [
              0.5555555555555556,
              "#d8576b"
             ],
             [
              0.6666666666666666,
              "#ed7953"
             ],
             [
              0.7777777777777778,
              "#fb9f3a"
             ],
             [
              0.8888888888888888,
              "#fdca26"
             ],
             [
              1,
              "#f0f921"
             ]
            ],
            "type": "contour"
           }
          ],
          "contourcarpet": [
           {
            "colorbar": {
             "outlinewidth": 0,
             "ticks": ""
            },
            "type": "contourcarpet"
           }
          ],
          "heatmap": [
           {
            "colorbar": {
             "outlinewidth": 0,
             "ticks": ""
            },
            "colorscale": [
             [
              0,
              "#0d0887"
             ],
             [
              0.1111111111111111,
              "#46039f"
             ],
             [
              0.2222222222222222,
              "#7201a8"
             ],
             [
              0.3333333333333333,
              "#9c179e"
             ],
             [
              0.4444444444444444,
              "#bd3786"
             ],
             [
              0.5555555555555556,
              "#d8576b"
             ],
             [
              0.6666666666666666,
              "#ed7953"
             ],
             [
              0.7777777777777778,
              "#fb9f3a"
             ],
             [
              0.8888888888888888,
              "#fdca26"
             ],
             [
              1,
              "#f0f921"
             ]
            ],
            "type": "heatmap"
           }
          ],
          "heatmapgl": [
           {
            "colorbar": {
             "outlinewidth": 0,
             "ticks": ""
            },
            "colorscale": [
             [
              0,
              "#0d0887"
             ],
             [
              0.1111111111111111,
              "#46039f"
             ],
             [
              0.2222222222222222,
              "#7201a8"
             ],
             [
              0.3333333333333333,
              "#9c179e"
             ],
             [
              0.4444444444444444,
              "#bd3786"
             ],
             [
              0.5555555555555556,
              "#d8576b"
             ],
             [
              0.6666666666666666,
              "#ed7953"
             ],
             [
              0.7777777777777778,
              "#fb9f3a"
             ],
             [
              0.8888888888888888,
              "#fdca26"
             ],
             [
              1,
              "#f0f921"
             ]
            ],
            "type": "heatmapgl"
           }
          ],
          "histogram": [
           {
            "marker": {
             "pattern": {
              "fillmode": "overlay",
              "size": 10,
              "solidity": 0.2
             }
            },
            "type": "histogram"
           }
          ],
          "histogram2d": [
           {
            "colorbar": {
             "outlinewidth": 0,
             "ticks": ""
            },
            "colorscale": [
             [
              0,
              "#0d0887"
             ],
             [
              0.1111111111111111,
              "#46039f"
             ],
             [
              0.2222222222222222,
              "#7201a8"
             ],
             [
              0.3333333333333333,
              "#9c179e"
             ],
             [
              0.4444444444444444,
              "#bd3786"
             ],
             [
              0.5555555555555556,
              "#d8576b"
             ],
             [
              0.6666666666666666,
              "#ed7953"
             ],
             [
              0.7777777777777778,
              "#fb9f3a"
             ],
             [
              0.8888888888888888,
              "#fdca26"
             ],
             [
              1,
              "#f0f921"
             ]
            ],
            "type": "histogram2d"
           }
          ],
          "histogram2dcontour": [
           {
            "colorbar": {
             "outlinewidth": 0,
             "ticks": ""
            },
            "colorscale": [
             [
              0,
              "#0d0887"
             ],
             [
              0.1111111111111111,
              "#46039f"
             ],
             [
              0.2222222222222222,
              "#7201a8"
             ],
             [
              0.3333333333333333,
              "#9c179e"
             ],
             [
              0.4444444444444444,
              "#bd3786"
             ],
             [
              0.5555555555555556,
              "#d8576b"
             ],
             [
              0.6666666666666666,
              "#ed7953"
             ],
             [
              0.7777777777777778,
              "#fb9f3a"
             ],
             [
              0.8888888888888888,
              "#fdca26"
             ],
             [
              1,
              "#f0f921"
             ]
            ],
            "type": "histogram2dcontour"
           }
          ],
          "mesh3d": [
           {
            "colorbar": {
             "outlinewidth": 0,
             "ticks": ""
            },
            "type": "mesh3d"
           }
          ],
          "parcoords": [
           {
            "line": {
             "colorbar": {
              "outlinewidth": 0,
              "ticks": ""
             }
            },
            "type": "parcoords"
           }
          ],
          "pie": [
           {
            "automargin": true,
            "type": "pie"
           }
          ],
          "scatter": [
           {
            "fillpattern": {
             "fillmode": "overlay",
             "size": 10,
             "solidity": 0.2
            },
            "type": "scatter"
           }
          ],
          "scatter3d": [
           {
            "line": {
             "colorbar": {
              "outlinewidth": 0,
              "ticks": ""
             }
            },
            "marker": {
             "colorbar": {
              "outlinewidth": 0,
              "ticks": ""
             }
            },
            "type": "scatter3d"
           }
          ],
          "scattercarpet": [
           {
            "marker": {
             "colorbar": {
              "outlinewidth": 0,
              "ticks": ""
             }
            },
            "type": "scattercarpet"
           }
          ],
          "scattergeo": [
           {
            "marker": {
             "colorbar": {
              "outlinewidth": 0,
              "ticks": ""
             }
            },
            "type": "scattergeo"
           }
          ],
          "scattergl": [
           {
            "marker": {
             "colorbar": {
              "outlinewidth": 0,
              "ticks": ""
             }
            },
            "type": "scattergl"
           }
          ],
          "scattermapbox": [
           {
            "marker": {
             "colorbar": {
              "outlinewidth": 0,
              "ticks": ""
             }
            },
            "type": "scattermapbox"
           }
          ],
          "scatterpolar": [
           {
            "marker": {
             "colorbar": {
              "outlinewidth": 0,
              "ticks": ""
             }
            },
            "type": "scatterpolar"
           }
          ],
          "scatterpolargl": [
           {
            "marker": {
             "colorbar": {
              "outlinewidth": 0,
              "ticks": ""
             }
            },
            "type": "scatterpolargl"
           }
          ],
          "scatterternary": [
           {
            "marker": {
             "colorbar": {
              "outlinewidth": 0,
              "ticks": ""
             }
            },
            "type": "scatterternary"
           }
          ],
          "surface": [
           {
            "colorbar": {
             "outlinewidth": 0,
             "ticks": ""
            },
            "colorscale": [
             [
              0,
              "#0d0887"
             ],
             [
              0.1111111111111111,
              "#46039f"
             ],
             [
              0.2222222222222222,
              "#7201a8"
             ],
             [
              0.3333333333333333,
              "#9c179e"
             ],
             [
              0.4444444444444444,
              "#bd3786"
             ],
             [
              0.5555555555555556,
              "#d8576b"
             ],
             [
              0.6666666666666666,
              "#ed7953"
             ],
             [
              0.7777777777777778,
              "#fb9f3a"
             ],
             [
              0.8888888888888888,
              "#fdca26"
             ],
             [
              1,
              "#f0f921"
             ]
            ],
            "type": "surface"
           }
          ],
          "table": [
           {
            "cells": {
             "fill": {
              "color": "#EBF0F8"
             },
             "line": {
              "color": "white"
             }
            },
            "header": {
             "fill": {
              "color": "#C8D4E3"
             },
             "line": {
              "color": "white"
             }
            },
            "type": "table"
           }
          ]
         },
         "layout": {
          "annotationdefaults": {
           "arrowcolor": "#2a3f5f",
           "arrowhead": 0,
           "arrowwidth": 1
          },
          "autotypenumbers": "strict",
          "coloraxis": {
           "colorbar": {
            "outlinewidth": 0,
            "ticks": ""
           }
          },
          "colorscale": {
           "diverging": [
            [
             0,
             "#8e0152"
            ],
            [
             0.1,
             "#c51b7d"
            ],
            [
             0.2,
             "#de77ae"
            ],
            [
             0.3,
             "#f1b6da"
            ],
            [
             0.4,
             "#fde0ef"
            ],
            [
             0.5,
             "#f7f7f7"
            ],
            [
             0.6,
             "#e6f5d0"
            ],
            [
             0.7,
             "#b8e186"
            ],
            [
             0.8,
             "#7fbc41"
            ],
            [
             0.9,
             "#4d9221"
            ],
            [
             1,
             "#276419"
            ]
           ],
           "sequential": [
            [
             0,
             "#0d0887"
            ],
            [
             0.1111111111111111,
             "#46039f"
            ],
            [
             0.2222222222222222,
             "#7201a8"
            ],
            [
             0.3333333333333333,
             "#9c179e"
            ],
            [
             0.4444444444444444,
             "#bd3786"
            ],
            [
             0.5555555555555556,
             "#d8576b"
            ],
            [
             0.6666666666666666,
             "#ed7953"
            ],
            [
             0.7777777777777778,
             "#fb9f3a"
            ],
            [
             0.8888888888888888,
             "#fdca26"
            ],
            [
             1,
             "#f0f921"
            ]
           ],
           "sequentialminus": [
            [
             0,
             "#0d0887"
            ],
            [
             0.1111111111111111,
             "#46039f"
            ],
            [
             0.2222222222222222,
             "#7201a8"
            ],
            [
             0.3333333333333333,
             "#9c179e"
            ],
            [
             0.4444444444444444,
             "#bd3786"
            ],
            [
             0.5555555555555556,
             "#d8576b"
            ],
            [
             0.6666666666666666,
             "#ed7953"
            ],
            [
             0.7777777777777778,
             "#fb9f3a"
            ],
            [
             0.8888888888888888,
             "#fdca26"
            ],
            [
             1,
             "#f0f921"
            ]
           ]
          },
          "colorway": [
           "#636efa",
           "#EF553B",
           "#00cc96",
           "#ab63fa",
           "#FFA15A",
           "#19d3f3",
           "#FF6692",
           "#B6E880",
           "#FF97FF",
           "#FECB52"
          ],
          "font": {
           "color": "#2a3f5f"
          },
          "geo": {
           "bgcolor": "white",
           "lakecolor": "white",
           "landcolor": "#E5ECF6",
           "showlakes": true,
           "showland": true,
           "subunitcolor": "white"
          },
          "hoverlabel": {
           "align": "left"
          },
          "hovermode": "closest",
          "mapbox": {
           "style": "light"
          },
          "paper_bgcolor": "white",
          "plot_bgcolor": "#E5ECF6",
          "polar": {
           "angularaxis": {
            "gridcolor": "white",
            "linecolor": "white",
            "ticks": ""
           },
           "bgcolor": "#E5ECF6",
           "radialaxis": {
            "gridcolor": "white",
            "linecolor": "white",
            "ticks": ""
           }
          },
          "scene": {
           "xaxis": {
            "backgroundcolor": "#E5ECF6",
            "gridcolor": "white",
            "gridwidth": 2,
            "linecolor": "white",
            "showbackground": true,
            "ticks": "",
            "zerolinecolor": "white"
           },
           "yaxis": {
            "backgroundcolor": "#E5ECF6",
            "gridcolor": "white",
            "gridwidth": 2,
            "linecolor": "white",
            "showbackground": true,
            "ticks": "",
            "zerolinecolor": "white"
           },
           "zaxis": {
            "backgroundcolor": "#E5ECF6",
            "gridcolor": "white",
            "gridwidth": 2,
            "linecolor": "white",
            "showbackground": true,
            "ticks": "",
            "zerolinecolor": "white"
           }
          },
          "shapedefaults": {
           "line": {
            "color": "#2a3f5f"
           }
          },
          "ternary": {
           "aaxis": {
            "gridcolor": "white",
            "linecolor": "white",
            "ticks": ""
           },
           "baxis": {
            "gridcolor": "white",
            "linecolor": "white",
            "ticks": ""
           },
           "bgcolor": "#E5ECF6",
           "caxis": {
            "gridcolor": "white",
            "linecolor": "white",
            "ticks": ""
           }
          },
          "title": {
           "x": 0.05
          },
          "xaxis": {
           "automargin": true,
           "gridcolor": "white",
           "linecolor": "white",
           "ticks": "",
           "title": {
            "standoff": 15
           },
           "zerolinecolor": "white",
           "zerolinewidth": 2
          },
          "yaxis": {
           "automargin": true,
           "gridcolor": "white",
           "linecolor": "white",
           "ticks": "",
           "title": {
            "standoff": 15
           },
           "zerolinecolor": "white",
           "zerolinewidth": 2
          }
         }
        },
        "width": 800,
        "xaxis": {
         "anchor": "y",
         "domain": [
          0,
          1
         ],
         "linecolor": "black",
         "linewidth": 1.5,
         "mirror": true,
         "range": [
          -0.01,
          1.01
         ],
         "showgrid": false,
         "showline": true,
         "tickfont": {
          "size": 20
         },
         "ticks": "outside",
         "title": {
          "font": {
           "size": 24
          },
          "text": "Agreement with ISC-CI (% of Arguments)"
         }
        },
        "yaxis": {
         "anchor": "x",
         "categoryarray": [
          "GPT-4",
          "GPT-3.5",
          "Human"
         ],
         "categoryorder": "array",
         "domain": [
          0,
          1
         ],
         "linecolor": "black",
         "linewidth": 1.5,
         "mirror": true,
         "showgrid": false,
         "showline": true,
         "tickfont": {
          "size": 20
         },
         "ticks": "outside",
         "title": {
          "font": {
           "size": 24
          },
          "text": "Model"
         }
        }
       }
      }
     },
     "metadata": {},
     "output_type": "display_data"
    }
   ],
   "source": [
    "# Load human data\n",
    "human_data = pd.read_csv('data/generalization_experiments/context_dependent_nonmonotonicity.csv', index_col=0)\n",
    "\n",
    "# Load LLM data\n",
    "model_data = pd.read_csv('data/generalization_experiments/context_dependent_nonmonotonicity_llm.csv', index_col=0)\n",
    "model_data[['GPT-4','GPT-3.5']] = model_data[['GPT-4','GPT-3.5']]==2\n",
    "\n",
    "# Merge human and model data\n",
    "model_data['participant_id'] = 0\n",
    "model_data = model_data.melt(id_vars=['Argument 1-Premise 1','Argument 1-Premise 2','Argument 1-Conclusion',\n",
    "                                      'Argument 2-Premise 1','Argument 2-Premise 2','Argument 2-Conclusion','participant_id'],\n",
    "                             value_vars=['GPT-3.5','GPT-4'],var_name='Model',value_name='Argument 2 Chosen')\n",
    "human_data['Model'] = 'Human'\n",
    "argument_data = pd.concat([model_data,human_data],axis=0,ignore_index=True)\n",
    "\n",
    "# Generate box plot\n",
    "plot_data = argument_data.groupby(['Model','participant_id']).mean().reset_index()\n",
    "plot_data = plot_data[plot_data.Model.isin(['Human','GPT-3.5','GPT-4'])]\n",
    "plot_data = plot_data.rename(columns={'Argument 2 Chosen':'Agreement with ISC-CI (% of Arguments)'})\n",
    "fig = px.box(plot_data,y='Model',color='Model',x='Agreement with ISC-CI (% of Arguments)',\n",
    "                category_orders={'Model':['Human','GPT-3.5','GPT-4']},\n",
    "                color_discrete_map=utils.model_colors,\n",
    "                range_x=[-.01,1.01])\n",
    "fig = utils.format_figure(fig,height=400,width=800)\n",
    "fig.add_vline(x=0.5, line_dash='dot', line_color=\"black\")\n",
    "fig.update_traces(line=dict(width=4))\n",
    "fig.update_layout(boxgap=0.1,boxgroupgap=0.01,showlegend=False)\n",
    "fig.show()"
   ]
  },
  {
   "cell_type": "code",
   "execution_count": 34,
   "metadata": {},
   "outputs": [
    {
     "data": {
      "text/html": [
       "<div>\n",
       "<style scoped>\n",
       "    .dataframe tbody tr th:only-of-type {\n",
       "        vertical-align: middle;\n",
       "    }\n",
       "\n",
       "    .dataframe tbody tr th {\n",
       "        vertical-align: top;\n",
       "    }\n",
       "\n",
       "    .dataframe thead th {\n",
       "        text-align: right;\n",
       "    }\n",
       "</style>\n",
       "<table border=\"1\" class=\"dataframe\">\n",
       "  <thead>\n",
       "    <tr style=\"text-align: right;\">\n",
       "      <th></th>\n",
       "      <th>Model</th>\n",
       "      <th>participant_id</th>\n",
       "      <th>Argument 2-Premise 2</th>\n",
       "      <th>Agreement with ISC-CI (% of Arguments)</th>\n",
       "    </tr>\n",
       "  </thead>\n",
       "  <tbody>\n",
       "    <tr>\n",
       "      <th>0</th>\n",
       "      <td>GPT-3.5</td>\n",
       "      <td>0</td>\n",
       "      <td>NaN</td>\n",
       "      <td>0.037500</td>\n",
       "    </tr>\n",
       "    <tr>\n",
       "      <th>1</th>\n",
       "      <td>GPT-4</td>\n",
       "      <td>0</td>\n",
       "      <td>NaN</td>\n",
       "      <td>0.012500</td>\n",
       "    </tr>\n",
       "    <tr>\n",
       "      <th>2</th>\n",
       "      <td>Human</td>\n",
       "      <td>5499-7425-7275</td>\n",
       "      <td>NaN</td>\n",
       "      <td>0.906250</td>\n",
       "    </tr>\n",
       "    <tr>\n",
       "      <th>3</th>\n",
       "      <td>Human</td>\n",
       "      <td>5c4f5967aac8be0001716a65</td>\n",
       "      <td>NaN</td>\n",
       "      <td>0.823529</td>\n",
       "    </tr>\n",
       "    <tr>\n",
       "      <th>4</th>\n",
       "      <td>Human</td>\n",
       "      <td>5c50efd2cc71f4000125ce0d</td>\n",
       "      <td>NaN</td>\n",
       "      <td>0.454545</td>\n",
       "    </tr>\n",
       "    <tr>\n",
       "      <th>5</th>\n",
       "      <td>Human</td>\n",
       "      <td>5cfbf333ac28dd00196e807b</td>\n",
       "      <td>NaN</td>\n",
       "      <td>0.970588</td>\n",
       "    </tr>\n",
       "    <tr>\n",
       "      <th>6</th>\n",
       "      <td>Human</td>\n",
       "      <td>5d37ad921c16bb0015281337</td>\n",
       "      <td>NaN</td>\n",
       "      <td>0.600000</td>\n",
       "    </tr>\n",
       "    <tr>\n",
       "      <th>7</th>\n",
       "      <td>Human</td>\n",
       "      <td>5ee4aab1232e9d1b4d791bae</td>\n",
       "      <td>NaN</td>\n",
       "      <td>0.848485</td>\n",
       "    </tr>\n",
       "    <tr>\n",
       "      <th>8</th>\n",
       "      <td>Human</td>\n",
       "      <td>5ef5f74fb4a08f2676fb3aba</td>\n",
       "      <td>NaN</td>\n",
       "      <td>0.909091</td>\n",
       "    </tr>\n",
       "    <tr>\n",
       "      <th>9</th>\n",
       "      <td>Human</td>\n",
       "      <td>5ef877bb6b0ed15b3f6ae106</td>\n",
       "      <td>NaN</td>\n",
       "      <td>0.457143</td>\n",
       "    </tr>\n",
       "    <tr>\n",
       "      <th>10</th>\n",
       "      <td>Human</td>\n",
       "      <td>60465205820f850f2dc6a810</td>\n",
       "      <td>NaN</td>\n",
       "      <td>0.030303</td>\n",
       "    </tr>\n",
       "    <tr>\n",
       "      <th>11</th>\n",
       "      <td>Human</td>\n",
       "      <td>6071e7e8f858a84483519a0c</td>\n",
       "      <td>NaN</td>\n",
       "      <td>0.781250</td>\n",
       "    </tr>\n",
       "    <tr>\n",
       "      <th>12</th>\n",
       "      <td>Human</td>\n",
       "      <td>60abcd6f3e5efd9fca235828</td>\n",
       "      <td>NaN</td>\n",
       "      <td>1.000000</td>\n",
       "    </tr>\n",
       "    <tr>\n",
       "      <th>13</th>\n",
       "      <td>Human</td>\n",
       "      <td>612569afac9baa5313aa08a7</td>\n",
       "      <td>NaN</td>\n",
       "      <td>0.852941</td>\n",
       "    </tr>\n",
       "    <tr>\n",
       "      <th>14</th>\n",
       "      <td>Human</td>\n",
       "      <td>6396044f6ae489bb820c67a5</td>\n",
       "      <td>NaN</td>\n",
       "      <td>0.352941</td>\n",
       "    </tr>\n",
       "    <tr>\n",
       "      <th>15</th>\n",
       "      <td>Human</td>\n",
       "      <td>639f294882a3797f77a3dd81</td>\n",
       "      <td>NaN</td>\n",
       "      <td>0.971429</td>\n",
       "    </tr>\n",
       "    <tr>\n",
       "      <th>16</th>\n",
       "      <td>Human</td>\n",
       "      <td>652a53d0565aa471305a710a</td>\n",
       "      <td>NaN</td>\n",
       "      <td>0.484848</td>\n",
       "    </tr>\n",
       "    <tr>\n",
       "      <th>17</th>\n",
       "      <td>Human</td>\n",
       "      <td>661b3299bf19db77d7412b86</td>\n",
       "      <td>NaN</td>\n",
       "      <td>0.939394</td>\n",
       "    </tr>\n",
       "    <tr>\n",
       "      <th>18</th>\n",
       "      <td>Human</td>\n",
       "      <td>662c4b36960bb85f6f77fc6e</td>\n",
       "      <td>NaN</td>\n",
       "      <td>0.545455</td>\n",
       "    </tr>\n",
       "    <tr>\n",
       "      <th>19</th>\n",
       "      <td>Human</td>\n",
       "      <td>66537b0010ca11939058e52b</td>\n",
       "      <td>NaN</td>\n",
       "      <td>0.914286</td>\n",
       "    </tr>\n",
       "    <tr>\n",
       "      <th>20</th>\n",
       "      <td>Human</td>\n",
       "      <td>669864e93f0ed6ee2a5d5cf8</td>\n",
       "      <td>NaN</td>\n",
       "      <td>0.205882</td>\n",
       "    </tr>\n",
       "    <tr>\n",
       "      <th>21</th>\n",
       "      <td>Human</td>\n",
       "      <td>669d63b71212137a95644a45</td>\n",
       "      <td>NaN</td>\n",
       "      <td>0.911765</td>\n",
       "    </tr>\n",
       "    <tr>\n",
       "      <th>22</th>\n",
       "      <td>Human</td>\n",
       "      <td>66a428de01ccbc61556d585b</td>\n",
       "      <td>NaN</td>\n",
       "      <td>0.882353</td>\n",
       "    </tr>\n",
       "    <tr>\n",
       "      <th>23</th>\n",
       "      <td>Human</td>\n",
       "      <td>66a6ca57dbfc12dcc7ae677e</td>\n",
       "      <td>NaN</td>\n",
       "      <td>0.676471</td>\n",
       "    </tr>\n",
       "    <tr>\n",
       "      <th>24</th>\n",
       "      <td>Human</td>\n",
       "      <td>66b1eb08a154c8f8beec5846</td>\n",
       "      <td>NaN</td>\n",
       "      <td>0.885714</td>\n",
       "    </tr>\n",
       "    <tr>\n",
       "      <th>25</th>\n",
       "      <td>Human</td>\n",
       "      <td>66b23e1a82f20f59115e2255</td>\n",
       "      <td>NaN</td>\n",
       "      <td>0.060606</td>\n",
       "    </tr>\n",
       "    <tr>\n",
       "      <th>26</th>\n",
       "      <td>Human</td>\n",
       "      <td>66b73f9ba035651170b94c76</td>\n",
       "      <td>NaN</td>\n",
       "      <td>0.970588</td>\n",
       "    </tr>\n",
       "    <tr>\n",
       "      <th>27</th>\n",
       "      <td>Human</td>\n",
       "      <td>66d6584b97d5a0cfa409a09b</td>\n",
       "      <td>NaN</td>\n",
       "      <td>0.970588</td>\n",
       "    </tr>\n",
       "    <tr>\n",
       "      <th>28</th>\n",
       "      <td>Human</td>\n",
       "      <td>66f4ac3610034d063f63c38e</td>\n",
       "      <td>NaN</td>\n",
       "      <td>0.848485</td>\n",
       "    </tr>\n",
       "    <tr>\n",
       "      <th>29</th>\n",
       "      <td>Human</td>\n",
       "      <td>66fe8954f77e2be6096151cd</td>\n",
       "      <td>NaN</td>\n",
       "      <td>0.852941</td>\n",
       "    </tr>\n",
       "    <tr>\n",
       "      <th>30</th>\n",
       "      <td>Human</td>\n",
       "      <td>7164-2513-2625</td>\n",
       "      <td>NaN</td>\n",
       "      <td>0.029412</td>\n",
       "    </tr>\n",
       "  </tbody>\n",
       "</table>\n",
       "</div>"
      ],
      "text/plain": [
       "      Model            participant_id  Argument 2-Premise 2  \\\n",
       "0   GPT-3.5                         0                   NaN   \n",
       "1     GPT-4                         0                   NaN   \n",
       "2     Human            5499-7425-7275                   NaN   \n",
       "3     Human  5c4f5967aac8be0001716a65                   NaN   \n",
       "4     Human  5c50efd2cc71f4000125ce0d                   NaN   \n",
       "5     Human  5cfbf333ac28dd00196e807b                   NaN   \n",
       "6     Human  5d37ad921c16bb0015281337                   NaN   \n",
       "7     Human  5ee4aab1232e9d1b4d791bae                   NaN   \n",
       "8     Human  5ef5f74fb4a08f2676fb3aba                   NaN   \n",
       "9     Human  5ef877bb6b0ed15b3f6ae106                   NaN   \n",
       "10    Human  60465205820f850f2dc6a810                   NaN   \n",
       "11    Human  6071e7e8f858a84483519a0c                   NaN   \n",
       "12    Human  60abcd6f3e5efd9fca235828                   NaN   \n",
       "13    Human  612569afac9baa5313aa08a7                   NaN   \n",
       "14    Human  6396044f6ae489bb820c67a5                   NaN   \n",
       "15    Human  639f294882a3797f77a3dd81                   NaN   \n",
       "16    Human  652a53d0565aa471305a710a                   NaN   \n",
       "17    Human  661b3299bf19db77d7412b86                   NaN   \n",
       "18    Human  662c4b36960bb85f6f77fc6e                   NaN   \n",
       "19    Human  66537b0010ca11939058e52b                   NaN   \n",
       "20    Human  669864e93f0ed6ee2a5d5cf8                   NaN   \n",
       "21    Human  669d63b71212137a95644a45                   NaN   \n",
       "22    Human  66a428de01ccbc61556d585b                   NaN   \n",
       "23    Human  66a6ca57dbfc12dcc7ae677e                   NaN   \n",
       "24    Human  66b1eb08a154c8f8beec5846                   NaN   \n",
       "25    Human  66b23e1a82f20f59115e2255                   NaN   \n",
       "26    Human  66b73f9ba035651170b94c76                   NaN   \n",
       "27    Human  66d6584b97d5a0cfa409a09b                   NaN   \n",
       "28    Human  66f4ac3610034d063f63c38e                   NaN   \n",
       "29    Human  66fe8954f77e2be6096151cd                   NaN   \n",
       "30    Human            7164-2513-2625                   NaN   \n",
       "\n",
       "    Agreement with ISC-CI (% of Arguments)  \n",
       "0                                 0.037500  \n",
       "1                                 0.012500  \n",
       "2                                 0.906250  \n",
       "3                                 0.823529  \n",
       "4                                 0.454545  \n",
       "5                                 0.970588  \n",
       "6                                 0.600000  \n",
       "7                                 0.848485  \n",
       "8                                 0.909091  \n",
       "9                                 0.457143  \n",
       "10                                0.030303  \n",
       "11                                0.781250  \n",
       "12                                1.000000  \n",
       "13                                0.852941  \n",
       "14                                0.352941  \n",
       "15                                0.971429  \n",
       "16                                0.484848  \n",
       "17                                0.939394  \n",
       "18                                0.545455  \n",
       "19                                0.914286  \n",
       "20                                0.205882  \n",
       "21                                0.911765  \n",
       "22                                0.882353  \n",
       "23                                0.676471  \n",
       "24                                0.885714  \n",
       "25                                0.060606  \n",
       "26                                0.970588  \n",
       "27                                0.970588  \n",
       "28                                0.848485  \n",
       "29                                0.852941  \n",
       "30                                0.029412  "
      ]
     },
     "execution_count": 34,
     "metadata": {},
     "output_type": "execute_result"
    }
   ],
   "source": [
    "plot_data"
   ]
  },
  {
   "cell_type": "markdown",
   "metadata": {},
   "source": [
    "### Unpaired version"
   ]
  },
  {
   "cell_type": "code",
   "execution_count": 31,
   "metadata": {},
   "outputs": [
    {
     "data": {
      "application/vnd.plotly.v1+json": {
       "config": {
        "plotlyServerURL": "https://plot.ly"
       },
       "data": [
        {
         "alignmentgroup": "True",
         "hovertemplate": "Model=%{y}<br>Agreement with ISC-CI (% of Arguments)=%{x}<extra></extra>",
         "legendgroup": "Human",
         "line": {
          "width": 4
         },
         "marker": {
          "color": "#D674BB"
         },
         "name": "Human",
         "notched": false,
         "offsetgroup": "Human",
         "orientation": "h",
         "showlegend": true,
         "type": "box",
         "x": [
          0.90625,
          0.8235294117647058,
          0.45454545454545453,
          0.9705882352941176,
          0.6,
          0.8484848484848485,
          0.9090909090909091,
          0.45714285714285713,
          0.030303030303030304,
          0.78125,
          1,
          0.8529411764705882,
          0.35294117647058826,
          0.9714285714285714,
          0.48484848484848486,
          0.9393939393939394,
          0.5454545454545454,
          0.9142857142857143,
          0.20588235294117646,
          0.9117647058823529,
          0.8823529411764706,
          0.6764705882352942,
          0.8857142857142857,
          0.06060606060606061,
          0.9705882352941176,
          0.9705882352941176,
          0.8484848484848485,
          0.8529411764705882,
          0.029411764705882353
         ],
         "x0": " ",
         "xaxis": "x",
         "y": [
          "Human",
          "Human",
          "Human",
          "Human",
          "Human",
          "Human",
          "Human",
          "Human",
          "Human",
          "Human",
          "Human",
          "Human",
          "Human",
          "Human",
          "Human",
          "Human",
          "Human",
          "Human",
          "Human",
          "Human",
          "Human",
          "Human",
          "Human",
          "Human",
          "Human",
          "Human",
          "Human",
          "Human",
          "Human"
         ],
         "y0": " ",
         "yaxis": "y"
        },
        {
         "alignmentgroup": "True",
         "hovertemplate": "Model=%{y}<br>Agreement with ISC-CI (% of Arguments)=%{x}<extra></extra>",
         "legendgroup": "GPT-3.5",
         "line": {
          "width": 4
         },
         "marker": {
          "color": "#F4A24C"
         },
         "name": "GPT-3.5",
         "notched": false,
         "offsetgroup": "GPT-3.5",
         "orientation": "h",
         "showlegend": true,
         "type": "box",
         "x": [
          0
         ],
         "x0": " ",
         "xaxis": "x",
         "y": [
          "GPT-3.5"
         ],
         "y0": " ",
         "yaxis": "y"
        }
       ],
       "layout": {
        "boxgap": 0.1,
        "boxgroupgap": 0.01,
        "boxmode": "overlay",
        "height": 400,
        "legend": {
         "title": {
          "text": "Model"
         },
         "tracegroupgap": 0
        },
        "margin": {
         "t": 60
        },
        "plot_bgcolor": "white",
        "shapes": [
         {
          "line": {
           "color": "black",
           "dash": "dot"
          },
          "type": "line",
          "x0": 0.5,
          "x1": 0.5,
          "xref": "x",
          "y0": 0,
          "y1": 1,
          "yref": "y domain"
         }
        ],
        "showlegend": false,
        "template": {
         "data": {
          "bar": [
           {
            "error_x": {
             "color": "#2a3f5f"
            },
            "error_y": {
             "color": "#2a3f5f"
            },
            "marker": {
             "line": {
              "color": "#E5ECF6",
              "width": 0.5
             },
             "pattern": {
              "fillmode": "overlay",
              "size": 10,
              "solidity": 0.2
             }
            },
            "type": "bar"
           }
          ],
          "barpolar": [
           {
            "marker": {
             "line": {
              "color": "#E5ECF6",
              "width": 0.5
             },
             "pattern": {
              "fillmode": "overlay",
              "size": 10,
              "solidity": 0.2
             }
            },
            "type": "barpolar"
           }
          ],
          "carpet": [
           {
            "aaxis": {
             "endlinecolor": "#2a3f5f",
             "gridcolor": "white",
             "linecolor": "white",
             "minorgridcolor": "white",
             "startlinecolor": "#2a3f5f"
            },
            "baxis": {
             "endlinecolor": "#2a3f5f",
             "gridcolor": "white",
             "linecolor": "white",
             "minorgridcolor": "white",
             "startlinecolor": "#2a3f5f"
            },
            "type": "carpet"
           }
          ],
          "choropleth": [
           {
            "colorbar": {
             "outlinewidth": 0,
             "ticks": ""
            },
            "type": "choropleth"
           }
          ],
          "contour": [
           {
            "colorbar": {
             "outlinewidth": 0,
             "ticks": ""
            },
            "colorscale": [
             [
              0,
              "#0d0887"
             ],
             [
              0.1111111111111111,
              "#46039f"
             ],
             [
              0.2222222222222222,
              "#7201a8"
             ],
             [
              0.3333333333333333,
              "#9c179e"
             ],
             [
              0.4444444444444444,
              "#bd3786"
             ],
             [
              0.5555555555555556,
              "#d8576b"
             ],
             [
              0.6666666666666666,
              "#ed7953"
             ],
             [
              0.7777777777777778,
              "#fb9f3a"
             ],
             [
              0.8888888888888888,
              "#fdca26"
             ],
             [
              1,
              "#f0f921"
             ]
            ],
            "type": "contour"
           }
          ],
          "contourcarpet": [
           {
            "colorbar": {
             "outlinewidth": 0,
             "ticks": ""
            },
            "type": "contourcarpet"
           }
          ],
          "heatmap": [
           {
            "colorbar": {
             "outlinewidth": 0,
             "ticks": ""
            },
            "colorscale": [
             [
              0,
              "#0d0887"
             ],
             [
              0.1111111111111111,
              "#46039f"
             ],
             [
              0.2222222222222222,
              "#7201a8"
             ],
             [
              0.3333333333333333,
              "#9c179e"
             ],
             [
              0.4444444444444444,
              "#bd3786"
             ],
             [
              0.5555555555555556,
              "#d8576b"
             ],
             [
              0.6666666666666666,
              "#ed7953"
             ],
             [
              0.7777777777777778,
              "#fb9f3a"
             ],
             [
              0.8888888888888888,
              "#fdca26"
             ],
             [
              1,
              "#f0f921"
             ]
            ],
            "type": "heatmap"
           }
          ],
          "heatmapgl": [
           {
            "colorbar": {
             "outlinewidth": 0,
             "ticks": ""
            },
            "colorscale": [
             [
              0,
              "#0d0887"
             ],
             [
              0.1111111111111111,
              "#46039f"
             ],
             [
              0.2222222222222222,
              "#7201a8"
             ],
             [
              0.3333333333333333,
              "#9c179e"
             ],
             [
              0.4444444444444444,
              "#bd3786"
             ],
             [
              0.5555555555555556,
              "#d8576b"
             ],
             [
              0.6666666666666666,
              "#ed7953"
             ],
             [
              0.7777777777777778,
              "#fb9f3a"
             ],
             [
              0.8888888888888888,
              "#fdca26"
             ],
             [
              1,
              "#f0f921"
             ]
            ],
            "type": "heatmapgl"
           }
          ],
          "histogram": [
           {
            "marker": {
             "pattern": {
              "fillmode": "overlay",
              "size": 10,
              "solidity": 0.2
             }
            },
            "type": "histogram"
           }
          ],
          "histogram2d": [
           {
            "colorbar": {
             "outlinewidth": 0,
             "ticks": ""
            },
            "colorscale": [
             [
              0,
              "#0d0887"
             ],
             [
              0.1111111111111111,
              "#46039f"
             ],
             [
              0.2222222222222222,
              "#7201a8"
             ],
             [
              0.3333333333333333,
              "#9c179e"
             ],
             [
              0.4444444444444444,
              "#bd3786"
             ],
             [
              0.5555555555555556,
              "#d8576b"
             ],
             [
              0.6666666666666666,
              "#ed7953"
             ],
             [
              0.7777777777777778,
              "#fb9f3a"
             ],
             [
              0.8888888888888888,
              "#fdca26"
             ],
             [
              1,
              "#f0f921"
             ]
            ],
            "type": "histogram2d"
           }
          ],
          "histogram2dcontour": [
           {
            "colorbar": {
             "outlinewidth": 0,
             "ticks": ""
            },
            "colorscale": [
             [
              0,
              "#0d0887"
             ],
             [
              0.1111111111111111,
              "#46039f"
             ],
             [
              0.2222222222222222,
              "#7201a8"
             ],
             [
              0.3333333333333333,
              "#9c179e"
             ],
             [
              0.4444444444444444,
              "#bd3786"
             ],
             [
              0.5555555555555556,
              "#d8576b"
             ],
             [
              0.6666666666666666,
              "#ed7953"
             ],
             [
              0.7777777777777778,
              "#fb9f3a"
             ],
             [
              0.8888888888888888,
              "#fdca26"
             ],
             [
              1,
              "#f0f921"
             ]
            ],
            "type": "histogram2dcontour"
           }
          ],
          "mesh3d": [
           {
            "colorbar": {
             "outlinewidth": 0,
             "ticks": ""
            },
            "type": "mesh3d"
           }
          ],
          "parcoords": [
           {
            "line": {
             "colorbar": {
              "outlinewidth": 0,
              "ticks": ""
             }
            },
            "type": "parcoords"
           }
          ],
          "pie": [
           {
            "automargin": true,
            "type": "pie"
           }
          ],
          "scatter": [
           {
            "fillpattern": {
             "fillmode": "overlay",
             "size": 10,
             "solidity": 0.2
            },
            "type": "scatter"
           }
          ],
          "scatter3d": [
           {
            "line": {
             "colorbar": {
              "outlinewidth": 0,
              "ticks": ""
             }
            },
            "marker": {
             "colorbar": {
              "outlinewidth": 0,
              "ticks": ""
             }
            },
            "type": "scatter3d"
           }
          ],
          "scattercarpet": [
           {
            "marker": {
             "colorbar": {
              "outlinewidth": 0,
              "ticks": ""
             }
            },
            "type": "scattercarpet"
           }
          ],
          "scattergeo": [
           {
            "marker": {
             "colorbar": {
              "outlinewidth": 0,
              "ticks": ""
             }
            },
            "type": "scattergeo"
           }
          ],
          "scattergl": [
           {
            "marker": {
             "colorbar": {
              "outlinewidth": 0,
              "ticks": ""
             }
            },
            "type": "scattergl"
           }
          ],
          "scattermapbox": [
           {
            "marker": {
             "colorbar": {
              "outlinewidth": 0,
              "ticks": ""
             }
            },
            "type": "scattermapbox"
           }
          ],
          "scatterpolar": [
           {
            "marker": {
             "colorbar": {
              "outlinewidth": 0,
              "ticks": ""
             }
            },
            "type": "scatterpolar"
           }
          ],
          "scatterpolargl": [
           {
            "marker": {
             "colorbar": {
              "outlinewidth": 0,
              "ticks": ""
             }
            },
            "type": "scatterpolargl"
           }
          ],
          "scatterternary": [
           {
            "marker": {
             "colorbar": {
              "outlinewidth": 0,
              "ticks": ""
             }
            },
            "type": "scatterternary"
           }
          ],
          "surface": [
           {
            "colorbar": {
             "outlinewidth": 0,
             "ticks": ""
            },
            "colorscale": [
             [
              0,
              "#0d0887"
             ],
             [
              0.1111111111111111,
              "#46039f"
             ],
             [
              0.2222222222222222,
              "#7201a8"
             ],
             [
              0.3333333333333333,
              "#9c179e"
             ],
             [
              0.4444444444444444,
              "#bd3786"
             ],
             [
              0.5555555555555556,
              "#d8576b"
             ],
             [
              0.6666666666666666,
              "#ed7953"
             ],
             [
              0.7777777777777778,
              "#fb9f3a"
             ],
             [
              0.8888888888888888,
              "#fdca26"
             ],
             [
              1,
              "#f0f921"
             ]
            ],
            "type": "surface"
           }
          ],
          "table": [
           {
            "cells": {
             "fill": {
              "color": "#EBF0F8"
             },
             "line": {
              "color": "white"
             }
            },
            "header": {
             "fill": {
              "color": "#C8D4E3"
             },
             "line": {
              "color": "white"
             }
            },
            "type": "table"
           }
          ]
         },
         "layout": {
          "annotationdefaults": {
           "arrowcolor": "#2a3f5f",
           "arrowhead": 0,
           "arrowwidth": 1
          },
          "autotypenumbers": "strict",
          "coloraxis": {
           "colorbar": {
            "outlinewidth": 0,
            "ticks": ""
           }
          },
          "colorscale": {
           "diverging": [
            [
             0,
             "#8e0152"
            ],
            [
             0.1,
             "#c51b7d"
            ],
            [
             0.2,
             "#de77ae"
            ],
            [
             0.3,
             "#f1b6da"
            ],
            [
             0.4,
             "#fde0ef"
            ],
            [
             0.5,
             "#f7f7f7"
            ],
            [
             0.6,
             "#e6f5d0"
            ],
            [
             0.7,
             "#b8e186"
            ],
            [
             0.8,
             "#7fbc41"
            ],
            [
             0.9,
             "#4d9221"
            ],
            [
             1,
             "#276419"
            ]
           ],
           "sequential": [
            [
             0,
             "#0d0887"
            ],
            [
             0.1111111111111111,
             "#46039f"
            ],
            [
             0.2222222222222222,
             "#7201a8"
            ],
            [
             0.3333333333333333,
             "#9c179e"
            ],
            [
             0.4444444444444444,
             "#bd3786"
            ],
            [
             0.5555555555555556,
             "#d8576b"
            ],
            [
             0.6666666666666666,
             "#ed7953"
            ],
            [
             0.7777777777777778,
             "#fb9f3a"
            ],
            [
             0.8888888888888888,
             "#fdca26"
            ],
            [
             1,
             "#f0f921"
            ]
           ],
           "sequentialminus": [
            [
             0,
             "#0d0887"
            ],
            [
             0.1111111111111111,
             "#46039f"
            ],
            [
             0.2222222222222222,
             "#7201a8"
            ],
            [
             0.3333333333333333,
             "#9c179e"
            ],
            [
             0.4444444444444444,
             "#bd3786"
            ],
            [
             0.5555555555555556,
             "#d8576b"
            ],
            [
             0.6666666666666666,
             "#ed7953"
            ],
            [
             0.7777777777777778,
             "#fb9f3a"
            ],
            [
             0.8888888888888888,
             "#fdca26"
            ],
            [
             1,
             "#f0f921"
            ]
           ]
          },
          "colorway": [
           "#636efa",
           "#EF553B",
           "#00cc96",
           "#ab63fa",
           "#FFA15A",
           "#19d3f3",
           "#FF6692",
           "#B6E880",
           "#FF97FF",
           "#FECB52"
          ],
          "font": {
           "color": "#2a3f5f"
          },
          "geo": {
           "bgcolor": "white",
           "lakecolor": "white",
           "landcolor": "#E5ECF6",
           "showlakes": true,
           "showland": true,
           "subunitcolor": "white"
          },
          "hoverlabel": {
           "align": "left"
          },
          "hovermode": "closest",
          "mapbox": {
           "style": "light"
          },
          "paper_bgcolor": "white",
          "plot_bgcolor": "#E5ECF6",
          "polar": {
           "angularaxis": {
            "gridcolor": "white",
            "linecolor": "white",
            "ticks": ""
           },
           "bgcolor": "#E5ECF6",
           "radialaxis": {
            "gridcolor": "white",
            "linecolor": "white",
            "ticks": ""
           }
          },
          "scene": {
           "xaxis": {
            "backgroundcolor": "#E5ECF6",
            "gridcolor": "white",
            "gridwidth": 2,
            "linecolor": "white",
            "showbackground": true,
            "ticks": "",
            "zerolinecolor": "white"
           },
           "yaxis": {
            "backgroundcolor": "#E5ECF6",
            "gridcolor": "white",
            "gridwidth": 2,
            "linecolor": "white",
            "showbackground": true,
            "ticks": "",
            "zerolinecolor": "white"
           },
           "zaxis": {
            "backgroundcolor": "#E5ECF6",
            "gridcolor": "white",
            "gridwidth": 2,
            "linecolor": "white",
            "showbackground": true,
            "ticks": "",
            "zerolinecolor": "white"
           }
          },
          "shapedefaults": {
           "line": {
            "color": "#2a3f5f"
           }
          },
          "ternary": {
           "aaxis": {
            "gridcolor": "white",
            "linecolor": "white",
            "ticks": ""
           },
           "baxis": {
            "gridcolor": "white",
            "linecolor": "white",
            "ticks": ""
           },
           "bgcolor": "#E5ECF6",
           "caxis": {
            "gridcolor": "white",
            "linecolor": "white",
            "ticks": ""
           }
          },
          "title": {
           "x": 0.05
          },
          "xaxis": {
           "automargin": true,
           "gridcolor": "white",
           "linecolor": "white",
           "ticks": "",
           "title": {
            "standoff": 15
           },
           "zerolinecolor": "white",
           "zerolinewidth": 2
          },
          "yaxis": {
           "automargin": true,
           "gridcolor": "white",
           "linecolor": "white",
           "ticks": "",
           "title": {
            "standoff": 15
           },
           "zerolinecolor": "white",
           "zerolinewidth": 2
          }
         }
        },
        "width": 800,
        "xaxis": {
         "anchor": "y",
         "domain": [
          0,
          1
         ],
         "linecolor": "black",
         "linewidth": 1.5,
         "mirror": true,
         "range": [
          -0.01,
          1.01
         ],
         "showgrid": false,
         "showline": true,
         "tickfont": {
          "size": 20
         },
         "ticks": "outside",
         "title": {
          "font": {
           "size": 24
          },
          "text": "Agreement with ISC-CI (% of Arguments)"
         }
        },
        "yaxis": {
         "anchor": "x",
         "categoryarray": [
          "GPT-3.5",
          "Human"
         ],
         "categoryorder": "array",
         "domain": [
          0,
          1
         ],
         "linecolor": "black",
         "linewidth": 1.5,
         "mirror": true,
         "showgrid": false,
         "showline": true,
         "tickfont": {
          "size": 20
         },
         "ticks": "outside",
         "title": {
          "font": {
           "size": 24
          },
          "text": "Model"
         }
        }
       }
      }
     },
     "metadata": {},
     "output_type": "display_data"
    }
   ],
   "source": [
    "# Load human data\n",
    "human_data = pd.read_csv('data/generalization_experiments/context_dependent_nonmonotonicity.csv', index_col=0)\n",
    "\n",
    "# Split into two arguments to calculate model scores\n",
    "model_data = human_data.groupby(['Argument 1-Premise 1','Argument 1-Premise 2','Argument 1-Conclusion',\n",
    "                                    'Argument 2-Premise 1','Argument 2-Conclusion']).mean().reset_index()\n",
    "model_argument1 = model_data[['Argument 1-Premise 1','Argument 1-Premise 2','Argument 1-Conclusion']]\n",
    "model_argument2 = model_data[['Argument 2-Premise 1','Argument 2-Premise 2','Argument 2-Conclusion']]\n",
    "model_argument1.columns = ['Premise 1','Premise 2','Conclusion']\n",
    "model_argument2.columns = ['Premise 1','Premise 2','Conclusion']\n",
    "model_argument1['Premise 3'] = np.nan\n",
    "model_argument2['Premise 2'] = ''\n",
    "model_argument2['Premise 3'] = np.nan\n",
    "\n",
    "# Add LLM predictions\n",
    "llm_data = pd.read_csv('data/generalization_experiments/context_dependent_nonmonotonicity_llm_unpaired.csv', index_col=0)\n",
    "model_argument1 = model_argument1.merge(llm_data,left_on=['Premise 1','Premise 2','Conclusion'],right_on=['Premise 1','Premise 2','Conclusion'],how='left')\n",
    "model_argument2 = model_argument2.merge(llm_data,on=['Premise 1','Premise 2','Conclusion'],how='left')\n",
    "\n",
    "# Generate paired model predictions for which argument is stronger\n",
    "model_argument1 = model_argument1.add_prefix('Argument 1-')\n",
    "model_argument2 = model_argument2.add_prefix('Argument 2-')\n",
    "model_data = pd.concat([model_argument1,model_argument2],axis=1)\n",
    "for model in ['GPT-3.5']:#,'GPT-4']:\n",
    "    model_data[model] = model_data[f'Argument 2-{model}']>model_data[f'Argument 1-{model}']\n",
    "\n",
    "# Merge human and model data\n",
    "model_data['participant_id'] = 0\n",
    "model_data = model_data.melt(id_vars=['Argument 1-Premise 1','Argument 1-Premise 2','Argument 1-Conclusion',\n",
    "                                      'Argument 2-Premise 1','Argument 2-Premise 2','Argument 2-Conclusion','participant_id'],\n",
    "                             value_vars=['GPT-3.5'],var_name='Model',value_name='Argument 2 Chosen')\n",
    "human_data['Model'] = 'Human'\n",
    "argument_data = pd.concat([model_data,human_data],axis=0,ignore_index=True)\n",
    "\n",
    "# Generate box plot\n",
    "plot_data = argument_data.groupby(['Model','participant_id']).mean().reset_index()\n",
    "plot_data = plot_data[plot_data.Model.isin(['Human','GPT-3.5','GPT-4'])]\n",
    "plot_data = plot_data.rename(columns={'Argument 2 Chosen':'Agreement with ISC-CI (% of Arguments)'})\n",
    "fig = px.box(plot_data,y='Model',color='Model',x='Agreement with ISC-CI (% of Arguments)',\n",
    "                category_orders={'Model':['Human','GPT-3.5']},\n",
    "                color_discrete_map=utils.model_colors,\n",
    "                range_x=[-.01,1.01])\n",
    "fig = utils.format_figure(fig,height=400,width=800)\n",
    "fig.add_vline(x=0.5, line_dash='dot', line_color=\"black\")\n",
    "fig.update_traces(line=dict(width=4))\n",
    "fig.update_layout(boxgap=0.1,boxgroupgap=0.01,showlegend=False)\n",
    "fig.show()"
   ]
  },
  {
   "cell_type": "code",
   "execution_count": 20,
   "metadata": {},
   "outputs": [
    {
     "data": {
      "text/html": [
       "<div>\n",
       "<style scoped>\n",
       "    .dataframe tbody tr th:only-of-type {\n",
       "        vertical-align: middle;\n",
       "    }\n",
       "\n",
       "    .dataframe tbody tr th {\n",
       "        vertical-align: top;\n",
       "    }\n",
       "\n",
       "    .dataframe thead th {\n",
       "        text-align: right;\n",
       "    }\n",
       "</style>\n",
       "<table border=\"1\" class=\"dataframe\">\n",
       "  <thead>\n",
       "    <tr style=\"text-align: right;\">\n",
       "      <th></th>\n",
       "      <th>Argument 1-Premise 3_x</th>\n",
       "      <th>Argument 1-Premise 1</th>\n",
       "      <th>Argument 1-Premise 2</th>\n",
       "      <th>Argument 1-Premise 3_y</th>\n",
       "      <th>Argument 1-Conclusion</th>\n",
       "      <th>Argument 1-GPT-3.5</th>\n",
       "    </tr>\n",
       "  </thead>\n",
       "  <tbody>\n",
       "  </tbody>\n",
       "</table>\n",
       "</div>"
      ],
      "text/plain": [
       "Empty DataFrame\n",
       "Columns: [Argument 1-Premise 3_x, Argument 1-Premise 1, Argument 1-Premise 2, Argument 1-Premise 3_y, Argument 1-Conclusion, Argument 1-GPT-3.5]\n",
       "Index: []"
      ]
     },
     "execution_count": 20,
     "metadata": {},
     "output_type": "execute_result"
    }
   ],
   "source": [
    "model_argument1"
   ]
  },
  {
   "cell_type": "markdown",
   "metadata": {},
   "source": [
    "## Context-Dependent Categorization"
   ]
  },
  {
   "cell_type": "code",
   "execution_count": 6,
   "metadata": {},
   "outputs": [
    {
     "data": {
      "application/vnd.plotly.v1+json": {
       "config": {
        "plotlyServerURL": "https://plot.ly"
       },
       "data": [
        {
         "alignmentgroup": "True",
         "hovertemplate": "Model=%{y}<br>Agreement with ISC-CI (% of Arguments)=%{x}<extra></extra>",
         "legendgroup": "Human",
         "line": {
          "width": 4
         },
         "marker": {
          "color": "#D674BB"
         },
         "name": "Human",
         "notched": false,
         "offsetgroup": "Human",
         "orientation": "h",
         "showlegend": true,
         "type": "box",
         "x": [
          0.8285714285714286,
          0.9428571428571428,
          1,
          0.6285714285714286,
          0.2857142857142857,
          0.17142857142857143,
          0.9428571428571428,
          0.6571428571428571,
          0.9714285714285714,
          0.8857142857142857,
          1,
          0.4,
          0.9714285714285714,
          1,
          0.5142857142857142,
          0.9142857142857143,
          0.4857142857142857,
          0.8857142857142857,
          0.6285714285714286,
          0.6571428571428571,
          0.8,
          0.7714285714285715,
          0.9428571428571428,
          0.5428571428571428,
          0.7428571428571429,
          0.9714285714285714,
          1,
          0.4,
          0.9428571428571428,
          0.9142857142857143,
          0.5142857142857142,
          0.8571428571428571,
          0.8571428571428571,
          0.2,
          0.8571428571428571,
          0.7142857142857143,
          0.5714285714285714,
          0.9428571428571428,
          0.8857142857142857,
          0.4,
          1,
          0.5428571428571428,
          0.8285714285714286,
          0.6285714285714286,
          0.9142857142857143,
          0.8285714285714286,
          0.9428571428571428,
          0.8571428571428571,
          0.9714285714285714,
          0.5428571428571428
         ],
         "x0": " ",
         "xaxis": "x",
         "y": [
          "Human",
          "Human",
          "Human",
          "Human",
          "Human",
          "Human",
          "Human",
          "Human",
          "Human",
          "Human",
          "Human",
          "Human",
          "Human",
          "Human",
          "Human",
          "Human",
          "Human",
          "Human",
          "Human",
          "Human",
          "Human",
          "Human",
          "Human",
          "Human",
          "Human",
          "Human",
          "Human",
          "Human",
          "Human",
          "Human",
          "Human",
          "Human",
          "Human",
          "Human",
          "Human",
          "Human",
          "Human",
          "Human",
          "Human",
          "Human",
          "Human",
          "Human",
          "Human",
          "Human",
          "Human",
          "Human",
          "Human",
          "Human",
          "Human",
          "Human"
         ],
         "y0": " ",
         "yaxis": "y"
        },
        {
         "alignmentgroup": "True",
         "hovertemplate": "Model=%{y}<br>Agreement with ISC-CI (% of Arguments)=%{x}<extra></extra>",
         "legendgroup": "GPT-3.5",
         "line": {
          "width": 4
         },
         "marker": {
          "color": "#F4A24C"
         },
         "name": "GPT-3.5",
         "notched": false,
         "offsetgroup": "GPT-3.5",
         "orientation": "h",
         "showlegend": true,
         "type": "box",
         "x": [
          0.2413793103448276
         ],
         "x0": " ",
         "xaxis": "x",
         "y": [
          "GPT-3.5"
         ],
         "y0": " ",
         "yaxis": "y"
        },
        {
         "alignmentgroup": "True",
         "hovertemplate": "Model=%{y}<br>Agreement with ISC-CI (% of Arguments)=%{x}<extra></extra>",
         "legendgroup": "GPT-4",
         "line": {
          "width": 4
         },
         "marker": {
          "color": "#F48777"
         },
         "name": "GPT-4",
         "notched": false,
         "offsetgroup": "GPT-4",
         "orientation": "h",
         "showlegend": true,
         "type": "box",
         "x": [
          0.7068965517241379
         ],
         "x0": " ",
         "xaxis": "x",
         "y": [
          "GPT-4"
         ],
         "y0": " ",
         "yaxis": "y"
        }
       ],
       "layout": {
        "boxgap": 0.1,
        "boxgroupgap": 0.01,
        "boxmode": "overlay",
        "height": 400,
        "legend": {
         "title": {
          "text": "Model"
         },
         "tracegroupgap": 0
        },
        "margin": {
         "t": 60
        },
        "plot_bgcolor": "white",
        "shapes": [
         {
          "line": {
           "color": "black",
           "dash": "dot"
          },
          "type": "line",
          "x0": 0.5,
          "x1": 0.5,
          "xref": "x",
          "y0": 0,
          "y1": 1,
          "yref": "y domain"
         }
        ],
        "showlegend": false,
        "template": {
         "data": {
          "bar": [
           {
            "error_x": {
             "color": "#2a3f5f"
            },
            "error_y": {
             "color": "#2a3f5f"
            },
            "marker": {
             "line": {
              "color": "#E5ECF6",
              "width": 0.5
             },
             "pattern": {
              "fillmode": "overlay",
              "size": 10,
              "solidity": 0.2
             }
            },
            "type": "bar"
           }
          ],
          "barpolar": [
           {
            "marker": {
             "line": {
              "color": "#E5ECF6",
              "width": 0.5
             },
             "pattern": {
              "fillmode": "overlay",
              "size": 10,
              "solidity": 0.2
             }
            },
            "type": "barpolar"
           }
          ],
          "carpet": [
           {
            "aaxis": {
             "endlinecolor": "#2a3f5f",
             "gridcolor": "white",
             "linecolor": "white",
             "minorgridcolor": "white",
             "startlinecolor": "#2a3f5f"
            },
            "baxis": {
             "endlinecolor": "#2a3f5f",
             "gridcolor": "white",
             "linecolor": "white",
             "minorgridcolor": "white",
             "startlinecolor": "#2a3f5f"
            },
            "type": "carpet"
           }
          ],
          "choropleth": [
           {
            "colorbar": {
             "outlinewidth": 0,
             "ticks": ""
            },
            "type": "choropleth"
           }
          ],
          "contour": [
           {
            "colorbar": {
             "outlinewidth": 0,
             "ticks": ""
            },
            "colorscale": [
             [
              0,
              "#0d0887"
             ],
             [
              0.1111111111111111,
              "#46039f"
             ],
             [
              0.2222222222222222,
              "#7201a8"
             ],
             [
              0.3333333333333333,
              "#9c179e"
             ],
             [
              0.4444444444444444,
              "#bd3786"
             ],
             [
              0.5555555555555556,
              "#d8576b"
             ],
             [
              0.6666666666666666,
              "#ed7953"
             ],
             [
              0.7777777777777778,
              "#fb9f3a"
             ],
             [
              0.8888888888888888,
              "#fdca26"
             ],
             [
              1,
              "#f0f921"
             ]
            ],
            "type": "contour"
           }
          ],
          "contourcarpet": [
           {
            "colorbar": {
             "outlinewidth": 0,
             "ticks": ""
            },
            "type": "contourcarpet"
           }
          ],
          "heatmap": [
           {
            "colorbar": {
             "outlinewidth": 0,
             "ticks": ""
            },
            "colorscale": [
             [
              0,
              "#0d0887"
             ],
             [
              0.1111111111111111,
              "#46039f"
             ],
             [
              0.2222222222222222,
              "#7201a8"
             ],
             [
              0.3333333333333333,
              "#9c179e"
             ],
             [
              0.4444444444444444,
              "#bd3786"
             ],
             [
              0.5555555555555556,
              "#d8576b"
             ],
             [
              0.6666666666666666,
              "#ed7953"
             ],
             [
              0.7777777777777778,
              "#fb9f3a"
             ],
             [
              0.8888888888888888,
              "#fdca26"
             ],
             [
              1,
              "#f0f921"
             ]
            ],
            "type": "heatmap"
           }
          ],
          "heatmapgl": [
           {
            "colorbar": {
             "outlinewidth": 0,
             "ticks": ""
            },
            "colorscale": [
             [
              0,
              "#0d0887"
             ],
             [
              0.1111111111111111,
              "#46039f"
             ],
             [
              0.2222222222222222,
              "#7201a8"
             ],
             [
              0.3333333333333333,
              "#9c179e"
             ],
             [
              0.4444444444444444,
              "#bd3786"
             ],
             [
              0.5555555555555556,
              "#d8576b"
             ],
             [
              0.6666666666666666,
              "#ed7953"
             ],
             [
              0.7777777777777778,
              "#fb9f3a"
             ],
             [
              0.8888888888888888,
              "#fdca26"
             ],
             [
              1,
              "#f0f921"
             ]
            ],
            "type": "heatmapgl"
           }
          ],
          "histogram": [
           {
            "marker": {
             "pattern": {
              "fillmode": "overlay",
              "size": 10,
              "solidity": 0.2
             }
            },
            "type": "histogram"
           }
          ],
          "histogram2d": [
           {
            "colorbar": {
             "outlinewidth": 0,
             "ticks": ""
            },
            "colorscale": [
             [
              0,
              "#0d0887"
             ],
             [
              0.1111111111111111,
              "#46039f"
             ],
             [
              0.2222222222222222,
              "#7201a8"
             ],
             [
              0.3333333333333333,
              "#9c179e"
             ],
             [
              0.4444444444444444,
              "#bd3786"
             ],
             [
              0.5555555555555556,
              "#d8576b"
             ],
             [
              0.6666666666666666,
              "#ed7953"
             ],
             [
              0.7777777777777778,
              "#fb9f3a"
             ],
             [
              0.8888888888888888,
              "#fdca26"
             ],
             [
              1,
              "#f0f921"
             ]
            ],
            "type": "histogram2d"
           }
          ],
          "histogram2dcontour": [
           {
            "colorbar": {
             "outlinewidth": 0,
             "ticks": ""
            },
            "colorscale": [
             [
              0,
              "#0d0887"
             ],
             [
              0.1111111111111111,
              "#46039f"
             ],
             [
              0.2222222222222222,
              "#7201a8"
             ],
             [
              0.3333333333333333,
              "#9c179e"
             ],
             [
              0.4444444444444444,
              "#bd3786"
             ],
             [
              0.5555555555555556,
              "#d8576b"
             ],
             [
              0.6666666666666666,
              "#ed7953"
             ],
             [
              0.7777777777777778,
              "#fb9f3a"
             ],
             [
              0.8888888888888888,
              "#fdca26"
             ],
             [
              1,
              "#f0f921"
             ]
            ],
            "type": "histogram2dcontour"
           }
          ],
          "mesh3d": [
           {
            "colorbar": {
             "outlinewidth": 0,
             "ticks": ""
            },
            "type": "mesh3d"
           }
          ],
          "parcoords": [
           {
            "line": {
             "colorbar": {
              "outlinewidth": 0,
              "ticks": ""
             }
            },
            "type": "parcoords"
           }
          ],
          "pie": [
           {
            "automargin": true,
            "type": "pie"
           }
          ],
          "scatter": [
           {
            "fillpattern": {
             "fillmode": "overlay",
             "size": 10,
             "solidity": 0.2
            },
            "type": "scatter"
           }
          ],
          "scatter3d": [
           {
            "line": {
             "colorbar": {
              "outlinewidth": 0,
              "ticks": ""
             }
            },
            "marker": {
             "colorbar": {
              "outlinewidth": 0,
              "ticks": ""
             }
            },
            "type": "scatter3d"
           }
          ],
          "scattercarpet": [
           {
            "marker": {
             "colorbar": {
              "outlinewidth": 0,
              "ticks": ""
             }
            },
            "type": "scattercarpet"
           }
          ],
          "scattergeo": [
           {
            "marker": {
             "colorbar": {
              "outlinewidth": 0,
              "ticks": ""
             }
            },
            "type": "scattergeo"
           }
          ],
          "scattergl": [
           {
            "marker": {
             "colorbar": {
              "outlinewidth": 0,
              "ticks": ""
             }
            },
            "type": "scattergl"
           }
          ],
          "scattermapbox": [
           {
            "marker": {
             "colorbar": {
              "outlinewidth": 0,
              "ticks": ""
             }
            },
            "type": "scattermapbox"
           }
          ],
          "scatterpolar": [
           {
            "marker": {
             "colorbar": {
              "outlinewidth": 0,
              "ticks": ""
             }
            },
            "type": "scatterpolar"
           }
          ],
          "scatterpolargl": [
           {
            "marker": {
             "colorbar": {
              "outlinewidth": 0,
              "ticks": ""
             }
            },
            "type": "scatterpolargl"
           }
          ],
          "scatterternary": [
           {
            "marker": {
             "colorbar": {
              "outlinewidth": 0,
              "ticks": ""
             }
            },
            "type": "scatterternary"
           }
          ],
          "surface": [
           {
            "colorbar": {
             "outlinewidth": 0,
             "ticks": ""
            },
            "colorscale": [
             [
              0,
              "#0d0887"
             ],
             [
              0.1111111111111111,
              "#46039f"
             ],
             [
              0.2222222222222222,
              "#7201a8"
             ],
             [
              0.3333333333333333,
              "#9c179e"
             ],
             [
              0.4444444444444444,
              "#bd3786"
             ],
             [
              0.5555555555555556,
              "#d8576b"
             ],
             [
              0.6666666666666666,
              "#ed7953"
             ],
             [
              0.7777777777777778,
              "#fb9f3a"
             ],
             [
              0.8888888888888888,
              "#fdca26"
             ],
             [
              1,
              "#f0f921"
             ]
            ],
            "type": "surface"
           }
          ],
          "table": [
           {
            "cells": {
             "fill": {
              "color": "#EBF0F8"
             },
             "line": {
              "color": "white"
             }
            },
            "header": {
             "fill": {
              "color": "#C8D4E3"
             },
             "line": {
              "color": "white"
             }
            },
            "type": "table"
           }
          ]
         },
         "layout": {
          "annotationdefaults": {
           "arrowcolor": "#2a3f5f",
           "arrowhead": 0,
           "arrowwidth": 1
          },
          "autotypenumbers": "strict",
          "coloraxis": {
           "colorbar": {
            "outlinewidth": 0,
            "ticks": ""
           }
          },
          "colorscale": {
           "diverging": [
            [
             0,
             "#8e0152"
            ],
            [
             0.1,
             "#c51b7d"
            ],
            [
             0.2,
             "#de77ae"
            ],
            [
             0.3,
             "#f1b6da"
            ],
            [
             0.4,
             "#fde0ef"
            ],
            [
             0.5,
             "#f7f7f7"
            ],
            [
             0.6,
             "#e6f5d0"
            ],
            [
             0.7,
             "#b8e186"
            ],
            [
             0.8,
             "#7fbc41"
            ],
            [
             0.9,
             "#4d9221"
            ],
            [
             1,
             "#276419"
            ]
           ],
           "sequential": [
            [
             0,
             "#0d0887"
            ],
            [
             0.1111111111111111,
             "#46039f"
            ],
            [
             0.2222222222222222,
             "#7201a8"
            ],
            [
             0.3333333333333333,
             "#9c179e"
            ],
            [
             0.4444444444444444,
             "#bd3786"
            ],
            [
             0.5555555555555556,
             "#d8576b"
            ],
            [
             0.6666666666666666,
             "#ed7953"
            ],
            [
             0.7777777777777778,
             "#fb9f3a"
            ],
            [
             0.8888888888888888,
             "#fdca26"
            ],
            [
             1,
             "#f0f921"
            ]
           ],
           "sequentialminus": [
            [
             0,
             "#0d0887"
            ],
            [
             0.1111111111111111,
             "#46039f"
            ],
            [
             0.2222222222222222,
             "#7201a8"
            ],
            [
             0.3333333333333333,
             "#9c179e"
            ],
            [
             0.4444444444444444,
             "#bd3786"
            ],
            [
             0.5555555555555556,
             "#d8576b"
            ],
            [
             0.6666666666666666,
             "#ed7953"
            ],
            [
             0.7777777777777778,
             "#fb9f3a"
            ],
            [
             0.8888888888888888,
             "#fdca26"
            ],
            [
             1,
             "#f0f921"
            ]
           ]
          },
          "colorway": [
           "#636efa",
           "#EF553B",
           "#00cc96",
           "#ab63fa",
           "#FFA15A",
           "#19d3f3",
           "#FF6692",
           "#B6E880",
           "#FF97FF",
           "#FECB52"
          ],
          "font": {
           "color": "#2a3f5f"
          },
          "geo": {
           "bgcolor": "white",
           "lakecolor": "white",
           "landcolor": "#E5ECF6",
           "showlakes": true,
           "showland": true,
           "subunitcolor": "white"
          },
          "hoverlabel": {
           "align": "left"
          },
          "hovermode": "closest",
          "mapbox": {
           "style": "light"
          },
          "paper_bgcolor": "white",
          "plot_bgcolor": "#E5ECF6",
          "polar": {
           "angularaxis": {
            "gridcolor": "white",
            "linecolor": "white",
            "ticks": ""
           },
           "bgcolor": "#E5ECF6",
           "radialaxis": {
            "gridcolor": "white",
            "linecolor": "white",
            "ticks": ""
           }
          },
          "scene": {
           "xaxis": {
            "backgroundcolor": "#E5ECF6",
            "gridcolor": "white",
            "gridwidth": 2,
            "linecolor": "white",
            "showbackground": true,
            "ticks": "",
            "zerolinecolor": "white"
           },
           "yaxis": {
            "backgroundcolor": "#E5ECF6",
            "gridcolor": "white",
            "gridwidth": 2,
            "linecolor": "white",
            "showbackground": true,
            "ticks": "",
            "zerolinecolor": "white"
           },
           "zaxis": {
            "backgroundcolor": "#E5ECF6",
            "gridcolor": "white",
            "gridwidth": 2,
            "linecolor": "white",
            "showbackground": true,
            "ticks": "",
            "zerolinecolor": "white"
           }
          },
          "shapedefaults": {
           "line": {
            "color": "#2a3f5f"
           }
          },
          "ternary": {
           "aaxis": {
            "gridcolor": "white",
            "linecolor": "white",
            "ticks": ""
           },
           "baxis": {
            "gridcolor": "white",
            "linecolor": "white",
            "ticks": ""
           },
           "bgcolor": "#E5ECF6",
           "caxis": {
            "gridcolor": "white",
            "linecolor": "white",
            "ticks": ""
           }
          },
          "title": {
           "x": 0.05
          },
          "xaxis": {
           "automargin": true,
           "gridcolor": "white",
           "linecolor": "white",
           "ticks": "",
           "title": {
            "standoff": 15
           },
           "zerolinecolor": "white",
           "zerolinewidth": 2
          },
          "yaxis": {
           "automargin": true,
           "gridcolor": "white",
           "linecolor": "white",
           "ticks": "",
           "title": {
            "standoff": 15
           },
           "zerolinecolor": "white",
           "zerolinewidth": 2
          }
         }
        },
        "width": 800,
        "xaxis": {
         "anchor": "y",
         "domain": [
          0,
          1
         ],
         "linecolor": "black",
         "linewidth": 1.5,
         "mirror": true,
         "range": [
          -0.01,
          1.01
         ],
         "showgrid": false,
         "showline": true,
         "tickfont": {
          "size": 20
         },
         "ticks": "outside",
         "title": {
          "font": {
           "size": 24
          },
          "text": "Agreement with ISC-CI (% of Arguments)"
         }
        },
        "yaxis": {
         "anchor": "x",
         "categoryarray": [
          "GPT-4",
          "GPT-3.5",
          "Human"
         ],
         "categoryorder": "array",
         "domain": [
          0,
          1
         ],
         "linecolor": "black",
         "linewidth": 1.5,
         "mirror": true,
         "showgrid": false,
         "showline": true,
         "tickfont": {
          "size": 20
         },
         "ticks": "outside",
         "title": {
          "font": {
           "size": 24
          },
          "text": "Model"
         }
        }
       }
      }
     },
     "metadata": {},
     "output_type": "display_data"
    }
   ],
   "source": [
    "# Load human data\n",
    "human_data = pd.read_csv('data/generalization_experiments/thematic_arguments.csv', index_col=0)\n",
    "\n",
    "# Split into two arguments to calculate model scores\n",
    "model_data = human_data.groupby(['Argument 1-Premise 1','Argument 1-Premise 2','Argument 1-Conclusion',\n",
    "                                    'Argument 2-Premise 1','Argument 2-Premise 2','Argument 2-Conclusion']).mean().reset_index()\n",
    "model_argument1 = model_data[['Argument 1-Premise 1','Argument 1-Premise 2','Argument 1-Conclusion']]\n",
    "model_argument2 = model_data[['Argument 2-Premise 1','Argument 2-Premise 2','Argument 2-Conclusion']]\n",
    "model_argument1.columns = ['Premise 1','Premise 2','Conclusion']\n",
    "model_argument2.columns = ['Premise 1','Premise 2','Conclusion']\n",
    "model_argument1['Premise 3'] = np.nan\n",
    "model_argument2['Premise 3'] = np.nan\n",
    "\n",
    "# Add LLM predictions\n",
    "llm_data = pd.read_csv('data/generalization_experiments/thematic_arguments_llm.csv', index_col=0)\n",
    "model_argument1 = model_argument1.merge(llm_data,left_on=['Premise 1','Premise 2','Conclusion'],right_on=['Premise 1','Premise 2','Conclusion'],how='left')\n",
    "model_argument2 = model_argument2.merge(llm_data,on=['Premise 1','Premise 2','Conclusion'],how='left')\n",
    "\n",
    "# Generate paired model predictions for which argument is stronger\n",
    "model_argument1 = model_argument1.add_prefix('Argument 1-')\n",
    "model_argument2 = model_argument2.add_prefix('Argument 2-')\n",
    "model_data = pd.concat([model_argument1,model_argument2],axis=1)\n",
    "for model in ['GPT-3.5','GPT-4']:\n",
    "    model_data[model] = model_data[f'Argument 2-{model}']>model_data[f'Argument 1-{model}']\n",
    "\n",
    "# Merge human and model data\n",
    "model_data['participant_id'] = 0\n",
    "model_data = model_data.melt(id_vars=['Argument 1-Premise 1','Argument 1-Premise 2','Argument 1-Conclusion',\n",
    "                                      'Argument 2-Premise 1','Argument 2-Premise 2','Argument 2-Conclusion','participant_id'],\n",
    "                             value_vars=['GPT-3.5','GPT-4'],var_name='Model',value_name='Argument 2 Chosen')\n",
    "human_data['Model'] = 'Human'\n",
    "argument_data = pd.concat([model_data,human_data],axis=0,ignore_index=True)\n",
    "\n",
    "# Generate box plot\n",
    "plot_data = argument_data.groupby(['Model','participant_id']).mean().reset_index()\n",
    "plot_data = plot_data[plot_data.Model.isin(['Human','GPT-3.5','GPT-4'])]\n",
    "plot_data = plot_data.rename(columns={'Argument 2 Chosen':'Agreement with ISC-CI (% of Arguments)'})\n",
    "fig = px.box(plot_data,y='Model',color='Model',x='Agreement with ISC-CI (% of Arguments)',\n",
    "                category_orders={'Model':['Human','GPT-3.5','GPT-4']},\n",
    "                color_discrete_map=utils.model_colors,\n",
    "                range_x=[-.01,1.01])\n",
    "fig = utils.format_figure(fig,height=400,width=800)\n",
    "fig.add_vline(x=0.5, line_dash='dot', line_color=\"black\")\n",
    "fig.update_traces(line=dict(width=4))\n",
    "fig.update_layout(boxgap=0.1,boxgroupgap=0.01,showlegend=False)\n",
    "fig.show()"
   ]
  }
 ],
 "metadata": {
  "kernelspec": {
   "display_name": "calypso2",
   "language": "python",
   "name": "python3"
  },
  "language_info": {
   "codemirror_mode": {
    "name": "ipython",
    "version": 3
   },
   "file_extension": ".py",
   "mimetype": "text/x-python",
   "name": "python",
   "nbconvert_exporter": "python",
   "pygments_lexer": "ipython3",
   "version": "3.10.2"
  }
 },
 "nbformat": 4,
 "nbformat_minor": 2
}
